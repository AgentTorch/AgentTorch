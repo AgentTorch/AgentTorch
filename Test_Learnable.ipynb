{
 "cells": [
  {
   "cell_type": "code",
   "execution_count": 65,
   "id": "a20efff8-7d09-4a4e-b2db-ed1bc1f90ee3",
   "metadata": {
    "tags": []
   },
   "outputs": [],
   "source": [
    "import torch\n",
    "import torch.nn as nn"
   ]
  },
  {
   "cell_type": "code",
   "execution_count": null,
   "id": "6bc43627-940f-4f61-a666-fc1a57b9e72c",
   "metadata": {},
   "outputs": [],
   "source": []
  },
  {
   "cell_type": "code",
   "execution_count": 66,
   "id": "66e6cfa6-b745-4892-93ed-157546fcddbe",
   "metadata": {
    "tags": []
   },
   "outputs": [],
   "source": [
    "class RandomLearnableModule(nn.Module):\n",
    "    def __init__(self, learnable_params, fixed_params):\n",
    "        super().__init__()\n",
    "        if learnable_params is not None:\n",
    "            self.learnable_params = nn.ParameterDict(learnable_params)\n",
    "        else:\n",
    "            self.learnable_params = learnable_params\n",
    "        self.fixed_params = fixed_params\n",
    "                \n",
    "    def forward(self, x):\n",
    "        return torch.matmul(self.learnable_params.a, x)"
   ]
  },
  {
   "cell_type": "code",
   "execution_count": 82,
   "id": "16705035-13e9-4762-897d-02dcc56178b0",
   "metadata": {
    "tags": []
   },
   "outputs": [],
   "source": [
    "class MetaClass(nn.Module):\n",
    "    def __init__(self):\n",
    "        super().__init__()\n",
    "        self.module_dict = nn.ModuleDict()\n",
    "        self.module_dict['1'] = RandomLearnableModule({'a':1.0*torch.arange(3)}, {'b': 0.0})\n",
    "        self.module_dict['2'] = RandomLearnableModule({'a':1.0*torch.arange(3)}, {'b': 0.0})\n",
    "        \n",
    "        self.learnable_parameters = nn.ParameterDict({'v1': torch.tensor([7.0])})\n",
    "        \n",
    "    def forward(self, x):\n",
    "        x1 = self.module_dict['1'](x)\n",
    "        x2 = self.module_dict['2'](x)\n",
    "        return x1 + x2"
   ]
  },
  {
   "cell_type": "code",
   "execution_count": 83,
   "id": "9bc7c91a-ac21-41c6-96d3-20902411bfa5",
   "metadata": {
    "tags": []
   },
   "outputs": [],
   "source": [
    "class MetaMetaClass(nn.Module):\n",
    "    def __init__(self):\n",
    "        super().__init__()\n",
    "        self.module_dict = nn.ModuleDict()\n",
    "        self.module_dict['I'] = MetaClass()\n",
    "        self.module_dict['II'] = MetaClass()\n",
    "    def forward(self, x):\n",
    "        x1 = self.module_dict['I'](x)\n",
    "        x2 = self.module_dict['II'](x)\n",
    "        return x1 + x2"
   ]
  },
  {
   "cell_type": "code",
   "execution_count": 84,
   "id": "03b67eb7-13a3-4562-9b34-fc8f8571f3cd",
   "metadata": {
    "tags": []
   },
   "outputs": [],
   "source": [
    "meta = MetaMetaClass()"
   ]
  },
  {
   "cell_type": "code",
   "execution_count": 85,
   "id": "7825fba0-4efd-4817-a6b9-a7cad4bec73b",
   "metadata": {
    "tags": []
   },
   "outputs": [
    {
     "data": {
      "text/plain": [
       "[Parameter containing:\n",
       " tensor([0., 1., 2.], requires_grad=True),\n",
       " Parameter containing:\n",
       " tensor([0., 1., 2.], requires_grad=True),\n",
       " Parameter containing:\n",
       " tensor([7.], requires_grad=True),\n",
       " Parameter containing:\n",
       " tensor([0., 1., 2.], requires_grad=True),\n",
       " Parameter containing:\n",
       " tensor([0., 1., 2.], requires_grad=True),\n",
       " Parameter containing:\n",
       " tensor([7.], requires_grad=True)]"
      ]
     },
     "execution_count": 85,
     "metadata": {},
     "output_type": "execute_result"
    }
   ],
   "source": [
    "list(meta.parameters())"
   ]
  },
  {
   "cell_type": "code",
   "execution_count": 40,
   "id": "85c3cd96-d54e-4610-8209-ad01c0ad86b5",
   "metadata": {
    "tags": []
   },
   "outputs": [
    {
     "name": "stdout",
     "output_type": "stream",
     "text": [
      "module_dict.I.module_dict.1.learnable_params.a tensor([0., 1., 2.])\n",
      "module_dict.I.module_dict.2.learnable_params.a tensor([0., 1., 2.])\n",
      "module_dict.II.module_dict.1.learnable_params.a tensor([0., 1., 2.])\n",
      "module_dict.II.module_dict.2.learnable_params.a tensor([0., 1., 2.])\n"
     ]
    }
   ],
   "source": [
    "for name, param in meta.named_parameters():\n",
    "    if param.requires_grad:\n",
    "        print(name, param.data)"
   ]
  },
  {
   "cell_type": "code",
   "execution_count": 53,
   "id": "c183823f-339f-4936-91bb-51055a512f12",
   "metadata": {
    "tags": []
   },
   "outputs": [],
   "source": [
    "x = 1.0*(torch.tensor([[0, 1, 2], [0, 1, 2]]))"
   ]
  },
  {
   "cell_type": "code",
   "execution_count": 55,
   "id": "499dd2aa-7727-4180-93a0-6529b53e5b8c",
   "metadata": {
    "tags": []
   },
   "outputs": [],
   "source": [
    "z = meta(x.T)"
   ]
  },
  {
   "cell_type": "code",
   "execution_count": 56,
   "id": "2c910243-30a0-46a0-bc9f-feda6e41826a",
   "metadata": {
    "tags": []
   },
   "outputs": [
    {
     "data": {
      "text/plain": [
       "torch.Size([2])"
      ]
     },
     "execution_count": 56,
     "metadata": {},
     "output_type": "execute_result"
    }
   ],
   "source": [
    "z.shape"
   ]
  },
  {
   "cell_type": "code",
   "execution_count": 59,
   "id": "2c95f435-c807-46c4-a9e8-28e2f99604d0",
   "metadata": {
    "tags": []
   },
   "outputs": [
    {
     "data": {
      "text/plain": [
       "tensor([20., 20.], grad_fn=<AddBackward0>)"
      ]
     },
     "execution_count": 59,
     "metadata": {},
     "output_type": "execute_result"
    }
   ],
   "source": [
    "z"
   ]
  },
  {
   "cell_type": "code",
   "execution_count": 57,
   "id": "660ab3df-2063-4f1a-b9d6-74987732d5a5",
   "metadata": {
    "tags": []
   },
   "outputs": [],
   "source": [
    "y = 30*torch.ones_like(z)"
   ]
  },
  {
   "cell_type": "code",
   "execution_count": 58,
   "id": "46e21bf8-20bb-4a06-9260-373b83480417",
   "metadata": {
    "tags": []
   },
   "outputs": [],
   "source": [
    "optim = torch.optim.Adam(meta.parameters())"
   ]
  },
  {
   "cell_type": "code",
   "execution_count": 60,
   "id": "4539b83d-1305-4f3c-bc25-402898075f7b",
   "metadata": {
    "tags": []
   },
   "outputs": [],
   "source": [
    "optim.zero_grad()"
   ]
  },
  {
   "cell_type": "code",
   "execution_count": 61,
   "id": "c6f4b799-5adb-4ff7-ae1d-852d8f6cad22",
   "metadata": {
    "tags": []
   },
   "outputs": [],
   "source": [
    "loss = torch.nn.MSELoss()(z, y)"
   ]
  },
  {
   "cell_type": "code",
   "execution_count": 62,
   "id": "f94706e5-471a-4523-87f4-9f19b7354420",
   "metadata": {
    "tags": []
   },
   "outputs": [
    {
     "name": "stdout",
     "output_type": "stream",
     "text": [
      "module_dict.I.module_dict.1.learnable_params.a None\n",
      "module_dict.I.module_dict.2.learnable_params.a None\n",
      "module_dict.II.module_dict.1.learnable_params.a None\n",
      "module_dict.II.module_dict.2.learnable_params.a None\n"
     ]
    }
   ],
   "source": [
    "for name, param in meta.named_parameters():\n",
    "    if param.requires_grad:\n",
    "        print(name, param.grad)"
   ]
  },
  {
   "cell_type": "code",
   "execution_count": 63,
   "id": "8f33f8e6-0deb-42cd-a0aa-5a156aadbeca",
   "metadata": {
    "tags": []
   },
   "outputs": [],
   "source": [
    "loss.backward()"
   ]
  },
  {
   "cell_type": "code",
   "execution_count": 64,
   "id": "b661dd9c-678e-415d-89d9-cfc6d681d1b0",
   "metadata": {
    "tags": []
   },
   "outputs": [
    {
     "name": "stdout",
     "output_type": "stream",
     "text": [
      "module_dict.I.module_dict.1.learnable_params.a tensor([  0., -20., -40.])\n",
      "module_dict.I.module_dict.2.learnable_params.a tensor([  0., -20., -40.])\n",
      "module_dict.II.module_dict.1.learnable_params.a tensor([  0., -20., -40.])\n",
      "module_dict.II.module_dict.2.learnable_params.a tensor([  0., -20., -40.])\n"
     ]
    }
   ],
   "source": [
    "for name, param in meta.named_parameters():\n",
    "    if param.requires_grad:\n",
    "        print(name, param.grad)"
   ]
  },
  {
   "cell_type": "code",
   "execution_count": null,
   "id": "3337caa4-ede9-4e50-9596-2ad14d2f88bc",
   "metadata": {},
   "outputs": [],
   "source": []
  }
 ],
 "metadata": {
  "kernelspec": {
   "display_name": "Python 3",
   "language": "python",
   "name": "python3"
  },
  "language_info": {
   "codemirror_mode": {
    "name": "ipython",
    "version": 3
   },
   "file_extension": ".py",
   "mimetype": "text/x-python",
   "name": "python",
   "nbconvert_exporter": "python",
   "pygments_lexer": "ipython3",
   "version": "3.10.6"
  }
 },
 "nbformat": 4,
 "nbformat_minor": 5
}
