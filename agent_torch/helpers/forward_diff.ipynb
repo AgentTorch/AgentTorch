{
 "cells": [
  {
   "cell_type": "code",
   "execution_count": 30,
   "id": "10b6486f-3fd6-4be8-ae5a-1f962e06fa89",
   "metadata": {
    "tags": []
   },
   "outputs": [],
   "source": [
    "import numpy as np\n",
    "import torch\n",
    "import torch.nn as nn\n",
    "from blackbirds.jacfwd import jacfwd"
   ]
  },
  {
   "cell_type": "markdown",
   "id": "17f7ad7e-9848-42cb-b79e-b1fbee720152",
   "metadata": {
    "tags": []
   },
   "source": [
    "# step 1: calibration network"
   ]
  },
  {
   "cell_type": "code",
   "execution_count": 31,
   "id": "731d3f55-fa40-401d-a5c3-2acdefdef93d",
   "metadata": {
    "tags": []
   },
   "outputs": [],
   "source": [
    "calibNN = nn.Linear(5, 1)\n",
    "calib_data = torch.randn(16, 5)\n",
    "\n",
    "abm_params = calibNN(calib_data)"
   ]
  },
  {
   "cell_type": "code",
   "execution_count": 32,
   "id": "c2113be1-237e-4047-ac29-21cdd2e671cb",
   "metadata": {
    "tags": []
   },
   "outputs": [
    {
     "name": "stdout",
     "output_type": "stream",
     "text": [
      "torch.Size([16, 1])\n",
      "torch.Size([16, 1])\n"
     ]
    }
   ],
   "source": [
    "print(abm_params.shape)\n",
    "\n",
    "gt_data = torch.rand_like(abm_params)\n",
    "print(gt_data.shape)"
   ]
  },
  {
   "cell_type": "markdown",
   "id": "2a0ec70e-99db-43ee-9597-6315cfcf3ac0",
   "metadata": {
    "tags": []
   },
   "source": [
    "# step 2: abm network"
   ]
  },
  {
   "cell_type": "code",
   "execution_count": 33,
   "id": "c4a0eb0c-dd52-448e-8b41-f68f455d81d2",
   "metadata": {
    "tags": []
   },
   "outputs": [],
   "source": [
    "def model_fwd(abm_params):\n",
    "    return 2 * abm_params\n",
    "\n",
    "def abm(abm_params, model_fwd, gt_data):\n",
    "    abm_preds = model_fwd(abm_params)\n",
    "    loss = nn.MSELoss()(abm_preds, gt_data)\n",
    "    \n",
    "    return loss, loss"
   ]
  },
  {
   "cell_type": "markdown",
   "id": "38948a78-0e9a-49a7-8df4-402cafab6068",
   "metadata": {},
   "source": [
    "# step 3: jacobian calculator and optimizer"
   ]
  },
  {
   "cell_type": "code",
   "execution_count": 34,
   "id": "b4b0aba2-b482-43f6-a58f-1975b2eb683e",
   "metadata": {
    "tags": []
   },
   "outputs": [],
   "source": [
    "grad_mode = 'forward' # or 'reverse'\n",
    "chunk_size = int(abm_params.shape[0]/2)"
   ]
  },
  {
   "cell_type": "code",
   "execution_count": 35,
   "id": "a77a609c-8d27-46dd-a62d-934b6b77c00d",
   "metadata": {
    "tags": []
   },
   "outputs": [],
   "source": [
    "if grad_mode == 'forward':\n",
    "    grad_function = lambda *args, **kwargs: jacfwd(randomness=\"same\", *args, **kwargs)\n",
    "else:\n",
    "    grad_function = torch.func.jacrev"
   ]
  },
  {
   "cell_type": "code",
   "execution_count": 36,
   "id": "f69f837d-99f6-49d5-b6b9-0bec24aae005",
   "metadata": {
    "tags": []
   },
   "outputs": [],
   "source": [
    "jacobian_calculator = grad_function(abm, 0, has_aux=True, chunk_size=chunk_size)"
   ]
  },
  {
   "cell_type": "code",
   "execution_count": 37,
   "id": "1a4c49cc-88a2-461a-8364-f845ff138832",
   "metadata": {
    "tags": []
   },
   "outputs": [
    {
     "name": "stdout",
     "output_type": "stream",
     "text": [
      "torch.Size([16, 1]) torch.Size([])\n"
     ]
    }
   ],
   "source": [
    "abm_loss_jac, loss = jacobian_calculator(abm_params, model_fwd, gt_data)\n",
    "print(abm_loss_jac.shape, loss.shape)"
   ]
  },
  {
   "cell_type": "code",
   "execution_count": 38,
   "id": "348cff93-c044-4dd9-8d39-436d98a52615",
   "metadata": {
    "tags": []
   },
   "outputs": [
    {
     "name": "stdout",
     "output_type": "stream",
     "text": [
      "torch.Size([16, 1]) torch.Size([])\n"
     ]
    }
   ],
   "source": [
    "print(abm_loss_jac.shape, loss.shape)"
   ]
  },
  {
   "cell_type": "code",
   "execution_count": 39,
   "id": "b4d95839-2118-41ff-b923-0f18fbe9a74a",
   "metadata": {
    "tags": []
   },
   "outputs": [],
   "source": [
    "# loss function on parameters of CalibNN\n",
    "diff_grad = torch.dot(abm_loss_jac.flatten(), abm_params.flatten())\n",
    "diff_grad.backward()"
   ]
  },
  {
   "cell_type": "code",
   "execution_count": 40,
   "id": "40b515c8-7613-4893-8e9e-c496c6a1fb58",
   "metadata": {
    "tags": []
   },
   "outputs": [
    {
     "name": "stdout",
     "output_type": "stream",
     "text": [
      "tensor([[-1.4103, -0.1383, -2.8588,  7.3415,  2.3704]])\n",
      "tensor([-7.8232])\n"
     ]
    }
   ],
   "source": [
    "for param in calibNN.parameters():\n",
    "    print(param.grad)"
   ]
  },
  {
   "cell_type": "markdown",
   "id": "bdfcc399-0ca3-4850-92c3-39c63bdacc5c",
   "metadata": {},
   "source": [
    "## Comments"
   ]
  },
  {
   "cell_type": "code",
   "execution_count": 21,
   "id": "ba89efb0-c54f-49e9-b062-1d5f91e3f5c8",
   "metadata": {
    "tags": []
   },
   "outputs": [],
   "source": [
    "flow_params = torch.tensor([1., 2, 3])\n",
    "\n",
    "def flow(flow_params):\n",
    "    return 2 * flow_params\n",
    "\n",
    "def abm(abm_params): # ABM and loss function\n",
    "    return torch.sum(abm_params**2), torch.sum(abm_params**2)\n"
   ]
  },
  {
   "cell_type": "code",
   "execution_count": 25,
   "id": "9ddf7d10-26a6-4df6-bdfe-9c1fb3b0767b",
   "metadata": {
    "tags": []
   },
   "outputs": [],
   "source": [
    "jacobian_calculator = torch.func.jacfwd(abm, 0, has_aux=True) # differentiate w.r.t first one"
   ]
  },
  {
   "cell_type": "code",
   "execution_count": 26,
   "id": "25c1ff5e-dd43-4bfb-92b9-a7abefd67913",
   "metadata": {
    "tags": []
   },
   "outputs": [
    {
     "data": {
      "text/plain": [
       "(tensor([2., 4., 6.], grad_fn=<ViewBackward0>),\n",
       " tensor(14., grad_fn=<SelectBackward0>))"
      ]
     },
     "execution_count": 26,
     "metadata": {},
     "output_type": "execute_result"
    }
   ],
   "source": [
    "jacobian_calculator(flow_params)"
   ]
  },
  {
   "cell_type": "code",
   "execution_count": 27,
   "id": "b86a6a8a-36ee-4955-a9ae-d01b07d8f841",
   "metadata": {
    "tags": []
   },
   "outputs": [],
   "source": [
    "flow_params = torch.tensor([1., 2, 3], requires_grad=True)\n",
    "abm_params = flow(flow_params)\n",
    "\n",
    "abm_jacobian = jacobian_calculator(abm_params)\n",
    "\n",
    "to_diff = torch.dot(abm_jacobian[0], abm_params)\n",
    "to_diff.backward()\n"
   ]
  },
  {
   "cell_type": "code",
   "execution_count": 28,
   "id": "5483e12e-70b0-4bd2-8288-d9b98a5c8cad",
   "metadata": {
    "tags": []
   },
   "outputs": [
    {
     "data": {
      "text/plain": [
       "tensor([16., 32., 48.])"
      ]
     },
     "execution_count": 28,
     "metadata": {},
     "output_type": "execute_result"
    }
   ],
   "source": [
    "flow_params.grad"
   ]
  },
  {
   "cell_type": "code",
   "execution_count": null,
   "id": "517fc49f-a172-456c-bf1b-be5911affe6d",
   "metadata": {},
   "outputs": [],
   "source": []
  }
 ],
 "metadata": {
  "kernelspec": {
   "display_name": "Python 3",
   "language": "python",
   "name": "python3"
  },
  "language_info": {
   "codemirror_mode": {
    "name": "ipython",
    "version": 3
   },
   "file_extension": ".py",
   "mimetype": "text/x-python",
   "name": "python",
   "nbconvert_exporter": "python",
   "pygments_lexer": "ipython3",
   "version": "3.10.12"
  }
 },
 "nbformat": 4,
 "nbformat_minor": 5
}
