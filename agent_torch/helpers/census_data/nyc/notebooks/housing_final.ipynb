{
 "cells": [
  {
   "cell_type": "code",
   "execution_count": 1,
   "metadata": {},
   "outputs": [],
   "source": [
    "import numpy as np\n",
    "import pandas as pd"
   ]
  },
  {
   "cell_type": "code",
   "execution_count": 6,
   "metadata": {},
   "outputs": [],
   "source": [
    "housing_path = '../nta/hous_2021acs5yrr_nta.xlsx'\n",
    "social_path = '../nta/soc_2021acs5yr_nta.xlsx'\n",
    "\n",
    "house_df = pd.read_excel(housing_path)\n",
    "social_df = pd.read_excel(social_path)"
   ]
  },
  {
   "cell_type": "code",
   "execution_count": 7,
   "metadata": {},
   "outputs": [],
   "source": [
    "NTA_ID = 'BK0101'"
   ]
  },
  {
   "cell_type": "code",
   "execution_count": 4,
   "metadata": {},
   "outputs": [],
   "source": [
    "# Mortgage, Rent, Mortgage/Rent Expense, House Value"
   ]
  },
  {
   "cell_type": "code",
   "execution_count": 5,
   "metadata": {},
   "outputs": [],
   "source": [
    "def compute_stats(nta_df, attr, estimation_vars=['E', 'M', 'C', 'P', 'Z'], filter=True):\n",
    "    if filter:\n",
    "        filter_vars = ['E', 'P']\n",
    "        estimation_vars = filter_vars\n",
    "    stats = [nta_df['{}{}'.format(attr, var)].values for var in estimation_vars]\n",
    "    \n",
    "    return stats\n",
    "\n",
    "def merge_nta_stats(nta_df, attr_vals):\n",
    "    '''estimate and percentage'''\n",
    "    args = [compute_stats(nta_df, attr, filter=True) for attr in attr_vals]\n",
    "    ret_e, ret_p = 0, 0\n",
    "    for val in args:\n",
    "        e, p = val\n",
    "        ret_e += e\n",
    "        ret_p += p\n",
    "    \n",
    "    return [ret_e, ret_p]"
   ]
  },
  {
   "cell_type": "code",
   "execution_count": 8,
   "metadata": {},
   "outputs": [],
   "source": [
    "nta_social_df = social_df[social_df['GeoID'] == NTA_ID]\n",
    "nta_house_df = house_df[house_df['GeoID'] == NTA_ID]"
   ]
  },
  {
   "cell_type": "code",
   "execution_count": 28,
   "metadata": {},
   "outputs": [
    {
     "name": "stdout",
     "output_type": "stream",
     "text": [
      "[array([17487]), array([100.])]\n",
      "[17487]\n",
      "[array([3169]), array([18.1])]\n",
      "[array([1798]), array([56.7])]\n"
     ]
    }
   ],
   "source": [
    "total_households = compute_stats(nta_social_df, 'HH1')\n",
    "print(total_households)\n",
    "\n",
    "owner_occupied_households = compute_stats(nta_house_df, 'OOcHU1')\n",
    "renter_occupied_households = compute_stats(nta_house_df, 'ROcHU1')\n",
    "\n",
    "mortgage_owner_occupied_households = compute_stats(nta_house_df, 'HUwMrtg')\n",
    "\n",
    "print(owner_occupied_households[0] + renter_occupied_households[0])\n",
    "\n",
    "print(owner_occupied_households)\n",
    "print(mortgage_owner_occupied_households)"
   ]
  },
  {
   "cell_type": "code",
   "execution_count": 29,
   "metadata": {},
   "outputs": [],
   "source": [
    "# ownership and living expense stats\n",
    "def get_nta_household_ownership(df, nta_id, ownership_mapping):\n",
    "    nta_df = df[df['GeoID'] == nta_id]\n",
    "    \n",
    "    nta_household_ownership = {}\n",
    "\n",
    "    # compute estimates\n",
    "    for ownership_type in ownership_mapping:\n",
    "        nta_household_ownership[ownership_type] = {}\n",
    "        estimate, percentage = merge_nta_stats(nta_df, ownership_mapping[ownership_type])\n",
    "\n",
    "        nta_household_ownership[ownership_type]['estimate'] = estimate\n",
    "\n",
    "    all_households = sum([nta_household_ownership[o_type]['estimate'] for o_type in ownership_mapping])\n",
    "    \n",
    "    # compute probability\n",
    "    for ownership_type in ownership_mapping:\n",
    "        nta_household_ownership[ownership_type]['probability'] = nta_household_ownership[ownership_type]['estimate'] / all_households\n",
    "\n",
    "    return nta_household_ownership"
   ]
  },
  {
   "cell_type": "code",
   "execution_count": 30,
   "metadata": {},
   "outputs": [],
   "source": [
    "ownership_mapping = {'renter': ['ROcHU1'], 'no_mortgage_owner': ['OOcHU1'], 'mortgage_owner': ['HUwMrtg']}\n",
    "\n",
    "nta_household_ownership = get_nta_household_ownership(house_df, NTA_ID, ownership_mapping)"
   ]
  },
  {
   "cell_type": "code",
   "execution_count": 31,
   "metadata": {},
   "outputs": [
    {
     "data": {
      "text/plain": [
       "{'renter': {'estimate': array([14318]), 'probability': array([0.74244231])},\n",
       " 'no_mortgage_owner': {'estimate': array([3169]),\n",
       "  'probability': array([0.1643246])},\n",
       " 'mortgage_owner': {'estimate': array([1798]),\n",
       "  'probability': array([0.09323308])}}"
      ]
     },
     "execution_count": 31,
     "metadata": {},
     "output_type": "execute_result"
    }
   ],
   "source": [
    "nta_household_ownership"
   ]
  },
  {
   "cell_type": "code",
   "execution_count": null,
   "metadata": {},
   "outputs": [],
   "source": []
  }
 ],
 "metadata": {
  "kernelspec": {
   "display_name": "test_birds_env",
   "language": "python",
   "name": "python3"
  },
  "language_info": {
   "codemirror_mode": {
    "name": "ipython",
    "version": 3
   },
   "file_extension": ".py",
   "mimetype": "text/x-python",
   "name": "python",
   "nbconvert_exporter": "python",
   "pygments_lexer": "ipython3",
   "version": "3.8.2"
  },
  "orig_nbformat": 4
 },
 "nbformat": 4,
 "nbformat_minor": 2
}
