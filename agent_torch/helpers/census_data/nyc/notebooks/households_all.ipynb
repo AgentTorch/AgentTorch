{
 "cells": [
  {
   "cell_type": "code",
   "execution_count": 1,
   "metadata": {},
   "outputs": [],
   "source": [
    "import numpy as np\n",
    "import pandas as pd"
   ]
  },
  {
   "attachments": {},
   "cell_type": "markdown",
   "metadata": {},
   "source": [
    "## Household details: income, assets, expenditure, occupants, value, rent/mortgage"
   ]
  },
  {
   "cell_type": "code",
   "execution_count": 25,
   "metadata": {},
   "outputs": [],
   "source": [
    "demographic_file = '../nta/demo_2021acs5yr_nta.xlsx'\n",
    "economic_file = '../nta/econ_2021acs5yr_nta.xlsx'\n",
    "social_file = '../nta/soc_2021acs5yr_nta.xlsx'\n",
    "housing_file = '../nta/hous_2021acs5yrr_nta.xlsx'"
   ]
  },
  {
   "cell_type": "code",
   "execution_count": 38,
   "metadata": {},
   "outputs": [],
   "source": [
    "income_mapping = {'U25': ['HHIU10', 'HHI10t14', 'HHI15t24'], '25t49': ['HHI25t34', 'HHI35t49'],\n",
    "'50t99': ['HHI50t74', 'HHI75t99'], '100t199': ['HI100t149', 'HI150t199'], '200A': ['HHI200pl']}\n",
    "\n",
    "ownership_mapping = {'renter': ['ROcHU1'], 'no_mortgage_owner': ['HUnoMrtg1'], 'mortgage_owner': ['HUwMrtg']}"
   ]
  },
  {
   "attachments": {},
   "cell_type": "markdown",
   "metadata": {},
   "source": [
    "## helpers"
   ]
  },
  {
   "cell_type": "code",
   "execution_count": 39,
   "metadata": {},
   "outputs": [],
   "source": [
    "def compute_stats(nta_df, attr, estimation_vars=['E', 'M', 'C', 'P', 'Z'], filter=True):\n",
    "    if filter:\n",
    "        filter_vars = ['E', 'P']\n",
    "        estimation_vars = filter_vars\n",
    "    stats = [nta_df['{}{}'.format(attr, var)].values for var in estimation_vars]\n",
    "    \n",
    "    return stats\n",
    "\n",
    "def merge_nta_stats(nta_df, attr_vals):\n",
    "    '''estimate and percentage'''\n",
    "    args = [compute_stats(nta_df, attr, filter=True) for attr in attr_vals]\n",
    "    ret_e, ret_p = 0, 0\n",
    "    for val in args:\n",
    "        e, p = val\n",
    "        ret_e += e\n",
    "        ret_p += p\n",
    "    \n",
    "    return [ret_e, ret_p]"
   ]
  },
  {
   "attachments": {},
   "cell_type": "markdown",
   "metadata": {},
   "source": [
    "## processing"
   ]
  },
  {
   "cell_type": "code",
   "execution_count": 29,
   "metadata": {},
   "outputs": [],
   "source": [
    "# occupants from social file\n",
    "social_df = pd.read_excel(social_file)\n",
    "# age, gender, race from demographic file\n",
    "demo_df = pd.read_excel(demographic_file)\n",
    "# income from economic file\n",
    "econ_df = pd.read_excel(economic_file)\n",
    "# ownership, mortgage/rent expense from household file\n",
    "house_df = pd.read_excel(housing_file)"
   ]
  },
  {
   "cell_type": "code",
   "execution_count": 40,
   "metadata": {},
   "outputs": [],
   "source": [
    "def get_nta_household_income(df, nta_id, income_mapping):\n",
    "    nta_df = df[df['GeoID'] == nta_id]\n",
    "    \n",
    "    nta_household_income = {}\n",
    "\n",
    "    for band in income_mapping:\n",
    "        nta_household_income[band] = {}\n",
    "        estimate, percentage = merge_nta_stats(nta_df, income_mapping[band])\n",
    "\n",
    "        nta_household_income[band]['estimate'] = estimate\n",
    "        nta_household_income[band]['probability'] = percentage / 100.0\n",
    "\n",
    "    return nta_household_income\n",
    "\n",
    "def get_nta_household_ownership(df, nta_id, ownership_mapping):\n",
    "    nta_df = df[df['GeoID'] == nta_id]\n",
    "    \n",
    "    nta_household_ownership = {}\n",
    "\n",
    "    # compute estimates\n",
    "    for ownership_type in ownership_mapping:\n",
    "        nta_household_ownership[ownership_type] = {}\n",
    "        estimate, percentage = merge_nta_stats(nta_df, ownership_mapping[ownership_type])\n",
    "\n",
    "        nta_household_ownership[ownership_type]['estimate'] = estimate\n",
    "\n",
    "    all_households = sum([nta_household_ownership[o_type]['estimate'] for o_type in ownership_mapping])\n",
    "    \n",
    "    # compute probability\n",
    "    for ownership_type in ownership_mapping:\n",
    "        nta_household_ownership[ownership_type]['probability'] = nta_household_ownership[ownership_type]['estimate'] / all_households\n",
    "\n",
    "    return nta_household_ownership"
   ]
  },
  {
   "cell_type": "code",
   "execution_count": 41,
   "metadata": {},
   "outputs": [],
   "source": [
    "NTA_ID = 'BK0101'"
   ]
  },
  {
   "cell_type": "code",
   "execution_count": 42,
   "metadata": {},
   "outputs": [],
   "source": [
    "nta_household_income = get_nta_household_income(econ_df, NTA_ID, income_mapping)\n",
    "nta_household_ownership = get_nta_household_ownership(house_df, NTA_ID, ownership_mapping)"
   ]
  },
  {
   "cell_type": "code",
   "execution_count": 43,
   "metadata": {},
   "outputs": [
    {
     "data": {
      "text/plain": [
       "(array([0.999]), array([1.]))"
      ]
     },
     "execution_count": 43,
     "metadata": {},
     "output_type": "execute_result"
    }
   ],
   "source": [
    "income_prob = [nta_household_income[key_ix]['probability'] for key_ix in nta_household_income]\n",
    "ownership_prob = [nta_household_ownership[key_ix]['probability'] for key_ix in nta_household_ownership]\n",
    "\n",
    "sum(income_prob), sum(ownership_prob)"
   ]
  },
  {
   "cell_type": "code",
   "execution_count": 44,
   "metadata": {},
   "outputs": [
    {
     "name": "stdout",
     "output_type": "stream",
     "text": [
      "[17487]\n",
      "[17487]\n"
     ]
    }
   ],
   "source": [
    "print(sum([nta_household_income[key_ix]['estimate'] for key_ix in nta_household_income]))\n",
    "\n",
    "print(sum([nta_household_ownership[key_ix]['estimate'] for key_ix in nta_household_ownership]))"
   ]
  },
  {
   "cell_type": "code",
   "execution_count": null,
   "metadata": {},
   "outputs": [],
   "source": []
  }
 ],
 "metadata": {
  "kernelspec": {
   "display_name": "test_birds_env",
   "language": "python",
   "name": "python3"
  },
  "language_info": {
   "codemirror_mode": {
    "name": "ipython",
    "version": 3
   },
   "file_extension": ".py",
   "mimetype": "text/x-python",
   "name": "python",
   "nbconvert_exporter": "python",
   "pygments_lexer": "ipython3",
   "version": "3.8.2"
  },
  "orig_nbformat": 4
 },
 "nbformat": 4,
 "nbformat_minor": 2
}
