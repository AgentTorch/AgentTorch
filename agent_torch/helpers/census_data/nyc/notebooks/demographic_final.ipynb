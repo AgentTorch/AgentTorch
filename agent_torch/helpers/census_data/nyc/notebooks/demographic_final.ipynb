{
 "cells": [
  {
   "cell_type": "code",
   "execution_count": 1,
   "metadata": {},
   "outputs": [],
   "source": [
    "import numpy as np\n",
    "import pandas as pd"
   ]
  },
  {
   "attachments": {},
   "cell_type": "markdown",
   "metadata": {},
   "source": [
    "Generate Age, Gender, Race for all agents in an NTA"
   ]
  },
  {
   "cell_type": "code",
   "execution_count": 5,
   "metadata": {},
   "outputs": [],
   "source": [
    "def compute_stats(nta_df, attr, estimation_vars=['E', 'M', 'C', 'P', 'Z'], filter=True):\n",
    "    if filter:\n",
    "        filter_vars = ['E', 'P']\n",
    "        estimation_vars = filter_vars\n",
    "    stats = [nta_df['{}{}'.format(attr, var)].values for var in estimation_vars]\n",
    "    \n",
    "    return stats\n",
    "\n",
    "def merge_nta_stats(nta_df, attr_vals):\n",
    "    '''estimate and percentage'''\n",
    "    args = [compute_stats(nta_df, attr, filter=True) for attr in attr_vals]\n",
    "    ret_e, ret_p = 0, 0\n",
    "    for val in args:\n",
    "        e, p = val\n",
    "        ret_e += e\n",
    "        ret_p += p\n",
    "    \n",
    "    return [ret_e, ret_p]\n",
    "\n",
    "def get_cumulative_stats(nta_df, attr_vals):\n",
    "    total_estimate, total_percentage = merge_nta_stats(nta_df, attr_vals)\n",
    "    return total_estimate, total_percentage\n",
    "\n",
    "def get_gender_split(total_estimate, total_percentage, male_ratio):\n",
    "    total_estimate = total_estimate.item()\n",
    "\n",
    "    male_estimate = int(male_ratio*total_estimate)\n",
    "    female_estimate = total_estimate - male_estimate\n",
    "\n",
    "    male_percentage = male_ratio*total_percentage.item()\n",
    "    female_percentage = total_percentage - male_percentage\n",
    "\n",
    "    return_dict = {'estimate': {'male': male_estimate, 'female': female_estimate}, 'percentage': {'male': male_percentage, 'female': female_percentage}}\n",
    "\n",
    "    return return_dict\n",
    "\n",
    "    # return {'male': [male_estimate, male_percentage], 'female': [female_estimate, female_percentage]}"
   ]
  },
  {
   "cell_type": "code",
   "execution_count": 6,
   "metadata": {},
   "outputs": [],
   "source": [
    "def get_nta_race_legacy(df, nta_id, race_mapping):\n",
    "    nta_df = df[df['GeoID'] == nta_id]\n",
    "\n",
    "    nta_race = {}\n",
    "    for key in race_mapping:\n",
    "        nta_race[key] = {'percentage': 0.0, 'estimate': 0.0}\n",
    "\n",
    "        for attr_value in race_mapping[key]:\n",
    "            estimate, percentage = compute_stats(nta_df, attr_value, filter=True)\n",
    "\n",
    "            nta_race[key]['percentage'] +=  max(0, percentage[0])\n",
    "            nta_race[key]['estimate'] +=  max(0, estimate[0])\n",
    "\n",
    "    return nta_race"
   ]
  },
  {
   "cell_type": "code",
   "execution_count": 8,
   "metadata": {},
   "outputs": [],
   "source": [
    "def get_nta_race(df, nta_id, race_mapping):\n",
    "    nta_df = df[df['GeoID'] == nta_id]\n",
    "\n",
    "    nta_race = {}\n",
    "    for key in race_mapping:\n",
    "        nta_race[key] = {}\n",
    "\n",
    "        estimate, percentage = merge_nta_stats(nta_df, race_mapping[key])\n",
    "\n",
    "        nta_race[key]['estimate'] = max(0, estimate[0])\n",
    "        nta_race[key]['percentage'] = max(0, percentage[0])\n",
    "\n",
    "    return nta_race"
   ]
  },
  {
   "cell_type": "code",
   "execution_count": 9,
   "metadata": {},
   "outputs": [],
   "source": [
    "def get_nta_age_gender(df, nta_id, age_mapping, male_ratio=0.508):\n",
    "    '''estimate, percentage'''\n",
    "    nta_df = df[df['GeoID'] == nta_id]\n",
    "\n",
    "    nta_age_gender = {}\n",
    "    for key in age_mapping:\n",
    "        attr_vals = age_mapping[key]\n",
    "\n",
    "        total_estimate, total_percentage = merge_nta_stats(nta_df, attr_vals)\n",
    "        if key == 'U19':\n",
    "            male_ratio = compute_stats(nta_df, 'PopU18M')[-1] / 100.0 # percentage of male < 19\n",
    "        if key == '65A':\n",
    "            male_ratio = compute_stats(nta_df, 'Pop65plM')[-1] / 100.0 # percentage of male > 65\n",
    "        \n",
    "        age_gender_stats = get_gender_split(total_estimate, total_percentage, male_ratio=male_ratio)\n",
    "\n",
    "        nta_age_gender[key] = age_gender_stats\n",
    "\n",
    "    return nta_age_gender"
   ]
  },
  {
   "cell_type": "code",
   "execution_count": 10,
   "metadata": {},
   "outputs": [],
   "source": [
    "nta_demographics_file = '../nta/demo_2021acs5yr_nta.xlsx'\n",
    "\n",
    "df = pd.read_excel(nta_demographics_file)\n",
    "NTA_ID = 'BK0101'"
   ]
  },
  {
   "cell_type": "code",
   "execution_count": 11,
   "metadata": {},
   "outputs": [],
   "source": [
    "race_mapping = {'hispanic': ['Hsp1'], 'white': ['WtNH'], 'black': ['AsnNH'], 'black': ['BlNH'], \n",
    "                'native': ['NHPINH', 'AIANNH'], 'other': ['OthNH', 'Rc2plNH'], 'asian': ['AsnNH']}\n",
    "\n",
    "# race data\n",
    "nta_race = get_nta_race(df, NTA_ID, race_mapping)"
   ]
  },
  {
   "cell_type": "code",
   "execution_count": 12,
   "metadata": {},
   "outputs": [],
   "source": [
    "age_mapping = {'U19': ['PopU5', 'Pop5t9', 'Pop10t14', 'Pop15t19'], '20t29': ['Pop20t24', 'Pop25t29'],  \n",
    "                '30t39': ['Pop30t34', 'Pop35t39'], '40t49': ['Pop40t44', 'Pop45t49'], \n",
    "                '50t64': ['Pop50t54', 'Pop55t59', 'Pop60t64'], '65A': ['Pop65t69', 'Pop70t74', 'Pop75t79','Pop80t84', 'Pop85pl']}\n",
    "\n",
    "# age data\n",
    "nta_age_gender = get_nta_age_gender(df, NTA_ID, age_mapping)"
   ]
  },
  {
   "cell_type": "code",
   "execution_count": 13,
   "metadata": {},
   "outputs": [
    {
     "name": "stdout",
     "output_type": "stream",
     "text": [
      "37518\n"
     ]
    }
   ],
   "source": [
    "p = 0\n",
    "for key in nta_race:\n",
    "    p += nta_race[key]['estimate']\n",
    "print(p)"
   ]
  },
  {
   "cell_type": "code",
   "execution_count": 14,
   "metadata": {},
   "outputs": [
    {
     "name": "stdout",
     "output_type": "stream",
     "text": [
      "37518\n"
     ]
    }
   ],
   "source": [
    "val = 0\n",
    "for key in nta_age_gender:\n",
    "    val = val + nta_age_gender[key]['male'][0] + nta_age_gender[key]['female'][0]\n",
    "\n",
    "print(val)"
   ]
  },
  {
   "cell_type": "code",
   "execution_count": null,
   "metadata": {},
   "outputs": [],
   "source": []
  }
 ],
 "metadata": {
  "kernelspec": {
   "display_name": "test_birds_env",
   "language": "python",
   "name": "python3"
  },
  "language_info": {
   "codemirror_mode": {
    "name": "ipython",
    "version": 3
   },
   "file_extension": ".py",
   "mimetype": "text/x-python",
   "name": "python",
   "nbconvert_exporter": "python",
   "pygments_lexer": "ipython3",
   "version": "3.8.2"
  },
  "orig_nbformat": 4
 },
 "nbformat": 4,
 "nbformat_minor": 2
}
