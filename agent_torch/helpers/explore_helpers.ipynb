{
 "cells": [
  {
   "cell_type": "code",
   "execution_count": 1,
   "metadata": {},
   "outputs": [],
   "source": [
    "import numpy as np\n",
    "import torch\n",
    "import torch.nn as nn\n",
    "import torch.nn.functional as F\n",
    "\n",
    "from soft import discrete_sample"
   ]
  },
  {
   "attachments": {},
   "cell_type": "markdown",
   "metadata": {},
   "source": [
    "Need to write differentiable approximations for the following operations: logical_and, indicate, max"
   ]
  },
  {
   "attachments": {},
   "cell_type": "markdown",
   "metadata": {},
   "source": [
    "# Indicator"
   ]
  },
  {
   "cell_type": "code",
   "execution_count": 21,
   "metadata": {},
   "outputs": [
    {
     "name": "stdout",
     "output_type": "stream",
     "text": [
      "tensor(0.1110) tensor(-0.1110)\n"
     ]
    }
   ],
   "source": [
    "def compare(a, b):\n",
    "    '''returns 1 if a > b and 2 if b > a'''\n",
    "    def compare_soft(epsilon_t, nu_t, hardness=0.85):\n",
    "        return torch.sigmoid(hardness * (epsilon_t - nu_t))\n",
    "\n",
    "    def compare_hard(a, b):\n",
    "        return (a > b).float()\n",
    "    \n",
    "    soft = compare_soft(a, b)\n",
    "    return compare_hard(a, b) + soft - soft.detach()\n",
    "\n",
    "def compare_hard(epsilon_t, nu_t):\n",
    "    return (epsilon_t > nu_t).float()\n",
    "\n",
    "a = torch.tensor(3.0, requires_grad=True)\n",
    "b = torch.tensor(5.0, requires_grad=True)\n",
    "\n",
    "x = compare(a, b)\n",
    "x.backward()\n",
    "print(a.grad, b.grad)"
   ]
  },
  {
   "attachments": {},
   "cell_type": "markdown",
   "metadata": {},
   "source": [
    "## Maximum"
   ]
  },
  {
   "cell_type": "code",
   "execution_count": 37,
   "metadata": {},
   "outputs": [
    {
     "name": "stdout",
     "output_type": "stream",
     "text": [
      "tensor([10.], grad_fn=<MaximumBackward0>) tensor([10.], grad_fn=<AddBackward0>)\n",
      "tensor([1.0589]) tensor([-0.0589])\n"
     ]
    }
   ],
   "source": [
    "def soft_maximum(a, b):\n",
    "    return a*compare(a, b) + b*compare(b, a)\n",
    "\n",
    "value1 = torch.tensor([10.0], requires_grad=True)\n",
    "value2 = torch.tensor([5.0], requires_grad=True)\n",
    "\n",
    "hard_max = torch.max(value1, value2)\n",
    "soft_max = soft_maximum(value1, value2)\n",
    "\n",
    "print(hard_max, soft_max)\n",
    "soft_max.backward()\n",
    "print(value1.grad, value2.grad)"
   ]
  },
  {
   "attachments": {},
   "cell_type": "markdown",
   "metadata": {},
   "source": [
    "## logical_and, logical_or, logical_not"
   ]
  },
  {
   "cell_type": "code",
   "execution_count": 100,
   "metadata": {},
   "outputs": [],
   "source": [
    "def logical_not(a, grad=True):\n",
    "    def hard_not(a):\n",
    "        assert a.dtype == torch.long\n",
    "        return torch.logical_not(a)\n",
    "    \n",
    "    def soft_not(a):\n",
    "        return 1 - a\n",
    "    \n",
    "    if not grad:\n",
    "        return hard_not(a.long())\n",
    "\n",
    "    soft = soft_not(a)\n",
    "    return hard_not(a.long()) + soft - soft.detach()\n",
    "\n",
    "\n",
    "def logical_or(a, b, grad=True):\n",
    "    def hard_or(a, b):\n",
    "        assert a.dtype == torch.long and b.dtype == torch.long\n",
    "        return torch.logical_or(a, b)\n",
    "    \n",
    "    def soft_or(a, b):\n",
    "        return a + b\n",
    "    \n",
    "    if not grad:\n",
    "        return hard_or(a.long(), b.long())\n",
    "\n",
    "    soft = soft_or(a, b)\n",
    "    return hard_or(a.long(), b.long()) + (soft - soft.detach())\n",
    "\n",
    "def logical_and(a, b, grad=True):\n",
    "    def hard_and(a, b):\n",
    "        assert a.dtype == torch.long and b.dtype == torch.long\n",
    "        return torch.logical_and(a, b)\n",
    "    \n",
    "    def soft_and(a, b):\n",
    "        return a * b\n",
    "    \n",
    "    if not grad:\n",
    "        return hard_and(a.long(), b.long())\n",
    "\n",
    "    soft = soft_and(a, b)\n",
    "    return hard_and(a.long(), b.long()) + (soft - soft.detach())"
   ]
  },
  {
   "attachments": {},
   "cell_type": "markdown",
   "metadata": {},
   "source": [
    "## logical_or"
   ]
  },
  {
   "cell_type": "code",
   "execution_count": 101,
   "metadata": {},
   "outputs": [
    {
     "name": "stdout",
     "output_type": "stream",
     "text": [
      "Output:  tensor([1., 0., 1., 1., 0.], grad_fn=<AddBackward0>) tensor([1, 0, 1, 1, 0])\n",
      "Gradient:  tensor([1., 1., 1., 1., 1.]) tensor([1., 1., 1., 1., 1.])\n"
     ]
    }
   ],
   "source": [
    "x_a = torch.tensor([1.0, 0.0, 0.0, 1.0, 0.0], requires_grad=True)\n",
    "x_b = torch.tensor([1.0, 0.0, 1.0, 0.0, 0.0], requires_grad=True)\n",
    "\n",
    "z = x_a + x_b\n",
    "z = logical_or(x_a, x_b)\n",
    "z.sum().backward()\n",
    "\n",
    "z2 = torch.logical_or(x_a, x_b).long()\n",
    "\n",
    "print(\"Output: \", z, z2)\n",
    "print(\"Gradient: \", x_a.grad, x_b.grad)"
   ]
  },
  {
   "attachments": {},
   "cell_type": "markdown",
   "metadata": {},
   "source": [
    "## logical_and"
   ]
  },
  {
   "cell_type": "code",
   "execution_count": 102,
   "metadata": {},
   "outputs": [
    {
     "name": "stdout",
     "output_type": "stream",
     "text": [
      "Output:  tensor([1., 0., 0., 0., 0.], grad_fn=<AddBackward0>) tensor([1, 0, 0, 0, 0])\n",
      "Gradient:  tensor([1., 0., 1., 0., 0.]) tensor([1., 0., 0., 1., 0.])\n"
     ]
    }
   ],
   "source": [
    "x_a = torch.tensor([1.0, 0.0, 0.0, 1.0, 0.0], requires_grad=True)\n",
    "x_b = torch.tensor([1.0, 0.0, 1.0, 0.0, 0.0], requires_grad=True)\n",
    "\n",
    "z_basic = x_a * x_b\n",
    "z_at = logical_and(x_a, x_b)\n",
    "z_torch = torch.logical_and(x_a, x_b).long()\n",
    "print(\"Output: \", z_at, z_torch)\n",
    "\n",
    "z_at.sum().backward()\n",
    "print(\"Gradient: \", x_a.grad, x_b.grad)"
   ]
  },
  {
   "attachments": {},
   "cell_type": "markdown",
   "metadata": {},
   "source": [
    "## logical_not"
   ]
  },
  {
   "cell_type": "code",
   "execution_count": 105,
   "metadata": {},
   "outputs": [
    {
     "name": "stdout",
     "output_type": "stream",
     "text": [
      "Output:  tensor([0., 1., 1., 0., 1.], grad_fn=<SubBackward0>) tensor([0, 1, 1, 0, 1])\n",
      "Gradient:  tensor([-1., -1., -1., -1., -1.])\n"
     ]
    }
   ],
   "source": [
    "x_a = torch.tensor([1.0, 0.0, 0.0, 1.0, 0.0], requires_grad=True)\n",
    "\n",
    "z_at = logical_not(x_a)\n",
    "z_torch = torch.logical_not(x_a).long()\n",
    "\n",
    "print(\"Output: \", z_at, z_torch)\n",
    "z_at.sum().backward()\n",
    "print(\"Gradient: \", x_a.grad)"
   ]
  },
  {
   "attachments": {},
   "cell_type": "markdown",
   "metadata": {},
   "source": [
    "## discrete_sampling"
   ]
  },
  {
   "cell_type": "code",
   "execution_count": 12,
   "metadata": {},
   "outputs": [
    {
     "name": "stdout",
     "output_type": "stream",
     "text": [
      "tensor([1., 1., 0., 1., 1., 1., 0., 0., 1., 0.], grad_fn=<SelectBackward0>)\n",
      "tensor(4.7663)\n"
     ]
    }
   ],
   "source": [
    "initial_infections_percentage = torch.tensor(0.6, requires_grad=True)\n",
    "\n",
    "agents_stages = discrete_sample(initial_infections_percentage, size=(10, 1))\n",
    "print(agents_stages)\n",
    "agents_stages.sum().backward()\n",
    "print(initial_infections_percentage.grad)"
   ]
  },
  {
   "cell_type": "code",
   "execution_count": 2,
   "metadata": {},
   "outputs": [
    {
     "name": "stdout",
     "output_type": "stream",
     "text": [
      "tensor([1., 0., 0., 0., 0., 1., 0., 1., 0., 0.], grad_fn=<AddBackward0>)\n",
      "tensor(6.8792)\n"
     ]
    }
   ],
   "source": [
    "# composite operations\n",
    "initial_infections_percentage = torch.tensor(0.6, requires_grad=True)\n",
    "agents_stages = discrete_sample(initial_infections_percentage, size=(10, 1))\n",
    "\n",
    "mask = torch.tensor([1.0, 0.0, 0.0, 0.0, 0.0, 1.0, 0.0, 1.0, 0.0, 1.0])\n",
    "\n",
    "out = logical_and(agents_stages, mask)\n",
    "print(out)\n",
    "out.sum().backward()\n",
    "print(initial_infections_percentage.grad)"
   ]
  },
  {
   "attachments": {},
   "cell_type": "markdown",
   "metadata": {},
   "source": [
    "## discrete_event representation with sparse tensors"
   ]
  },
  {
   "cell_type": "code",
   "execution_count": 56,
   "metadata": {},
   "outputs": [
    {
     "name": "stdout",
     "output_type": "stream",
     "text": [
      "Eligibility Mask:  torch.Size([20, 1]) torch.Size([100, 1])\n",
      "tensor([20243.9863])\n"
     ]
    }
   ],
   "source": [
    "# StimulusPayments: irregular events implemented at discrete intervals\n",
    "\n",
    "num_agents = 20\n",
    "num_days = (100, 1) # total number of days\n",
    "indices = [[23, 47], [0, 0]] # which day\n",
    "values = torch.tensor([600.0, 300.0]) # stimulus amount\n",
    "\n",
    "current_assets = torch.zeros((num_agents, 1))\n",
    "\n",
    "stimulus_payments = torch.sparse_coo_tensor(indices=indices, values=values, size=num_days)\n",
    "\n",
    "eligible_prob = torch.tensor([0.3], requires_grad=True)\n",
    "agent_eligibility = discrete_sample(sample_prob=eligible_prob, size=(num_agents, 1)).unsqueeze(dim=1)\n",
    "\n",
    "print(\"Eligibility Mask: \", agent_eligibility.shape, stimulus_payments.shape)\n",
    "\n",
    "for t in range(40):\n",
    "    #current_assets = torch.sparse.addmm(current_assets, agent_eligibility, stimulus_payments[t])\n",
    "    current_assets = current_assets + agent_eligibility*stimulus_payments[t].to_dense()\n",
    "\n",
    "ans = current_assets.sum()\n",
    "ans.backward()\n",
    "\n",
    "print(eligible_prob.grad)"
   ]
  },
  {
   "attachments": {},
   "cell_type": "markdown",
   "metadata": {},
   "source": [
    "## Tasks to do:\n",
    "1. Add sparse and dense tensors\n",
    "2. Multiple sparse and dense tensors\n",
    "3. Check backpropogation with sparse_coo_tensor vs sparse_csr_tensor"
   ]
  },
  {
   "attachments": {},
   "cell_type": "markdown",
   "metadata": {},
   "source": [
    "## Add sparse and dense tensor"
   ]
  },
  {
   "cell_type": "code",
   "execution_count": 31,
   "metadata": {},
   "outputs": [],
   "source": [
    "tensor_size = (100, 1)\n",
    "sparse_indices = [[23, 47], [0, 0]]\n",
    "sparse_values = torch.tensor([600., 300.])\n",
    "eligible_prob = torch.tensor([0.3], requires_grad=True)\n",
    "\n",
    "sparse_tensor = torch.sparse_coo_tensor(indices=sparse_indices, values=sparse_values, size=tensor_size)\n",
    "dense_tensor = torch.zeros(sparse_tensor.shape)\n",
    "eligibility_mask = discrete_sample(sample_prob=eligible_prob, size=tensor_size).unsqueeze(dim=1)"
   ]
  },
  {
   "cell_type": "code",
   "execution_count": 21,
   "metadata": {},
   "outputs": [
    {
     "name": "stdout",
     "output_type": "stream",
     "text": [
      "tensor(indices=tensor([[23, 47],\n",
      "                       [ 0,  0]]),\n",
      "       values=tensor([600., 300.]),\n",
      "       size=(100, 1), nnz=2, layout=torch.sparse_coo)\n"
     ]
    }
   ],
   "source": [
    "add_tensors = dense_tensor + sparse_tensor\n",
    "print(add_tensors.to_sparse(sparse_dim=2))"
   ]
  },
  {
   "attachments": {},
   "cell_type": "markdown",
   "metadata": {},
   "source": [
    "## Multiply sparse and dense tensors"
   ]
  },
  {
   "cell_type": "code",
   "execution_count": 27,
   "metadata": {},
   "outputs": [
    {
     "name": "stdout",
     "output_type": "stream",
     "text": [
      "torch.Size([100, 100])\n"
     ]
    }
   ],
   "source": [
    "multiply_tensors = torch.sparse.mm(dense_tensor, sparse_tensor.t())\n",
    "\n",
    "print(multiply_tensors.shape)"
   ]
  },
  {
   "attachments": {},
   "cell_type": "markdown",
   "metadata": {},
   "source": [
    "## Add and Multiply - sparse and dense tensors"
   ]
  },
  {
   "cell_type": "code",
   "execution_count": 33,
   "metadata": {},
   "outputs": [
    {
     "name": "stdout",
     "output_type": "stream",
     "text": [
      "torch.Size([100, 1]) torch.Size([100, 1]) torch.Size([100, 1])\n",
      "torch.Size([100, 100])\n"
     ]
    }
   ],
   "source": [
    "print(eligibility_mask.shape, dense_tensor.shape, sparse_tensor.shape)\n",
    "\n",
    "new_tensor = torch.sparse.addmm(dense_tensor, sparse_tensor, eligibility_mask.t())\n",
    "print(new_tensor.shape)"
   ]
  },
  {
   "cell_type": "code",
   "execution_count": 39,
   "metadata": {},
   "outputs": [
    {
     "name": "stdout",
     "output_type": "stream",
     "text": [
      "tensor(indices=tensor([[23, 47],\n",
      "                       [ 0,  0]]),\n",
      "       values=tensor([600.,   0.]),\n",
      "       size=(100, 1), nnz=2, layout=torch.sparse_coo, grad_fn=<MulBackward0>)\n"
     ]
    }
   ],
   "source": [
    "# sparse-dense elementwise multiplication\n",
    "val2 = sparse_tensor * eligibility_mask\n",
    "print(val2)"
   ]
  },
  {
   "cell_type": "code",
   "execution_count": 45,
   "metadata": {},
   "outputs": [
    {
     "data": {
      "text/plain": [
       "tensor(indices=tensor([[23],\n",
       "                       [ 0]]),\n",
       "       values=tensor([600.]),\n",
       "       size=(100, 1), nnz=1, layout=torch.sparse_coo,\n",
       "       grad_fn=<ToSparseBackward0>)"
      ]
     },
     "execution_count": 45,
     "metadata": {},
     "output_type": "execute_result"
    }
   ],
   "source": [
    "# sparse-dense elementwise addition\n",
    "val3 = dense_tensor + sparse_tensor * eligibility_mask\n",
    "val3.to_sparse()"
   ]
  },
  {
   "cell_type": "code",
   "execution_count": null,
   "metadata": {},
   "outputs": [],
   "source": []
  }
 ],
 "metadata": {
  "kernelspec": {
   "display_name": "test_birds_env",
   "language": "python",
   "name": "python3"
  },
  "language_info": {
   "codemirror_mode": {
    "name": "ipython",
    "version": 3
   },
   "file_extension": ".py",
   "mimetype": "text/x-python",
   "name": "python",
   "nbconvert_exporter": "python",
   "pygments_lexer": "ipython3",
   "version": "3.8.2"
  },
  "orig_nbformat": 4
 },
 "nbformat": 4,
 "nbformat_minor": 2
}
