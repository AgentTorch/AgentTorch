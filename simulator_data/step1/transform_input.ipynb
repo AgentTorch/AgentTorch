{
 "cells": [
  {
   "cell_type": "markdown",
   "metadata": {},
   "source": [
    "### Imports"
   ]
  },
  {
   "cell_type": "code",
   "execution_count": 2,
   "metadata": {},
   "outputs": [],
   "source": [
    "import pandas as pd\n",
    "import pickle\n",
    "import os\n",
    "import sys\n",
    "sys.path.append('/Users/shashankkumar/Documents/GitHub/MacroEcon')\n",
    "from models.macro_economics import preprocess_data"
   ]
  },
  {
   "cell_type": "markdown",
   "metadata": {},
   "source": [
    "File Paths"
   ]
  },
  {
   "cell_type": "code",
   "execution_count": 5,
   "metadata": {},
   "outputs": [],
   "source": [
    "INPUT_DIR_NZ = \"/Users/shashankkumar/Documents/GitHub/MacroEcon/simulator_data/NZ/input_pop_data\"\n",
    "INPUT_DIR_NYC = \"/Users/shashankkumar/Documents/GitHub/MacroEcon/simulator_data/NYC/input_pop_data\"\n",
    "\n",
    "OUTPUT_DIR_NZ = \"/Users/shashankkumar/Documents/GitHub/MacroEcon/simulator_data/NZ/output_pop_data\"\n",
    "OUTPUT_DIR_NYC = \"/Users/shashankkumar/Documents/GitHub/MacroEcon/simulator_data/NYC/output_pop_data\"\n",
    "\n",
    "if not os.path.exists(OUTPUT_DIR_NZ):\n",
    "    os.mkdir(OUTPUT_DIR_NZ)\n",
    "\n",
    "if not os.path.exists(OUTPUT_DIR_NYC):\n",
    "    os.mkdir(OUTPUT_DIR_NYC)"
   ]
  },
  {
   "cell_type": "markdown",
   "metadata": {},
   "source": [
    "### NZ"
   ]
  },
  {
   "cell_type": "code",
   "execution_count": null,
   "metadata": {},
   "outputs": [],
   "source": [
    "household_file = os.path.join(INPUT_DIR_NZ, \"household.pickle\")\n",
    "df = pd.read_pickle(household_file)\n",
    "df_household = df['household']"
   ]
  },
  {
   "cell_type": "code",
   "execution_count": null,
   "metadata": {},
   "outputs": [],
   "source": [
    "grouped_households_df = df_household.groupby('area')[['people_num', 'children_num', 'household_num']].sum()\n",
    "grouped_households_df[\"Family_households\"] = grouped_households_df['children_num'] != 0\n",
    "grouped_households_df['Family_households'] = grouped_households_df['Family_households'].astype(int)\n",
    "grouped_households_df['Family_households'] = grouped_households_df['Family_households'].astype(int)\n",
    "grouped_households_df['Nonfamily_households'] = 1 - grouped_households_df['Family_households']\n",
    "grouped_households_df"
   ]
  },
  {
   "cell_type": "markdown",
   "metadata": {},
   "source": [
    "Save household data"
   ]
  },
  {
   "cell_type": "code",
   "execution_count": null,
   "metadata": {},
   "outputs": [],
   "source": [
    "NZ_HOUEHOLD_OUT = os.path.join(OUTPUT_DIR_NZ, \"household.pkl\")\n",
    "grouped_households_df.to_pickle(NZ_HOUEHOLD_OUT)"
   ]
  },
  {
   "cell_type": "markdown",
   "metadata": {},
   "source": [
    "Age Gender Ethnicity"
   ]
  },
  {
   "cell_type": "code",
   "execution_count": null,
   "metadata": {},
   "outputs": [],
   "source": [
    "age_gender_file = os.path.join(INPUT_DIR_NZ, \"population.pickle\")\n",
    "df = pd.read_pickle(age_gender_file)\n",
    "df_age = df['age']\n",
    "df_age_gender = df['gender']\n",
    "df_ethnicity = df['ethnicity']\n",
    "age_list = ['U19','20t29', '30t39', '40t49', '50t64', '65A']"
   ]
  },
  {
   "cell_type": "markdown",
   "metadata": {},
   "source": [
    "Age-gender"
   ]
  },
  {
   "cell_type": "code",
   "execution_count": null,
   "metadata": {},
   "outputs": [],
   "source": [
    "df_age_gender_combined = pd.DataFrame()\n",
    "df_age_gender_combined['U19'] = df_age_gender.loc[:, 0:19].sum(axis=1)\n",
    "df_age_gender_combined['20t29'] = df_age_gender.loc[:, 20:29].sum(axis=1)\n",
    "df_age_gender_combined['30t39'] = df_age_gender.loc[:, 30:39].sum(axis=1)\n",
    "df_age_gender_combined['40t49'] = df_age_gender.loc[:, 40:49].sum(axis=1)\n",
    "df_age_gender_combined['50t64'] = df_age_gender.loc[:, 50:64].sum(axis=1)\n",
    "df_age_gender_combined['65A'] = df_age_gender.loc[:, 65:100].sum(axis=1)\n",
    "df_age_gender_combined['area'] = df_age_gender['area']\n",
    "df_age_gender_combined['gender'] = df_age_gender['gender']\n",
    "df_age_gender_combined = df_age_gender_combined.melt(\n",
    "        id_vars=[\"area\", \"gender\"], var_name=\"age\", value_name=\"count\"\n",
    "    )\n",
    "df_age_gender_combined"
   ]
  },
  {
   "cell_type": "markdown",
   "metadata": {},
   "source": [
    "Ethnicity"
   ]
  },
  {
   "cell_type": "code",
   "execution_count": null,
   "metadata": {},
   "outputs": [],
   "source": [
    "df_ethnicity_combined = pd.DataFrame()\n",
    "df_ethnicity_combined['count']  = df_ethnicity.loc[:, 0:100].sum(axis=1)\n",
    "df_ethnicity_combined['ethnicity']  = df_ethnicity['ethnicity']\n",
    "df_ethnicity_combined['area'] = df_ethnicity['area']\n",
    "df_ethnicity_combined"
   ]
  },
  {
   "cell_type": "markdown",
   "metadata": {},
   "source": [
    "Save the data"
   ]
  },
  {
   "cell_type": "code",
   "execution_count": null,
   "metadata": {},
   "outputs": [],
   "source": [
    "NZ_POP_OUT = os.path.join(OUTPUT_DIR_NZ, \"NZ_POP.pkl\")\n",
    "att_NZ = {\n",
    "    'age_gender':df_age_gender_combined,\n",
    "    'ethnicity':df_ethnicity_combined\n",
    "}\n",
    "with open(NZ_POP_OUT, 'wb') as f:\n",
    "    pickle.dump(att_NZ, f)"
   ]
  },
  {
   "cell_type": "markdown",
   "metadata": {},
   "source": [
    "### NYC"
   ]
  },
  {
   "cell_type": "markdown",
   "metadata": {},
   "source": [
    "NYC Data from pickle file saved by agents_nta.py"
   ]
  },
  {
   "cell_type": "code",
   "execution_count": 6,
   "metadata": {},
   "outputs": [],
   "source": [
    "NYC_DATA_PKL = os.path.join(INPUT_DIR_NYC, \"output_dict.pkl\")\n",
    "dfn = pd.read_pickle(NYC_DATA_PKL)"
   ]
  },
  {
   "cell_type": "markdown",
   "metadata": {},
   "source": [
    "Gender"
   ]
  },
  {
   "cell_type": "code",
   "execution_count": 7,
   "metadata": {},
   "outputs": [
    {
     "data": {
      "text/html": [
       "<div>\n",
       "<style scoped>\n",
       "    .dataframe tbody tr th:only-of-type {\n",
       "        vertical-align: middle;\n",
       "    }\n",
       "\n",
       "    .dataframe tbody tr th {\n",
       "        vertical-align: top;\n",
       "    }\n",
       "\n",
       "    .dataframe thead th {\n",
       "        text-align: right;\n",
       "    }\n",
       "</style>\n",
       "<table border=\"1\" class=\"dataframe\">\n",
       "  <thead>\n",
       "    <tr style=\"text-align: right;\">\n",
       "      <th></th>\n",
       "      <th>area</th>\n",
       "      <th>gender</th>\n",
       "      <th>age</th>\n",
       "      <th>count</th>\n",
       "    </tr>\n",
       "  </thead>\n",
       "  <tbody>\n",
       "    <tr>\n",
       "      <th>0</th>\n",
       "      <td>BK0101</td>\n",
       "      <td>female</td>\n",
       "      <td>20t29</td>\n",
       "      <td>3396</td>\n",
       "    </tr>\n",
       "    <tr>\n",
       "      <th>1</th>\n",
       "      <td>BK0101</td>\n",
       "      <td>male</td>\n",
       "      <td>20t29</td>\n",
       "      <td>3327</td>\n",
       "    </tr>\n",
       "    <tr>\n",
       "      <th>2</th>\n",
       "      <td>BK0102</td>\n",
       "      <td>female</td>\n",
       "      <td>20t29</td>\n",
       "      <td>7410</td>\n",
       "    </tr>\n",
       "    <tr>\n",
       "      <th>3</th>\n",
       "      <td>BK0102</td>\n",
       "      <td>male</td>\n",
       "      <td>20t29</td>\n",
       "      <td>6867</td>\n",
       "    </tr>\n",
       "    <tr>\n",
       "      <th>4</th>\n",
       "      <td>BK0103</td>\n",
       "      <td>female</td>\n",
       "      <td>20t29</td>\n",
       "      <td>2480</td>\n",
       "    </tr>\n",
       "    <tr>\n",
       "      <th>...</th>\n",
       "      <td>...</td>\n",
       "      <td>...</td>\n",
       "      <td>...</td>\n",
       "      <td>...</td>\n",
       "    </tr>\n",
       "    <tr>\n",
       "      <th>3139</th>\n",
       "      <td>SI9591</td>\n",
       "      <td>male</td>\n",
       "      <td>U19</td>\n",
       "      <td>0</td>\n",
       "    </tr>\n",
       "    <tr>\n",
       "      <th>3140</th>\n",
       "      <td>SI9592</td>\n",
       "      <td>female</td>\n",
       "      <td>U19</td>\n",
       "      <td>0</td>\n",
       "    </tr>\n",
       "    <tr>\n",
       "      <th>3141</th>\n",
       "      <td>SI9592</td>\n",
       "      <td>male</td>\n",
       "      <td>U19</td>\n",
       "      <td>28</td>\n",
       "    </tr>\n",
       "    <tr>\n",
       "      <th>3142</th>\n",
       "      <td>SI9593</td>\n",
       "      <td>female</td>\n",
       "      <td>U19</td>\n",
       "      <td>0</td>\n",
       "    </tr>\n",
       "    <tr>\n",
       "      <th>3143</th>\n",
       "      <td>SI9593</td>\n",
       "      <td>male</td>\n",
       "      <td>U19</td>\n",
       "      <td>0</td>\n",
       "    </tr>\n",
       "  </tbody>\n",
       "</table>\n",
       "<p>3144 rows × 4 columns</p>\n",
       "</div>"
      ],
      "text/plain": [
       "        area  gender    age  count\n",
       "0     BK0101  female  20t29   3396\n",
       "1     BK0101    male  20t29   3327\n",
       "2     BK0102  female  20t29   7410\n",
       "3     BK0102    male  20t29   6867\n",
       "4     BK0103  female  20t29   2480\n",
       "...      ...     ...    ...    ...\n",
       "3139  SI9591    male    U19      0\n",
       "3140  SI9592  female    U19      0\n",
       "3141  SI9592    male    U19     28\n",
       "3142  SI9593  female    U19      0\n",
       "3143  SI9593    male    U19      0\n",
       "\n",
       "[3144 rows x 4 columns]"
      ]
     },
     "execution_count": 7,
     "metadata": {},
     "output_type": "execute_result"
    }
   ],
   "source": [
    "dfa = dfn['age_gender']\n",
    "df_gender_melt = dfa.melt(\n",
    "        id_vars=[\"area\", \"gender\"], var_name=\"age\", value_name=\"count\"\n",
    "    )\n",
    "df_gender_melt"
   ]
  },
  {
   "cell_type": "markdown",
   "metadata": {},
   "source": [
    "Ethnicity"
   ]
  },
  {
   "cell_type": "code",
   "execution_count": 8,
   "metadata": {},
   "outputs": [
    {
     "data": {
      "text/html": [
       "<div>\n",
       "<style scoped>\n",
       "    .dataframe tbody tr th:only-of-type {\n",
       "        vertical-align: middle;\n",
       "    }\n",
       "\n",
       "    .dataframe tbody tr th {\n",
       "        vertical-align: top;\n",
       "    }\n",
       "\n",
       "    .dataframe thead th {\n",
       "        text-align: right;\n",
       "    }\n",
       "</style>\n",
       "<table border=\"1\" class=\"dataframe\">\n",
       "  <thead>\n",
       "    <tr style=\"text-align: right;\">\n",
       "      <th></th>\n",
       "      <th>area</th>\n",
       "      <th>ethnicity</th>\n",
       "      <th>count</th>\n",
       "    </tr>\n",
       "  </thead>\n",
       "  <tbody>\n",
       "    <tr>\n",
       "      <th>0</th>\n",
       "      <td>BK0101</td>\n",
       "      <td>asian</td>\n",
       "      <td>1464</td>\n",
       "    </tr>\n",
       "    <tr>\n",
       "      <th>1</th>\n",
       "      <td>BK0101</td>\n",
       "      <td>black</td>\n",
       "      <td>937</td>\n",
       "    </tr>\n",
       "    <tr>\n",
       "      <th>2</th>\n",
       "      <td>BK0101</td>\n",
       "      <td>hispanic</td>\n",
       "      <td>5498</td>\n",
       "    </tr>\n",
       "    <tr>\n",
       "      <th>3</th>\n",
       "      <td>BK0101</td>\n",
       "      <td>native</td>\n",
       "      <td>22</td>\n",
       "    </tr>\n",
       "    <tr>\n",
       "      <th>4</th>\n",
       "      <td>BK0101</td>\n",
       "      <td>other</td>\n",
       "      <td>2324</td>\n",
       "    </tr>\n",
       "    <tr>\n",
       "      <th>...</th>\n",
       "      <td>...</td>\n",
       "      <td>...</td>\n",
       "      <td>...</td>\n",
       "    </tr>\n",
       "    <tr>\n",
       "      <th>1567</th>\n",
       "      <td>SI9593</td>\n",
       "      <td>black</td>\n",
       "      <td>0</td>\n",
       "    </tr>\n",
       "    <tr>\n",
       "      <th>1568</th>\n",
       "      <td>SI9593</td>\n",
       "      <td>hispanic</td>\n",
       "      <td>0</td>\n",
       "    </tr>\n",
       "    <tr>\n",
       "      <th>1569</th>\n",
       "      <td>SI9593</td>\n",
       "      <td>native</td>\n",
       "      <td>0</td>\n",
       "    </tr>\n",
       "    <tr>\n",
       "      <th>1570</th>\n",
       "      <td>SI9593</td>\n",
       "      <td>other</td>\n",
       "      <td>0</td>\n",
       "    </tr>\n",
       "    <tr>\n",
       "      <th>1571</th>\n",
       "      <td>SI9593</td>\n",
       "      <td>white</td>\n",
       "      <td>0</td>\n",
       "    </tr>\n",
       "  </tbody>\n",
       "</table>\n",
       "<p>1572 rows × 3 columns</p>\n",
       "</div>"
      ],
      "text/plain": [
       "        area ethnicity  count\n",
       "0     BK0101     asian   1464\n",
       "1     BK0101     black    937\n",
       "2     BK0101  hispanic   5498\n",
       "3     BK0101    native     22\n",
       "4     BK0101     other   2324\n",
       "...      ...       ...    ...\n",
       "1567  SI9593     black      0\n",
       "1568  SI9593  hispanic      0\n",
       "1569  SI9593    native      0\n",
       "1570  SI9593     other      0\n",
       "1571  SI9593     white      0\n",
       "\n",
       "[1572 rows x 3 columns]"
      ]
     },
     "execution_count": 8,
     "metadata": {},
     "output_type": "execute_result"
    }
   ],
   "source": [
    "# Melt the DataFrame\n",
    "dfe = dfn['ethnicity']\n",
    "dfe_melted = dfe.melt(id_vars='area', var_name='ethnicity', value_name='count')\n",
    "\n",
    "# Sort the DataFrame by 'area' and 'ethnicity'\n",
    "dfe_melted.sort_values(['area', 'ethnicity'], inplace=True)\n",
    "\n",
    "# Reset the index of the melted DataFrame\n",
    "dfe_melted.reset_index(drop=True, inplace=True)\n",
    "dfe_melted"
   ]
  },
  {
   "cell_type": "markdown",
   "metadata": {},
   "source": [
    "Save NYC data"
   ]
  },
  {
   "cell_type": "code",
   "execution_count": 9,
   "metadata": {},
   "outputs": [],
   "source": [
    "NYC_POP_OUT = os.path.join(OUTPUT_DIR_NYC, \"NYC_POP.pkl\")\n",
    "att_dict = {'age_gender' : df_gender_melt,\n",
    "    'ethnicity' : dfe_melted,}\n",
    "with open(NYC_POP_OUT, 'wb') as f:\n",
    "    pickle.dump(att_dict, f)"
   ]
  },
  {
   "cell_type": "markdown",
   "metadata": {},
   "source": [
    "Load and test"
   ]
  },
  {
   "cell_type": "code",
   "execution_count": 10,
   "metadata": {},
   "outputs": [
    {
     "data": {
      "text/plain": [
       "{'age_gender':         area  gender    age  count\n",
       " 0     BK0101  female  20t29   3396\n",
       " 1     BK0101    male  20t29   3327\n",
       " 2     BK0102  female  20t29   7410\n",
       " 3     BK0102    male  20t29   6867\n",
       " 4     BK0103  female  20t29   2480\n",
       " ...      ...     ...    ...    ...\n",
       " 3139  SI9591    male    U19      0\n",
       " 3140  SI9592  female    U19      0\n",
       " 3141  SI9592    male    U19     28\n",
       " 3142  SI9593  female    U19      0\n",
       " 3143  SI9593    male    U19      0\n",
       " \n",
       " [3144 rows x 4 columns],\n",
       " 'ethnicity':         area ethnicity  count\n",
       " 0     BK0101     asian   1464\n",
       " 1     BK0101     black    937\n",
       " 2     BK0101  hispanic   5498\n",
       " 3     BK0101    native     22\n",
       " 4     BK0101     other   2324\n",
       " ...      ...       ...    ...\n",
       " 1567  SI9593     black      0\n",
       " 1568  SI9593  hispanic      0\n",
       " 1569  SI9593    native      0\n",
       " 1570  SI9593     other      0\n",
       " 1571  SI9593     white      0\n",
       " \n",
       " [1572 rows x 3 columns]}"
      ]
     },
     "execution_count": 10,
     "metadata": {},
     "output_type": "execute_result"
    }
   ],
   "source": [
    "dfat = pd.read_pickle(\"/Users/shashankkumar/Documents/GitHub/MacroEcon/simulator_data/NYC/output_pop_data/NYC_POP.pkl\")\n",
    "dfat"
   ]
  },
  {
   "cell_type": "markdown",
   "metadata": {},
   "source": [
    "Household"
   ]
  },
  {
   "cell_type": "code",
   "execution_count": null,
   "metadata": {},
   "outputs": [],
   "source": [
    "mapping = {\"HHPopE\": \"Population_in_households\",\n",
    "\"RshpHHldrE\": \"Householder\",\n",
    "\"Rshp_SpE\": \"Spouse\",\n",
    "\"Rshp_ChE\": \"children_num\",\n",
    "\"Rshp_OthRE\": \"Other_relatives\",\n",
    "\"Rshp_NRE\": \"Nonrelatives\",\n",
    "\"Rshp_NRUPE\": \"Unmarried_partner\",\n",
    "\"Rshp_SSUPE\": \"Same_sex_unmarried_partner\",\n",
    "\"Fam1E\": \"Family_households\",\n",
    "\"FamChU18E\": \"With_own_children_under_18_years\",\n",
    "\"MrdFamE\": \"Married_couple_family\",\n",
    "\"MrdChU18E\": \"With_own_children_under_18_years\",\n",
    "\"MHnSE\": \"Male_householder_no spouse_present_family\",\n",
    "\"MHnSChU18E\": \"With_own_children_under_18_years\",\n",
    "\"FHnSE\": \"Female_householder_no_spouse_present_family\",\n",
    "\"FHnSChU18E\": \"With_own_children_under_18_years\",\n",
    "\"NFam1E\": \"Nonfamily_households\",\n",
    "\"NFamAE\": \"Householder_living alone\",\n",
    "\"NFamA65plE\": \"65_years_and_over\",\n",
    "'GeoID':'area', \n",
    "'HHPopE':'people_num', \n",
    "'HH1E':'household_num',\n",
    "\"AvgHHSzE\" : 'Average_household_size',\n",
    "\"AvgFmSzE\" : 'Average_family_size'\n",
    "}"
   ]
  },
  {
   "cell_type": "code",
   "execution_count": null,
   "metadata": {},
   "outputs": [],
   "source": [
    "df_housing = pd.read_excel('/Users/shashankkumar/Documents/AgentTorch_Official/AgentTorch/AgentTorch/helpers/census_data/nyc/nta/soc_2021acs5yr_nta.xlsx')\n",
    "attributes = list(mapping.keys())\n",
    "df_housing = df_housing[attributes]\n",
    "df_housing.rename(columns=mapping, inplace=True)\n",
    "df_housing"
   ]
  },
  {
   "cell_type": "code",
   "execution_count": null,
   "metadata": {},
   "outputs": [],
   "source": [
    "NYC_HOUSEHOLD_OUT = os.path.join(OUTPUT_DIR_NYC, \"household.pkl\")\n",
    "df_housing.to_pickle(NYC_HOUSEHOLD_OUT)"
   ]
  },
  {
   "cell_type": "markdown",
   "metadata": {},
   "source": [
    "### Extra Data can be used later, Ignore for now"
   ]
  },
  {
   "cell_type": "code",
   "execution_count": null,
   "metadata": {},
   "outputs": [],
   "source": [
    "dfed = dfn['education']"
   ]
  },
  {
   "cell_type": "code",
   "execution_count": null,
   "metadata": {},
   "outputs": [],
   "source": [
    "# Melt the DataFrame\n",
    "df_melted = dfed.melt(id_vars='area', var_name='education', value_name='total_population')\n",
    "\n",
    "# Sort the DataFrame by 'area' and 'ethnicity'\n",
    "df_melted.sort_values(['area', 'education'], inplace=True)\n",
    "\n",
    "# Reset the index of the melted DataFrame\n",
    "df_melted.reset_index(drop=True, inplace=True)\n",
    "df_melted"
   ]
  },
  {
   "cell_type": "code",
   "execution_count": null,
   "metadata": {},
   "outputs": [],
   "source": [
    "dfei = dfn['employment_insurance']"
   ]
  },
  {
   "cell_type": "code",
   "execution_count": null,
   "metadata": {},
   "outputs": [],
   "source": [
    "# Melt the DataFrame\n",
    "df_melted = dfei.melt(id_vars='area', var_name='employment_insurance', value_name='total_population')\n",
    "\n",
    "# Sort the DataFrame by 'area' and 'ethnicity'\n",
    "df_melted.sort_values(['area', 'employment_insurance'], inplace=True)\n",
    "\n",
    "# Reset the index of the melted DataFrame\n",
    "df_melted.reset_index(drop=True, inplace=True)\n",
    "df_melted"
   ]
  }
 ],
 "metadata": {
  "kernelspec": {
   "display_name": "LIDA",
   "language": "python",
   "name": "python3"
  },
  "language_info": {
   "codemirror_mode": {
    "name": "ipython",
    "version": 3
   },
   "file_extension": ".py",
   "mimetype": "text/x-python",
   "name": "python",
   "nbconvert_exporter": "python",
   "pygments_lexer": "ipython3",
   "version": "3.10.13"
  }
 },
 "nbformat": 4,
 "nbformat_minor": 2
}
