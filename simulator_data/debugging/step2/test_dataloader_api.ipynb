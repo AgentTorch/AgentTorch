{
 "cells": [
  {
   "cell_type": "code",
   "execution_count": 2,
   "id": "700583d8",
   "metadata": {},
   "outputs": [],
   "source": [
    "import os\n",
    "import numpy as np\n",
    "import pandas as pd"
   ]
  },
  {
   "cell_type": "code",
   "execution_count": 3,
   "id": "8bae1a13",
   "metadata": {},
   "outputs": [],
   "source": [
    "from census_loader import CensusDataLoader\n",
    "import sys\n",
    "sys.path.append('/Users/shashankkumar/Documents/GitHub/MacroEcon')"
   ]
  },
  {
   "cell_type": "code",
   "execution_count": 4,
   "id": "529848ef",
   "metadata": {},
   "outputs": [
    {
     "name": "stdout",
     "output_type": "stream",
     "text": [
      "0    BK0101\n",
      "1    BK0101\n",
      "2    BK0102\n",
      "3    BK0102\n",
      "4    BK0103\n",
      "5    BK0103\n",
      "6    BK0104\n",
      "7    BK0104\n",
      "8    BK0201\n",
      "9    BK0201\n",
      "Name: area, dtype: object\n"
     ]
    }
   ],
   "source": [
    "input_population_path = \"/Users/shashankkumar/Documents/GitHub/MacroEcon/simulator_data/NYC/output_pop_data/NYC_POP.pkl\" # Dictionary created from excel files\n",
    "pop_data_df = pd.read_pickle(input_population_path)\n",
    "\n",
    "print(pop_data_df['age_gender']['area'][:10])"
   ]
  },
  {
   "cell_type": "code",
   "execution_count": 5,
   "id": "bd7e3a39",
   "metadata": {},
   "outputs": [
    {
     "name": "stdout",
     "output_type": "stream",
     "text": [
      "0    BK0101\n",
      "Name: area, dtype: object\n"
     ]
    }
   ],
   "source": [
    "area_selector = pop_data_df['age_gender']['area'][:1]\n",
    "print(area_selector)\n",
    "geo_mapping = None\n",
    "\n",
    "loader = CensusDataLoader(n_cpu=8, use_parallel=False, area_list=area_selector, geo_mapping=geo_mapping)"
   ]
  },
  {
   "cell_type": "code",
   "execution_count": 6,
   "id": "68f52625",
   "metadata": {},
   "outputs": [],
   "source": [
    "SAVE_ROOT = '/Users/shashankkumar/Documents/GitHub/MacroEcon/simulator_data/NYC'\n",
    "if not os.path.exists(SAVE_ROOT):\n",
    "    os.makedirs(SAVE_ROOT)"
   ]
  },
  {
   "cell_type": "markdown",
   "id": "0a4bac68",
   "metadata": {},
   "source": [
    "# Create Synthetic Agent Population"
   ]
  },
  {
   "cell_type": "code",
   "execution_count": 7,
   "id": "8290535b",
   "metadata": {},
   "outputs": [
    {
     "name": "stderr",
     "output_type": "stream",
     "text": [
      "INFO:process.base_pop:Processing: 0/1\n",
      "/Users/shashankkumar/Documents/GitHub/MacroEcon/simulator_data/step2/process/base_pop.py:55: SettingWithCopyWarning: \n",
      "A value is trying to be set on a copy of a slice from a DataFrame.\n",
      "Try using .loc[row_indexer,col_indexer] = value instead\n",
      "\n",
      "See the caveats in the documentation: https://pandas.pydata.org/pandas-docs/stable/user_guide/indexing.html#returning-a-view-versus-a-copy\n",
      "  ethnicity_data['probability'] = ethnicity_data.apply(lambda row: row['count'] / total_population[row['area']], axis=1)\n",
      "/Users/shashankkumar/Documents/GitHub/MacroEcon/simulator_data/step2/process/base_pop.py:55: SettingWithCopyWarning: \n",
      "A value is trying to be set on a copy of a slice from a DataFrame.\n",
      "Try using .loc[row_indexer,col_indexer] = value instead\n",
      "\n",
      "See the caveats in the documentation: https://pandas.pydata.org/pandas-docs/stable/user_guide/indexing.html#returning-a-view-versus-a-copy\n",
      "  ethnicity_data['probability'] = ethnicity_data.apply(lambda row: row['count'] / total_population[row['area']], axis=1)\n",
      "/Users/shashankkumar/Documents/GitHub/MacroEcon/simulator_data/step2/process/base_pop.py:55: SettingWithCopyWarning: \n",
      "A value is trying to be set on a copy of a slice from a DataFrame.\n",
      "Try using .loc[row_indexer,col_indexer] = value instead\n",
      "\n",
      "See the caveats in the documentation: https://pandas.pydata.org/pandas-docs/stable/user_guide/indexing.html#returning-a-view-versus-a-copy\n",
      "  ethnicity_data['probability'] = ethnicity_data.apply(lambda row: row['count'] / total_population[row['area']], axis=1)\n",
      "/Users/shashankkumar/Documents/GitHub/MacroEcon/simulator_data/step2/process/base_pop.py:55: SettingWithCopyWarning: \n",
      "A value is trying to be set on a copy of a slice from a DataFrame.\n",
      "Try using .loc[row_indexer,col_indexer] = value instead\n",
      "\n",
      "See the caveats in the documentation: https://pandas.pydata.org/pandas-docs/stable/user_guide/indexing.html#returning-a-view-versus-a-copy\n",
      "  ethnicity_data['probability'] = ethnicity_data.apply(lambda row: row['count'] / total_population[row['area']], axis=1)\n",
      "/Users/shashankkumar/Documents/GitHub/MacroEcon/simulator_data/step2/process/base_pop.py:55: SettingWithCopyWarning: \n",
      "A value is trying to be set on a copy of a slice from a DataFrame.\n",
      "Try using .loc[row_indexer,col_indexer] = value instead\n",
      "\n",
      "See the caveats in the documentation: https://pandas.pydata.org/pandas-docs/stable/user_guide/indexing.html#returning-a-view-versus-a-copy\n",
      "  ethnicity_data['probability'] = ethnicity_data.apply(lambda row: row['count'] / total_population[row['area']], axis=1)\n",
      "/Users/shashankkumar/Documents/GitHub/MacroEcon/simulator_data/step2/process/base_pop.py:55: SettingWithCopyWarning: \n",
      "A value is trying to be set on a copy of a slice from a DataFrame.\n",
      "Try using .loc[row_indexer,col_indexer] = value instead\n",
      "\n",
      "See the caveats in the documentation: https://pandas.pydata.org/pandas-docs/stable/user_guide/indexing.html#returning-a-view-versus-a-copy\n",
      "  ethnicity_data['probability'] = ethnicity_data.apply(lambda row: row['count'] / total_population[row['area']], axis=1)\n",
      "INFO:process.base_pop:Processing time (base population): 0.00049265\n"
     ]
    }
   ],
   "source": [
    "save_population_data_path = os.path.join(SAVE_ROOT, 'population_data.pkl')\n",
    "loader.generate_basepop(input_data=pop_data_df, save_path=save_population_data_path)"
   ]
  },
  {
   "cell_type": "code",
   "execution_count": 8,
   "id": "d311a953",
   "metadata": {},
   "outputs": [
    {
     "data": {
      "text/html": [
       "<div>\n",
       "<style scoped>\n",
       "    .dataframe tbody tr th:only-of-type {\n",
       "        vertical-align: middle;\n",
       "    }\n",
       "\n",
       "    .dataframe tbody tr th {\n",
       "        vertical-align: top;\n",
       "    }\n",
       "\n",
       "    .dataframe thead th {\n",
       "        text-align: right;\n",
       "    }\n",
       "</style>\n",
       "<table border=\"1\" class=\"dataframe\">\n",
       "  <thead>\n",
       "    <tr style=\"text-align: right;\">\n",
       "      <th></th>\n",
       "      <th>area</th>\n",
       "      <th>age</th>\n",
       "      <th>gender</th>\n",
       "      <th>ethnicity</th>\n",
       "    </tr>\n",
       "  </thead>\n",
       "  <tbody>\n",
       "    <tr>\n",
       "      <th>0</th>\n",
       "      <td>BK0101</td>\n",
       "      <td>20t29</td>\n",
       "      <td>male</td>\n",
       "      <td>white</td>\n",
       "    </tr>\n",
       "    <tr>\n",
       "      <th>1</th>\n",
       "      <td>BK0101</td>\n",
       "      <td>20t29</td>\n",
       "      <td>female</td>\n",
       "      <td>white</td>\n",
       "    </tr>\n",
       "    <tr>\n",
       "      <th>2</th>\n",
       "      <td>BK0101</td>\n",
       "      <td>20t29</td>\n",
       "      <td>male</td>\n",
       "      <td>white</td>\n",
       "    </tr>\n",
       "    <tr>\n",
       "      <th>3</th>\n",
       "      <td>BK0101</td>\n",
       "      <td>20t29</td>\n",
       "      <td>female</td>\n",
       "      <td>white</td>\n",
       "    </tr>\n",
       "    <tr>\n",
       "      <th>4</th>\n",
       "      <td>BK0101</td>\n",
       "      <td>20t29</td>\n",
       "      <td>female</td>\n",
       "      <td>white</td>\n",
       "    </tr>\n",
       "  </tbody>\n",
       "</table>\n",
       "</div>"
      ],
      "text/plain": [
       "     area    age  gender ethnicity\n",
       "0  BK0101  20t29    male     white\n",
       "1  BK0101  20t29  female     white\n",
       "2  BK0101  20t29    male     white\n",
       "3  BK0101  20t29  female     white\n",
       "4  BK0101  20t29  female     white"
      ]
     },
     "execution_count": 8,
     "metadata": {},
     "output_type": "execute_result"
    }
   ],
   "source": [
    "loader.population_df.head()"
   ]
  },
  {
   "cell_type": "code",
   "execution_count": 9,
   "id": "eb7ee130",
   "metadata": {},
   "outputs": [
    {
     "data": {
      "text/plain": [
       "(37518, 4)"
      ]
     },
     "execution_count": 9,
     "metadata": {},
     "output_type": "execute_result"
    }
   ],
   "source": [
    "loader.population_df.shape"
   ]
  },
  {
   "cell_type": "code",
   "execution_count": 15,
   "id": "46f49f1e",
   "metadata": {},
   "outputs": [],
   "source": [
    "sys.path.append('/Users/shashankkumar/Documents/GitHub/MacroEcon/AgentTorch/AgentTorch')\n",
    "from utils import preprocess_data\n",
    "\n",
    "preprocess_data(df_path=\"/Users/shashankkumar/Documents/GitHub/MacroEcon/simulator_data/NYC/population_data.pkl\", output_dir=\"/Users/shashankkumar/Documents/GitHub/MacroEcon/simulator_data/NYC\")"
   ]
  },
  {
   "cell_type": "markdown",
   "id": "6d6e3c05",
   "metadata": {},
   "source": [
    "## Generate Household Population"
   ]
  },
  {
   "cell_type": "code",
   "execution_count": null,
   "id": "d54b9033",
   "metadata": {},
   "outputs": [],
   "source": [
    "household_data_path = '../../housing_v2.pkl'\n",
    "household_data = np.load(household_data_path, allow_pickle=True)\n",
    "household_mapping = {'adult_list': ['20t29','30t39', '40t49', '50t64', '65A'], 'children_list': ['U19']}"
   ]
  },
  {
   "cell_type": "code",
   "execution_count": null,
   "id": "dc4b3442",
   "metadata": {},
   "outputs": [],
   "source": [
    "geo_address_data =None # Geo address data from excel file if exists (long, lat). The location (for every entity) for each geographic area (NTA)\n",
    "save_household_path = os.path.join(SAVE_ROOT, 'base_household.pkl')\n",
    "\n",
    "loader.generate_household(household_data, household_mapping, save_path=save_household_path)"
   ]
  },
  {
   "cell_type": "code",
   "execution_count": null,
   "id": "98f976e0",
   "metadata": {},
   "outputs": [],
   "source": []
  }
 ],
 "metadata": {
  "kernelspec": {
   "display_name": "Python 3 (ipykernel)",
   "language": "python",
   "name": "python3"
  },
  "language_info": {
   "codemirror_mode": {
    "name": "ipython",
    "version": 3
   },
   "file_extension": ".py",
   "mimetype": "text/x-python",
   "name": "python",
   "nbconvert_exporter": "python",
   "pygments_lexer": "ipython3",
   "version": "3.10.13"
  }
 },
 "nbformat": 4,
 "nbformat_minor": 5
}
