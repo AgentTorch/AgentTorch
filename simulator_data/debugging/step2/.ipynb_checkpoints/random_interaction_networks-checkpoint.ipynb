{
 "cells": [
  {
   "cell_type": "code",
   "execution_count": 1,
   "id": "96c0c6f7",
   "metadata": {},
   "outputs": [],
   "source": [
    "import os\n",
    "import pandas as pd\n",
    "from scipy.stats import nbinom"
   ]
  },
  {
   "cell_type": "code",
   "execution_count": 2,
   "id": "3ee70ce6",
   "metadata": {},
   "outputs": [],
   "source": [
    "def get_num_random_interactions(age, random_network_params_dict, child_upper_ix, adult_upper_ix):\n",
    "    if age <= child_upper_ix:\n",
    "        mean = random_network_params_dict['CHILD']['mu']\n",
    "        sd = random_network_params_dict['CHILD']['sigma']\n",
    "    elif age <= adult_upper_ix:\n",
    "        mean = random_network_params_dict['ADULT']['mu']\n",
    "        sd = random_network_params_dict['ADULT']['sigma']\n",
    "    else:\n",
    "        mean = random_network_params_dict['ELDERLY']['mu']\n",
    "        sd = random_network_params_dict['ELDERLY']['sigma']\n",
    "        \n",
    "    p = mean / (sd*sd)\n",
    "    n = mean * mean / (sd * sd - mean)\n",
    "    num_interactions = nbinom.rvs(n, p)\n",
    "    return num_interactions"
   ]
  },
  {
   "cell_type": "code",
   "execution_count": 3,
   "id": "5b7959a5",
   "metadata": {},
   "outputs": [],
   "source": [
    "def create_and_write_random_networks(num_agents, agents_ages, num_steps, random_nw_infile, child_upper_ix, adult_upper_ix, path):\n",
    "    \n",
    "    if not os.path.isfile(random_nw_infile):\n",
    "        print('The file with random network parameters not found at location {}'.format(random_nw_infile))\n",
    "        raise FileNotFoundError\n",
    "        \n",
    "    random_nw_df = pd.read_csv(random_nw_infile, index_col=0)\n",
    "    random_network_params_dict = {\n",
    "        a: {'mu': random_nw_df.loc[a, 'mu'], 'sigma': random_nw_df.loc[a, 'mu']}\n",
    "        for a in random_nw_df.index.to_list()\n",
    "    }\n",
    "    \n",
    "    agents_random_interactions = [get_num_random_interactions(age, random_network_params_dict, child_upper_ix, adult_upper_ix) for age in agents_ages]\n",
    "\n",
    "    for t in range(num_steps):\n",
    "        interactions_list = []\n",
    "        for agent_id in range(num_agents):\n",
    "            interactions_list.extend([agent_id]*agents_random_interactions[agent_id])\n",
    "        random.shuffle(interactions_list)\n",
    "        edges_list = [(interactions_list[i], interactions_list[i+1]) for i in range(len(interactions_list)-1)]\n",
    "        G = nx.Graph()\n",
    "        G.add_edges_from(edges_list)\n",
    "        outfile = os.path.join(get_dir_from_path_list(path), '{}.csv'.format(t))\n",
    "        nx.write_edgelist(G, outfile, delimiter = ',', data = False)\n"
   ]
  },
  {
   "cell_type": "code",
   "execution_count": 4,
   "id": "3d2ece16",
   "metadata": {},
   "outputs": [],
   "source": [
    "RANDOM_NETWORK_FILE = './random_network.csv'\n",
    "\n",
    "random_nw_df = pd.read_csv(RANDOM_NETWORK_FILE, index_col=0)"
   ]
  },
  {
   "cell_type": "code",
   "execution_count": 5,
   "id": "97827c2f",
   "metadata": {},
   "outputs": [
    {
     "data": {
      "text/html": [
       "<div>\n",
       "<style scoped>\n",
       "    .dataframe tbody tr th:only-of-type {\n",
       "        vertical-align: middle;\n",
       "    }\n",
       "\n",
       "    .dataframe tbody tr th {\n",
       "        vertical-align: top;\n",
       "    }\n",
       "\n",
       "    .dataframe thead th {\n",
       "        text-align: right;\n",
       "    }\n",
       "</style>\n",
       "<table border=\"1\" class=\"dataframe\">\n",
       "  <thead>\n",
       "    <tr style=\"text-align: right;\">\n",
       "      <th></th>\n",
       "      <th>mu</th>\n",
       "      <th>sigma</th>\n",
       "    </tr>\n",
       "    <tr>\n",
       "      <th>Age</th>\n",
       "      <th></th>\n",
       "      <th></th>\n",
       "    </tr>\n",
       "  </thead>\n",
       "  <tbody>\n",
       "    <tr>\n",
       "      <th>CHILD</th>\n",
       "      <td>2</td>\n",
       "      <td>2</td>\n",
       "    </tr>\n",
       "    <tr>\n",
       "      <th>ADULT</th>\n",
       "      <td>4</td>\n",
       "      <td>4</td>\n",
       "    </tr>\n",
       "    <tr>\n",
       "      <th>ELDERLY</th>\n",
       "      <td>3</td>\n",
       "      <td>3</td>\n",
       "    </tr>\n",
       "  </tbody>\n",
       "</table>\n",
       "</div>"
      ],
      "text/plain": [
       "         mu  sigma\n",
       "Age               \n",
       "CHILD     2      2\n",
       "ADULT     4      4\n",
       "ELDERLY   3      3"
      ]
     },
     "execution_count": 5,
     "metadata": {},
     "output_type": "execute_result"
    }
   ],
   "source": [
    "random_nw_df.head()"
   ]
  },
  {
   "cell_type": "code",
   "execution_count": null,
   "id": "bc80840a",
   "metadata": {},
   "outputs": [],
   "source": [
    "num_agents = 1000\n",
    "agents_ages = []"
   ]
  }
 ],
 "metadata": {
  "kernelspec": {
   "display_name": "Python 3 (ipykernel)",
   "language": "python",
   "name": "python3"
  },
  "language_info": {
   "codemirror_mode": {
    "name": "ipython",
    "version": 3
   },
   "file_extension": ".py",
   "mimetype": "text/x-python",
   "name": "python",
   "nbconvert_exporter": "python",
   "pygments_lexer": "ipython3",
   "version": "3.8.10"
  }
 },
 "nbformat": 4,
 "nbformat_minor": 5
}
