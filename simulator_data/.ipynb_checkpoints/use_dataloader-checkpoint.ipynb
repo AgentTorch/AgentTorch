{
 "cells": [
  {
   "cell_type": "code",
   "execution_count": 74,
   "id": "700583d8",
   "metadata": {},
   "outputs": [],
   "source": [
    "import os\n",
    "import numpy as np\n",
    "import pandas as pd\n",
    "import networkx as nx\n",
    "import json"
   ]
  },
  {
   "cell_type": "code",
   "execution_count": 75,
   "id": "79e8b93f",
   "metadata": {},
   "outputs": [],
   "source": [
    "POPULATION_INP_ROOT = '/u/ayushc/projects/GradABM/MacroEcon/simulator_data/census_populations/NYC/user_input/'"
   ]
  },
  {
   "cell_type": "code",
   "execution_count": 76,
   "id": "dd5830cd",
   "metadata": {},
   "outputs": [],
   "source": [
    "pop_data_file = os.path.join(POPULATION_INP_ROOT, 'NYC_POP.pkl')"
   ]
  },
  {
   "cell_type": "code",
   "execution_count": 77,
   "id": "8bae1a13",
   "metadata": {},
   "outputs": [],
   "source": [
    "from census_loader import CensusDataLoader"
   ]
  },
  {
   "cell_type": "code",
   "execution_count": 5,
   "id": "529848ef",
   "metadata": {},
   "outputs": [],
   "source": [
    "pop_data_df = pd.read_pickle(pop_data_file)\n",
    "area_selector = pop_data_df['age_gender']['area'][:1]\n",
    "geo_mapping = None"
   ]
  },
  {
   "cell_type": "code",
   "execution_count": 6,
   "id": "bd7e3a39",
   "metadata": {},
   "outputs": [],
   "source": [
    "loader = CensusDataLoader(n_cpu=8, use_parallel=False, area_list=area_selector, geo_mapping=geo_mapping)"
   ]
  },
  {
   "cell_type": "code",
   "execution_count": null,
   "id": "8f7fba1a",
   "metadata": {},
   "outputs": [],
   "source": [
    "POPULATION_OUT_ROOT = '/u/ayushc/projects/GradABM/MacroEcon/simulator_data/census_populations/NYC/{}_synthetic_populations/'.format(area_selector)\n"
   ]
  },
  {
   "cell_type": "markdown",
   "id": "0a4bac68",
   "metadata": {},
   "source": [
    "# Create Synthetic Agent Population"
   ]
  },
  {
   "cell_type": "code",
   "execution_count": 7,
   "id": "8290535b",
   "metadata": {},
   "outputs": [
    {
     "name": "stderr",
     "output_type": "stream",
     "text": [
      "INFO:process.base_pop:Processing: 0/1\n",
      "/u/ayushc/projects/GradABM/MacroEcon/simulator_data/step2/process/base_pop.py:57: SettingWithCopyWarning: \n",
      "A value is trying to be set on a copy of a slice from a DataFrame.\n",
      "Try using .loc[row_indexer,col_indexer] = value instead\n",
      "\n",
      "See the caveats in the documentation: https://pandas.pydata.org/pandas-docs/stable/user_guide/indexing.html#returning-a-view-versus-a-copy\n",
      "  ethnicity_data['probability'] = ethnicity_data.apply(lambda row: row['count'] / total_population[row['area']], axis=1)\n",
      "/u/ayushc/projects/GradABM/MacroEcon/simulator_data/step2/process/base_pop.py:57: SettingWithCopyWarning: \n",
      "A value is trying to be set on a copy of a slice from a DataFrame.\n",
      "Try using .loc[row_indexer,col_indexer] = value instead\n",
      "\n",
      "See the caveats in the documentation: https://pandas.pydata.org/pandas-docs/stable/user_guide/indexing.html#returning-a-view-versus-a-copy\n",
      "  ethnicity_data['probability'] = ethnicity_data.apply(lambda row: row['count'] / total_population[row['area']], axis=1)\n",
      "/u/ayushc/projects/GradABM/MacroEcon/simulator_data/step2/process/base_pop.py:57: SettingWithCopyWarning: \n",
      "A value is trying to be set on a copy of a slice from a DataFrame.\n",
      "Try using .loc[row_indexer,col_indexer] = value instead\n",
      "\n",
      "See the caveats in the documentation: https://pandas.pydata.org/pandas-docs/stable/user_guide/indexing.html#returning-a-view-versus-a-copy\n",
      "  ethnicity_data['probability'] = ethnicity_data.apply(lambda row: row['count'] / total_population[row['area']], axis=1)\n",
      "/u/ayushc/projects/GradABM/MacroEcon/simulator_data/step2/process/base_pop.py:57: SettingWithCopyWarning: \n",
      "A value is trying to be set on a copy of a slice from a DataFrame.\n",
      "Try using .loc[row_indexer,col_indexer] = value instead\n",
      "\n",
      "See the caveats in the documentation: https://pandas.pydata.org/pandas-docs/stable/user_guide/indexing.html#returning-a-view-versus-a-copy\n",
      "  ethnicity_data['probability'] = ethnicity_data.apply(lambda row: row['count'] / total_population[row['area']], axis=1)\n",
      "/u/ayushc/projects/GradABM/MacroEcon/simulator_data/step2/process/base_pop.py:57: SettingWithCopyWarning: \n",
      "A value is trying to be set on a copy of a slice from a DataFrame.\n",
      "Try using .loc[row_indexer,col_indexer] = value instead\n",
      "\n",
      "See the caveats in the documentation: https://pandas.pydata.org/pandas-docs/stable/user_guide/indexing.html#returning-a-view-versus-a-copy\n",
      "  ethnicity_data['probability'] = ethnicity_data.apply(lambda row: row['count'] / total_population[row['area']], axis=1)\n",
      "/u/ayushc/projects/GradABM/MacroEcon/simulator_data/step2/process/base_pop.py:57: SettingWithCopyWarning: \n",
      "A value is trying to be set on a copy of a slice from a DataFrame.\n",
      "Try using .loc[row_indexer,col_indexer] = value instead\n",
      "\n",
      "See the caveats in the documentation: https://pandas.pydata.org/pandas-docs/stable/user_guide/indexing.html#returning-a-view-versus-a-copy\n",
      "  ethnicity_data['probability'] = ethnicity_data.apply(lambda row: row['count'] / total_population[row['area']], axis=1)\n",
      "INFO:process.base_pop:Processing time (base population): 0.00313515\n"
     ]
    }
   ],
   "source": [
    "save_population_data_path = os.path.join(POPULATION_OUT_ROOT, 'population_data.pkl')\n",
    "loader.generate_basepop(input_data=pop_data_df, save_path=save_population_data_path)"
   ]
  },
  {
   "cell_type": "code",
   "execution_count": 8,
   "id": "d311a953",
   "metadata": {},
   "outputs": [
    {
     "data": {
      "text/html": [
       "<div>\n",
       "<style scoped>\n",
       "    .dataframe tbody tr th:only-of-type {\n",
       "        vertical-align: middle;\n",
       "    }\n",
       "\n",
       "    .dataframe tbody tr th {\n",
       "        vertical-align: top;\n",
       "    }\n",
       "\n",
       "    .dataframe thead th {\n",
       "        text-align: right;\n",
       "    }\n",
       "</style>\n",
       "<table border=\"1\" class=\"dataframe\">\n",
       "  <thead>\n",
       "    <tr style=\"text-align: right;\">\n",
       "      <th></th>\n",
       "      <th>area</th>\n",
       "      <th>age</th>\n",
       "      <th>gender</th>\n",
       "      <th>ethnicity</th>\n",
       "    </tr>\n",
       "  </thead>\n",
       "  <tbody>\n",
       "    <tr>\n",
       "      <th>0</th>\n",
       "      <td>BK0101</td>\n",
       "      <td>20t29</td>\n",
       "      <td>male</td>\n",
       "      <td>white</td>\n",
       "    </tr>\n",
       "    <tr>\n",
       "      <th>1</th>\n",
       "      <td>BK0101</td>\n",
       "      <td>20t29</td>\n",
       "      <td>female</td>\n",
       "      <td>white</td>\n",
       "    </tr>\n",
       "    <tr>\n",
       "      <th>2</th>\n",
       "      <td>BK0101</td>\n",
       "      <td>20t29</td>\n",
       "      <td>female</td>\n",
       "      <td>white</td>\n",
       "    </tr>\n",
       "    <tr>\n",
       "      <th>3</th>\n",
       "      <td>BK0101</td>\n",
       "      <td>20t29</td>\n",
       "      <td>male</td>\n",
       "      <td>hispanic</td>\n",
       "    </tr>\n",
       "    <tr>\n",
       "      <th>4</th>\n",
       "      <td>BK0101</td>\n",
       "      <td>20t29</td>\n",
       "      <td>female</td>\n",
       "      <td>white</td>\n",
       "    </tr>\n",
       "  </tbody>\n",
       "</table>\n",
       "</div>"
      ],
      "text/plain": [
       "     area    age  gender ethnicity\n",
       "0  BK0101  20t29    male     white\n",
       "1  BK0101  20t29  female     white\n",
       "2  BK0101  20t29  female     white\n",
       "3  BK0101  20t29    male  hispanic\n",
       "4  BK0101  20t29  female     white"
      ]
     },
     "execution_count": 8,
     "metadata": {},
     "output_type": "execute_result"
    }
   ],
   "source": [
    "loader.population_df.head()"
   ]
  },
  {
   "cell_type": "code",
   "execution_count": 9,
   "id": "eb7ee130",
   "metadata": {},
   "outputs": [
    {
     "data": {
      "text/plain": [
       "(37518, 4)"
      ]
     },
     "execution_count": 9,
     "metadata": {},
     "output_type": "execute_result"
    }
   ],
   "source": [
    "loader.population_df.shape"
   ]
  },
  {
   "cell_type": "code",
   "execution_count": 10,
   "id": "116c9229",
   "metadata": {},
   "outputs": [
    {
     "data": {
      "text/plain": [
       "array(['BK0101'], dtype=object)"
      ]
     },
     "execution_count": 10,
     "metadata": {},
     "output_type": "execute_result"
    }
   ],
   "source": [
    "loader.population_df['area'].unique()"
   ]
  },
  {
   "cell_type": "markdown",
   "id": "0f9b12c3",
   "metadata": {},
   "source": [
    "## Create Synthetic Mobility Networks"
   ]
  },
  {
   "cell_type": "code",
   "execution_count": 11,
   "id": "e643fbed",
   "metadata": {},
   "outputs": [
    {
     "name": "stdout",
     "output_type": "stream",
     "text": [
      "True\n",
      "Mobility Network Dir:  /u/ayushc/projects/GradABM/MacroEcon/simulator_data/census_populations/NYC/synthetic_populations/mobility_networks/\n"
     ]
    }
   ],
   "source": [
    "num_steps = 2\n",
    "mobility_mapping_path = os.path.join(POPULATION_INP_ROOT, 'mobility_mapping.json')\n",
    "\n",
    "print(os.path.exists(mobility_mapping_path))\n",
    "\n",
    "with open(mobility_mapping_path) as file:\n",
    "    mobility_mapping = json.load(file)\n",
    "    \n",
    "save_mobility_network_dir = os.path.join(POPULATION_OUT_ROOT, 'mobility_networks/')\n",
    "print(\"Mobility Network Dir: \", save_mobility_network_dir)\n",
    "    \n",
    "loader.generate_mobility_networks(num_steps, mobility_mapping, save_mobility_network_dir)"
   ]
  },
  {
   "cell_type": "markdown",
   "id": "6d6e3c05",
   "metadata": {},
   "source": [
    "## Generate Household Population"
   ]
  },
  {
   "cell_type": "code",
   "execution_count": null,
   "id": "d54b9033",
   "metadata": {},
   "outputs": [],
   "source": [
    "household_data_path = '../../housing_v2.pkl'\n",
    "household_data = np.load(household_data_path, allow_pickle=True)\n",
    "household_mapping = {'adult_list': ['20t29','30t39', '40t49', '50t64', '65A'], 'children_list': ['U19']}"
   ]
  },
  {
   "cell_type": "code",
   "execution_count": null,
   "id": "dc4b3442",
   "metadata": {},
   "outputs": [],
   "source": [
    "save_household_path = os.path.join(SAVE_ROOT, 'base_household.pkl')\n",
    "\n",
    "loader.generate_household(household_data, household_mapping, save_path=save_household_path)"
   ]
  },
  {
   "cell_type": "markdown",
   "id": "ac502ce1",
   "metadata": {},
   "source": [
    "## Generate demographic data files"
   ]
  },
  {
   "cell_type": "code",
   "execution_count": null,
   "id": "7260a3f8",
   "metadata": {},
   "outputs": [],
   "source": [
    "def preprocess_data(df_path, output_dir):\n",
    "    df = pd.read_pickle(df_path)\n",
    "    attributes = df.keys()\n",
    "    mapping_collection = {}\n",
    "    for attribute in attributes:\n",
    "        df[attribute],mapping = pd.factorize(df[attribute])\n",
    "        output_att_path = os.path.join(output_dir, attribute)\n",
    "        df[attribute].to_pickle(f'{output_att_path}.pickle')\n",
    "        mapping_collection[attribute] = mapping.tolist()\n",
    "    output_mapping_path = os.path.join(output_dir, 'population_mapping.json')\n",
    "    \n",
    "    print(\"output mapping path: \", output_mapping_path)\n",
    "    \n",
    "    with open(output_mapping_path, 'w') as f:\n",
    "        json.dump(mapping_collection, f)    "
   ]
  },
  {
   "cell_type": "code",
   "execution_count": 12,
   "id": "b0967a07",
   "metadata": {},
   "outputs": [],
   "source": [
    "# df_path = os.path.join(POPULATION_OUT_ROOT, 'population_data.pkl')\n",
    "output_dir = '/u/ayushc/projects/GradABM/MacroEcon/simulator_data/census_populations/NYC/simulation_input2/'"
   ]
  },
  {
   "cell_type": "code",
   "execution_count": null,
   "id": "d1ad0066",
   "metadata": {},
   "outputs": [],
   "source": [
    "if not os.path.exists(output_dir):\n",
    "    os.makedirs(output_dir)\n",
    "    \n",
    "preprocess_data(df_path, output_dir)"
   ]
  },
  {
   "cell_type": "code",
   "execution_count": 13,
   "id": "d05a0047",
   "metadata": {},
   "outputs": [],
   "source": [
    "loader.export(output_dir)"
   ]
  },
  {
   "cell_type": "code",
   "execution_count": null,
   "id": "944ef278",
   "metadata": {},
   "outputs": [],
   "source": []
  }
 ],
 "metadata": {
  "kernelspec": {
   "display_name": "Python 3 (ipykernel)",
   "language": "python",
   "name": "python3"
  },
  "language_info": {
   "codemirror_mode": {
    "name": "ipython",
    "version": 3
   },
   "file_extension": ".py",
   "mimetype": "text/x-python",
   "name": "python",
   "nbconvert_exporter": "python",
   "pygments_lexer": "ipython3",
   "version": "3.8.10"
  }
 },
 "nbformat": 4,
 "nbformat_minor": 5
}
