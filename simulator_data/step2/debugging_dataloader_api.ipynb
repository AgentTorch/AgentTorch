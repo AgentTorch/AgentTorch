{
 "cells": [
  {
   "cell_type": "code",
   "execution_count": 1,
   "id": "700583d8",
   "metadata": {},
   "outputs": [],
   "source": [
    "import os\n",
    "import numpy as np\n",
    "import pandas as pd\n",
    "import networkx as nx\n",
    "import random\n",
    "import json"
   ]
  },
  {
   "cell_type": "code",
   "execution_count": 2,
   "id": "8bfc9011",
   "metadata": {},
   "outputs": [],
   "source": [
    "MACRO_ECON_PATH = '/u/ayushc/projects/GradABM/MacroEcon'\n",
    "STEP2_INPUT_POP_PATH = '/u/ayushc/projects/GradABM/MacroEcon/simulator_data/NYC/output_pop_data/NYC_POP.pkl'\n",
    "STEP2_SAVE_ROOT = '/u/ayushc/projects/GradABM/MacroEcon/tmp/'"
   ]
  },
  {
   "cell_type": "code",
   "execution_count": 3,
   "id": "8bae1a13",
   "metadata": {},
   "outputs": [
    {
     "name": "stderr",
     "output_type": "stream",
     "text": [
      "/u/ayushc/agent_torch_env/lib/python3.8/site-packages/tqdm/auto.py:21: TqdmWarning: IProgress not found. Please update jupyter and ipywidgets. See https://ipywidgets.readthedocs.io/en/stable/user_install.html\n",
      "  from .autonotebook import tqdm as notebook_tqdm\n",
      "2024-03-27 02:55:51,893\tINFO util.py:154 -- Missing packages: ['ipywidgets']. Run `pip install -U ipywidgets`, then restart the notebook server for rich notebook output.\n"
     ]
    }
   ],
   "source": [
    "from census_loader import CensusDataLoader\n",
    "# import sys\n",
    "# sys.path.append(MACRO_ECON_PATH)"
   ]
  },
  {
   "cell_type": "code",
   "execution_count": 4,
   "id": "529848ef",
   "metadata": {},
   "outputs": [
    {
     "name": "stdout",
     "output_type": "stream",
     "text": [
      "0    BK0101\n",
      "1    BK0101\n",
      "2    BK0102\n",
      "3    BK0102\n",
      "4    BK0103\n",
      "5    BK0103\n",
      "6    BK0104\n",
      "7    BK0104\n",
      "8    BK0201\n",
      "9    BK0201\n",
      "Name: area, dtype: object\n"
     ]
    }
   ],
   "source": [
    "pop_data_df = pd.read_pickle(STEP2_INPUT_POP_PATH)\n",
    "\n",
    "print(pop_data_df['age_gender']['area'][:10])"
   ]
  },
  {
   "cell_type": "code",
   "execution_count": 5,
   "id": "bd7e3a39",
   "metadata": {},
   "outputs": [
    {
     "name": "stdout",
     "output_type": "stream",
     "text": [
      "0    BK0101\n",
      "Name: area, dtype: object\n"
     ]
    }
   ],
   "source": [
    "area_selector = pop_data_df['age_gender']['area'][:1]\n",
    "print(area_selector)\n",
    "geo_mapping = None\n",
    "\n",
    "loader = CensusDataLoader(n_cpu=8, use_parallel=False, area_list=area_selector, geo_mapping=geo_mapping)"
   ]
  },
  {
   "cell_type": "code",
   "execution_count": 6,
   "id": "68f52625",
   "metadata": {},
   "outputs": [],
   "source": [
    "if not os.path.exists(STEP2_SAVE_ROOT):\n",
    "    os.makedirs(STEP2_SAVE_ROOT)"
   ]
  },
  {
   "cell_type": "markdown",
   "id": "0a4bac68",
   "metadata": {},
   "source": [
    "# Create Synthetic Agent Population"
   ]
  },
  {
   "cell_type": "code",
   "execution_count": 7,
   "id": "8290535b",
   "metadata": {},
   "outputs": [
    {
     "name": "stderr",
     "output_type": "stream",
     "text": [
      "INFO:process.base_pop:Processing: 0/1\n",
      "/u/ayushc/projects/GradABM/MacroEcon/simulator_data/step2/process/base_pop.py:55: SettingWithCopyWarning: \n",
      "A value is trying to be set on a copy of a slice from a DataFrame.\n",
      "Try using .loc[row_indexer,col_indexer] = value instead\n",
      "\n",
      "See the caveats in the documentation: https://pandas.pydata.org/pandas-docs/stable/user_guide/indexing.html#returning-a-view-versus-a-copy\n",
      "  ethnicity_data['probability'] = ethnicity_data.apply(lambda row: row['count'] / total_population[row['area']], axis=1)\n",
      "/u/ayushc/projects/GradABM/MacroEcon/simulator_data/step2/process/base_pop.py:55: SettingWithCopyWarning: \n",
      "A value is trying to be set on a copy of a slice from a DataFrame.\n",
      "Try using .loc[row_indexer,col_indexer] = value instead\n",
      "\n",
      "See the caveats in the documentation: https://pandas.pydata.org/pandas-docs/stable/user_guide/indexing.html#returning-a-view-versus-a-copy\n",
      "  ethnicity_data['probability'] = ethnicity_data.apply(lambda row: row['count'] / total_population[row['area']], axis=1)\n",
      "/u/ayushc/projects/GradABM/MacroEcon/simulator_data/step2/process/base_pop.py:55: SettingWithCopyWarning: \n",
      "A value is trying to be set on a copy of a slice from a DataFrame.\n",
      "Try using .loc[row_indexer,col_indexer] = value instead\n",
      "\n",
      "See the caveats in the documentation: https://pandas.pydata.org/pandas-docs/stable/user_guide/indexing.html#returning-a-view-versus-a-copy\n",
      "  ethnicity_data['probability'] = ethnicity_data.apply(lambda row: row['count'] / total_population[row['area']], axis=1)\n",
      "/u/ayushc/projects/GradABM/MacroEcon/simulator_data/step2/process/base_pop.py:55: SettingWithCopyWarning: \n",
      "A value is trying to be set on a copy of a slice from a DataFrame.\n",
      "Try using .loc[row_indexer,col_indexer] = value instead\n",
      "\n",
      "See the caveats in the documentation: https://pandas.pydata.org/pandas-docs/stable/user_guide/indexing.html#returning-a-view-versus-a-copy\n",
      "  ethnicity_data['probability'] = ethnicity_data.apply(lambda row: row['count'] / total_population[row['area']], axis=1)\n",
      "/u/ayushc/projects/GradABM/MacroEcon/simulator_data/step2/process/base_pop.py:55: SettingWithCopyWarning: \n",
      "A value is trying to be set on a copy of a slice from a DataFrame.\n",
      "Try using .loc[row_indexer,col_indexer] = value instead\n",
      "\n",
      "See the caveats in the documentation: https://pandas.pydata.org/pandas-docs/stable/user_guide/indexing.html#returning-a-view-versus-a-copy\n",
      "  ethnicity_data['probability'] = ethnicity_data.apply(lambda row: row['count'] / total_population[row['area']], axis=1)\n",
      "/u/ayushc/projects/GradABM/MacroEcon/simulator_data/step2/process/base_pop.py:55: SettingWithCopyWarning: \n",
      "A value is trying to be set on a copy of a slice from a DataFrame.\n",
      "Try using .loc[row_indexer,col_indexer] = value instead\n",
      "\n",
      "See the caveats in the documentation: https://pandas.pydata.org/pandas-docs/stable/user_guide/indexing.html#returning-a-view-versus-a-copy\n",
      "  ethnicity_data['probability'] = ethnicity_data.apply(lambda row: row['count'] / total_population[row['area']], axis=1)\n",
      "INFO:process.base_pop:Processing time (base population): 0.003914383333333333\n"
     ]
    }
   ],
   "source": [
    "save_population_data_path = os.path.join(STEP2_SAVE_ROOT, 'population_data.pkl')\n",
    "loader.generate_basepop(input_data=pop_data_df, save_path=save_population_data_path)"
   ]
  },
  {
   "cell_type": "code",
   "execution_count": 8,
   "id": "d311a953",
   "metadata": {},
   "outputs": [
    {
     "data": {
      "text/html": [
       "<div>\n",
       "<style scoped>\n",
       "    .dataframe tbody tr th:only-of-type {\n",
       "        vertical-align: middle;\n",
       "    }\n",
       "\n",
       "    .dataframe tbody tr th {\n",
       "        vertical-align: top;\n",
       "    }\n",
       "\n",
       "    .dataframe thead th {\n",
       "        text-align: right;\n",
       "    }\n",
       "</style>\n",
       "<table border=\"1\" class=\"dataframe\">\n",
       "  <thead>\n",
       "    <tr style=\"text-align: right;\">\n",
       "      <th></th>\n",
       "      <th>area</th>\n",
       "      <th>age</th>\n",
       "      <th>gender</th>\n",
       "      <th>ethnicity</th>\n",
       "    </tr>\n",
       "  </thead>\n",
       "  <tbody>\n",
       "    <tr>\n",
       "      <th>0</th>\n",
       "      <td>BK0101</td>\n",
       "      <td>20t29</td>\n",
       "      <td>female</td>\n",
       "      <td>white</td>\n",
       "    </tr>\n",
       "    <tr>\n",
       "      <th>1</th>\n",
       "      <td>BK0101</td>\n",
       "      <td>20t29</td>\n",
       "      <td>female</td>\n",
       "      <td>white</td>\n",
       "    </tr>\n",
       "    <tr>\n",
       "      <th>2</th>\n",
       "      <td>BK0101</td>\n",
       "      <td>20t29</td>\n",
       "      <td>male</td>\n",
       "      <td>white</td>\n",
       "    </tr>\n",
       "    <tr>\n",
       "      <th>3</th>\n",
       "      <td>BK0101</td>\n",
       "      <td>20t29</td>\n",
       "      <td>female</td>\n",
       "      <td>white</td>\n",
       "    </tr>\n",
       "    <tr>\n",
       "      <th>4</th>\n",
       "      <td>BK0101</td>\n",
       "      <td>20t29</td>\n",
       "      <td>female</td>\n",
       "      <td>white</td>\n",
       "    </tr>\n",
       "  </tbody>\n",
       "</table>\n",
       "</div>"
      ],
      "text/plain": [
       "     area    age  gender ethnicity\n",
       "0  BK0101  20t29  female     white\n",
       "1  BK0101  20t29  female     white\n",
       "2  BK0101  20t29    male     white\n",
       "3  BK0101  20t29  female     white\n",
       "4  BK0101  20t29  female     white"
      ]
     },
     "execution_count": 8,
     "metadata": {},
     "output_type": "execute_result"
    }
   ],
   "source": [
    "loader.population_df.head()"
   ]
  },
  {
   "cell_type": "code",
   "execution_count": 9,
   "id": "eb7ee130",
   "metadata": {},
   "outputs": [
    {
     "data": {
      "text/plain": [
       "(37518, 4)"
      ]
     },
     "execution_count": 9,
     "metadata": {},
     "output_type": "execute_result"
    }
   ],
   "source": [
    "loader.population_df.shape"
   ]
  },
  {
   "cell_type": "code",
   "execution_count": 10,
   "id": "116c9229",
   "metadata": {},
   "outputs": [
    {
     "data": {
      "text/plain": [
       "array(['BK0101'], dtype=object)"
      ]
     },
     "execution_count": 10,
     "metadata": {},
     "output_type": "execute_result"
    }
   ],
   "source": [
    "loader.population_df['area'].unique()"
   ]
  },
  {
   "cell_type": "markdown",
   "id": "0f9b12c3",
   "metadata": {},
   "source": [
    "## Create Synthetic Mobility Networks"
   ]
  },
  {
   "cell_type": "code",
   "execution_count": 11,
   "id": "e643fbed",
   "metadata": {},
   "outputs": [],
   "source": [
    "num_steps = 2\n",
    "mobility_mapping_path = './mobility_mapping.json'\n",
    "\n",
    "with open(mobility_mapping_path) as file:\n",
    "    # Load the JSON data from the file\n",
    "    mobility_mapping = json.load(file)\n",
    "    \n",
    "save_mobility_network_dir = os.path.join(STEP2_SAVE_ROOT, 'mobility_networks')\n",
    "    \n",
    "loader.generate_mobility_networks(num_steps, mobility_mapping, save_mobility_network_dir)"
   ]
  },
  {
   "cell_type": "code",
   "execution_count": null,
   "id": "b345e5be",
   "metadata": {},
   "outputs": [],
   "source": []
  },
  {
   "cell_type": "code",
   "execution_count": null,
   "id": "8af27eac",
   "metadata": {},
   "outputs": [],
   "source": []
  },
  {
   "cell_type": "code",
   "execution_count": null,
   "id": "038f6287",
   "metadata": {},
   "outputs": [],
   "source": []
  },
  {
   "cell_type": "markdown",
   "id": "4fe0e7f9",
   "metadata": {},
   "source": [
    "## Testing Mobility Networks"
   ]
  },
  {
   "cell_type": "code",
   "execution_count": null,
   "id": "0f608199",
   "metadata": {},
   "outputs": [],
   "source": [
    "num_agents = loader.population_df.shape[0]\n",
    "agents_ages = list(loader.population_df['age'].unique())\n",
    "\n",
    "num_steps = 30\n",
    "network_save_path = './mobility_networks_dir'\n",
    "if not os.path.exists(network_save_path):\n",
    "    os.makedirs(network_save_path)\n",
    "    \n",
    "agents_ages\n"
   ]
  },
  {
   "cell_type": "code",
   "execution_count": null,
   "id": "366abf69",
   "metadata": {},
   "outputs": [],
   "source": [
    "age_df = loader.population_df['age']\n",
    "age_df.shape"
   ]
  },
  {
   "cell_type": "code",
   "execution_count": null,
   "id": "dd472bc3",
   "metadata": {},
   "outputs": [],
   "source": [
    "mobility_df = pd.read_csv('random_network.csv', index_col=0)\n",
    "\n",
    "mobility_map = {\n",
    "        a: {'mu': mobility_df.loc[a, 'mu'], 'sigma': mobility_df.loc[a, 'mu']}\n",
    "        for a in mobility_df.index.to_list()\n",
    "    }"
   ]
  },
  {
   "cell_type": "code",
   "execution_count": null,
   "id": "2fa60920",
   "metadata": {},
   "outputs": [],
   "source": [
    "mobility_map"
   ]
  },
  {
   "cell_type": "code",
   "execution_count": null,
   "id": "a9c0026f",
   "metadata": {},
   "outputs": [],
   "source": [
    "agent_interactions = [get_agent_interactions(age_mapping_dict[age], mobility_map) for age in age_df]"
   ]
  },
  {
   "cell_type": "code",
   "execution_count": null,
   "id": "c8a4db93",
   "metadata": {},
   "outputs": [],
   "source": [
    "agent_interactions[:10]"
   ]
  },
  {
   "cell_type": "code",
   "execution_count": null,
   "id": "9e246908",
   "metadata": {},
   "outputs": [],
   "source": [
    "def get_agent_interactions(age, mobility_map):\n",
    "    mean, sd = mobility_map[age]['mu'], mobility_map[age]['sigma']\n",
    "    \n",
    "    p = mean / (sd*sd)\n",
    "    n = mean * mean / (sd * sd - mean)\n",
    "    num_interactions = nbinom.rvs(n, p)\n",
    "    \n",
    "    return num_interactions"
   ]
  },
  {
   "cell_type": "code",
   "execution_count": null,
   "id": "018a7a6b",
   "metadata": {},
   "outputs": [],
   "source": [
    "def create_random_networks(age_df, num_steps, mobility_map, age_mapping_dict, save_path=None):\n",
    "    num_agents = age_df.shape[0]\n",
    "    \n",
    "    agents_random_interactions = [get_agent_interactions(age_mapping_dict[age], mobility_map) for age in age_df]\n",
    "    \n",
    "    interactions_list = []\n",
    "    mobility_network_paths = []\n",
    "    \n",
    "    for t in range(num_steps):\n",
    "        for agent_id in range(num_agents):\n",
    "            interactions_list.extend([agent_id]*agents_random_interactions[agent_id])\n",
    "        random.shuffle(interactions_list)\n",
    "        \n",
    "        edges_list = [(interactions_list[i], interactions_list[i+1]) for i in range(len(interactions_list)-1)]\n",
    "        G = nx.Graph()\n",
    "        G.add_edges_from(edges_list)\n",
    "        \n",
    "        if save_path is not None:\n",
    "            outfile = os.path.join(save_path, '{}.csv'.format(t))\n",
    "            nx.write_edgelist(G, outfile, delimiter = ',', data = False)\n",
    "            mobility_network_paths.append(outline)\n",
    "\n",
    "    return mobility_network_paths\n"
   ]
  },
  {
   "cell_type": "code",
   "execution_count": null,
   "id": "7c9298c6",
   "metadata": {},
   "outputs": [],
   "source": [
    "## Execution file for mobility_mapping\n",
    "\n",
    "age_df = loader.population_df['age']\n",
    "num_steps = 3\n",
    "\n",
    "mobility_df = pd.read_csv('random_network.csv', index_col=0)\n",
    "mobility_map = {\n",
    "        a: {'mu': mobility_df.loc[a, 'mu'], 'sigma': mobility_df.loc[a, 'mu']}\n",
    "        for a in mobility_df.index.to_list()\n",
    "    }\n",
    "\n",
    "age_mapping_dict = {'U19': 'CHILD', '20t29': 'ADULT', '30t39': 'ADULT', '40t49': 'ADULT', '50t64': 'ADULT', '65A': 'ELDERLY'}\n",
    "\n",
    "save_path = './mobility_networks_dir/'\n",
    "\n",
    "create_random_networks(age_df, num_steps, mobility_map, age_mapping_dict, save_path=save_path)"
   ]
  },
  {
   "cell_type": "code",
   "execution_count": null,
   "id": "85d5eb0f",
   "metadata": {},
   "outputs": [],
   "source": [
    "mobility_map"
   ]
  },
  {
   "cell_type": "code",
   "execution_count": null,
   "id": "2a03b5ba",
   "metadata": {},
   "outputs": [],
   "source": [
    "import json\n",
    "\n",
    "json_file_path = 'mobility_mapping.json'\n",
    "with open(json_file_path) as file:\n",
    "    # Load the JSON data from the file\n",
    "    data = json.load(file)"
   ]
  },
  {
   "cell_type": "code",
   "execution_count": null,
   "id": "16dd4766",
   "metadata": {},
   "outputs": [],
   "source": []
  },
  {
   "cell_type": "markdown",
   "id": "432cace5",
   "metadata": {},
   "source": [
    "## Generate demographic data files"
   ]
  },
  {
   "cell_type": "code",
   "execution_count": null,
   "id": "46f49f1e",
   "metadata": {},
   "outputs": [],
   "source": [
    "sys.path.append('/Users/shashankkumar/Documents/GitHub/MacroEcon/AgentTorch/AgentTorch')\n",
    "from utils import preprocess_data\n",
    "\n",
    "preprocess_data(df_path=\"/Users/shashankkumar/Documents/GitHub/MacroEcon/simulator_data/NYC/population_data.pkl\", output_dir=\"/Users/shashankkumar/Documents/GitHub/MacroEcon/simulator_data/NYC\")"
   ]
  },
  {
   "cell_type": "markdown",
   "id": "6d6e3c05",
   "metadata": {},
   "source": [
    "## Generate Household Population"
   ]
  },
  {
   "cell_type": "code",
   "execution_count": null,
   "id": "d54b9033",
   "metadata": {},
   "outputs": [],
   "source": [
    "household_data_path = '../../housing_v2.pkl'\n",
    "household_data = np.load(household_data_path, allow_pickle=True)\n",
    "household_mapping = {'adult_list': ['20t29','30t39', '40t49', '50t64', '65A'], 'children_list': ['U19']}"
   ]
  },
  {
   "cell_type": "code",
   "execution_count": null,
   "id": "dc4b3442",
   "metadata": {},
   "outputs": [],
   "source": [
    "geo_address_data =None # Geo address data from excel file if exists (long, lat). The location (for every entity) for each geographic area (NTA)\n",
    "save_household_path = os.path.join(SAVE_ROOT, 'base_household.pkl')\n",
    "\n",
    "loader.generate_household(household_data, household_mapping, save_path=save_household_path)"
   ]
  },
  {
   "cell_type": "code",
   "execution_count": null,
   "id": "98f976e0",
   "metadata": {},
   "outputs": [],
   "source": []
  }
 ],
 "metadata": {
  "kernelspec": {
   "display_name": "Python 3 (ipykernel)",
   "language": "python",
   "name": "python3"
  },
  "language_info": {
   "codemirror_mode": {
    "name": "ipython",
    "version": 3
   },
   "file_extension": ".py",
   "mimetype": "text/x-python",
   "name": "python",
   "nbconvert_exporter": "python",
   "pygments_lexer": "ipython3",
   "version": "3.8.10"
  }
 },
 "nbformat": 4,
 "nbformat_minor": 5
}
