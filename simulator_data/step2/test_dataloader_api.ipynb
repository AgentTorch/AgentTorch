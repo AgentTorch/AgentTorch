{
 "cells": [
  {
   "cell_type": "code",
   "execution_count": 1,
   "id": "700583d8",
   "metadata": {},
   "outputs": [],
   "source": [
    "import os\n",
    "import numpy as np\n",
    "import pandas as pd"
   ]
  },
  {
   "cell_type": "code",
   "execution_count": null,
   "id": "8bae1a13",
   "metadata": {},
   "outputs": [],
   "source": [
    "from census_loader import CensusDataLoader"
   ]
  },
  {
   "cell_type": "code",
   "execution_count": null,
   "id": "529848ef",
   "metadata": {},
   "outputs": [],
   "source": [
    "input_population_path = '\"/Users/shashankkumar/Documents/GitHub/MacroEcon/data/step1/NZ/output_pop_data/NZ_POP.pkl\"' # Dictionary created from excel files\n",
    "pop_data_df = pd.read_pickle(input_population_path)\n",
    "\n",
    "print(list(pop_data_df['valid_ntas'].keys())[:10])"
   ]
  },
  {
   "cell_type": "code",
   "execution_count": null,
   "id": "bd7e3a39",
   "metadata": {},
   "outputs": [],
   "source": [
    "area_selector = list(pop_data_df['valid_ntas'].keys())[:1]\n",
    "print(area_selector)\n",
    "geo_mapping = None\n",
    "\n",
    "loader = CensusDataLoader(n_cpu=8, use_parallel=False, area_list=area_selector, geo_mapping=geo_mapping)"
   ]
  },
  {
   "cell_type": "code",
   "execution_count": null,
   "id": "68f52625",
   "metadata": {},
   "outputs": [],
   "source": [
    "SAVE_ROOT = './tmp_data/'\n",
    "if not os.path.exists(SAVE_ROOT):\n",
    "    os.makedirs(SAVE_ROOT)"
   ]
  },
  {
   "cell_type": "markdown",
   "id": "0a4bac68",
   "metadata": {},
   "source": [
    "# Create Synthetic Agent Population"
   ]
  },
  {
   "cell_type": "code",
   "execution_count": null,
   "id": "8290535b",
   "metadata": {},
   "outputs": [],
   "source": [
    "save_population_data_path = os.path.join(SAVE_ROOT, 'population_data.pkl')\n",
    "loader.generate_basepop(input_data=pop_data_df, save_path=save_population_data_path)"
   ]
  },
  {
   "cell_type": "code",
   "execution_count": null,
   "id": "d311a953",
   "metadata": {},
   "outputs": [],
   "source": [
    "loader.population_df.head()"
   ]
  },
  {
   "cell_type": "markdown",
   "id": "6d6e3c05",
   "metadata": {},
   "source": [
    "## Generate Household Population"
   ]
  },
  {
   "cell_type": "code",
   "execution_count": null,
   "id": "d54b9033",
   "metadata": {},
   "outputs": [],
   "source": [
    "household_data_path = '../../housing_v2.pkl'\n",
    "household_data = np.load(household_data_path, allow_pickle=True)\n",
    "household_mapping = {'adult_list': ['20t29','30t39', '40t49', '50t64', '65A'], 'children_list': ['U19']}"
   ]
  },
  {
   "cell_type": "code",
   "execution_count": null,
   "id": "dc4b3442",
   "metadata": {},
   "outputs": [],
   "source": [
    "geo_address_data =None # Geo address data from excel file if exists (long, lat). The location (for every entity) for each geographic area (NTA)\n",
    "save_household_path = os.path.join(SAVE_ROOT, 'base_household.pkl')\n",
    "\n",
    "loader.generate_household(household_data, household_mapping, save_path=save_household_path)"
   ]
  },
  {
   "cell_type": "code",
   "execution_count": null,
   "id": "98f976e0",
   "metadata": {},
   "outputs": [],
   "source": []
  }
 ],
 "metadata": {
  "kernelspec": {
   "display_name": "Python 3 (ipykernel)",
   "language": "python",
   "name": "python3"
  },
  "language_info": {
   "codemirror_mode": {
    "name": "ipython",
    "version": 3
   },
   "file_extension": ".py",
   "mimetype": "text/x-python",
   "name": "python",
   "nbconvert_exporter": "python",
   "pygments_lexer": "ipython3",
   "version": "3.10.13"
  }
 },
 "nbformat": 4,
 "nbformat_minor": 5
}
