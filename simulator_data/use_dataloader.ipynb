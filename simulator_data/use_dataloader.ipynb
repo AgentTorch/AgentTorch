{
 "cells": [
  {
   "cell_type": "code",
   "execution_count": 1,
   "id": "700583d8",
   "metadata": {},
   "outputs": [],
   "source": [
    "import os\n",
    "import numpy as np\n",
    "import pandas as pd\n",
    "import networkx as nx\n",
    "import json"
   ]
  },
  {
   "cell_type": "code",
   "execution_count": 2,
   "id": "79e8b93f",
   "metadata": {},
   "outputs": [],
   "source": [
    "POPULATION_INP_ROOT = '/u/ayushc/projects/GradABM/MacroEcon/simulator_data/census_populations/NYC/user_input/'"
   ]
  },
  {
   "cell_type": "code",
   "execution_count": 3,
   "id": "dd5830cd",
   "metadata": {},
   "outputs": [],
   "source": [
    "pop_data_file = os.path.join(POPULATION_INP_ROOT, 'NYC_POP.pkl')"
   ]
  },
  {
   "cell_type": "code",
   "execution_count": 4,
   "id": "8bae1a13",
   "metadata": {},
   "outputs": [
    {
     "name": "stderr",
     "output_type": "stream",
     "text": [
      "/u/ayushc/agent_torch_env/lib/python3.8/site-packages/tqdm/auto.py:21: TqdmWarning: IProgress not found. Please update jupyter and ipywidgets. See https://ipywidgets.readthedocs.io/en/stable/user_install.html\n",
      "  from .autonotebook import tqdm as notebook_tqdm\n",
      "2024-04-17 15:59:50,182\tINFO util.py:154 -- Missing packages: ['ipywidgets']. Run `pip install -U ipywidgets`, then restart the notebook server for rich notebook output.\n"
     ]
    }
   ],
   "source": [
    "from census_loader import CensusDataLoader"
   ]
  },
  {
   "cell_type": "code",
   "execution_count": 5,
   "id": "529848ef",
   "metadata": {},
   "outputs": [],
   "source": [
    "pop_data_df = pd.read_pickle(pop_data_file)\n",
    "area_selector = pop_data_df['age_gender']['area'][:1]\n",
    "geo_mapping = None"
   ]
  },
  {
   "cell_type": "code",
   "execution_count": 6,
   "id": "8edb3202",
   "metadata": {},
   "outputs": [],
   "source": [
    "# df_age_gender_combined = pop_data_df['age_gender']\n",
    "# df = df_age_gender_combined[df_age_gender_combined['area']=='QN0103']\n",
    "# area_selector = df['area'][:1]\n",
    "# area_selector\n",
    "# area_selector = ['BK0101']"
   ]
  },
  {
   "cell_type": "code",
   "execution_count": 6,
   "id": "bd7e3a39",
   "metadata": {},
   "outputs": [],
   "source": [
    "loader = CensusDataLoader(n_cpu=8, use_parallel=False, area_list=area_selector, geo_mapping=geo_mapping)"
   ]
  },
  {
   "cell_type": "code",
   "execution_count": 7,
   "id": "b639fbfe",
   "metadata": {},
   "outputs": [],
   "source": [
    "POPULATION_OUT_ROOT = '/u/ayushc/projects/GradABM/MacroEcon/simulator_data/census_populations/NYC/{}_synthetic_populations/'.format(area_selector[0])\n",
    "\n",
    "if not os.path.isdir(POPULATION_OUT_ROOT):\n",
    "    os.makedirs(POPULATION_OUT_ROOT)"
   ]
  },
  {
   "attachments": {},
   "cell_type": "markdown",
   "id": "0a4bac68",
   "metadata": {},
   "source": [
    "# Create Synthetic Agent Population"
   ]
  },
  {
   "cell_type": "code",
   "execution_count": 8,
   "id": "8290535b",
   "metadata": {},
   "outputs": [
    {
     "name": "stderr",
     "output_type": "stream",
     "text": [
      "INFO:process.base_pop:Processing: 0/1\n"
     ]
    },
    {
     "name": "stderr",
     "output_type": "stream",
     "text": [
      "/u/ayushc/projects/GradABM/MacroEcon/simulator_data/process/base_pop.py:57: SettingWithCopyWarning: \n",
      "A value is trying to be set on a copy of a slice from a DataFrame.\n",
      "Try using .loc[row_indexer,col_indexer] = value instead\n",
      "\n",
      "See the caveats in the documentation: https://pandas.pydata.org/pandas-docs/stable/user_guide/indexing.html#returning-a-view-versus-a-copy\n",
      "  ethnicity_data['probability'] = ethnicity_data.apply(lambda row: row['count'] / total_population[row['area']], axis=1)\n",
      "/u/ayushc/projects/GradABM/MacroEcon/simulator_data/process/base_pop.py:57: SettingWithCopyWarning: \n",
      "A value is trying to be set on a copy of a slice from a DataFrame.\n",
      "Try using .loc[row_indexer,col_indexer] = value instead\n",
      "\n",
      "See the caveats in the documentation: https://pandas.pydata.org/pandas-docs/stable/user_guide/indexing.html#returning-a-view-versus-a-copy\n",
      "  ethnicity_data['probability'] = ethnicity_data.apply(lambda row: row['count'] / total_population[row['area']], axis=1)\n",
      "/u/ayushc/projects/GradABM/MacroEcon/simulator_data/process/base_pop.py:57: SettingWithCopyWarning: \n",
      "A value is trying to be set on a copy of a slice from a DataFrame.\n",
      "Try using .loc[row_indexer,col_indexer] = value instead\n",
      "\n",
      "See the caveats in the documentation: https://pandas.pydata.org/pandas-docs/stable/user_guide/indexing.html#returning-a-view-versus-a-copy\n",
      "  ethnicity_data['probability'] = ethnicity_data.apply(lambda row: row['count'] / total_population[row['area']], axis=1)\n",
      "/u/ayushc/projects/GradABM/MacroEcon/simulator_data/process/base_pop.py:57: SettingWithCopyWarning: \n",
      "A value is trying to be set on a copy of a slice from a DataFrame.\n",
      "Try using .loc[row_indexer,col_indexer] = value instead\n",
      "\n",
      "See the caveats in the documentation: https://pandas.pydata.org/pandas-docs/stable/user_guide/indexing.html#returning-a-view-versus-a-copy\n",
      "  ethnicity_data['probability'] = ethnicity_data.apply(lambda row: row['count'] / total_population[row['area']], axis=1)\n",
      "/u/ayushc/projects/GradABM/MacroEcon/simulator_data/process/base_pop.py:57: SettingWithCopyWarning: \n",
      "A value is trying to be set on a copy of a slice from a DataFrame.\n",
      "Try using .loc[row_indexer,col_indexer] = value instead\n",
      "\n",
      "See the caveats in the documentation: https://pandas.pydata.org/pandas-docs/stable/user_guide/indexing.html#returning-a-view-versus-a-copy\n",
      "  ethnicity_data['probability'] = ethnicity_data.apply(lambda row: row['count'] / total_population[row['area']], axis=1)\n",
      "/u/ayushc/projects/GradABM/MacroEcon/simulator_data/process/base_pop.py:57: SettingWithCopyWarning: \n",
      "A value is trying to be set on a copy of a slice from a DataFrame.\n",
      "Try using .loc[row_indexer,col_indexer] = value instead\n",
      "\n",
      "See the caveats in the documentation: https://pandas.pydata.org/pandas-docs/stable/user_guide/indexing.html#returning-a-view-versus-a-copy\n",
      "  ethnicity_data['probability'] = ethnicity_data.apply(lambda row: row['count'] / total_population[row['area']], axis=1)\n",
      "INFO:process.base_pop:Processing time (base population): 0.00350145\n"
     ]
    }
   ],
   "source": [
    "save_population_data_path = os.path.join(POPULATION_OUT_ROOT, 'population_data.pkl')\n",
    "loader.generate_basepop(input_data=pop_data_df, save_path=save_population_data_path)"
   ]
  },
  {
   "cell_type": "code",
   "execution_count": 9,
   "id": "d311a953",
   "metadata": {},
   "outputs": [
    {
     "data": {
      "text/plain": [
       "Index(['area', 'age', 'gender', 'ethnicity'], dtype='object')"
      ]
     },
     "execution_count": 9,
     "metadata": {},
     "output_type": "execute_result"
    }
   ],
   "source": [
    "loader.population_df.columns"
   ]
  },
  {
   "cell_type": "code",
   "execution_count": 10,
   "id": "116c9229",
   "metadata": {},
   "outputs": [
    {
     "data": {
      "text/plain": [
       "(37518,)"
      ]
     },
     "execution_count": 10,
     "metadata": {},
     "output_type": "execute_result"
    }
   ],
   "source": [
    "loader.population_df['area'].shape"
   ]
  },
  {
   "attachments": {},
   "cell_type": "markdown",
   "id": "0f9b12c3",
   "metadata": {},
   "source": [
    "## Create Synthetic Mobility Networks"
   ]
  },
  {
   "cell_type": "code",
   "execution_count": 11,
   "id": "e643fbed",
   "metadata": {},
   "outputs": [
    {
     "name": "stdout",
     "output_type": "stream",
     "text": [
      "True\n",
      "Mobility Network Dir:  /u/ayushc/projects/GradABM/MacroEcon/simulator_data/census_populations/NYC/BK0101_synthetic_populations/mobility_networks/\n"
     ]
    }
   ],
   "source": [
    "num_steps = 2\n",
    "mobility_mapping_path = os.path.join(POPULATION_INP_ROOT, 'mobility_mapping.json')\n",
    "\n",
    "print(os.path.exists(mobility_mapping_path))\n",
    "\n",
    "with open(mobility_mapping_path) as file:\n",
    "    mobility_mapping = json.load(file)\n",
    "    \n",
    "save_mobility_network_dir = os.path.join(POPULATION_OUT_ROOT, 'mobility_networks/')\n",
    "print(\"Mobility Network Dir: \", save_mobility_network_dir)\n",
    "    \n",
    "loader.generate_mobility_networks(num_steps, mobility_mapping, save_mobility_network_dir)"
   ]
  },
  {
   "attachments": {},
   "cell_type": "markdown",
   "id": "6d6e3c05",
   "metadata": {},
   "source": [
    "## Generate Household Population"
   ]
  },
  {
   "cell_type": "code",
   "execution_count": 13,
   "id": "d54b9033",
   "metadata": {},
   "outputs": [],
   "source": [
    "household_data_path = os.path.join(POPULATION_INP_ROOT, 'household.pkl')\n",
    "#'../../housing_v2.pkl'\n",
    "household_data = np.load(household_data_path, allow_pickle=True)\n",
    "household_mapping = {'adult_list': ['20t29','30t39', '40t49', '50t64', '65A'], 'children_list': ['U19']}"
   ]
  },
  {
   "cell_type": "code",
   "execution_count": 14,
   "id": "36db71f5",
   "metadata": {},
   "outputs": [
    {
     "data": {
      "text/plain": [
       "0      17487\n",
       "1      26955\n",
       "2      10613\n",
       "3      22665\n",
       "4      11857\n",
       "       ...  \n",
       "257        0\n",
       "258        9\n",
       "259        0\n",
       "260       66\n",
       "261        0\n",
       "Name: household_num, Length: 262, dtype: int64"
      ]
     },
     "execution_count": 14,
     "metadata": {},
     "output_type": "execute_result"
    }
   ],
   "source": [
    "household_data['household_num']"
   ]
  },
  {
   "cell_type": "code",
   "execution_count": 15,
   "id": "dc4b3442",
   "metadata": {},
   "outputs": [
    {
     "name": "stderr",
     "output_type": "stream",
     "text": [
      "INFO:process.household:0/1: Processing QN0103\n",
      "/u/ayushc/projects/GradABM/MacroEcon/simulator_data/process/household.py:377: SettingWithCopyWarning: \n",
      "A value is trying to be set on a copy of a slice from a DataFrame.\n",
      "Try using .loc[row_indexer,col_indexer] = value instead\n",
      "\n",
      "See the caveats in the documentation: https://pandas.pydata.org/pandas-docs/stable/user_guide/indexing.html#returning-a-view-versus-a-copy\n",
      "  proc_household_data[\"adult_num\"] = (\n",
      "/u/ayushc/projects/GradABM/MacroEcon/simulator_data/process/household.py:381: SettingWithCopyWarning: \n",
      "A value is trying to be set on a copy of a slice from a DataFrame.\n",
      "Try using .loc[row_indexer,col_indexer] = value instead\n",
      "\n",
      "See the caveats in the documentation: https://pandas.pydata.org/pandas-docs/stable/user_guide/indexing.html#returning-a-view-versus-a-copy\n",
      "  proc_household_data[\"adult_num\"] = proc_household_data[\"adult_num\"].clip(lower=0)\n",
      "/u/ayushc/projects/GradABM/MacroEcon/simulator_data/process/household.py:196: SettingWithCopyWarning: \n",
      "A value is trying to be set on a copy of a slice from a DataFrame.\n",
      "Try using .loc[row_indexer,col_indexer] = value instead\n",
      "\n",
      "See the caveats in the documentation: https://pandas.pydata.org/pandas-docs/stable/user_guide/indexing.html#returning-a-view-versus-a-copy\n",
      "  household_types['Family_households_prob'] = household_types['Family_households'] / proc_houshold_dataset['household_num']\n",
      "/u/ayushc/projects/GradABM/MacroEcon/simulator_data/process/household.py:197: SettingWithCopyWarning: \n",
      "A value is trying to be set on a copy of a slice from a DataFrame.\n",
      "Try using .loc[row_indexer,col_indexer] = value instead\n",
      "\n",
      "See the caveats in the documentation: https://pandas.pydata.org/pandas-docs/stable/user_guide/indexing.html#returning-a-view-versus-a-copy\n",
      "  household_types['Nonfamily_households_prob'] = household_types['Nonfamily_households'] / proc_houshold_dataset['household_num']\n"
     ]
    },
    {
     "ename": "TypeError",
     "evalue": "'Series' object cannot be interpreted as an integer",
     "output_type": "error",
     "traceback": [
      "\u001b[0;31m---------------------------------------------------------------------------\u001b[0m",
      "\u001b[0;31mTypeError\u001b[0m                                 Traceback (most recent call last)",
      "Cell \u001b[0;32mIn[15], line 2\u001b[0m\n\u001b[1;32m      1\u001b[0m save_household_path \u001b[38;5;241m=\u001b[39m os\u001b[38;5;241m.\u001b[39mpath\u001b[38;5;241m.\u001b[39mjoin(POPULATION_OUT_ROOT, \u001b[38;5;124m'\u001b[39m\u001b[38;5;124mbase_household.pkl\u001b[39m\u001b[38;5;124m'\u001b[39m)\n\u001b[0;32m----> 2\u001b[0m \u001b[43mloader\u001b[49m\u001b[38;5;241;43m.\u001b[39;49m\u001b[43mgenerate_household\u001b[49m\u001b[43m(\u001b[49m\u001b[43mhousehold_data\u001b[49m\u001b[43m,\u001b[49m\u001b[43m \u001b[49m\u001b[43mhousehold_mapping\u001b[49m\u001b[43m,\u001b[49m\u001b[43m \u001b[49m\u001b[43msave_path\u001b[49m\u001b[38;5;241;43m=\u001b[39;49m\u001b[43msave_household_path\u001b[49m\u001b[43m)\u001b[49m\n",
      "File \u001b[0;32m~/projects/GradABM/MacroEcon/simulator_data/census_loader.py:35\u001b[0m, in \u001b[0;36mCensusDataLoader.generate_household\u001b[0;34m(self, household_data, household_mapping, geo_address_data, save_path)\u001b[0m\n\u001b[1;32m     32\u001b[0m     \u001b[38;5;28mprint\u001b[39m(\u001b[38;5;124m\"\u001b[39m\u001b[38;5;124mGenerate base population first!!!\u001b[39m\u001b[38;5;124m\"\u001b[39m)\n\u001b[1;32m     33\u001b[0m     \u001b[38;5;28;01mreturn\u001b[39;00m\n\u001b[0;32m---> 35\u001b[0m \u001b[38;5;28mself\u001b[39m\u001b[38;5;241m.\u001b[39mpopulation_df, \u001b[38;5;28mself\u001b[39m\u001b[38;5;241m.\u001b[39maddress_df \u001b[38;5;241m=\u001b[39m \u001b[43mhousehold_wrapper\u001b[49m\u001b[43m(\u001b[49m\u001b[43mhousehold_data\u001b[49m\u001b[43m,\u001b[49m\u001b[43m \u001b[49m\u001b[38;5;28;43mself\u001b[39;49m\u001b[38;5;241;43m.\u001b[39;49m\u001b[43mpopulation_df\u001b[49m\u001b[43m,\u001b[49m\u001b[43m \u001b[49m\n\u001b[1;32m     36\u001b[0m \u001b[43m                                                 \u001b[49m\u001b[43mbase_address\u001b[49m\u001b[43m \u001b[49m\u001b[38;5;241;43m=\u001b[39;49m\u001b[43m \u001b[49m\u001b[38;5;28;43mself\u001b[39;49m\u001b[38;5;241;43m.\u001b[39;49m\u001b[43maddress_df\u001b[49m\u001b[43m,\u001b[49m\u001b[43m \u001b[49m\u001b[43madult_list\u001b[49m\u001b[38;5;241;43m=\u001b[39;49m\u001b[43madult_list\u001b[49m\u001b[43m,\u001b[49m\n\u001b[1;32m     37\u001b[0m \u001b[43m                                                 \u001b[49m\u001b[43mchildren_list\u001b[49m\u001b[38;5;241;43m=\u001b[39;49m\u001b[43mchildren_list\u001b[49m\u001b[43m,\u001b[49m\n\u001b[1;32m     38\u001b[0m \u001b[43m                                                 \u001b[49m\u001b[43mgeo_address_data\u001b[49m\u001b[38;5;241;43m=\u001b[39;49m\u001b[38;5;28;43mself\u001b[39;49m\u001b[38;5;241;43m.\u001b[39;49m\u001b[43mgeo_mapping\u001b[49m\u001b[43m,\u001b[49m\n\u001b[1;32m     39\u001b[0m \u001b[43m                                                 \u001b[49m\u001b[43muse_parallel\u001b[49m\u001b[38;5;241;43m=\u001b[39;49m\u001b[38;5;28;43mself\u001b[39;49m\u001b[38;5;241;43m.\u001b[39;49m\u001b[43muse_parallel\u001b[49m\u001b[43m,\u001b[49m\u001b[43mn_cpu\u001b[49m\u001b[38;5;241;43m=\u001b[39;49m\u001b[38;5;28;43mself\u001b[39;49m\u001b[38;5;241;43m.\u001b[39;49m\u001b[43mn_cpu\u001b[49m\u001b[43m)\u001b[49m\n\u001b[1;32m     40\u001b[0m \u001b[38;5;28;01mif\u001b[39;00m save_path \u001b[38;5;129;01mis\u001b[39;00m \u001b[38;5;129;01mnot\u001b[39;00m \u001b[38;5;28;01mNone\u001b[39;00m:\n\u001b[1;32m     41\u001b[0m     \u001b[38;5;28mself\u001b[39m\u001b[38;5;241m.\u001b[39mpopulation_df\u001b[38;5;241m.\u001b[39mto_pickle(save_path)\n",
      "File \u001b[0;32m~/projects/GradABM/MacroEcon/simulator_data/process/household.py:331\u001b[0m, in \u001b[0;36mhousehold_wrapper\u001b[0;34m(houshold_dataset, base_pop, adult_list, children_list, base_address, geo_address_data, use_parallel, n_cpu)\u001b[0m\n\u001b[1;32m    327\u001b[0m         result \u001b[38;5;241m=\u001b[39m create_household_composition_v3_remote\u001b[38;5;241m.\u001b[39mremote(\n\u001b[1;32m    328\u001b[0m         proc_houshold_dataset, proc_base_pop, proc_area,adult_list, children_list\n\u001b[1;32m    329\u001b[0m         )\n\u001b[1;32m    330\u001b[0m     \u001b[38;5;28;01melse\u001b[39;00m:\n\u001b[0;32m--> 331\u001b[0m         result \u001b[38;5;241m=\u001b[39m \u001b[43mcreate_household_composition_v3\u001b[49m\u001b[43m(\u001b[49m\n\u001b[1;32m    332\u001b[0m \u001b[43m            \u001b[49m\u001b[43mproc_houshold_dataset\u001b[49m\u001b[43m,\u001b[49m\u001b[43m \u001b[49m\u001b[43mproc_base_pop\u001b[49m\u001b[43m,\u001b[49m\u001b[43m \u001b[49m\u001b[43mproc_area\u001b[49m\u001b[43m,\u001b[49m\u001b[43madult_list\u001b[49m\u001b[43m,\u001b[49m\u001b[43m \u001b[49m\u001b[43mchildren_list\u001b[49m\n\u001b[1;32m    333\u001b[0m \u001b[43m        \u001b[49m\u001b[43m)\u001b[49m\n\u001b[1;32m    335\u001b[0m     results\u001b[38;5;241m.\u001b[39mappend(result)\n\u001b[1;32m    337\u001b[0m \u001b[38;5;28;01mif\u001b[39;00m use_parallel:\n",
      "File \u001b[0;32m~/projects/GradABM/MacroEcon/simulator_data/process/household.py:211\u001b[0m, in \u001b[0;36mcreate_household_composition_v3\u001b[0;34m(proc_houshold_dataset, proc_base_pop, proc_area, adult_list, children_list)\u001b[0m\n\u001b[1;32m    209\u001b[0m household_id \u001b[38;5;241m=\u001b[39m \u001b[38;5;241m0\u001b[39m\n\u001b[1;32m    210\u001b[0m \u001b[38;5;28;01mfor\u001b[39;00m _, row \u001b[38;5;129;01min\u001b[39;00m sorted_proc_houshold_dataset\u001b[38;5;241m.\u001b[39miterrows():\n\u001b[0;32m--> 211\u001b[0m     \u001b[38;5;28;01mfor\u001b[39;00m _ \u001b[38;5;129;01min\u001b[39;00m \u001b[38;5;28;43mrange\u001b[39;49m\u001b[43m(\u001b[49m\u001b[43mnum_households\u001b[49m\u001b[43m)\u001b[49m:\n\u001b[1;32m    212\u001b[0m         household_type \u001b[38;5;241m=\u001b[39m random\u001b[38;5;241m.\u001b[39mchoices(\n\u001b[1;32m    213\u001b[0m         household_types_choices, weights\u001b[38;5;241m=\u001b[39mhousehold_proportions\u001b[38;5;241m.\u001b[39mvalues\u001b[38;5;241m.\u001b[39mflatten())[\u001b[38;5;241m0\u001b[39m]\n\u001b[1;32m    215\u001b[0m         \u001b[38;5;66;03m# Simulate family composition (if family household)\u001b[39;00m\n",
      "\u001b[0;31mTypeError\u001b[0m: 'Series' object cannot be interpreted as an integer"
     ]
    }
   ],
   "source": [
    "save_household_path = os.path.join(POPULATION_OUT_ROOT, 'base_household.pkl')\n",
    "loader.generate_household(household_data, household_mapping, save_path=save_household_path)"
   ]
  },
  {
   "attachments": {},
   "cell_type": "markdown",
   "id": "ac502ce1",
   "metadata": {},
   "source": [
    "## Generate demographic data files"
   ]
  },
  {
   "cell_type": "code",
   "execution_count": 13,
   "id": "7260a3f8",
   "metadata": {},
   "outputs": [],
   "source": [
    "# def preprocess_data(df_path, output_dir):\n",
    "#     df = pd.read_pickle(df_path)\n",
    "#     attributes = df.keys()\n",
    "#     mapping_collection = {}\n",
    "#     for attribute in attributes:\n",
    "#         df[attribute],mapping = pd.factorize(df[attribute])\n",
    "#         output_att_path = os.path.join(output_dir, attribute)\n",
    "#         df[attribute].to_pickle(f'{output_att_path}.pickle')\n",
    "#         mapping_collection[attribute] = mapping.tolist()\n",
    "#     output_mapping_path = os.path.join(output_dir, 'population_mapping.json')\n",
    "    \n",
    "#     print(\"output mapping path: \", output_mapping_path)\n",
    "    \n",
    "#     with open(output_mapping_path, 'w') as f:\n",
    "#         json.dump(mapping_collection, f)    "
   ]
  },
  {
   "cell_type": "code",
   "execution_count": 12,
   "id": "b0967a07",
   "metadata": {},
   "outputs": [
    {
     "data": {
      "text/plain": [
       "'/u/ayushc/projects/GradABM/MacroEcon/simulator_data/census_populations/NYC/BK0101_simulation_input/'"
      ]
     },
     "execution_count": 12,
     "metadata": {},
     "output_type": "execute_result"
    }
   ],
   "source": [
    "# df_path = os.path.join(POPULATION_OUT_ROOT, 'population_data.pkl')\n",
    "output_dir = '/u/ayushc/projects/GradABM/MacroEcon/simulator_data/census_populations/NYC/{}_simulation_input/'.format(area_selector[0])\n",
    "\n",
    "output_dir"
   ]
  },
  {
   "cell_type": "code",
   "execution_count": null,
   "id": "d1ad0066",
   "metadata": {},
   "outputs": [],
   "source": [
    "# if not os.path.exists(output_dir):\n",
    "#     os.makedirs(output_dir)\n",
    "    \n",
    "# preprocess_data(df_path, output_dir)"
   ]
  },
  {
   "cell_type": "code",
   "execution_count": 14,
   "id": "d05a0047",
   "metadata": {},
   "outputs": [],
   "source": [
    "loader.export(output_dir)"
   ]
  },
  {
   "cell_type": "code",
   "execution_count": null,
   "id": "9df253b4",
   "metadata": {},
   "outputs": [],
   "source": []
  }
 ],
 "metadata": {
  "kernelspec": {
   "display_name": "Python 3 (ipykernel)",
   "language": "python",
   "name": "python3"
  },
  "language_info": {
   "codemirror_mode": {
    "name": "ipython",
    "version": 3
   },
   "file_extension": ".py",
   "mimetype": "text/x-python",
   "name": "python",
   "nbconvert_exporter": "python",
   "pygments_lexer": "ipython3",
   "version": "3.8.10"
  }
 },
 "nbformat": 4,
 "nbformat_minor": 5
}
