{
 "cells": [
  {
   "cell_type": "markdown",
   "id": "1ad38566",
   "metadata": {},
   "source": [
    "# Tutorial: Generating Base Population and Household Data\n",
    "\n",
    "This tutorial will guide you through the process of generating base\n",
    "population and household data for a specified region using census data.\n",
    "We’ll use a `CensusDataLoader` class to handle the data\n",
    "processing and generation."
   ]
  },
  {
   "cell_type": "markdown",
   "id": "b8320be6",
   "metadata": {},
   "source": [
    "## Before Starting\n",
    "\n",
    "Make sure your `population data` and `household data` are in the prescribed format. Names of the column need to be same as shown in the excerpts.\n",
    "\n",
    "Lets see a snapshot of the data"
   ]
  },
  {
   "cell_type": "markdown",
   "id": "8a1bb155",
   "metadata": {},
   "source": [
    "`Population Data` is a dictionary containing two pandas DataFrames: '`age_gender`' and '`ethnicity`'. Each DataFrame provides demographic information for different areas and regions.\n",
    "\n",
    "The `age_gender` DataFrame provides a comprehensive breakdown of population data, categorized by area, gender, and age group. \n",
    "\n",
    "#### Columns Description\n",
    "\n",
    "- `area`: Serves as a unique identifier for each geographical area, represented by a string (e.g., `'BK0101'`, `'SI9593'`). \n",
    "- `gender`: Indicates the gender of the population segment, with possible values being `'female'` or `'male'`.\n",
    "- `age`: Specifies the age group of the population segment, using a string format such as `'20t29'` for ages 20 to 29, and `'U19'` for those under 19 years of age. \n",
    "- `count`: Represents the total number of individuals within the specified gender and age group for a given area. \n",
    "- `region`: A two-letter code that identifies the broader region encompassing the area (e.g., `'BK'` for Brooklyn, `'SI'` for Staten Island).\n",
    "\n",
    "##### Example Entry\n",
    "\n",
    "Here is a sample of the data structure within the `age_gender` DataFrame:\n",
    "\n",
    "| area  | gender | age  | count | region |\n",
    "|-------|--------|------|-------|--------|\n",
    "| BK0101| female | 20t29| 3396  | BK     |\n",
    "| BK0101| male   | 20t29| 3327  | BK     |\n",
    "\n",
    "This example entry demonstrates the DataFrame's layout and the type of demographic data it contains, highlighting its utility for detailed population studies by age and gender."
   ]
  },
  {
   "cell_type": "markdown",
   "id": "19152c1c",
   "metadata": {},
   "source": [
    "The `ethnicity` DataFrame is structured to provide detailed population data, segmented by both geographical areas and ethnic groups.\n",
    "\n",
    "##### Columns Description\n",
    "\n",
    "- `area`: A unique identifier assigned to each area, formatted as a string (e.g., `'BK0101'`, `'SI9593'`). This identifier helps in pinpointing specific locations within the dataset.\n",
    "- `ethnicity`: Represents the ethnic group of the population in the specified area.\n",
    "- `count`: Indicates the number of individuals belonging to the specified ethnic group within the area. This is an integer value representing the population count.\n",
    "- `region`: A two-letter code that signifies the broader region that the area belongs to (e.g., `'BK'` for Brooklyn, `'SI'` for Staten Island). \n",
    "\n",
    "##### Example Entry\n",
    "\n",
    "Below is an example of how the data is presented within the DataFrame:\n",
    "\n",
    "| area  | ethnicity | count | region |\n",
    "|-------|-----------|-------|--------|\n",
    "| BK0101| asian     | 1464  | BK     |\n",
    "| BK0101| black     | 937   | BK     |\n",
    "\n",
    "This example illustrates the structure and type of data contained within the `ethnicity` DataFrame, showcasing its potential for detailed demographic studies."
   ]
  },
  {
   "cell_type": "markdown",
   "id": "7c7b9939",
   "metadata": {},
   "source": [
    "`Household Data` contains the following columns:\n",
    "\n",
    "- `area`: Represents a unique identifier for each area.\n",
    "- `people_num`: The total number of people within the area.\n",
    "- `children_num`: The number of children in the area.\n",
    "- `household_num`: The total number of households.\n",
    "- `family_households`: Indicates the number of households identified as family households, highlighting family-based living arrangements.\n",
    "- `nonfamily_households`: Represents the number of households that do not fall under the family households category, including single occupancy and unrelated individuals living together.\n",
    "- `average_household_size`: The average number of individuals per household.\n",
    "\n",
    "Below is a sample excerpt:\n",
    "\n",
    "| area  | people_num | children_num | household_num | family_households | nonfamily_households | average_household_size |\n",
    "|-------|------------|--------------|---------------|-------------------|----------------------|------------------------|\n",
    "| 100100| 104        | 56           | 418           | 1                 | 0                    | 2.488038               |\n",
    "| 100200| 132        | 73           | 549           | 1                 | 0                    | 2.404372               |\n",
    "| 100300| 5          | 0            | 10            | 0                 | 1                    | 5.000000               |\n",
    "\n",
    "\n"
   ]
  },
  {
   "cell_type": "markdown",
   "id": "c5eb3f33",
   "metadata": {},
   "source": [
    "Now that we have verified our input, we can proceed to next steps!"
   ]
  },
  {
   "cell_type": "markdown",
   "id": "099d4faa",
   "metadata": {},
   "source": [
    "## Step 1: Set Up File Paths\n",
    "\n",
    "First, we need to specify the paths to our data files.\n",
    "\n",
    "Make sure to replace the placeholder paths with the actual paths to your\n",
    "data files."
   ]
  },
  {
   "cell_type": "code",
   "execution_count": null,
   "id": "0a92184a",
   "metadata": {},
   "outputs": [],
   "source": [
    "# Path to the population data file. Update with the actual file path.\n",
    "POPULATION_DATA_PATH = \"docs/tutorials/processing-a-population/sample_data/NYC/population.pkl\"\n",
    "\n",
    "# Path to the household data file. Update with the actual file path.\n",
    "HOUSEHOLD_DATA_PATH = \"docs/tutorials/processing-a-population/sample_data/NYC/household.pkl\""
   ]
  },
  {
   "cell_type": "markdown",
   "id": "4f14df91",
   "metadata": {},
   "source": [
    "## Step 2: Define Age Group Mapping\n",
    "\n",
    "We’ll define a mapping for age groups to categorize adults and children\n",
    "in the household data:\n"
   ]
  },
  {
   "cell_type": "code",
   "execution_count": 1,
   "id": "3003d735",
   "metadata": {},
   "outputs": [],
   "source": [
    "AGE_GROUP_MAPPING = {\n",
    "    \"adult_list\": [\"20t29\", \"30t39\", \"40t49\", \"50t64\", \"65A\"],  # Age ranges for adults\n",
    "    \"children_list\": [\"U19\"],  # Age range for children\n",
    "}"
   ]
  },
  {
   "cell_type": "markdown",
   "id": "4d8bbde1",
   "metadata": {},
   "source": [
    "## Step 3: Load Data\n",
    "\n",
    "Now, let’s load the population and household data:\n"
   ]
  },
  {
   "cell_type": "code",
   "execution_count": null,
   "id": "63f2c74c",
   "metadata": {},
   "outputs": [],
   "source": [
    "import numpy as np\n",
    "import pandas as pd\n",
    "\n",
    "# Load household data\n",
    "HOUSEHOLD_DATA = pd.read_pickle(HOUSEHOLD_DATA_PATH)\n",
    "\n",
    "# Load population data\n",
    "BASE_POPULATION_DATA = pd.read_pickle(POPULATION_DATA_PATH)"
   ]
  },
  {
   "cell_type": "markdown",
   "id": "931828cb",
   "metadata": {},
   "source": [
    "## Step 4: Set Up Additional Parameters\n",
    "\n",
    "We’ll set up some additional parameters that might be needed for data\n",
    "processing. These are not essential for generating population, but still good to know if you decide to use them in future."
   ]
  },
  {
   "cell_type": "code",
   "execution_count": null,
   "id": "23067b63",
   "metadata": {},
   "outputs": [],
   "source": [
    "# Placeholder for area selection criteria, if any. Update or use as needed.\n",
    "# Example: area_selector = [\"area1\", \"area2\"]\n",
    "# This will be used to filter the population data to only include the selected areas.\n",
    "area_selector = None\n",
    "\n",
    "# Placeholder for geographic mapping data, if any. Update or use as needed.\n",
    "geo_mapping = None"
   ]
  },
  {
   "cell_type": "markdown",
   "id": "3c32c7fc",
   "metadata": {},
   "source": [
    "## Step 5: Initialize the Census Data Loader\n",
    "\n",
    "Create an instance of the `CensusDataLoader` class:"
   ]
  },
  {
   "cell_type": "code",
   "execution_count": null,
   "id": "91e78772",
   "metadata": {},
   "outputs": [],
   "source": [
    "from agent_torch.data.census.census_loader import CensusDataLoader\n",
    "\n",
    "census_data_loader = CensusDataLoader(n_cpu=8, use_parallel=True)"
   ]
  },
  {
   "cell_type": "markdown",
   "id": "877ce9db",
   "metadata": {},
   "source": [
    "This initializes the loader with 8 CPUs and enables parallel processing\n",
    "for faster data generation."
   ]
  },
  {
   "cell_type": "markdown",
   "id": "14b04539",
   "metadata": {},
   "source": [
    "## Step 6: Generate Base Population Data\n",
    "\n",
    "Generate the base population data for a specified region:"
   ]
  },
  {
   "cell_type": "code",
   "execution_count": null,
   "id": "e16b742b",
   "metadata": {},
   "outputs": [],
   "source": [
    "census_data_loader.generate_basepop(\n",
    "    input_data=BASE_POPULATION_DATA,  # The population data frame\n",
    "    region=\"astoria\",  # The target region for generating base population\n",
    "    area_selector=area_selector,  # Area selection criteria, if applicable\n",
    ")"
   ]
  },
  {
   "cell_type": "markdown",
   "id": "d57812f9",
   "metadata": {},
   "source": [
    "This will create a base population of 100 individuals for the “astoria”\n",
    "region. The generated data will be exported to a folder named “astoria”\n",
    "under the “populations” folder."
   ]
  },
  {
   "cell_type": "markdown",
   "id": "034ef3b5",
   "metadata": {},
   "source": [
    "#### Overview of the Generated Base Population Data\n",
    "\n",
    "Each row corresponds to attributes of individual residing in the specified region while generating the population.\n",
    "\n",
    "| area  | age  | gender | ethnicity | region |\n",
    "|-------|------|--------|-----------|--------|\n",
    "| BK0101| 20t29| female | black     | BK     |\n",
    "| BK0101| 20t29| female | hispanic  | BK     |\n",
    "| ...   | ...  | ...    | ...       | ...    |\n",
    "| BK0101| U19  | male   | asian     | SI     |\n",
    "| BK0101| U19  | female | white     | SI     |\n",
    "| BK0101| U19  | male   | asian     | SI     |\n"
   ]
  },
  {
   "cell_type": "markdown",
   "id": "61905f34",
   "metadata": {},
   "source": [
    "## Step 7: Generate Household Data\n",
    "\n",
    "Finally, generate the household data for the specified region:\n"
   ]
  },
  {
   "cell_type": "code",
   "execution_count": null,
   "id": "45e69153",
   "metadata": {},
   "outputs": [],
   "source": [
    "census_data_loader.generate_household(\n",
    "    household_data=HOUSEHOLD_DATA,  # The loaded household data\n",
    "    household_mapping=AGE_GROUP_MAPPING,  # Mapping of age groups for household composition\n",
    "    region=\"astoria\"  # The target region for generating households\n",
    ")"
   ]
  },
  {
   "cell_type": "markdown",
   "id": "1c9831c4",
   "metadata": {},
   "source": [
    "This will create household data for the “astoria” region based on the\n",
    "previously generated base population. The generated data will be\n",
    "exported to the same “astoria” folder under the “populations” folder."
   ]
  },
  {
   "cell_type": "markdown",
   "id": "ac6ab4f4",
   "metadata": {},
   "source": [
    "## Bonus: Generate Population Data of Specific Size\n",
    "\n",
    "For quick experimentation, this may come in handy."
   ]
  },
  {
   "cell_type": "code",
   "execution_count": null,
   "id": "515876ac",
   "metadata": {},
   "outputs": [],
   "source": [
    "census_data_loader.generate_basepop(\n",
    "    input_data=BASE_POPULATION_DATA,  # The population data frame\n",
    "    region=\"astoria\",  # The target region for generating base population\n",
    "    area_selector=area_selector,  # Area selection criteria, if applicable\n",
    "    num_individuals = 100 # Saves data for first 100 individuals, from the generated population\n",
    ")"
   ]
  },
  {
   "cell_type": "markdown",
   "id": "887b6631",
   "metadata": {},
   "source": [
    "## Bonus: Export Population Data\n",
    "\n",
    "If you have already generated your synthetic population, you just need to export it to \"populations\" folder under the desired \"region\", in order for you to use it with AgentTorch."
   ]
  },
  {
   "cell_type": "code",
   "execution_count": null,
   "id": "766ab301",
   "metadata": {},
   "outputs": [],
   "source": [
    "POPULATION_DATA_PATH = \"/population_data.pickle\"  # Replace with actual path\n",
    "census_data_loader.export(population_data_path=POPULATION_DATA_PATH,region=\"astoria\")"
   ]
  },
  {
   "cell_type": "markdown",
   "id": "0189f972",
   "metadata": {},
   "source": [
    "In case you want to export data for only few individuals"
   ]
  },
  {
   "cell_type": "code",
   "execution_count": null,
   "id": "78a5b5dd",
   "metadata": {},
   "outputs": [],
   "source": [
    "census_data_loader.export(population_data_path=POPULATION_DATA_PATH,region=\"astoria\",num_individuals = 100)"
   ]
  },
  {
   "cell_type": "markdown",
   "id": "42a14256-91c8-446e-92a7-ab6bf11055d3",
   "metadata": {},
   "source": [
    "## Conclusion\n",
    "\n",
    "You have now successfully generated both base population and household\n",
    "data for the `“astoria”` region. The generated data can be found in the\n",
    "`“populations/astoria”` folder. You can modify the region name, population\n",
    "size, and other parameters to generate data for different scenarios.\n"
   ]
  }
 ],
 "metadata": {
  "kernelspec": {
   "display_name": "LIDA",
   "language": "python",
   "name": "python3"
  },
  "language_info": {
   "codemirror_mode": {
    "name": "ipython",
    "version": 3
   },
   "file_extension": ".py",
   "mimetype": "text/x-python",
   "name": "python",
   "nbconvert_exporter": "python",
   "pygments_lexer": "ipython3",
   "version": "3.10.13"
  }
 },
 "nbformat": 4,
 "nbformat_minor": 5
}
