{
  "cells": [
    {
      "cell_type": "markdown",
      "metadata": {},
      "source": [
        "## P3O Demo (Decoupled Rewards/Targets)\n",
        "\n",
        "This notebook demonstrates:\n",
        "- Building an Archetype with a Template\n",
        "- Broadcasting to a population\n",
        "- Using P3O with either rewards_provider or targets_provider\n",
        "\n"
      ]
    },
    {
      "cell_type": "code",
      "execution_count": null,
      "metadata": {},
      "outputs": [],
      "source": [
        "from agent_torch.core.llm.archetype import Archetype\n",
        "from agent_torch.core.llm.mock_llm import MockLLM\n",
        "import agent_torch.core.llm.template as lm\n",
        "import agent_torch.populations.astoria as astoria\n",
        "from agent_torch.optim import P3O\n",
        "\n",
        "# Minimal Template\n",
        "class DemoTemplate(lm.Template):\n",
        "    system_prompt = \"Demo P3O Template\"\n",
        "    age = lm.Variable(desc=\"agent age\", learnable=True)\n",
        "    gender = lm.Variable(desc=\"agent gender\", learnable=True)\n",
        "    soc_code = lm.Variable(desc=\"job id\", learnable=False)\n",
        "    def __prompt__(self):\n",
        "        self.prompt_string = \"You are {age} and a {gender}. Job {soc_code}.\"\n",
        "\n",
        "# Construct archetype\n",
        "arch = Archetype(prompt=DemoTemplate(), llm=MockLLM(), n_arch=2)\n",
        "\n",
        "# Sample pre-broadcast (single-shot)\n",
        "arch.sample()\n",
        "\n",
        "# Broadcast to population\n",
        "arch.broadcast(population=astoria)\n",
        "_ = arch.sample()\n",
        "print(\"Broadcasted and sampled.\")\n"
      ]
    },
    {
      "cell_type": "code",
      "execution_count": null,
      "metadata": {},
      "outputs": [],
      "source": [
        "# Rewards provider variant\n",
        "\n",
        "def rewards_provider(group_keys, group_preds, arch):\n",
        "    # Simple KPI: reward values near 0.6\n",
        "    return [1.0 - (y - 0.6)**2 for y in group_preds]\n",
        "\n",
        "opt = P3O(archetype=arch, rewards_provider=rewards_provider, verbose=True)\n",
        "for _ in range(2):\n",
        "    arch.sample()\n",
        "    opt.step()\n",
        "    opt.zero_grad()\n",
        "print(\"Rewards provider optimization done.\")\n"
      ]
    },
    {
      "cell_type": "code",
      "execution_count": null,
      "metadata": {},
      "outputs": [],
      "source": [
        "# Targets provider variant\n",
        "\n",
        "lookup = {\"13-2099.01\": 0.72}\n",
        "\n",
        "def targets_provider(group_keys, arch):\n",
        "    return [lookup.get(str(k), 0.5) for k in group_keys]\n",
        "\n",
        "opt = P3O(archetype=arch, targets_provider=targets_provider, reward_fn=lambda y, t: 1.0 - (y - t)**2)\n",
        "for _ in range(2):\n",
        "    arch.sample()\n",
        "    opt.step()\n",
        "    opt.zero_grad()\n",
        "print(\"Targets provider optimization done.\")\n"
      ]
    }
  ],
  "metadata": {
    "language_info": {
      "name": "python"
    }
  },
  "nbformat": 4,
  "nbformat_minor": 2
}
