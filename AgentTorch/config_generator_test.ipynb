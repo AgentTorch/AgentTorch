{
 "cells": [
  {
   "cell_type": "code",
   "execution_count": 1,
   "metadata": {},
   "outputs": [],
   "source": [
    "import numpy as np\n",
    "from omegaconf import OmegaConf\n",
    "\n",
    "import sys\n",
    "sys.path.insert(0, '../../AgentTorch/')\n",
    "from AgentTorch import Configurator\n",
    "\n",
    "import types"
   ]
  },
  {
   "cell_type": "code",
   "execution_count": 2,
   "metadata": {},
   "outputs": [],
   "source": [
    "conf = Configurator()"
   ]
  },
  {
   "attachments": {},
   "cell_type": "markdown",
   "metadata": {},
   "source": [
    "## Metadata"
   ]
  },
  {
   "cell_type": "code",
   "execution_count": 3,
   "metadata": {},
   "outputs": [],
   "source": [
    "conf.add_metadata('num_episodes', 3)\n",
    "conf.add_metadata('num_steps_per_episode', 20)\n",
    "conf.add_metadata('num_substeps_per_step', 1)\n",
    "conf.add_metadata('h', 72)\n",
    "conf.add_metadata('w', 72)\n",
    "conf.add_metadata('n_channels', 16)\n",
    "conf.add_metadata('batch_size', 8)\n",
    "conf.add_metadata('device', 'cpu')\n",
    "conf.add_metadata('hidden_size', 128)\n",
    "conf.add_metadata('fire_rate', 0.5)\n",
    "conf.add_metadata('angle', 0.0)\n",
    "conf.add_metadata('learning_params', {'lr': 2e-3, 'betas': [0.5, 0.5], 'lr_gamma': 0.9999, 'model_path': 'saved_model.pth'})\n"
   ]
  },
  {
   "attachments": {},
   "cell_type": "markdown",
   "metadata": {},
   "source": [
    "## Agent properties"
   ]
  },
  {
   "cell_type": "code",
   "execution_count": 4,
   "metadata": {},
   "outputs": [
    {
     "name": "stdout",
     "output_type": "stream",
     "text": [
      "Automata number:  5184\n"
     ]
    }
   ],
   "source": [
    "w, h = conf.get('simulation_metadata.w'), conf.get('simulation_metadata.h')    \n",
    "automata_number = h*w\n",
    "print(\"Automata number: \", automata_number)\n",
    "\n",
    "automata = conf.add_agents(key=\"automata\", number=automata_number)"
   ]
  },
  {
   "cell_type": "code",
   "execution_count": 5,
   "metadata": {},
   "outputs": [],
   "source": [
    "## add properties to this agent\n",
    "n_channels = conf.get('simulation_metadata.n_channels')\n",
    "batch_size = conf.get('simulation_metadata.batch_size')\n",
    "device = conf.get('simulation_metadata.device')\n",
    "\n",
    "from models.nca.substeps.utils import nca_initialize_state\n",
    "\n",
    "arguments_list = [conf.create_variable(key='n_channels', name=\"n_channels\", learnable=False, shape=(1,), initialization_function=None, value=n_channels, dtype=\"int\"),\n",
    "                conf.create_variable(key='batch_size', name=\"batch_size\", learnable=False, shape=(1,), initialization_function=None, value=batch_size, dtype=\"int\"),\n",
    "                conf.create_variable(key='device', name=\"device\", learnable=False, shape=(1,), initialization_function=None, value=device, dtype=\"str\")]\n",
    "\n",
    "cell_state_initializer = conf.create_initializer(generator = nca_initialize_state, arguments=arguments_list)"
   ]
  },
  {
   "cell_type": "code",
   "execution_count": 6,
   "metadata": {},
   "outputs": [],
   "source": [
    "automata_cell_state = conf.add_property(root='state.agents.automata', key='cell_state', name=\"cell_state\", learnable=True, shape=(n_channels,), initialization_function=cell_state_initializer, dtype=\"float\")"
   ]
  },
  {
   "attachments": {},
   "cell_type": "markdown",
   "metadata": {},
   "source": [
    "## Object properties"
   ]
  },
  {
   "attachments": {},
   "cell_type": "markdown",
   "metadata": {},
   "source": [
    "## Network"
   ]
  },
  {
   "cell_type": "code",
   "execution_count": 7,
   "metadata": {},
   "outputs": [],
   "source": [
    "from AgentTorch.helpers.environment import grid_network\n",
    "conf.add_network('evolution_network', grid_network, arguments={'shape': [w, h]})"
   ]
  },
  {
   "attachments": {},
   "cell_type": "markdown",
   "metadata": {},
   "source": [
    "## Environment"
   ]
  },
  {
   "attachments": {},
   "cell_type": "markdown",
   "metadata": {},
   "source": [
    "## Substep"
   ]
  },
  {
   "cell_type": "code",
   "execution_count": 8,
   "metadata": {},
   "outputs": [
    {
     "name": "stderr",
     "output_type": "stream",
     "text": [
      "/Users/ayushchopra/Desktop/PROJECTS/test_birds_env/lib/python3.8/site-packages/torch_geometric/typing.py:18: UserWarning: An issue occurred while importing 'pyg-lib'. Disabling its usage. Stacktrace: dlopen(/Users/ayushchopra/Desktop/PROJECTS/test_birds_env/lib/python3.8/site-packages/libpyg.so, 6): Library not loaded: /usr/local/opt/python@3.10/Frameworks/Python.framework/Versions/3.10/Python\n",
      "  Referenced from: /Users/ayushchopra/Desktop/PROJECTS/test_birds_env/lib/python3.8/site-packages/libpyg.so\n",
      "  Reason: image not found\n",
      "  warnings.warn(f\"An issue occurred while importing 'pyg-lib'. \"\n",
      "/Users/ayushchopra/Desktop/PROJECTS/test_birds_env/lib/python3.8/site-packages/torch_geometric/typing.py:42: UserWarning: An issue occurred while importing 'torch-sparse'. Disabling its usage. Stacktrace: dlopen(/Users/ayushchopra/Desktop/PROJECTS/test_birds_env/lib/python3.8/site-packages/libpyg.so, 6): Library not loaded: /usr/local/opt/python@3.10/Frameworks/Python.framework/Versions/3.10/Python\n",
      "  Referenced from: /Users/ayushchopra/Desktop/PROJECTS/test_birds_env/lib/python3.8/site-packages/libpyg.so\n",
      "  Reason: image not found\n",
      "  warnings.warn(f\"An issue occurred while importing 'torch-sparse'. \"\n"
     ]
    }
   ],
   "source": [
    "from AgentTorch.models.nca.substeps.evolve_cell.transition import NCAEvolve\n",
    "evolve_transition = conf.create_function(NCAEvolve, input_variables={'cell_state':'agents/automata/cell_state'}, output_variables=['cell_state'], fn_type=\"transition\")"
   ]
  },
  {
   "cell_type": "code",
   "execution_count": 9,
   "metadata": {},
   "outputs": [],
   "source": [
    "automata = conf.get('state.agents.automata')\n",
    "conf.add_substep(name=\"Evolution\", active_agents=[\"automata\"], transition_fn=evolve_transition)"
   ]
  },
  {
   "cell_type": "code",
   "execution_count": 10,
   "metadata": {},
   "outputs": [],
   "source": [
    "conf.render('test_config.yaml')"
   ]
  },
  {
   "cell_type": "code",
   "execution_count": null,
   "metadata": {},
   "outputs": [],
   "source": []
  }
 ],
 "metadata": {
  "kernelspec": {
   "display_name": "test_birds_env",
   "language": "python",
   "name": "python3"
  },
  "language_info": {
   "codemirror_mode": {
    "name": "ipython",
    "version": 3
   },
   "file_extension": ".py",
   "mimetype": "text/x-python",
   "name": "python",
   "nbconvert_exporter": "python",
   "pygments_lexer": "ipython3",
   "version": "3.8.2"
  },
  "orig_nbformat": 4
 },
 "nbformat": 4,
 "nbformat_minor": 2
}
