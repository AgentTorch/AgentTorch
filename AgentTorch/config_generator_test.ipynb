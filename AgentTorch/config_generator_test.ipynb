{
 "cells": [
  {
   "cell_type": "code",
   "execution_count": 1,
   "metadata": {},
   "outputs": [],
   "source": [
    "import numpy as np\n",
    "from omegaconf import OmegaConf\n",
    "\n",
    "import sys\n",
    "sys.path.insert(0, '../../AgentTorch/')\n",
    "from AgentTorch import Configurator\n",
    "\n",
    "import types"
   ]
  },
  {
   "cell_type": "code",
   "execution_count": null,
   "metadata": {},
   "outputs": [],
   "source": [
    "conf = Configurator()"
   ]
  },
  {
   "attachments": {},
   "cell_type": "markdown",
   "metadata": {},
   "source": [
    "## Metadata"
   ]
  },
  {
   "cell_type": "code",
   "execution_count": null,
   "metadata": {},
   "outputs": [],
   "source": [
    "conf.add_metadata('num_episodes', 3)\n",
    "conf.add_metadata('num_steps_per_episode', 20)\n",
    "conf.add_metadata('num_substeps_per_step', 1)\n",
    "conf.add_metadata('h', 72)\n",
    "conf.add_metadata('w', 72)\n",
    "conf.add_metadata('n_channels', 16)\n",
    "conf.add_metadata('batch_size', 8)\n",
    "conf.add_metadata('device', 'cpu')\n",
    "conf.add_metadata('hidden_size', 128)\n",
    "conf.add_metadata('fire_rate', 0.5)\n",
    "conf.add_metadata('angle', 0.0)\n",
    "conf.add_metadata('learning_params', {'lr': 2e-3, 'betas': [0.5, 0.5], 'lr_gamma': 0.9999, 'model_path': 'saved_model.pth'})\n"
   ]
  },
  {
   "attachments": {},
   "cell_type": "markdown",
   "metadata": {},
   "source": [
    "## Agent properties"
   ]
  },
  {
   "cell_type": "code",
   "execution_count": null,
   "metadata": {},
   "outputs": [],
   "source": [
    "w, h = conf.get('simulation_metadata.w'), conf.get('simulation_metadata.h')    \n",
    "automata_number = h*w\n",
    "print(\"Automata number: \", automata_number)\n",
    "\n",
    "automata = conf.add_agents(key=\"automata\", number=automata_number)"
   ]
  },
  {
   "cell_type": "code",
   "execution_count": null,
   "metadata": {},
   "outputs": [],
   "source": [
    "## add properties to this agent\n",
    "n_channels = conf.get('simulation_metadata.n_channels')\n",
    "batch_size = conf.get('simulation_metadata.batch_size')\n",
    "device = conf.get('simulation_metadata.device')\n",
    "\n",
    "from models.nca.substeps.utils import nca_initialize_state\n",
    "\n",
    "arguments_list = [conf.create_variable(key='n_channels', name=\"n_channels\", learnable=False, shape=(1,), initialization_function=None, value=n_channels, dtype=\"int\"),\n",
    "                conf.create_variable(key='batch_size', name=\"batch_size\", learnable=False, shape=(1,), initialization_function=None, value=batch_size, dtype=\"int\"),\n",
    "                conf.create_variable(key='device', name=\"device\", learnable=False, shape=(1,), initialization_function=None, value=device, dtype=\"str\")]\n",
    "\n",
    "cell_state_initializer = conf.create_initializer(generator = nca_initialize_state, arguments=arguments_list)\n",
    "automata_cell_state = conf.add_property(root='agents.automata', key='cell_state', name=\"cell_state\", learnable=True, shape=(n_channels,), initialization_function=cell_state_initializer, dtype=\"float\")"
   ]
  },
  {
   "cell_type": "code",
   "execution_count": null,
   "metadata": {},
   "outputs": [],
   "source": [
    "OmegaConf.merge(*arguments_list)"
   ]
  },
  {
   "cell_type": "code",
   "execution_count": null,
   "metadata": {},
   "outputs": [],
   "source": [
    "print(isinstance(nca_initialize_state, types.FunctionType))\n",
    "\n",
    "print(nca_initialize_state.__name__)"
   ]
  },
  {
   "attachments": {},
   "cell_type": "markdown",
   "metadata": {},
   "source": [
    "## Object properties"
   ]
  },
  {
   "attachments": {},
   "cell_type": "markdown",
   "metadata": {},
   "source": [
    "## Environment"
   ]
  },
  {
   "attachments": {},
   "cell_type": "markdown",
   "metadata": {},
   "source": [
    "## Substep"
   ]
  },
  {
   "cell_type": "code",
   "execution_count": null,
   "metadata": {},
   "outputs": [],
   "source": []
  }
 ],
 "metadata": {
  "kernelspec": {
   "display_name": "test_birds_env",
   "language": "python",
   "name": "python3"
  },
  "language_info": {
   "codemirror_mode": {
    "name": "ipython",
    "version": 3
   },
   "file_extension": ".py",
   "mimetype": "text/x-python",
   "name": "python",
   "nbconvert_exporter": "python",
   "pygments_lexer": "ipython3",
   "version": "3.8.2"
  },
  "orig_nbformat": 4
 },
 "nbformat": 4,
 "nbformat_minor": 2
}
