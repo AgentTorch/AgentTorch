{
 "cells": [
  {
   "cell_type": "code",
   "execution_count": 3,
   "metadata": {},
   "outputs": [],
   "source": [
    "import numpy as np\n",
    "import pandas as pd"
   ]
  },
  {
   "attachments": {},
   "cell_type": "markdown",
   "metadata": {},
   "source": [
    "# For each agent, we want: age, gender, race, geo-location, occupation-status, household-id\n",
    "\n",
    "# For each household, we want: income-level, lat-long, assets, expenses"
   ]
  },
  {
   "cell_type": "code",
   "execution_count": 4,
   "metadata": {},
   "outputs": [],
   "source": [
    "demographic_data_file = '../nta/demo_2021acs5yr_nta.xlsx'"
   ]
  },
  {
   "cell_type": "code",
   "execution_count": 40,
   "metadata": {},
   "outputs": [
    {
     "name": "stdout",
     "output_type": "stream",
     "text": [
      "Unique attributes:  96\n"
     ]
    }
   ],
   "source": [
    "start_ix = 5\n",
    "frequency = 5\n",
    "unique_attrs = (demo_df.columns.shape[0] - start_ix)//frequency\n",
    "print(\"Unique attributes: \", unique_attrs)\n",
    "\n",
    "attribute_list = demo_df.columns[start_ix:demo_df.columns.shape[0]:frequency]\n",
    "\n",
    "f = open('attr_file_demographic.txt', 'w+')\n",
    "\n",
    "for item in attribute_list:\n",
    "    f.write(str(item) + '\\n')\n",
    "\n",
    "f.close()"
   ]
  },
  {
   "cell_type": "code",
   "execution_count": 122,
   "metadata": {},
   "outputs": [
    {
     "data": {
      "text/html": [
       "<div>\n",
       "<style scoped>\n",
       "    .dataframe tbody tr th:only-of-type {\n",
       "        vertical-align: middle;\n",
       "    }\n",
       "\n",
       "    .dataframe tbody tr th {\n",
       "        vertical-align: top;\n",
       "    }\n",
       "\n",
       "    .dataframe thead th {\n",
       "        text-align: right;\n",
       "    }\n",
       "</style>\n",
       "<table border=\"1\" class=\"dataframe\">\n",
       "  <thead>\n",
       "    <tr style=\"text-align: right;\">\n",
       "      <th></th>\n",
       "      <th>GeoType</th>\n",
       "      <th>NTAType</th>\n",
       "      <th>GeogName</th>\n",
       "      <th>GeoID</th>\n",
       "      <th>Borough</th>\n",
       "      <th>Pop_1E</th>\n",
       "      <th>Pop_1M</th>\n",
       "      <th>Pop_1C</th>\n",
       "      <th>Pop_1P</th>\n",
       "      <th>Pop_1Z</th>\n",
       "      <th>...</th>\n",
       "      <th>AsnOAsnE</th>\n",
       "      <th>AsnOAsnM</th>\n",
       "      <th>AsnOAsnC</th>\n",
       "      <th>AsnOAsnP</th>\n",
       "      <th>AsnOAsnZ</th>\n",
       "      <th>Asn2plE</th>\n",
       "      <th>Asn2plM</th>\n",
       "      <th>Asn2plC</th>\n",
       "      <th>Asn2plP</th>\n",
       "      <th>Asn2plZ</th>\n",
       "    </tr>\n",
       "  </thead>\n",
       "  <tbody>\n",
       "    <tr>\n",
       "      <th>0</th>\n",
       "      <td>NTA2020</td>\n",
       "      <td>0</td>\n",
       "      <td>Greenpoint</td>\n",
       "      <td>BK0101</td>\n",
       "      <td>Brooklyn</td>\n",
       "      <td>37518</td>\n",
       "      <td>1616.0</td>\n",
       "      <td>2.6</td>\n",
       "      <td>100.0</td>\n",
       "      <td>0.0</td>\n",
       "      <td>...</td>\n",
       "      <td>29</td>\n",
       "      <td>28.0</td>\n",
       "      <td>58.6</td>\n",
       "      <td>1.9</td>\n",
       "      <td>1.8</td>\n",
       "      <td>73</td>\n",
       "      <td>65.0</td>\n",
       "      <td>53.9</td>\n",
       "      <td>4.9</td>\n",
       "      <td>4.2</td>\n",
       "    </tr>\n",
       "  </tbody>\n",
       "</table>\n",
       "<p>1 rows × 485 columns</p>\n",
       "</div>"
      ],
      "text/plain": [
       "   GeoType  NTAType    GeogName   GeoID   Borough  Pop_1E  Pop_1M  Pop_1C  \\\n",
       "0  NTA2020        0  Greenpoint  BK0101  Brooklyn   37518  1616.0     2.6   \n",
       "\n",
       "   Pop_1P  Pop_1Z  ...  AsnOAsnE  AsnOAsnM  AsnOAsnC  AsnOAsnP  AsnOAsnZ  \\\n",
       "0   100.0     0.0  ...        29      28.0      58.6       1.9       1.8   \n",
       "\n",
       "   Asn2plE  Asn2plM  Asn2plC  Asn2plP  Asn2plZ  \n",
       "0       73     65.0     53.9      4.9      4.2  \n",
       "\n",
       "[1 rows x 485 columns]"
      ]
     },
     "execution_count": 122,
     "metadata": {},
     "output_type": "execute_result"
    }
   ],
   "source": [
    "# for each nta - we want to process: age, sex and race\n",
    "NTA_ID = 'BK0101' # GeoId from the census data\n",
    "sample_nta_df = demo_df[demo_df['GeoID'] == NTA_ID]\n",
    "sample_nta_df.head()"
   ]
  },
  {
   "cell_type": "code",
   "execution_count": 23,
   "metadata": {},
   "outputs": [],
   "source": [
    "def get_nta_stats(stat_variable, estimation_vars=['E', 'M', 'C', 'P', 'Z'], filter=True):\n",
    "    if filter:\n",
    "        filter_vars = ['E', 'M', 'P']\n",
    "        estimation_vars = filter_vars\n",
    "    stats = [sample_nta_df['{}{}'.format(stat_variable, var)].values for var in estimation_vars]\n",
    "    \n",
    "    return stats"
   ]
  },
  {
   "cell_type": "code",
   "execution_count": 24,
   "metadata": {},
   "outputs": [
    {
     "name": "stdout",
     "output_type": "stream",
     "text": [
      "[array([37518]), array([1616.]), array([100.])]\n"
     ]
    }
   ],
   "source": [
    "estimation_vars = ['E', 'M', 'C', 'P', 'Z'] # estimates, margins of error, coeff of variation, percents, percent margin of error\n",
    "\n",
    "# total population stats\n",
    "total_population_var = 'Pop_1'\n",
    "total_population_stats = get_nta_stats(total_population_var, estimation_vars)\n",
    "print(total_population_stats)"
   ]
  },
  {
   "cell_type": "code",
   "execution_count": 30,
   "metadata": {},
   "outputs": [
    {
     "name": "stdout",
     "output_type": "stream",
     "text": [
      "------------------------------------------------------------\n",
      "Under 18: [4731] [array([2390]), array([387.]), array([50.5])] [array([2341]), array([404.]), array([49.5])]\n",
      "------------------------------------------------------------\n",
      "Over 65:  [array([3910]), array([442.]), array([100.])] [array([1735]), array([298.]), array([44.4])] [array([2175]), array([306.]), array([55.6])]\n"
     ]
    }
   ],
   "source": [
    "agent_ages = ['PopU5', 'Pop5t9', 'Pop10t14', 'Pop15t19', 'Pop20t24', 'Pop25t29', 'Pop30t34', 'Pop35t39', \n",
    "            'Pop40t44', 'Pop45t49', 'Pop50t54', 'Pop55t59', 'Pop60t64', 'Pop65t69', 'Pop70t74', 'Pop75t79',\n",
    "            'Pop80t84', 'Pop85pl', 'PopU181', 'Pop65pl1']\n",
    "\n",
    "agents_under_18 = get_nta_stats('PopU181', estimation_vars)[0]\n",
    "print(\"---\"*20)\n",
    "\n",
    "male_under_18 = get_nta_stats('PopU18M')\n",
    "female_under_18 = get_nta_stats('PopU18F')\n",
    "print(\"Under 18:\", agents_under_18, female_under_18, male_under_18)\n",
    "\n",
    "print(\"---\"*20)\n",
    "people_over_65 = get_nta_stats('Pop65pl2')\n",
    "male_over_65 = get_nta_stats('Pop65plM')\n",
    "female_over_65 = get_nta_stats('Pop65plF')\n",
    "\n",
    "print(\"Over 65: \", people_over_65, male_over_65, female_over_65)\n",
    "\n",
    "middle_age_males = \n",
    "\n",
    "# rougly male and female are split with 55% (Male) to 45% (Female) in middle ages"
   ]
  },
  {
   "cell_type": "code",
   "execution_count": 95,
   "metadata": {},
   "outputs": [
    {
     "name": "stdout",
     "output_type": "stream",
     "text": [
      "[6723] [18.]\n",
      "20 to 29:  {'male': [3428, array([9.18])], 'female': [3295, array([8.82])]}\n",
      "-------------\n",
      "[11573] [30.9]\n",
      "30 to 39:  {'male': [5902, array([15.759])], 'female': [5671, array([15.141])]}\n",
      "-------------\n",
      "[5724] [15.2]\n",
      "40 to 49:  {'male': [2919, array([7.752])], 'female': [2805, array([7.448])]}\n",
      "-------------\n",
      "[4647] [12.4]\n",
      "50 to 64:  {'male': [2369, array([6.324])], 'female': [2278, array([6.076])]}\n"
     ]
    }
   ],
   "source": [
    "def merge_nta_stats(*args):\n",
    "    ret_e, ret_p = 0, 0\n",
    "    for val in args:\n",
    "        e, _, p = val\n",
    "        ret_e += e\n",
    "        ret_p += p\n",
    "    \n",
    "    print(ret_e, ret_p)\n",
    "    return [ret_e, ret_p]\n",
    "\n",
    "def get_middle_age_gender(agents_stats, male_ratio=0.51):\n",
    "    e, p = agents_stats\n",
    "    male_e = int(male_ratio*e)\n",
    "    female_e = e[0] - male_e\n",
    "\n",
    "    male_p = male_ratio*p\n",
    "    female_p = p[0] - male_p\n",
    "\n",
    "    return {'male': [male_e, male_p], 'female': [female_e, female_p]}\n",
    "\n",
    "\n",
    "agents_20t29 = merge_nta_stats(get_nta_stats('Pop20t24'), get_nta_stats('Pop25t29'))\n",
    "agents_20t29_split = get_middle_age_gender(agents_20t29)\n",
    "print(\"20 to 29: \", agents_20t29_split)\n",
    "\n",
    "print(\"-------------\")\n",
    "\n",
    "agents_30t39 = merge_nta_stats(get_nta_stats('Pop30t34'), get_nta_stats('Pop35t39'))\n",
    "agents_30t39_split = get_middle_age_gender(agents_30t39)\n",
    "print(\"30 to 39: \", agents_30t39_split)\n",
    "\n",
    "print(\"-------------\")\n",
    "\n",
    "agents_40t49 = merge_nta_stats(get_nta_stats('Pop40t44'), get_nta_stats('Pop45t49'))\n",
    "agents_40t49_split = get_middle_age_gender(agents_40t49)\n",
    "print(\"40 to 49: \", agents_40t49_split)\n",
    "\n",
    "print(\"-------------\")\n",
    "\n",
    "agents_50t64 = merge_nta_stats(get_nta_stats('Pop50t54'), get_nta_stats('Pop55t59'), get_nta_stats('Pop60t64'))\n",
    "agents_50t64_split = get_middle_age_gender(agents_50t64)\n",
    "print(\"50 to 64: \", agents_50t64_split)"
   ]
  },
  {
   "cell_type": "code",
   "execution_count": 45,
   "metadata": {},
   "outputs": [
    {
     "name": "stdout",
     "output_type": "stream",
     "text": [
      "All agents:  [array([37518]), array([1616.]), array([100.])]\n",
      "Hispanic Agents:  [array([5498]), array([793.]), array([14.7])]\n",
      "Not Hispanic Agents:  [array([32020]), array([1537.]), array([85.3])]\n",
      "Hsp1 [array([5498]), array([793.]), array([14.7])]\n",
      "WtNH [array([27273]), array([1360.]), array([72.7])]\n",
      "BlNH [array([937]), array([349.]), array([2.5])]\n",
      "AsnNH [array([1464]), array([308.]), array([3.9])]\n",
      "NHPINH [array([0]), array([nan]), array([nan])]\n",
      "AIANNH [array([22]), array([33.]), array([0.1])]\n",
      "OthNH [array([210]), array([106.]), array([0.6])]\n",
      "Rc2plNH [array([2114]), array([547.]), array([5.6])]\n",
      "[37518]\n"
     ]
    }
   ],
   "source": [
    "# assign race to agents\n",
    "# race: hispanic / latino, white, asian, black, nati\n",
    "\n",
    "print(\"All agents: \", get_nta_stats('Pop_2'))\n",
    "\n",
    "hispanic_agents = get_nta_stats('Hsp1')\n",
    "print(\"Hispanic Agents: \", hispanic_agents)\n",
    "print(\"Not Hispanic Agents: \", get_nta_stats('NHsp'))\n",
    "\n",
    "hispanic_agents = get_nta_stats('Hsp1')\n",
    "white_agents = get_nta_stats('WtNH')\n",
    "black_agents = get_nta_stats('BlNH')\n",
    "asian_agents = get_nta_stats('AsnNH')\n",
    "native_agents = get_nta_stats('NHPINH')\n",
    "american_indian_alaska_agents = get_nta_stats('AIANNH')\n",
    "\n",
    "# print(hispanic_agents, white_agents, black_agents, asian_agents, native_agents, american_indian_alaska_agents)\n",
    "\n",
    "ans = 0\n",
    "race_mapping = {'hispanic': ['Hsp1'], 'white': ['WtNH'], 'black': ['AsnNH'], 'black': ['BlNH'], \n",
    "                'native': ['NHPINH', 'AIANNH'], 'other': ['OthNH', 'Rc2plNH'], 'asian': ['AsnNH']}\n",
    "\n",
    "# asian, hispanic, white, black, native, other\n",
    "race_list = ['Hsp1', 'WtNH', 'BlNH', 'AsnNH', 'NHPINH', 'AIANNH', 'OthNH', 'Rc2plNH']\n",
    "for ix in race_list:\n",
    "    val = get_nta_stats(ix)\n",
    "    print(ix, val)\n",
    "    ans += val[0]\n",
    "\n",
    "print(ans)"
   ]
  },
  {
   "attachments": {},
   "cell_type": "markdown",
   "metadata": {},
   "source": [
    "# Compute Age, Gender and Race data for given NTA"
   ]
  },
  {
   "cell_type": "code",
   "execution_count": 153,
   "metadata": {},
   "outputs": [],
   "source": [
    "def compute_stats(nta_df, attr, estimation_vars=['E', 'M', 'C', 'P', 'Z'], filter=True):\n",
    "    if filter:\n",
    "        filter_vars = ['E', 'P']\n",
    "        estimation_vars = filter_vars\n",
    "    stats = [nta_df['{}{}'.format(attr, var)].values for var in estimation_vars]\n",
    "    \n",
    "    return stats\n",
    "\n",
    "def merge_nta_stats(nta_df, attr_vals):\n",
    "    '''estimate and percentage'''\n",
    "    args = [compute_stats(nta_df, attr, filter=True) for attr in attr_vals]\n",
    "    ret_e, ret_p = 0, 0\n",
    "    for val in args:\n",
    "        e, p = val\n",
    "        ret_e += e\n",
    "        ret_p += p\n",
    "    \n",
    "    return [ret_e, ret_p]\n",
    "\n",
    "def get_cumulative_stats(nta_df, attr_vals):\n",
    "    total_estimate, total_percentage = merge_nta_stats(nta_df, attr_vals)\n",
    "    return total_estimate, total_percentage\n",
    "\n",
    "def get_gender_split(total_estimate, total_percentage, male_ratio):\n",
    "    total_estimate = total_estimate.item()\n",
    "\n",
    "    male_estimate = int(male_ratio*total_estimate)\n",
    "    female_estimate = total_estimate - male_estimate\n",
    "\n",
    "    male_percentage = male_ratio*total_percentage.item()\n",
    "    female_percentage = total_percentage - male_percentage\n",
    "\n",
    "    return {'male': [male_estimate, male_percentage], 'female': [female_estimate, female_percentage]}"
   ]
  },
  {
   "cell_type": "code",
   "execution_count": 154,
   "metadata": {},
   "outputs": [],
   "source": [
    "def get_nta_race(df, nta_id, race_mapping):\n",
    "    nta_df = df[df['GeoID'] == nta_id]\n",
    "\n",
    "    nta_race = {}\n",
    "    for key in race_mapping:\n",
    "        nta_race[key] = {'percentage': 0.0, 'estimate': 0.0}\n",
    "\n",
    "        for attr_value in race_mapping[key]:\n",
    "            estimate, percentage = compute_stats(nta_df, attr_value, filter=True)\n",
    "\n",
    "            nta_race[key]['percentage'] +=  max(0, percentage[0])\n",
    "            nta_race[key]['estimate'] +=  max(0, estimate[0])\n",
    "\n",
    "    return nta_race"
   ]
  },
  {
   "cell_type": "code",
   "execution_count": 155,
   "metadata": {},
   "outputs": [],
   "source": [
    "def get_nta_age_gender(df, nta_id, age_mapping, male_ratio=0.508):\n",
    "    '''estimate, percentage'''\n",
    "    nta_df = df[df['GeoID'] == nta_id]\n",
    "\n",
    "    nta_age_gender = {}\n",
    "    for key in age_mapping:\n",
    "        attr_vals = age_mapping[key]    \n",
    "        total_estimate, total_percentage = get_cumulative_stats(nta_df, attr_vals)\n",
    "        if key == 'U19':\n",
    "            male_ratio = compute_stats(nta_df, 'PopU18M')[-1] / 100.0 # percentage of male < 19\n",
    "        if key == '65A':\n",
    "            male_ratio = compute_stats(nta_df, 'Pop65plM')[-1] / 100.0 # percentage of male > 65\n",
    "        \n",
    "        age_gender_stats = get_gender_split(total_estimate, total_percentage, male_ratio=male_ratio)\n",
    "\n",
    "        nta_age_gender[key] = age_gender_stats\n",
    "\n",
    "    return nta_age_gender"
   ]
  },
  {
   "cell_type": "code",
   "execution_count": 156,
   "metadata": {},
   "outputs": [],
   "source": [
    "nta_demographics_file = '../nta/demo_2021acs5yr_nta.xlsx'\n",
    "\n",
    "df = pd.read_excel(nta_demographics_file)\n",
    "NTA_ID = 'BK0101'"
   ]
  },
  {
   "cell_type": "code",
   "execution_count": 150,
   "metadata": {},
   "outputs": [
    {
     "name": "stdout",
     "output_type": "stream",
     "text": [
      "{'hispanic': {'percentage': 14.7, 'estimate': 5498.0}, 'white': {'percentage': 72.7, 'estimate': 27273.0}, 'black': {'percentage': 2.5, 'estimate': 937.0}, 'native': {'percentage': 0.1, 'estimate': 22.0}, 'other': {'percentage': 6.199999999999999, 'estimate': 2324.0}, 'asian': {'percentage': 3.9, 'estimate': 1464.0}}\n",
      "37518.0\n"
     ]
    }
   ],
   "source": [
    "race_mapping = {'hispanic': ['Hsp1'], 'white': ['WtNH'], 'black': ['AsnNH'], 'black': ['BlNH'], \n",
    "                'native': ['NHPINH', 'AIANNH'], 'other': ['OthNH', 'Rc2plNH'], 'asian': ['AsnNH']}\n",
    "\n",
    "# race data\n",
    "nta_race = get_nta_race(df, NTA_ID, race_mapping)\n",
    "\n",
    "print(nta_race)\n",
    "\n",
    "p = 0\n",
    "for key in nta_race:\n",
    "    p += nta_race[key]['estimate']\n",
    "print(p)"
   ]
  },
  {
   "cell_type": "code",
   "execution_count": 157,
   "metadata": {},
   "outputs": [],
   "source": [
    "age_mapping = {'U19': ['PopU5', 'Pop5t9', 'Pop10t14', 'Pop15t19'], '20t29': ['Pop20t24', 'Pop25t29'],  \n",
    "                '30t39': ['Pop30t34', 'Pop35t39'], '40t49': ['Pop40t44', 'Pop45t49'], \n",
    "                '50t64': ['Pop50t54', 'Pop55t59', 'Pop60t64'], '65A': ['Pop65t69', 'Pop70t74', 'Pop75t79','Pop80t84', 'Pop85pl']}\n",
    "\n",
    "# age data\n",
    "nta_age_gender = get_nta_age_gender(df, NTA_ID, age_mapping)"
   ]
  },
  {
   "cell_type": "code",
   "execution_count": 158,
   "metadata": {},
   "outputs": [
    {
     "data": {
      "text/plain": [
       "{'U19': {'male': [2445, array([6.534])], 'female': [2496, array([6.666])]},\n",
       " '20t29': {'male': [3327, array([8.91])], 'female': [3396, array([9.09])]},\n",
       " '30t39': {'male': [5728, array([15.2955])],\n",
       "  'female': [5845, array([15.6045])]},\n",
       " '40t49': {'male': [2833, array([7.524])], 'female': [2891, array([7.676])]},\n",
       " '50t64': {'male': [2300, array([6.138])], 'female': [2347, array([6.262])]},\n",
       " '65A': {'male': [1736, array([4.6176])], 'female': [2174, array([5.7824])]}}"
      ]
     },
     "execution_count": 158,
     "metadata": {},
     "output_type": "execute_result"
    }
   ],
   "source": [
    "nta_age_gender"
   ]
  },
  {
   "cell_type": "code",
   "execution_count": 162,
   "metadata": {},
   "outputs": [
    {
     "name": "stdout",
     "output_type": "stream",
     "text": [
      "37518\n"
     ]
    }
   ],
   "source": [
    "val = 0\n",
    "for key in nta_age_gender:\n",
    "    val = val + nta_age_gender[key]['male'][0] + nta_age_gender[key]['female'][0]\n",
    "\n",
    "print(val)"
   ]
  },
  {
   "cell_type": "code",
   "execution_count": 144,
   "metadata": {},
   "outputs": [
    {
     "name": "stdout",
     "output_type": "stream",
     "text": [
      "total:  [array([18545]), array([49.4])] [array([18973]), array([50.6])]\n",
      "total under 18:  [array([2341]), array([49.5])] [array([2390]), array([50.5])]\n",
      "total over 65:  [array([1735]), array([44.4])] [array([2175]), array([55.6])]\n",
      "Middle Age male estimates:  [14469]\n",
      "Middle Age female estimates:  [13980]\n",
      "[0.50859433]\n"
     ]
    }
   ],
   "source": [
    "NTA_ID = 'BK0101'\n",
    "\n",
    "nta_df = df[df['GeoID'] == NTA_ID]\n",
    "\n",
    "total_male = compute_stats(nta_df, 'Male')\n",
    "total_female = compute_stats(nta_df,'Fem')\n",
    "\n",
    "print(\"total: \", total_male, total_female)\n",
    "\n",
    "male_under_18 = compute_stats(nta_df, 'PopU18M')\n",
    "female_under_18 = compute_stats(nta_df, 'PopU18F')\n",
    "\n",
    "print(\"total under 18: \", male_under_18, female_under_18)\n",
    "\n",
    "male_over_65 = compute_stats(nta_df, 'Pop65plM')\n",
    "female_over_65 = compute_stats(nta_df, 'Pop65plF')\n",
    "\n",
    "print(\"total over 65: \", male_over_65, female_over_65)\n",
    "\n",
    "middle_age_male_estimate = total_male[0] - male_under_18[0] - male_over_65[0]\n",
    "middle_age_female_estimate = total_male[0] - female_under_18[0] - female_over_65[0]\n",
    "\n",
    "print(\"Middle Age male estimates: \", middle_age_male_estimate)\n",
    "print(\"Middle Age female estimates: \", middle_age_female_estimate)\n",
    "\n",
    "middle_age_male_ratio = middle_age_male_estimate / (middle_age_male_estimate + middle_age_female_estimate)\n",
    "print(middle_age_male_ratio)"
   ]
  },
  {
   "cell_type": "code",
   "execution_count": 147,
   "metadata": {},
   "outputs": [
    {
     "data": {
      "text/plain": [
       "array([44.4])"
      ]
     },
     "execution_count": 147,
     "metadata": {},
     "output_type": "execute_result"
    }
   ],
   "source": [
    "compute_stats(nta_df, 'Pop65plM')[-1]"
   ]
  },
  {
   "cell_type": "code",
   "execution_count": null,
   "metadata": {},
   "outputs": [],
   "source": []
  }
 ],
 "metadata": {
  "kernelspec": {
   "display_name": "test_birds_env",
   "language": "python",
   "name": "python3"
  },
  "language_info": {
   "codemirror_mode": {
    "name": "ipython",
    "version": 3
   },
   "file_extension": ".py",
   "mimetype": "text/x-python",
   "name": "python",
   "nbconvert_exporter": "python",
   "pygments_lexer": "ipython3",
   "version": "3.8.2"
  },
  "orig_nbformat": 4
 },
 "nbformat": 4,
 "nbformat_minor": 2
}
