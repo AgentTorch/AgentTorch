{
 "cells": [
  {
   "cell_type": "code",
   "execution_count": 14,
   "metadata": {},
   "outputs": [],
   "source": [
    "import numpy as np\n",
    "import pandas as pd\n",
    "import json"
   ]
  },
  {
   "attachments": {},
   "cell_type": "markdown",
   "metadata": {},
   "source": [
    "# Source data"
   ]
  },
  {
   "cell_type": "code",
   "execution_count": 2,
   "metadata": {},
   "outputs": [],
   "source": [
    "demographic_file = '../nta/demo_2021acs5yr_nta.xlsx'\n",
    "economic_file = '../nta/econ_2021acs5yr_nta.xlsx'\n",
    "social_file = '../nta/soc_2021acs5yr_nta.xlsx'"
   ]
  },
  {
   "cell_type": "code",
   "execution_count": 3,
   "metadata": {},
   "outputs": [],
   "source": [
    "race_mapping = {'hispanic': ['Hsp1'], 'white': ['WtNH'], 'black': ['AsnNH'], 'black': ['BlNH'], \n",
    "                'native': ['NHPINH', 'AIANNH'], 'other': ['OthNH', 'Rc2plNH'], 'asian': ['AsnNH']}\n",
    "\n",
    "age_mapping = {'U19': ['PopU5', 'Pop5t9', 'Pop10t14', 'Pop15t19'], '20t29': ['Pop20t24', 'Pop25t29'],  \n",
    "                '30t39': ['Pop30t34', 'Pop35t39'], '40t49': ['Pop40t44', 'Pop45t49'], \n",
    "                '50t64': ['Pop50t54', 'Pop55t59', 'Pop60t64'], '65A': ['Pop65t69', 'Pop70t74', 'Pop75t79','Pop80t84', 'Pop85pl']}\n",
    "\n",
    "education_mapping = {'high_school': ['EA_LT9G', 'EA_9t12ND', 'EA_HScGrd'],\n",
    "                    'college_degree': ['EA_SClgND', 'EA_AscD', 'EA_BchD'],\n",
    "                    'graduate_degree': ['EA_GrdPfD'],\n",
    "                    'studying': ['Pop3plEn']}\n",
    "\n",
    "employment_insurance_mapping = {'employed_insured': 'EmHIns', 'employed_uninsured': 'EmNHIns',\n",
    "                                'unemployed_insured': 'UEmHIns', 'unemployed_uninsured': 'UEmNHIns',\n",
    "                                'nolabor_insured': 'NLFHIns', 'nolabor_uninsured': 'NLFNHIns'}"
   ]
  },
  {
   "attachments": {},
   "cell_type": "markdown",
   "metadata": {},
   "source": [
    "# parsers"
   ]
  },
  {
   "cell_type": "code",
   "execution_count": 9,
   "metadata": {},
   "outputs": [],
   "source": [
    "def compute_stats(nta_df, attr, estimation_vars=['E', 'M', 'C', 'P', 'Z'], filter=True):\n",
    "    if filter:\n",
    "        filter_vars = ['E', 'P']\n",
    "        estimation_vars = filter_vars\n",
    "    stats = [nta_df['{}{}'.format(attr, var)].values for var in estimation_vars]\n",
    "    \n",
    "    return stats\n",
    "\n",
    "def merge_nta_stats(nta_df, attr_vals):\n",
    "    '''estimate and percentage'''\n",
    "    args = [compute_stats(nta_df, attr, filter=True) for attr in attr_vals]\n",
    "    ret_e, ret_p = 0, 0\n",
    "    for val in args:\n",
    "        e, p = val\n",
    "        ret_e += e\n",
    "        ret_p += p\n",
    "    \n",
    "    return [ret_e, ret_p]\n",
    "\n",
    "def get_gender_split(total_estimate, total_percentage, male_ratio):\n",
    "    total_estimate = total_estimate.item()\n",
    "\n",
    "    male_estimate = int(male_ratio*total_estimate)\n",
    "    female_estimate = total_estimate - male_estimate\n",
    "\n",
    "    male_percentage = (male_ratio*total_percentage.item())\n",
    "    female_percentage = (total_percentage - male_percentage)\n",
    "\n",
    "    male_probability, female_probability = male_percentage / 100, female_percentage / 100\n",
    "\n",
    "    return_dict = {'male': [male_estimate, male_probability], 'female': [female_estimate, female_probability]}\n",
    "\n",
    "    #return_dict = {'estimate': {'male': male_estimate, 'female': female_estimate}, 'probability': {'male': male_percentage, 'female': female_percentage}}\n",
    "\n",
    "    return return_dict"
   ]
  },
  {
   "attachments": {},
   "cell_type": "markdown",
   "metadata": {},
   "source": [
    "## helpers: Age, Race, Gender, Education, Employment, Insurance, Occupation [to be done]"
   ]
  },
  {
   "cell_type": "code",
   "execution_count": 10,
   "metadata": {},
   "outputs": [],
   "source": [
    "# Property 1: Race\n",
    "def get_nta_race(df, nta_id, race_mapping):\n",
    "    nta_df = df[df['GeoID'] == nta_id]\n",
    "\n",
    "    nta_race = {}\n",
    "    for key in race_mapping:\n",
    "        nta_race[key] = {}\n",
    "\n",
    "        estimate, percentage = merge_nta_stats(nta_df, race_mapping[key])\n",
    "\n",
    "        nta_race[key]['estimate'] = max(0, estimate[0])\n",
    "        nta_race[key]['probability'] = max(0, percentage[0])/100\n",
    "\n",
    "    return nta_race\n",
    "\n",
    "\n",
    "# Property 2,3: Age and Gender\n",
    "\n",
    "def get_nta_age_gender(df, nta_id, age_mapping, male_ratio=0.508):\n",
    "    '''estimate, percentage'''\n",
    "    nta_df = df[df['GeoID'] == nta_id]\n",
    "\n",
    "    nta_age_gender = {}\n",
    "    for key in age_mapping:\n",
    "        attr_vals = age_mapping[key]\n",
    "\n",
    "        total_estimate, total_percentage = merge_nta_stats(nta_df, attr_vals)\n",
    "        if key == 'U19':\n",
    "            male_ratio = compute_stats(nta_df, 'PopU18M')[-1] / 100.0 # percentage of male < 19\n",
    "        if key == '65A':\n",
    "            male_ratio = compute_stats(nta_df, 'Pop65plM')[-1] / 100.0 # percentage of male > 65\n",
    "        \n",
    "        gender_split_stats = get_gender_split(total_estimate, total_percentage, male_ratio=male_ratio)\n",
    "\n",
    "        male_stats = gender_split_stats['male']\n",
    "        female_stats = gender_split_stats['female']\n",
    "\n",
    "        key_male = key + '_male'\n",
    "        key_female = key + '_female'\n",
    "\n",
    "        nta_age_gender[key_male] = {'estimate': male_stats[0], 'probability': male_stats[1]}\n",
    "        nta_age_gender[key_female] = {'estimate': female_stats[0], 'probability': female_stats[1]}\n",
    "\n",
    "        # nta_age_gender[key] = age_gender_stats\n",
    "\n",
    "    return nta_age_gender\n",
    "\n",
    "\n",
    "# Property 4: Education Status\n",
    "\n",
    "def get_nta_education(df, nta_id, education_mapping):\n",
    "    '''Education status can be completed (>25) or studying (for <=25)'''\n",
    "    nta_df = df[df['GeoID'] == nta_id]\n",
    "    nta_education = {} # for agents 25 and above\n",
    "\n",
    "    studying = compute_stats(nta_df, 'Pop3plEn')[0]\n",
    "    nolonger_studying = compute_stats(nta_df, 'EA_P25pl')[0]\n",
    "    total_educated_studying = studying + nolonger_studying\n",
    "\n",
    "    for key in education_mapping: # education_mapping is for >25 yr old agents\n",
    "        nta_education[key] = {}\n",
    "        estimate, _ = merge_nta_stats(nta_df, education_mapping[key])\n",
    "\n",
    "        nta_education[key]['estimate'] = max(0, estimate[0])\n",
    "        nta_education[key]['probability'] = nta_education[key]['estimate'] / total_educated_studying\n",
    "\n",
    "    return nta_education\n",
    "\n",
    "\n",
    "# Property 5,6: Employment and Insurance status\n",
    "\n",
    "def get_nta_employ_insure(df, nta_id, employ_insure_mapping):\n",
    "    nta_df = df[df['GeoID']==nta_id]\n",
    "\n",
    "    total_eligible_agents = compute_stats(nta_df, 'CNI1864_2')[0]\n",
    "\n",
    "    nta_employ_insure = {}\n",
    "    for category in employ_insure_mapping:\n",
    "        estimate, _ = compute_stats(nta_df, employ_insure_mapping[category])\n",
    "\n",
    "        nta_employ_insure[category] = {}\n",
    "        nta_employ_insure[category]['estimate'] = estimate[0]\n",
    "        nta_employ_insure[category]['probability'] = estimate[0] / total_eligible_agents\n",
    "\n",
    "    return nta_employ_insure"
   ]
  },
  {
   "attachments": {},
   "cell_type": "markdown",
   "metadata": {},
   "source": [
    "# processing"
   ]
  },
  {
   "cell_type": "code",
   "execution_count": 42,
   "metadata": {},
   "outputs": [],
   "source": [
    "# education from social file\n",
    "social_df = pd.read_excel(social_file)\n",
    "# age, gender, race from demographic file\n",
    "demo_df = pd.read_excel(demographic_file)\n",
    "# employment, insurance from economic file\n",
    "econ_df = pd.read_excel(economic_file)"
   ]
  },
  {
   "cell_type": "code",
   "execution_count": 11,
   "metadata": {},
   "outputs": [],
   "source": [
    "NTA_ID = 'BK0101'"
   ]
  },
  {
   "cell_type": "code",
   "execution_count": 13,
   "metadata": {},
   "outputs": [
    {
     "name": "stdout",
     "output_type": "stream",
     "text": [
      "Total agents:  37518  prob:  1.0\n",
      "Total agents:  37518  prob:  [1.001]\n",
      "Total employed agents:  28760  prob:  [1.]\n",
      "Total education agents:  36091  prob:  [1.]\n"
     ]
    }
   ],
   "source": [
    "nta_race = get_nta_race(demo_df, NTA_ID, race_mapping)\n",
    "print(\"Total agents: \", sum([nta_race[key_ix]['estimate'] for key_ix in nta_race]), \" prob: \", sum([nta_race[key_ix]['probability'] for key_ix in nta_race]))\n",
    "\n",
    "nta_age_gender = get_nta_age_gender(demo_df, NTA_ID, age_mapping)\n",
    "print(\"Total agents: \", sum([nta_age_gender[key_ix]['estimate'] for key_ix in nta_age_gender]), \" prob: \", sum([nta_age_gender[key_ix]['probability'] for key_ix in nta_age_gender]))\n",
    "\n",
    "nta_employ_insure = get_nta_employ_insure(econ_df, NTA_ID, employment_insurance_mapping)\n",
    "print(\"Total employed agents: \", sum([nta_employ_insure[key_ix]['estimate'] for key_ix in nta_employ_insure]), \" prob: \", sum([nta_employ_insure[key_ix]['probability'] for key_ix in nta_employ_insure]))\n",
    "\n",
    "nta_education = get_nta_education(social_df, NTA_ID, education_mapping)\n",
    "print(\"Total education agents: \", sum([nta_education[key_ix]['estimate'] for key_ix in nta_education]), \" prob: \", sum([nta_education[key_ix]['probability'] for key_ix in nta_education]))"
   ]
  },
  {
   "cell_type": "code",
   "execution_count": 19,
   "metadata": {},
   "outputs": [
    {
     "name": "stdout",
     "output_type": "stream",
     "text": [
      "{'nta_id': 'BK0101', 'num_agents': 37518, 'race_prob': [0.147, 0.727, 0.025, 0.0, 0.06199999999999999, 0.039], 'age_gender_prob': [array([0.06534]), array([0.06666]), array([0.0891]), array([0.0909]), array([0.152955]), array([0.156045]), array([0.07524]), array([0.07676]), array([0.06138]), array([0.06262]), array([0.046176]), array([0.057824])], 'education_prob': [array([0.18614059]), array([0.48399878]), array([0.18192901]), array([0.14793162])], 'insurance_employ_prob': [array([0.74954798]), array([0.06442976]), array([0.05027816]), array([0.01630737]), array([0.11001391]), array([0.00942281])]}\n"
     ]
    }
   ],
   "source": [
    "# NTA_ID: {'num_agents': [], 'race_prob': [], 'age_gender_prob': [], 'education_prob': [], 'insurance_employ_prob': []}\n",
    "\n",
    "num_agents_age = sum([nta_race[key_ix]['estimate'] for key_ix in nta_race])\n",
    "num_agents_race = sum([nta_age_gender[key_ix]['estimate'] for key_ix in nta_age_gender])\n",
    "\n",
    "assert int(num_agents_age) == int(num_agents_race)\n",
    "\n",
    "race_prob = [nta_race[key_ix]['probability'] for key_ix in nta_race]\n",
    "age_gender_prob = [nta_age_gender[key_ix]['probability'] for key_ix in nta_age_gender]\n",
    "education_prob = [nta_education[key_ix]['probability'] for key_ix in nta_education]\n",
    "insurance_employ_prob = [nta_employ_insure[key_ix]['probability'] for key_ix in nta_employ_insure]\n",
    "\n",
    "nta_dict = {}\n",
    "\n",
    "nta_dict['nta_id'] = NTA_ID\n",
    "nta_dict['num_agents'] = num_agents_age\n",
    "\n",
    "nta_dict['race_prob'] = race_prob\n",
    "nta_dict['age_gender_prob'] = age_gender_prob\n",
    "nta_dict['education_prob'] = education_prob\n",
    "nta_dict['insurance_employ_prob'] = insurance_employ_prob\n",
    "\n",
    "print(nta_dict)"
   ]
  },
  {
   "cell_type": "code",
   "execution_count": 20,
   "metadata": {},
   "outputs": [
    {
     "name": "stdout",
     "output_type": "stream",
     "text": [
      "0    BK0101\n",
      "1    BK0102\n",
      "2    BK0103\n",
      "3    BK0104\n",
      "4    BK0201\n",
      "5    BK0202\n",
      "6    BK0203\n",
      "7    BK0204\n",
      "8    BK0301\n",
      "9    BK0302\n",
      "Name: GeoID, dtype: object\n"
     ]
    }
   ],
   "source": [
    "all_nta_ids = demo_df['GeoID']"
   ]
  },
  {
   "cell_type": "code",
   "execution_count": 21,
   "metadata": {},
   "outputs": [
    {
     "data": {
      "text/plain": [
       "262"
      ]
     },
     "execution_count": 21,
     "metadata": {},
     "output_type": "execute_result"
    }
   ],
   "source": [
    "all_nta_ids.shape[0]"
   ]
  },
  {
   "cell_type": "code",
   "execution_count": 22,
   "metadata": {},
   "outputs": [],
   "source": [
    "import numpy as np"
   ]
  },
  {
   "cell_type": "code",
   "execution_count": 34,
   "metadata": {},
   "outputs": [],
   "source": [
    "file_path = '../generate_data/all_nta_dict.npy'\n",
    "\n",
    "nta_dicts = np.load(file_path, allow_pickle=True).item()"
   ]
  },
  {
   "cell_type": "code",
   "execution_count": 35,
   "metadata": {},
   "outputs": [
    {
     "data": {
      "text/plain": [
       "dict_keys(['BK0101', 'BK0102', 'BK0103'])"
      ]
     },
     "execution_count": 35,
     "metadata": {},
     "output_type": "execute_result"
    }
   ],
   "source": [
    "nta_dicts.keys()"
   ]
  },
  {
   "cell_type": "code",
   "execution_count": 41,
   "metadata": {},
   "outputs": [
    {
     "data": {
      "text/plain": [
       "1.0"
      ]
     },
     "execution_count": 41,
     "metadata": {},
     "output_type": "execute_result"
    }
   ],
   "source": [
    "sum(nta_dicts['BK0101']['insurance_employ_prob'])"
   ]
  },
  {
   "cell_type": "code",
   "execution_count": null,
   "metadata": {},
   "outputs": [],
   "source": []
  }
 ],
 "metadata": {
  "kernelspec": {
   "display_name": "test_birds_env",
   "language": "python",
   "name": "python3"
  },
  "language_info": {
   "codemirror_mode": {
    "name": "ipython",
    "version": 3
   },
   "file_extension": ".py",
   "mimetype": "text/x-python",
   "name": "python",
   "nbconvert_exporter": "python",
   "pygments_lexer": "ipython3",
   "version": "3.8.2"
  },
  "orig_nbformat": 4
 },
 "nbformat": 4,
 "nbformat_minor": 2
}
