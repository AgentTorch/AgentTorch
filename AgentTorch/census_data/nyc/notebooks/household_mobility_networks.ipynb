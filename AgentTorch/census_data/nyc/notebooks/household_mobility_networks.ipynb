{
 "cells": [
  {
   "cell_type": "code",
   "execution_count": 4,
   "metadata": {},
   "outputs": [],
   "source": [
    "import numpy as np\n",
    "import pandas as pd"
   ]
  },
  {
   "cell_type": "code",
   "execution_count": 5,
   "metadata": {},
   "outputs": [],
   "source": [
    "NTA_ID = 'BK0101'"
   ]
  },
  {
   "cell_type": "code",
   "execution_count": 81,
   "metadata": {},
   "outputs": [],
   "source": [
    "social_file = '../nta/soc_2021acs5yr_nta.xlsx'\n",
    "\n",
    "social_df = pd.read_excel(social_file)\n",
    "\n",
    "nta_social_df = social_df[social_df['GeoID'] == NTA_ID]"
   ]
  },
  {
   "cell_type": "code",
   "execution_count": 79,
   "metadata": {},
   "outputs": [],
   "source": [
    "def compute_stats(nta_df, attr, estimation_vars=['E', 'M', 'C', 'P', 'Z'], filter=True):\n",
    "    if filter:\n",
    "        filter_vars = ['E', 'P']\n",
    "        estimation_vars = filter_vars\n",
    "    stats = [nta_df['{}{}'.format(attr, var)].values for var in estimation_vars]\n",
    "    \n",
    "    return stats\n",
    "\n",
    "def merge_nta_stats(nta_df, attr_vals):\n",
    "    '''estimate and percentage'''\n",
    "    args = [compute_stats(nta_df, attr, filter=True) for attr in attr_vals]\n",
    "    ret_e, ret_p = 0, 0\n",
    "    for val in args:\n",
    "        e, p = val\n",
    "        ret_e += e\n",
    "        ret_p += p\n",
    "    \n",
    "    return [ret_e, ret_p]"
   ]
  },
  {
   "cell_type": "code",
   "execution_count": 6,
   "metadata": {},
   "outputs": [],
   "source": [
    "nta_households_file = '../generate_data/all_nta_households.npy'\n",
    "nta_agents_file = '../generate_data/all_nta_agents.npy'\n",
    "\n",
    "nta_households_data = np.load(nta_households_file, allow_pickle=True).item()\n",
    "nta_agents_data = np.load(nta_agents_file, allow_pickle=True).item()"
   ]
  },
  {
   "cell_type": "code",
   "execution_count": 7,
   "metadata": {},
   "outputs": [],
   "source": [
    "nta_metadata = np.load('nta_metadata.npy', allow_pickle=True).item()\n",
    "nta_county = nta_metadata[NTA_ID][0]\n",
    "\n",
    "county_level_household_sizes = '../data/metadata/360{}/agents_household_sizes.csv'.format(nta_county)\n",
    "size_df = pd.read_csv(county_level_household_sizes)"
   ]
  },
  {
   "cell_type": "code",
   "execution_count": 20,
   "metadata": {},
   "outputs": [],
   "source": [
    "household_sizes_prob = dict(zip(size_df.HouseholdSize, size_df.Number / sum(size_df.Number)))\n",
    "household_sizes_list = size_df.HouseholdSize\n",
    "household_sizes_prob_list = size_df.Number / sum(size_df.Number)"
   ]
  },
  {
   "cell_type": "code",
   "execution_count": 10,
   "metadata": {},
   "outputs": [],
   "source": [
    "num_households_nta = nta_households_data[NTA_ID]['num_households']\n",
    "num_agents_nta = nta_agents_data[NTA_ID]['num_agents']"
   ]
  },
  {
   "cell_type": "code",
   "execution_count": 18,
   "metadata": {},
   "outputs": [],
   "source": [
    "def nta_agents_to_household(\n",
    "    households_sizes_list,\n",
    "    households_sizes_prob_list,\n",
    "    num_agents, num_households, agents_idx):\n",
    "    '''Assigns household index to agents based on the household size distribution\n",
    "        Household and precinct should not be independent, \n",
    "        so here we also assign a precinct to the household\n",
    "    '''\n",
    "\n",
    "    children, male_adults, female_adults, elderly = agents_by_age_cat\n",
    "\n",
    "    household_id = 0\n",
    "    total_agents_unassigned = num_agents\n",
    "    agent_households = []\n",
    "    household_agents = []\n",
    "    last_agent_id = 0\n",
    "    while total_agents_unassigned > 0:\n",
    "        household_size = np.random.choice(households_sizes_list, \n",
    "                            p=households_sizes_prob_list)\n",
    "        if (household_size > total_agents_unassigned):\n",
    "            household_size = total_agents_unassigned\n",
    "\n",
    "        if household_size == 1:\n",
    "            '''elderly with some p11 and adult with (1-p11)'''\n",
    "            elderly_prob = prob_list['single_elderly_alone']\n",
    "            \n",
    "        \n",
    "        elif household_size == 2:\n",
    "            '''married adult with p21; male_adult + child with p22, female_adult + child with p23; random with (1 - p21, p22, p23)'''\n",
    "        \n",
    "        elif household_size == 3:\n",
    "            '''married adult with child assign with p4'''\n",
    "        \n",
    "        elif household_size == 4:\n",
    "            pass\n",
    "            \n",
    "        elif household_size > 4:\n",
    "            '''family with prob p1; random set with (1-p1)'''\n",
    "\n",
    "\n",
    "        agent_households.extend([household_id]*household_size)\n",
    "        household_id += 1\n",
    "        total_agents_unassigned -= household_size\n",
    "        household_agents.append(list(range(last_agent_id, last_agent_id+household_size)))\n",
    "        last_agent_id += household_size\n",
    "\n",
    "    print(\"Assigned households: \", len(household_agents), num_households)\n",
    "\n",
    "    return agent_households, household_agents\n",
    "\n",
    "'''\n",
    "To populate a household:\n",
    "1. filter agents by age [children, adult, elderly]\n",
    "3.  Sample num agents\n",
    "    - if size 1: elderly with some p11 and adult with (1-p11)\n",
    "    - if size 2: married adult with p21; male_adult + child with p22, female_adult + child with p23, adult + elderly p24\n",
    "    - if size 3: married adult with child assign\n",
    "    - if size 4: married adult with child\n",
    "    - if size 5: married adult with children with p51; married adult with children and elderly p52\n",
    "    - if size 6: married adult with children and elderly with \n",
    "Sample household race and num_agents.\n",
    "\n",
    "'''"
   ]
  },
  {
   "cell_type": "code",
   "execution_count": 23,
   "metadata": {},
   "outputs": [
    {
     "name": "stdout",
     "output_type": "stream",
     "text": [
      "Assigned households:  14798 [17487]\n"
     ]
    }
   ],
   "source": [
    "agent_households, household_agents = nta_agents_to_household(household_sizes_list, household_sizes_prob_list, num_agents_nta, num_households_nta)"
   ]
  },
  {
   "cell_type": "code",
   "execution_count": 64,
   "metadata": {},
   "outputs": [],
   "source": [
    "def assing_agent_properties(nta_agents_data):\n",
    "    num_agents = nta_agents_data['num_agents']\n",
    "    age_gender_prob_list = nta_agents_data['age_gender_prob']\n",
    "    race_prob_list = nta_agents_data['race_prob']\n",
    "\n",
    "def assign_age_gender_to_agents(nta_agents_data):\n",
    "    num_agents = nta_agents_data['num_agents']\n",
    "    age_gender_prob_list = nta_agents_data['age_gender_prob']\n",
    "    age_gender_prob_list = np.array(age_gender_prob_list)/sum(age_gender_prob_list)\n",
    "\n",
    "    agent_age_gender_list = np.random.choice(len(age_gender_prob_list), p=age_gender_prob_list, size=num_agents)\n",
    "    \n",
    "    return agent_age_gender_list"
   ]
  },
  {
   "cell_type": "code",
   "execution_count": 69,
   "metadata": {},
   "outputs": [
    {
     "data": {
      "text/plain": [
       "array([ 1,  7,  1,  3,  7,  2,  0, 11,  0,  2])"
      ]
     },
     "execution_count": 69,
     "metadata": {},
     "output_type": "execute_result"
    }
   ],
   "source": [
    "agent_age_gender_list = assign_age_gender_to_agents(nta_agents_data[NTA_ID])\n",
    "\n",
    "agent_age_gender_list[:10]"
   ]
  },
  {
   "cell_type": "code",
   "execution_count": 75,
   "metadata": {},
   "outputs": [
    {
     "name": "stdout",
     "output_type": "stream",
     "text": [
      "(array([ 0,  1,  2,  3,  4,  5,  6,  7,  8,  9, 10, 11]), array([2189, 2657, 2931, 3765, 5817, 6035, 2493, 2953, 2355, 2413, 1459,\n",
      "       2451]))\n"
     ]
    }
   ],
   "source": [
    "print(np.unique(agent_age_gender_list, return_counts=True))"
   ]
  },
  {
   "cell_type": "code",
   "execution_count": 50,
   "metadata": {},
   "outputs": [],
   "source": [
    "def fix_inconsistent_array(data_array):\n",
    "    for ix in range(len(data_array)):\n",
    "        try:\n",
    "            print(data_array[ix].dtype)\n",
    "            data_array[ix] = data_array[ix].item()\n",
    "        except:\n",
    "            continue\n",
    "    \n",
    "    return data_array\n",
    "\n",
    "nta_agents_data[NTA_ID]['age_gender_prob'] = fix_inconsistent_array(nta_agents_data[NTA_ID]['age_gender_prob'])"
   ]
  },
  {
   "cell_type": "code",
   "execution_count": 84,
   "metadata": {},
   "outputs": [
    {
     "name": "stdout",
     "output_type": "stream",
     "text": [
      "[17487]\n"
     ]
    },
    {
     "data": {
      "text/plain": [
       "array([0.26937669])"
      ]
     },
     "execution_count": 84,
     "metadata": {},
     "output_type": "execute_result"
    }
   ],
   "source": [
    "total_households = compute_stats(nta_social_df, 'HH1')[0]\n",
    "print(total_households)\n",
    "# alone households\n",
    "\n",
    "single_person_households = compute_stats(nta_social_df, 'NFamA')[0]\n",
    "\n",
    "elderly_living_alone = compute_stats(nta_social_df, 'NFamA65pl')[0]\n",
    "non_elderly_living_alone = single_person_households - elderly_living_alone\n",
    "\n",
    "single_household_elderly_prob = elderly_living_alone / single_person_households\n",
    "\n",
    "single_household_elderly_prob"
   ]
  },
  {
   "cell_type": "code",
   "execution_count": 33,
   "metadata": {},
   "outputs": [
    {
     "name": "stdout",
     "output_type": "stream",
     "text": [
      "['U19_male', 'U19_female', '20t29_male', '20t29_female', '30t39_male', '30t39_female', '40t49_male', '40t49_female', '50t64_male', '50t64_female', '65A_male', '65A_female']\n",
      "12\n"
     ]
    },
    {
     "data": {
      "text/plain": [
       "(None, None)"
      ]
     },
     "execution_count": 33,
     "metadata": {},
     "output_type": "execute_result"
    }
   ],
   "source": [
    "age_mapping = {'U19': ['PopU5', 'Pop5t9', 'Pop10t14', 'Pop15t19'], '20t29': ['Pop20t24', 'Pop25t29'],  \n",
    "            '30t39': ['Pop30t34', 'Pop35t39'], '40t49': ['Pop40t44', 'Pop45t49'], \n",
    "            '50t64': ['Pop50t54', 'Pop55t59', 'Pop60t64'], '65A': ['Pop65t69', 'Pop70t74', 'Pop75t79','Pop80t84', 'Pop85pl']}\n",
    "\n",
    "age_gender_mapping_keys = []\n",
    "for key in age_mapping.keys():\n",
    "    age_gender_mapping_keys.append(key+'_male')\n",
    "    age_gender_mapping_keys.append(key+'_female')\n",
    "\n",
    "print(age_gender_mapping_keys), print(len(age_gender_mapping_keys))"
   ]
  }
 ],
 "metadata": {
  "kernelspec": {
   "display_name": "test_birds_env",
   "language": "python",
   "name": "python3"
  },
  "language_info": {
   "codemirror_mode": {
    "name": "ipython",
    "version": 3
   },
   "file_extension": ".py",
   "mimetype": "text/x-python",
   "name": "python",
   "nbconvert_exporter": "python",
   "pygments_lexer": "ipython3",
   "version": "3.8.2"
  },
  "orig_nbformat": 4
 },
 "nbformat": 4,
 "nbformat_minor": 2
}
