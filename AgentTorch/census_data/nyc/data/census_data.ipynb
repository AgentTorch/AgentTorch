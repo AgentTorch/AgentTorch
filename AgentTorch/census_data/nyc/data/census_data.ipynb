{
 "cells": [
  {
   "cell_type": "code",
   "execution_count": 15,
   "metadata": {},
   "outputs": [],
   "source": [
    "import requests\n",
    "import pandas as pd\n",
    "import pdb\n",
    "import json\n",
    "import os\n",
    "\n",
    "from census_data import obtain_household_size_distribution, obtain_age_distribution, obtain_occupation_distribution\n",
    "\n",
    "# All census variables: https://api.census.gov/data/2020/acs/acs5/variables.html"
   ]
  },
  {
   "attachments": {},
   "cell_type": "markdown",
   "metadata": {},
   "source": []
  },
  {
   "cell_type": "code",
   "execution_count": 16,
   "metadata": {},
   "outputs": [],
   "source": [
    "CENSUS_API_KEY = \"de71ab1394b792bb409c0fc5b67ffaf792b7fe6f\""
   ]
  },
  {
   "cell_type": "code",
   "execution_count": 14,
   "metadata": {},
   "outputs": [],
   "source": [
    "# c = Census(CENSUS_API_KEY)\n",
    "# state_fips = states.NY.fips"
   ]
  },
  {
   "cell_type": "code",
   "execution_count": null,
   "metadata": {},
   "outputs": [],
   "source": [
    "# The Bronx is Bronx County (ANSI / FIPS 36005)\n",
    "# Brooklyn is Kings County (ANSI / FIPS 36047)\n",
    "# Manhattan is New York County (ANSI / FIPS 36061)\n",
    "# Queens is Queens County (ANSI / FIPS 36081)\n",
    "# Staten Island is Richmond County (ANSI / FIPS 36085)\n",
    "\n",
    "NYC_counties = ['36005', '36047', '36061', '36081', '36085']\n",
    "\n",
    "for county_fips in NYC_counties:\n",
    "    # create directory if it does not exist\n",
    "    if not os.path.exists(f\"./{county_fips}\"):\n",
    "        os.makedirs(f\"./{county_fips}\")\n",
    "\n",
    "    print(\"processing_county: \", county_fips)\n",
    "\n",
    "    print(\"generating.. households\")\n",
    "    obtain_household_size_distribution(county_fips, CENSUS_API_KEY)\n",
    "    print(\"generating.. age\")\n",
    "    obtain_age_distribution(county_fips, CENSUS_API_KEY)\n",
    "    print(\"generating.. occupations\")\n",
    "    obtain_occupation_distribution(county_fips, CENSUS_API_KEY)"
   ]
  }
 ],
 "metadata": {
  "kernelspec": {
   "display_name": "test_birds_env",
   "language": "python",
   "name": "python3"
  },
  "language_info": {
   "codemirror_mode": {
    "name": "ipython",
    "version": 3
   },
   "file_extension": ".py",
   "mimetype": "text/x-python",
   "name": "python",
   "nbconvert_exporter": "python",
   "pygments_lexer": "ipython3",
   "version": "3.8.2"
  },
  "orig_nbformat": 4
 },
 "nbformat": 4,
 "nbformat_minor": 2
}
