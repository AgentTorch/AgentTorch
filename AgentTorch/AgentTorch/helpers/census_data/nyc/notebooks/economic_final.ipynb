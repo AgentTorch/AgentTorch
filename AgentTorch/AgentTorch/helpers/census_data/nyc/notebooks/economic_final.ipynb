{
 "cells": [
  {
   "cell_type": "code",
   "execution_count": 1,
   "metadata": {},
   "outputs": [],
   "source": [
    "import numpy as np\n",
    "import pandas as pd"
   ]
  },
  {
   "cell_type": "code",
   "execution_count": 3,
   "metadata": {},
   "outputs": [
    {
     "data": {
      "text/html": [
       "<div>\n",
       "<style scoped>\n",
       "    .dataframe tbody tr th:only-of-type {\n",
       "        vertical-align: middle;\n",
       "    }\n",
       "\n",
       "    .dataframe tbody tr th {\n",
       "        vertical-align: top;\n",
       "    }\n",
       "\n",
       "    .dataframe thead th {\n",
       "        text-align: right;\n",
       "    }\n",
       "</style>\n",
       "<table border=\"1\" class=\"dataframe\">\n",
       "  <thead>\n",
       "    <tr style=\"text-align: right;\">\n",
       "      <th></th>\n",
       "      <th>GeoType</th>\n",
       "      <th>NTAType</th>\n",
       "      <th>GeogName</th>\n",
       "      <th>GeoID</th>\n",
       "      <th>Borough</th>\n",
       "      <th>Pop16plE</th>\n",
       "      <th>Pop16plM</th>\n",
       "      <th>Pop16plC</th>\n",
       "      <th>Pop16plP</th>\n",
       "      <th>Pop16plZ</th>\n",
       "      <th>...</th>\n",
       "      <th>Pv400t499E</th>\n",
       "      <th>Pv400t499M</th>\n",
       "      <th>Pv400t499C</th>\n",
       "      <th>Pv400t499P</th>\n",
       "      <th>Pv400t499Z</th>\n",
       "      <th>Pv500plE</th>\n",
       "      <th>Pv500plM</th>\n",
       "      <th>Pv500plC</th>\n",
       "      <th>Pv500plP</th>\n",
       "      <th>Pv500plZ</th>\n",
       "    </tr>\n",
       "  </thead>\n",
       "  <tbody>\n",
       "    <tr>\n",
       "      <th>0</th>\n",
       "      <td>NTA2020</td>\n",
       "      <td>0</td>\n",
       "      <td>Greenpoint</td>\n",
       "      <td>BK0101</td>\n",
       "      <td>Brooklyn</td>\n",
       "      <td>33164</td>\n",
       "      <td>1421.0</td>\n",
       "      <td>2.6</td>\n",
       "      <td>100.0</td>\n",
       "      <td>0.0</td>\n",
       "      <td>...</td>\n",
       "      <td>4397</td>\n",
       "      <td>592.0</td>\n",
       "      <td>8.2</td>\n",
       "      <td>11.8</td>\n",
       "      <td>1.5</td>\n",
       "      <td>18983</td>\n",
       "      <td>1191.0</td>\n",
       "      <td>3.8</td>\n",
       "      <td>50.8</td>\n",
       "      <td>2.3</td>\n",
       "    </tr>\n",
       "    <tr>\n",
       "      <th>1</th>\n",
       "      <td>NTA2020</td>\n",
       "      <td>0</td>\n",
       "      <td>Williamsburg</td>\n",
       "      <td>BK0102</td>\n",
       "      <td>Brooklyn</td>\n",
       "      <td>52924</td>\n",
       "      <td>2087.0</td>\n",
       "      <td>2.4</td>\n",
       "      <td>100.0</td>\n",
       "      <td>0.0</td>\n",
       "      <td>...</td>\n",
       "      <td>4416</td>\n",
       "      <td>660.0</td>\n",
       "      <td>9.1</td>\n",
       "      <td>7.0</td>\n",
       "      <td>1.0</td>\n",
       "      <td>28922</td>\n",
       "      <td>1564.0</td>\n",
       "      <td>3.3</td>\n",
       "      <td>45.8</td>\n",
       "      <td>1.6</td>\n",
       "    </tr>\n",
       "    <tr>\n",
       "      <th>2</th>\n",
       "      <td>NTA2020</td>\n",
       "      <td>0</td>\n",
       "      <td>South Williamsburg</td>\n",
       "      <td>BK0103</td>\n",
       "      <td>Brooklyn</td>\n",
       "      <td>24719</td>\n",
       "      <td>1651.0</td>\n",
       "      <td>4.1</td>\n",
       "      <td>100.0</td>\n",
       "      <td>0.0</td>\n",
       "      <td>...</td>\n",
       "      <td>1629</td>\n",
       "      <td>477.0</td>\n",
       "      <td>17.8</td>\n",
       "      <td>3.5</td>\n",
       "      <td>1.0</td>\n",
       "      <td>3716</td>\n",
       "      <td>844.0</td>\n",
       "      <td>13.8</td>\n",
       "      <td>7.9</td>\n",
       "      <td>1.7</td>\n",
       "    </tr>\n",
       "    <tr>\n",
       "      <th>3</th>\n",
       "      <td>NTA2020</td>\n",
       "      <td>0</td>\n",
       "      <td>East Williamsburg</td>\n",
       "      <td>BK0104</td>\n",
       "      <td>Brooklyn</td>\n",
       "      <td>45574</td>\n",
       "      <td>1817.0</td>\n",
       "      <td>2.4</td>\n",
       "      <td>100.0</td>\n",
       "      <td>0.0</td>\n",
       "      <td>...</td>\n",
       "      <td>4949</td>\n",
       "      <td>885.0</td>\n",
       "      <td>10.9</td>\n",
       "      <td>9.3</td>\n",
       "      <td>1.6</td>\n",
       "      <td>15435</td>\n",
       "      <td>1058.0</td>\n",
       "      <td>4.2</td>\n",
       "      <td>28.9</td>\n",
       "      <td>1.5</td>\n",
       "    </tr>\n",
       "    <tr>\n",
       "      <th>4</th>\n",
       "      <td>NTA2020</td>\n",
       "      <td>0</td>\n",
       "      <td>Brooklyn Heights</td>\n",
       "      <td>BK0201</td>\n",
       "      <td>Brooklyn</td>\n",
       "      <td>20952</td>\n",
       "      <td>1075.0</td>\n",
       "      <td>3.1</td>\n",
       "      <td>100.0</td>\n",
       "      <td>0.0</td>\n",
       "      <td>...</td>\n",
       "      <td>1318</td>\n",
       "      <td>344.0</td>\n",
       "      <td>15.9</td>\n",
       "      <td>5.8</td>\n",
       "      <td>1.5</td>\n",
       "      <td>17619</td>\n",
       "      <td>1276.0</td>\n",
       "      <td>4.4</td>\n",
       "      <td>77.0</td>\n",
       "      <td>3.5</td>\n",
       "    </tr>\n",
       "  </tbody>\n",
       "</table>\n",
       "<p>5 rows × 660 columns</p>\n",
       "</div>"
      ],
      "text/plain": [
       "   GeoType  NTAType            GeogName   GeoID   Borough  Pop16plE  Pop16plM  \\\n",
       "0  NTA2020        0          Greenpoint  BK0101  Brooklyn     33164    1421.0   \n",
       "1  NTA2020        0        Williamsburg  BK0102  Brooklyn     52924    2087.0   \n",
       "2  NTA2020        0  South Williamsburg  BK0103  Brooklyn     24719    1651.0   \n",
       "3  NTA2020        0   East Williamsburg  BK0104  Brooklyn     45574    1817.0   \n",
       "4  NTA2020        0    Brooklyn Heights  BK0201  Brooklyn     20952    1075.0   \n",
       "\n",
       "   Pop16plC  Pop16plP  Pop16plZ  ...  Pv400t499E  Pv400t499M  Pv400t499C  \\\n",
       "0       2.6     100.0       0.0  ...        4397       592.0         8.2   \n",
       "1       2.4     100.0       0.0  ...        4416       660.0         9.1   \n",
       "2       4.1     100.0       0.0  ...        1629       477.0        17.8   \n",
       "3       2.4     100.0       0.0  ...        4949       885.0        10.9   \n",
       "4       3.1     100.0       0.0  ...        1318       344.0        15.9   \n",
       "\n",
       "   Pv400t499P  Pv400t499Z  Pv500plE  Pv500plM  Pv500plC  Pv500plP  Pv500plZ  \n",
       "0        11.8         1.5     18983    1191.0       3.8      50.8       2.3  \n",
       "1         7.0         1.0     28922    1564.0       3.3      45.8       1.6  \n",
       "2         3.5         1.0      3716     844.0      13.8       7.9       1.7  \n",
       "3         9.3         1.6     15435    1058.0       4.2      28.9       1.5  \n",
       "4         5.8         1.5     17619    1276.0       4.4      77.0       3.5  \n",
       "\n",
       "[5 rows x 660 columns]"
      ]
     },
     "execution_count": 3,
     "metadata": {},
     "output_type": "execute_result"
    }
   ],
   "source": [
    "econ_file_path = '../nta/econ_2021acs5yr_nta.xlsx'\n",
    "\n",
    "econ_df = pd.read_excel(econ_file_path)\n",
    "econ_df.head()"
   ]
  },
  {
   "cell_type": "code",
   "execution_count": 5,
   "metadata": {},
   "outputs": [
    {
     "data": {
      "text/html": [
       "<div>\n",
       "<style scoped>\n",
       "    .dataframe tbody tr th:only-of-type {\n",
       "        vertical-align: middle;\n",
       "    }\n",
       "\n",
       "    .dataframe tbody tr th {\n",
       "        vertical-align: top;\n",
       "    }\n",
       "\n",
       "    .dataframe thead th {\n",
       "        text-align: right;\n",
       "    }\n",
       "</style>\n",
       "<table border=\"1\" class=\"dataframe\">\n",
       "  <thead>\n",
       "    <tr style=\"text-align: right;\">\n",
       "      <th></th>\n",
       "      <th>GeoType</th>\n",
       "      <th>NTAType</th>\n",
       "      <th>GeogName</th>\n",
       "      <th>GeoID</th>\n",
       "      <th>Borough</th>\n",
       "      <th>Pop16plE</th>\n",
       "      <th>Pop16plM</th>\n",
       "      <th>Pop16plC</th>\n",
       "      <th>Pop16plP</th>\n",
       "      <th>Pop16plZ</th>\n",
       "      <th>...</th>\n",
       "      <th>Pv400t499E</th>\n",
       "      <th>Pv400t499M</th>\n",
       "      <th>Pv400t499C</th>\n",
       "      <th>Pv400t499P</th>\n",
       "      <th>Pv400t499Z</th>\n",
       "      <th>Pv500plE</th>\n",
       "      <th>Pv500plM</th>\n",
       "      <th>Pv500plC</th>\n",
       "      <th>Pv500plP</th>\n",
       "      <th>Pv500plZ</th>\n",
       "    </tr>\n",
       "  </thead>\n",
       "  <tbody>\n",
       "    <tr>\n",
       "      <th>0</th>\n",
       "      <td>NTA2020</td>\n",
       "      <td>0</td>\n",
       "      <td>Greenpoint</td>\n",
       "      <td>BK0101</td>\n",
       "      <td>Brooklyn</td>\n",
       "      <td>33164</td>\n",
       "      <td>1421.0</td>\n",
       "      <td>2.6</td>\n",
       "      <td>100.0</td>\n",
       "      <td>0.0</td>\n",
       "      <td>...</td>\n",
       "      <td>4397</td>\n",
       "      <td>592.0</td>\n",
       "      <td>8.2</td>\n",
       "      <td>11.8</td>\n",
       "      <td>1.5</td>\n",
       "      <td>18983</td>\n",
       "      <td>1191.0</td>\n",
       "      <td>3.8</td>\n",
       "      <td>50.8</td>\n",
       "      <td>2.3</td>\n",
       "    </tr>\n",
       "  </tbody>\n",
       "</table>\n",
       "<p>1 rows × 660 columns</p>\n",
       "</div>"
      ],
      "text/plain": [
       "   GeoType  NTAType    GeogName   GeoID   Borough  Pop16plE  Pop16plM  \\\n",
       "0  NTA2020        0  Greenpoint  BK0101  Brooklyn     33164    1421.0   \n",
       "\n",
       "   Pop16plC  Pop16plP  Pop16plZ  ...  Pv400t499E  Pv400t499M  Pv400t499C  \\\n",
       "0       2.6     100.0       0.0  ...        4397       592.0         8.2   \n",
       "\n",
       "   Pv400t499P  Pv400t499Z  Pv500plE  Pv500plM  Pv500plC  Pv500plP  Pv500plZ  \n",
       "0        11.8         1.5     18983    1191.0       3.8      50.8       2.3  \n",
       "\n",
       "[1 rows x 660 columns]"
      ]
     },
     "execution_count": 5,
     "metadata": {},
     "output_type": "execute_result"
    }
   ],
   "source": [
    "NTA_ID = 'BK0101'\n",
    "\n",
    "nta_econ_df = econ_df[econ_df['GeoID'] == NTA_ID]\n",
    "nta_econ_df.head()"
   ]
  },
  {
   "attachments": {},
   "cell_type": "markdown",
   "metadata": {},
   "source": [
    "Individual employment, occupation and health-insurance status\n",
    "\n",
    "Household earnings, income status and social security status"
   ]
  },
  {
   "cell_type": "code",
   "execution_count": 6,
   "metadata": {},
   "outputs": [],
   "source": [
    "def compute_stats(nta_df, attr, estimation_vars=['E', 'M', 'C', 'P', 'Z'], filter=True):\n",
    "    if filter:\n",
    "        filter_vars = ['E', 'P']\n",
    "        estimation_vars = filter_vars\n",
    "    stats = [nta_df['{}{}'.format(attr, var)].values for var in estimation_vars]\n",
    "    \n",
    "    return stats\n",
    "\n",
    "def merge_nta_stats(nta_df, attr_vals):\n",
    "    '''estimate and percentage'''\n",
    "    args = [compute_stats(nta_df, attr, filter=True) for attr in attr_vals]\n",
    "    ret_e, ret_p = 0, 0\n",
    "    for val in args:\n",
    "        e, p = val\n",
    "        ret_e += e\n",
    "        ret_p += p\n",
    "    \n",
    "    return [ret_e, ret_p]"
   ]
  },
  {
   "cell_type": "code",
   "execution_count": 20,
   "metadata": {},
   "outputs": [
    {
     "name": "stdout",
     "output_type": "stream",
     "text": [
      "[array([17487]), array([100.])]\n",
      "{'HHIU10': [713, 4.1, 4.1], 'HHI10t14': [633, 3.6, 7.699999999999999], 'HHI15t24': [671, 3.8, 11.5], 'HHI25t34': [941, 5.4, 16.9], 'HHI35t49': [1051, 6.0, 22.9], 'HHI50t74': [1998, 11.4, 34.3], 'HHI75t99': [1910, 10.9, 45.199999999999996], 'HI100t149': [3580, 20.5, 65.69999999999999], 'HI150t199': [2404, 13.7, 79.39999999999999], 'HHI200pl': [3586, 20.5, 99.89999999999999]}\n"
     ]
    }
   ],
   "source": [
    "total_households = compute_stats(nta_econ_df, 'HH2')\n",
    "print(total_households)\n",
    "\n",
    "household_income_list =['HHIU10', 'HHI10t14', 'HHI15t24', 'HHI25t34', 'HHI35t49', 'HHI50t74', 'HHI75t99',\n",
    "                        'HI100t149', 'HI150t199', 'HHI200pl']\n",
    "\n",
    "household_income_data = {}\n",
    "\n",
    "cumulative_prob = 0.0\n",
    "for inc_band_attr in household_income_list:\n",
    "    estimate, percentage = compute_stats(nta_econ_df, inc_band_attr)\n",
    "    cumulative_prob += percentage\n",
    "\n",
    "    household_income_data[inc_band_attr] = [estimate[0], percentage[0], cumulative_prob[0]]\n",
    "    #{'estimate': estimate, 'percentage': percentage, 'cumulative_percentage': cumulative_prob}\n",
    "\n",
    "print(household_income_data)"
   ]
  },
  {
   "cell_type": "code",
   "execution_count": 53,
   "metadata": {},
   "outputs": [],
   "source": [
    "income_mapping = {'Band1': ['HHIU10', 'HHI10t14', 'HHI15t24'],\n",
    "                'Band2': ['HHI25t34', 'HHI35t49'], \n",
    "                'Band3': ['HHI50t74', 'HHI75t99'],\n",
    "                'Band4': ['HI100t149', 'HI150t199'],\n",
    "                'Band5': ['HHI200pl']}\n",
    "\n",
    "def get_nta_household_income(df, nta_id, income_mapping):\n",
    "    nta_df = df[df['GeoID'] == nta_id]\n",
    "    \n",
    "    nta_household_income = {}\n",
    "\n",
    "    for band in income_mapping:\n",
    "        nta_household_income[band] = {}\n",
    "        estimate, percentage = merge_nta_stats(nta_df, income_mapping[band])\n",
    "\n",
    "        nta_household_income[band]['estimate'] = estimate\n",
    "        nta_household_income[band]['probability'] = percentage\n",
    "\n",
    "    return nta_household_income"
   ]
  },
  {
   "cell_type": "code",
   "execution_count": 54,
   "metadata": {},
   "outputs": [
    {
     "name": "stdout",
     "output_type": "stream",
     "text": [
      "{'Band1': [array([2017]), array([11.5])], 'Band2': [array([1992]), array([11.4])], 'Band3': [array([3908]), array([22.3])], 'Band4': [array([5984]), array([34.2])], 'Band5': [array([3586]), array([20.5])]}\n",
      "[17487]\n"
     ]
    }
   ],
   "source": [
    "income_vals = get_nta_household_income(econ_df, 'BK0101', income_mapping)\n",
    "\n",
    "print(income_vals)\n",
    "print(sum([income_vals[ix][0] for ix in income_vals]))"
   ]
  },
  {
   "cell_type": "code",
   "execution_count": 35,
   "metadata": {},
   "outputs": [
    {
     "name": "stdout",
     "output_type": "stream",
     "text": [
      "[array([2864]), array([16.4])]\n",
      "[array([1698]), array([9.7])]\n",
      "[array([808]), array([4.6])]\n",
      "[array([611]), array([3.5])]\n"
     ]
    }
   ],
   "source": [
    "household_with_ss = compute_stats(nta_econ_df, 'Inc_SoSec')\n",
    "print(household_with_ss)\n",
    "\n",
    "household_with_ri = compute_stats(nta_econ_df, 'Inc_Rtrmt')\n",
    "print(household_with_ri)\n",
    "\n",
    "household_with_cpai = compute_stats(nta_econ_df, 'Inc_CPbA')\n",
    "print(household_with_cpai)\n",
    "\n",
    "household_with_supsec = compute_stats(nta_econ_df, 'Inc_SpSec')\n",
    "print(household_with_supsec) "
   ]
  },
  {
   "attachments": {},
   "cell_type": "markdown",
   "metadata": {},
   "source": [
    "Individual Employment and Health Insurance Status"
   ]
  },
  {
   "cell_type": "code",
   "execution_count": 45,
   "metadata": {},
   "outputs": [
    {
     "name": "stdout",
     "output_type": "stream",
     "text": [
      "[array([25325]), array([nan])]\n",
      "[array([3435]), array([100.])]\n",
      "[28760]\n"
     ]
    }
   ],
   "source": [
    "# only agents in 18-64 are employed\n",
    "labor_agents = compute_stats(nta_econ_df, 'CvLF18t64')\n",
    "print(labor_agents)\n",
    "\n",
    "# employed_agents = compute_stats(nta_econ_df, 'CvLFEm')\n",
    "# print(employed_agents)\n",
    "# unemployed_agents = compute_stats(nta_econ_df, 'UEm')\n",
    "# print(unemployed_agents)\n",
    "\n",
    "nolabor_agents = compute_stats(nta_econ_df, 'NLF2')\n",
    "print(nolabor_agents)\n",
    "\n",
    "print(labor_agents[0] + nolabor_agents[0])"
   ]
  },
  {
   "cell_type": "code",
   "execution_count": 42,
   "metadata": {},
   "outputs": [
    {
     "name": "stdout",
     "output_type": "stream",
     "text": [
      "[array([28760]), array([nan])]\n"
     ]
    }
   ],
   "source": [
    "total_eligible_agents = compute_stats(nta_econ_df, 'CNI1864_2')\n",
    "print(total_eligible_agents)\n",
    "\n",
    "2532"
   ]
  },
  {
   "cell_type": "code",
   "execution_count": 52,
   "metadata": {},
   "outputs": [],
   "source": [
    "# employment and insurance status of agents\n",
    "employment_insurance_mapping = {'employed_insured': 'EmHIns', 'employed_uninsured': 'EmNHIns',\n",
    "                                'unemployed_insured': 'UEmHIns', 'unemployed_uninsured': 'UEmNHIns',\n",
    "                                'nolabor_insured': 'NLFHIns', 'nolabor_uninsured': 'NLFNHIns'}\n",
    "\n",
    "def get_nta_employ_insure(df, nta_id, employ_insure_mapping):\n",
    "    nta_df = df[df['GeoID']==nta_id]\n",
    "\n",
    "    total_eligible_agents = compute_stats(nta_df, 'CNI1864_2')[0]\n",
    "\n",
    "    nta_employ_insure = {}\n",
    "    for category in employ_insure_mapping:\n",
    "        estimate, _ = compute_stats(nta_df, employ_insure_mapping[category])\n",
    "\n",
    "        nta_employ_insure[category] = {}\n",
    "        nta_employ_insure[category]['estimate'] = estimate[0]\n",
    "        nta_employ_insure[category]['percentage'] = estimate[0] / total_eligible_agents\n",
    "\n",
    "    return nta_employ_insure"
   ]
  },
  {
   "cell_type": "code",
   "execution_count": 51,
   "metadata": {},
   "outputs": [
    {
     "name": "stdout",
     "output_type": "stream",
     "text": [
      "[28760]\n",
      "{'employed_insured': {'estimate': 21557, 'percentage': array([0.74954798])}, 'employed_uninsured': {'estimate': 1853, 'percentage': array([0.06442976])}, 'unemployed_insured': {'estimate': 1446, 'percentage': array([0.05027816])}, 'unemployed_uninsured': {'estimate': 469, 'percentage': array([0.01630737])}, 'nolabor_insured': {'estimate': 3164, 'percentage': array([0.11001391])}, 'nolabor_uninsured': {'estimate': 271, 'percentage': array([0.00942281])}}\n",
      "28760\n"
     ]
    }
   ],
   "source": [
    "employ_insure = get_nta_employ_insure(econ_df, 'BK0101', employment_insurance_mapping)\n",
    "print(employ_insure)\n",
    "\n",
    "sum_t = 0\n",
    "for key in employ_insure:\n",
    "    sum_t += employ_insure[key]['estimate']\n",
    "\n",
    "print(sum_t)"
   ]
  },
  {
   "cell_type": "code",
   "execution_count": null,
   "metadata": {},
   "outputs": [],
   "source": []
  }
 ],
 "metadata": {
  "kernelspec": {
   "display_name": "test_birds_env",
   "language": "python",
   "name": "python3"
  },
  "language_info": {
   "codemirror_mode": {
    "name": "ipython",
    "version": 3
   },
   "file_extension": ".py",
   "mimetype": "text/x-python",
   "name": "python",
   "nbconvert_exporter": "python",
   "pygments_lexer": "ipython3",
   "version": "3.8.2"
  },
  "orig_nbformat": 4
 },
 "nbformat": 4,
 "nbformat_minor": 2
}
