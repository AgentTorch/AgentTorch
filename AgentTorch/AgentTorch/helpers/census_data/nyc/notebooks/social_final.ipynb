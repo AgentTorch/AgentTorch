{
 "cells": [
  {
   "cell_type": "code",
   "execution_count": 4,
   "metadata": {},
   "outputs": [],
   "source": [
    "import numpy as np\n",
    "import pandas as pd"
   ]
  },
  {
   "attachments": {},
   "cell_type": "markdown",
   "metadata": {},
   "source": [
    "Process: Household Count, Size and Individual education status"
   ]
  },
  {
   "cell_type": "code",
   "execution_count": 5,
   "metadata": {},
   "outputs": [
    {
     "data": {
      "text/html": [
       "<div>\n",
       "<style scoped>\n",
       "    .dataframe tbody tr th:only-of-type {\n",
       "        vertical-align: middle;\n",
       "    }\n",
       "\n",
       "    .dataframe tbody tr th {\n",
       "        vertical-align: top;\n",
       "    }\n",
       "\n",
       "    .dataframe thead th {\n",
       "        text-align: right;\n",
       "    }\n",
       "</style>\n",
       "<table border=\"1\" class=\"dataframe\">\n",
       "  <thead>\n",
       "    <tr style=\"text-align: right;\">\n",
       "      <th></th>\n",
       "      <th>GeoType</th>\n",
       "      <th>NTAType</th>\n",
       "      <th>GeogName</th>\n",
       "      <th>GeoID</th>\n",
       "      <th>Borough</th>\n",
       "      <th>HH1E</th>\n",
       "      <th>HH1M</th>\n",
       "      <th>HH1C</th>\n",
       "      <th>HH1P</th>\n",
       "      <th>HH1Z</th>\n",
       "      <th>...</th>\n",
       "      <th>HHCompE</th>\n",
       "      <th>HHCompM</th>\n",
       "      <th>HHCompC</th>\n",
       "      <th>HHCompP</th>\n",
       "      <th>HHCompZ</th>\n",
       "      <th>HHIntE</th>\n",
       "      <th>HHIntM</th>\n",
       "      <th>HHIntC</th>\n",
       "      <th>HHIntP</th>\n",
       "      <th>HHIntZ</th>\n",
       "    </tr>\n",
       "  </thead>\n",
       "  <tbody>\n",
       "    <tr>\n",
       "      <th>0</th>\n",
       "      <td>NTA2020</td>\n",
       "      <td>0</td>\n",
       "      <td>Greenpoint</td>\n",
       "      <td>BK0101</td>\n",
       "      <td>Brooklyn</td>\n",
       "      <td>17487</td>\n",
       "      <td>659.0</td>\n",
       "      <td>2.3</td>\n",
       "      <td>100.0</td>\n",
       "      <td>0.0</td>\n",
       "      <td>...</td>\n",
       "      <td>16441</td>\n",
       "      <td>674.0</td>\n",
       "      <td>2.5</td>\n",
       "      <td>94.0</td>\n",
       "      <td>1.5</td>\n",
       "      <td>15969</td>\n",
       "      <td>678.0</td>\n",
       "      <td>2.6</td>\n",
       "      <td>91.3</td>\n",
       "      <td>1.8</td>\n",
       "    </tr>\n",
       "    <tr>\n",
       "      <th>1</th>\n",
       "      <td>NTA2020</td>\n",
       "      <td>0</td>\n",
       "      <td>Williamsburg</td>\n",
       "      <td>BK0102</td>\n",
       "      <td>Brooklyn</td>\n",
       "      <td>26955</td>\n",
       "      <td>958.0</td>\n",
       "      <td>2.2</td>\n",
       "      <td>100.0</td>\n",
       "      <td>0.0</td>\n",
       "      <td>...</td>\n",
       "      <td>25075</td>\n",
       "      <td>951.0</td>\n",
       "      <td>2.3</td>\n",
       "      <td>93.0</td>\n",
       "      <td>1.2</td>\n",
       "      <td>24590</td>\n",
       "      <td>997.0</td>\n",
       "      <td>2.5</td>\n",
       "      <td>91.2</td>\n",
       "      <td>1.8</td>\n",
       "    </tr>\n",
       "    <tr>\n",
       "      <th>2</th>\n",
       "      <td>NTA2020</td>\n",
       "      <td>0</td>\n",
       "      <td>South Williamsburg</td>\n",
       "      <td>BK0103</td>\n",
       "      <td>Brooklyn</td>\n",
       "      <td>10613</td>\n",
       "      <td>556.0</td>\n",
       "      <td>3.2</td>\n",
       "      <td>100.0</td>\n",
       "      <td>0.0</td>\n",
       "      <td>...</td>\n",
       "      <td>5700</td>\n",
       "      <td>557.0</td>\n",
       "      <td>5.9</td>\n",
       "      <td>53.7</td>\n",
       "      <td>4.4</td>\n",
       "      <td>3890</td>\n",
       "      <td>467.0</td>\n",
       "      <td>7.3</td>\n",
       "      <td>36.7</td>\n",
       "      <td>4.0</td>\n",
       "    </tr>\n",
       "    <tr>\n",
       "      <th>3</th>\n",
       "      <td>NTA2020</td>\n",
       "      <td>0</td>\n",
       "      <td>East Williamsburg</td>\n",
       "      <td>BK0104</td>\n",
       "      <td>Brooklyn</td>\n",
       "      <td>22665</td>\n",
       "      <td>710.0</td>\n",
       "      <td>1.9</td>\n",
       "      <td>100.0</td>\n",
       "      <td>0.0</td>\n",
       "      <td>...</td>\n",
       "      <td>20390</td>\n",
       "      <td>728.0</td>\n",
       "      <td>2.2</td>\n",
       "      <td>90.0</td>\n",
       "      <td>1.5</td>\n",
       "      <td>19464</td>\n",
       "      <td>754.0</td>\n",
       "      <td>2.4</td>\n",
       "      <td>85.9</td>\n",
       "      <td>2.0</td>\n",
       "    </tr>\n",
       "    <tr>\n",
       "      <th>4</th>\n",
       "      <td>NTA2020</td>\n",
       "      <td>0</td>\n",
       "      <td>Brooklyn Heights</td>\n",
       "      <td>BK0201</td>\n",
       "      <td>Brooklyn</td>\n",
       "      <td>11857</td>\n",
       "      <td>681.0</td>\n",
       "      <td>3.5</td>\n",
       "      <td>100.0</td>\n",
       "      <td>0.0</td>\n",
       "      <td>...</td>\n",
       "      <td>11688</td>\n",
       "      <td>680.0</td>\n",
       "      <td>3.5</td>\n",
       "      <td>98.6</td>\n",
       "      <td>0.9</td>\n",
       "      <td>11423</td>\n",
       "      <td>680.0</td>\n",
       "      <td>3.6</td>\n",
       "      <td>96.3</td>\n",
       "      <td>1.5</td>\n",
       "    </tr>\n",
       "  </tbody>\n",
       "</table>\n",
       "<p>5 rows × 2190 columns</p>\n",
       "</div>"
      ],
      "text/plain": [
       "   GeoType  NTAType            GeogName   GeoID   Borough   HH1E   HH1M  HH1C  \\\n",
       "0  NTA2020        0          Greenpoint  BK0101  Brooklyn  17487  659.0   2.3   \n",
       "1  NTA2020        0        Williamsburg  BK0102  Brooklyn  26955  958.0   2.2   \n",
       "2  NTA2020        0  South Williamsburg  BK0103  Brooklyn  10613  556.0   3.2   \n",
       "3  NTA2020        0   East Williamsburg  BK0104  Brooklyn  22665  710.0   1.9   \n",
       "4  NTA2020        0    Brooklyn Heights  BK0201  Brooklyn  11857  681.0   3.5   \n",
       "\n",
       "    HH1P  HH1Z  ...  HHCompE  HHCompM  HHCompC  HHCompP  HHCompZ  HHIntE  \\\n",
       "0  100.0   0.0  ...    16441    674.0      2.5     94.0      1.5   15969   \n",
       "1  100.0   0.0  ...    25075    951.0      2.3     93.0      1.2   24590   \n",
       "2  100.0   0.0  ...     5700    557.0      5.9     53.7      4.4    3890   \n",
       "3  100.0   0.0  ...    20390    728.0      2.2     90.0      1.5   19464   \n",
       "4  100.0   0.0  ...    11688    680.0      3.5     98.6      0.9   11423   \n",
       "\n",
       "   HHIntM  HHIntC  HHIntP  HHIntZ  \n",
       "0   678.0     2.6    91.3     1.8  \n",
       "1   997.0     2.5    91.2     1.8  \n",
       "2   467.0     7.3    36.7     4.0  \n",
       "3   754.0     2.4    85.9     2.0  \n",
       "4   680.0     3.6    96.3     1.5  \n",
       "\n",
       "[5 rows x 2190 columns]"
      ]
     },
     "execution_count": 5,
     "metadata": {},
     "output_type": "execute_result"
    }
   ],
   "source": [
    "social_data = '../nta/soc_2021acs5yr_nta.xlsx'\n",
    "social_df = pd.read_excel(social_data)\n",
    "\n",
    "social_df.head()"
   ]
  },
  {
   "cell_type": "code",
   "execution_count": 6,
   "metadata": {},
   "outputs": [],
   "source": [
    "NTA_ID = 'BK0101'"
   ]
  },
  {
   "cell_type": "code",
   "execution_count": 7,
   "metadata": {},
   "outputs": [
    {
     "data": {
      "text/html": [
       "<div>\n",
       "<style scoped>\n",
       "    .dataframe tbody tr th:only-of-type {\n",
       "        vertical-align: middle;\n",
       "    }\n",
       "\n",
       "    .dataframe tbody tr th {\n",
       "        vertical-align: top;\n",
       "    }\n",
       "\n",
       "    .dataframe thead th {\n",
       "        text-align: right;\n",
       "    }\n",
       "</style>\n",
       "<table border=\"1\" class=\"dataframe\">\n",
       "  <thead>\n",
       "    <tr style=\"text-align: right;\">\n",
       "      <th></th>\n",
       "      <th>GeoType</th>\n",
       "      <th>NTAType</th>\n",
       "      <th>GeogName</th>\n",
       "      <th>GeoID</th>\n",
       "      <th>Borough</th>\n",
       "      <th>HH1E</th>\n",
       "      <th>HH1M</th>\n",
       "      <th>HH1C</th>\n",
       "      <th>HH1P</th>\n",
       "      <th>HH1Z</th>\n",
       "      <th>...</th>\n",
       "      <th>HHCompE</th>\n",
       "      <th>HHCompM</th>\n",
       "      <th>HHCompC</th>\n",
       "      <th>HHCompP</th>\n",
       "      <th>HHCompZ</th>\n",
       "      <th>HHIntE</th>\n",
       "      <th>HHIntM</th>\n",
       "      <th>HHIntC</th>\n",
       "      <th>HHIntP</th>\n",
       "      <th>HHIntZ</th>\n",
       "    </tr>\n",
       "  </thead>\n",
       "  <tbody>\n",
       "    <tr>\n",
       "      <th>0</th>\n",
       "      <td>NTA2020</td>\n",
       "      <td>0</td>\n",
       "      <td>Greenpoint</td>\n",
       "      <td>BK0101</td>\n",
       "      <td>Brooklyn</td>\n",
       "      <td>17487</td>\n",
       "      <td>659.0</td>\n",
       "      <td>2.3</td>\n",
       "      <td>100.0</td>\n",
       "      <td>0.0</td>\n",
       "      <td>...</td>\n",
       "      <td>16441</td>\n",
       "      <td>674.0</td>\n",
       "      <td>2.5</td>\n",
       "      <td>94.0</td>\n",
       "      <td>1.5</td>\n",
       "      <td>15969</td>\n",
       "      <td>678.0</td>\n",
       "      <td>2.6</td>\n",
       "      <td>91.3</td>\n",
       "      <td>1.8</td>\n",
       "    </tr>\n",
       "  </tbody>\n",
       "</table>\n",
       "<p>1 rows × 2190 columns</p>\n",
       "</div>"
      ],
      "text/plain": [
       "   GeoType  NTAType    GeogName   GeoID   Borough   HH1E   HH1M  HH1C   HH1P  \\\n",
       "0  NTA2020        0  Greenpoint  BK0101  Brooklyn  17487  659.0   2.3  100.0   \n",
       "\n",
       "   HH1Z  ...  HHCompE  HHCompM  HHCompC  HHCompP  HHCompZ  HHIntE  HHIntM  \\\n",
       "0   0.0  ...    16441    674.0      2.5     94.0      1.5   15969   678.0   \n",
       "\n",
       "   HHIntC  HHIntP  HHIntZ  \n",
       "0     2.6    91.3     1.8  \n",
       "\n",
       "[1 rows x 2190 columns]"
      ]
     },
     "execution_count": 7,
     "metadata": {},
     "output_type": "execute_result"
    }
   ],
   "source": [
    "nta_social_df = social_df[social_df['GeoID'] == NTA_ID]\n",
    "\n",
    "nta_social_df.head()"
   ]
  },
  {
   "cell_type": "code",
   "execution_count": 8,
   "metadata": {},
   "outputs": [
    {
     "name": "stdout",
     "output_type": "stream",
     "text": [
      "Unique attributes:  437\n",
      "Index(['HH1E', 'Fam1E', 'FamChU18E', 'MrdFamE', 'MrdChU18E', 'MHnSE',\n",
      "       'MHnSChU18E', 'FHnSE', 'FHnSChU18E', 'NFam1E',\n",
      "       ...\n",
      "       'TAndTobE', 'USVrgIsE', 'WIndSubE', 'OWIndE', 'YugoSlvE', 'OthrE',\n",
      "       'UnclsNRE', 'HH3E', 'HHCompE', 'HHIntE'],\n",
      "      dtype='object', length=437)\n"
     ]
    }
   ],
   "source": [
    "def show_columns(nta_df, start_ix=5, frequency=5):\n",
    "    total_columns = nta_df.columns.shape[0]\n",
    "    unique_attrs = (total_columns - start_ix)//frequency\n",
    "    print(\"Unique attributes: \", unique_attrs)\n",
    "\n",
    "    attribute_list = nta_df.columns[start_ix:total_columns:frequency]\n",
    "    return attribute_list\n",
    "\n",
    "print(show_columns(nta_social_df))\n"
   ]
  },
  {
   "cell_type": "code",
   "execution_count": 9,
   "metadata": {},
   "outputs": [],
   "source": [
    "def compute_stats(nta_df, attr, estimation_vars=['E', 'M', 'C', 'P', 'Z'], filter=True):\n",
    "    if filter:\n",
    "        filter_vars = ['E', 'P']\n",
    "        estimation_vars = filter_vars\n",
    "    stats = [nta_df['{}{}'.format(attr, var)].values for var in estimation_vars]\n",
    "    \n",
    "    return stats"
   ]
  },
  {
   "cell_type": "code",
   "execution_count": 10,
   "metadata": {},
   "outputs": [],
   "source": [
    "def merge_nta_stats(nta_df, attr_vals):\n",
    "    '''estimate and percentage'''\n",
    "    args = [compute_stats(nta_df, attr, filter=True) for attr in attr_vals]\n",
    "    ret_e, ret_p = 0, 0\n",
    "    for val in args:\n",
    "        e, p = val\n",
    "        ret_e += e\n",
    "        ret_p += p\n",
    "    \n",
    "    return [ret_e, ret_p]"
   ]
  },
  {
   "attachments": {},
   "cell_type": "markdown",
   "metadata": {},
   "source": [
    "## Individual education status"
   ]
  },
  {
   "cell_type": "code",
   "execution_count": 11,
   "metadata": {},
   "outputs": [
    {
     "name": "stdout",
     "output_type": "stream",
     "text": [
      "[array([30752]), array([100.])]\n",
      "------------------------------------------------------------\n",
      "[array([6718]), array([21.9])]\n",
      "[array([17468]), array([56.7])]\n",
      "[array([6566]), array([21.4])]\n"
     ]
    }
   ],
   "source": [
    "pop_25over = compute_stats(nta_social_df, 'EA_P25pl')\n",
    "print(pop_25over)\n",
    "\n",
    "education_mapping = {'high_school': ['EA_LT9G', 'EA_9t12ND', 'EA_HScGrd'],\n",
    "                    'college_degree': ['EA_SClgND', 'EA_AscD', 'EA_BchD'],\n",
    "                    'graduate_degree': ['EA_GrdPfD']\n",
    "                    }\n",
    "\n",
    "print(\"----\"*15)\n",
    "\n",
    "high_school = merge_nta_stats(nta_social_df, education_mapping['high_school'])\n",
    "print(high_school)\n",
    "college_degree = merge_nta_stats(nta_social_df, education_mapping['college_degree'])\n",
    "print(college_degree)\n",
    "graduate_degree = merge_nta_stats(nta_social_df, education_mapping['graduate_degree'])\n",
    "print(graduate_degree)"
   ]
  },
  {
   "cell_type": "code",
   "execution_count": 12,
   "metadata": {},
   "outputs": [
    {
     "name": "stdout",
     "output_type": "stream",
     "text": [
      "[array([5339]), array([100.])]\n"
     ]
    }
   ],
   "source": [
    "studying = compute_stats(nta_social_df, 'Pop3plEn')\n",
    "print(studying)"
   ]
  },
  {
   "cell_type": "code",
   "execution_count": 14,
   "metadata": {},
   "outputs": [],
   "source": [
    "def get_nta_education(df, nta_id, education_mapping):\n",
    "    '''Education status can be completed (>25) or studying (for <=25)'''\n",
    "    nta_df = df[df['GeoID'] == nta_id]\n",
    "    nta_education = {} # for agents 25 and above\n",
    "\n",
    "    studying = compute_stats(nta_social_df, 'Pop3plEn')[0]\n",
    "    nolonger_studying = compute_stats(nta_social_df, 'EA_P25pl')[0]\n",
    "    total_educated_studying = studying + nolonger_studying\n",
    "\n",
    "    for key in education_mapping: # education_mapping is for >25 yr old agents\n",
    "        nta_education[key] = {}\n",
    "        estimate, _ = merge_nta_stats(nta_df, education_mapping[key])\n",
    "\n",
    "        nta_education[key]['estimate'] = max(0, estimate[0])\n",
    "        nta_education[key]['percentage'] = nta_education[key]['estimate'] / total_educated_studying\n",
    "\n",
    "    return nta_education"
   ]
  },
  {
   "cell_type": "code",
   "execution_count": 15,
   "metadata": {},
   "outputs": [],
   "source": [
    "education_mapping = {'high_school': ['EA_LT9G', 'EA_9t12ND', 'EA_HScGrd'],\n",
    "                    'college_degree': ['EA_SClgND', 'EA_AscD', 'EA_BchD'],\n",
    "                    'graduate_degree': ['EA_GrdPfD'],\n",
    "                    'studying': ['Pop3plEn']\n",
    "                    }\n",
    "\n",
    "result = get_nta_education(social_df, 'BK0101', education_mapping)"
   ]
  },
  {
   "cell_type": "code",
   "execution_count": 18,
   "metadata": {},
   "outputs": [
    {
     "data": {
      "text/plain": [
       "36091"
      ]
     },
     "execution_count": 18,
     "metadata": {},
     "output_type": "execute_result"
    }
   ],
   "source": [
    "ans = 0\n",
    "for key in result:\n",
    "    ans += result[key]['estimate']\n",
    "\n",
    "ans"
   ]
  },
  {
   "attachments": {},
   "cell_type": "markdown",
   "metadata": {},
   "source": [
    "## Household demographics\n",
    "\n",
    "The main task is to assign individuals to households"
   ]
  },
  {
   "cell_type": "code",
   "execution_count": 19,
   "metadata": {},
   "outputs": [
    {
     "name": "stdout",
     "output_type": "stream",
     "text": [
      "[array([17487]), array([100.])] [array([7252]), array([41.5])] [array([10235]), array([58.5])]\n"
     ]
    }
   ],
   "source": [
    "total_households = compute_stats(nta_social_df, 'HH1')\n",
    "family_households = compute_stats(nta_social_df, 'Fam1')\n",
    "nonfamily_households = compute_stats(nta_social_df, 'NFam1')\n",
    "\n",
    "print(total_households, family_households, nonfamily_households)"
   ]
  },
  {
   "cell_type": "code",
   "execution_count": 27,
   "metadata": {},
   "outputs": [
    {
     "name": "stdout",
     "output_type": "stream",
     "text": [
      "household size:  [array([2.13]), array([0.12]), array([3.5]), array([nan]), array([nan])]\n",
      "family size:  [array([2.75]), array([0.29]), array([6.4]), array([nan]), array([nan])]\n"
     ]
    }
   ],
   "source": [
    "average_household_size = compute_stats(nta_social_df, 'AvgHHSz', filter=False)\n",
    "average_family_size = compute_stats(nta_social_df, 'AvgFmSz', filter=False)\n",
    "\n",
    "print(\"household size: \", average_household_size)\n",
    "print(\"family size: \", average_family_size)"
   ]
  },
  {
   "cell_type": "code",
   "execution_count": 28,
   "metadata": {},
   "outputs": [
    {
     "name": "stdout",
     "output_type": "stream",
     "text": [
      "population in households:  [array([37213]), array([100.])]\n",
      "family household population:  [19943.]\n",
      "non-family household population:  [17270.]\n",
      "average size of non-family household size:  [1.68734734]\n"
     ]
    }
   ],
   "source": [
    "population_in_households = compute_stats(nta_social_df, 'HHPop')\n",
    "print(\"population in households: \", population_in_households)\n",
    "\n",
    "family_household_population = family_households[0] * average_family_size[0]\n",
    "print(\"family household population: \", family_household_population)\n",
    "\n",
    "non_family_population = population_in_households[0] - family_household_population\n",
    "print(\"non-family household population: \", non_family_population)\n",
    "\n",
    "non_family_household_size = non_family_population / nonfamily_households[0]\n",
    "print(\"average size of non-family household size: \", non_family_household_size)"
   ]
  },
  {
   "attachments": {},
   "cell_type": "markdown",
   "metadata": {},
   "source": [
    "## Family Households"
   ]
  },
  {
   "cell_type": "code",
   "execution_count": 37,
   "metadata": {},
   "outputs": [
    {
     "name": "stdout",
     "output_type": "stream",
     "text": [
      "[array([7252]), array([41.5])]\n",
      "[2.75] [0.29] [6.4]\n",
      "[array([2604]), array([14.9])]\n",
      "--------------\n"
     ]
    }
   ],
   "source": [
    "family_households = compute_stats(nta_social_df, 'Fam1')\n",
    "print(family_households)\n",
    "\n",
    "family_size = compute_stats(nta_social_df, 'AvgFmSz', filter=False)\n",
    "print(family_size[0], family_size[1], family_size[2])\n",
    "\n",
    "family_households_children = compute_stats(nta_social_df, 'FamChU18')\n",
    "print(family_households_children)\n",
    "\n",
    "print(\"--------------\")"
   ]
  },
  {
   "cell_type": "code",
   "execution_count": 34,
   "metadata": {},
   "outputs": [
    {
     "name": "stdout",
     "output_type": "stream",
     "text": [
      "[array([5571]), array([31.9])]\n",
      "[array([1907]), array([10.9])]\n"
     ]
    }
   ],
   "source": [
    "family_households_married = compute_stats(nta_social_df, 'MrdFam')\n",
    "print(family_households_married)\n",
    "\n",
    "family_households_married_children = compute_stats(nta_social_df, 'MrdChU18')\n",
    "print(family_households_married_children)"
   ]
  },
  {
   "attachments": {},
   "cell_type": "markdown",
   "metadata": {},
   "source": [
    "## Non Family Households"
   ]
  },
  {
   "cell_type": "code",
   "execution_count": 24,
   "metadata": {},
   "outputs": [
    {
     "name": "stdout",
     "output_type": "stream",
     "text": [
      "[array([10235]), array([58.5])]\n"
     ]
    }
   ],
   "source": [
    "nonfamily_households = compute_stats(nta_social_df, 'NFam1')\n",
    "\n",
    "print(nonfamily_households)"
   ]
  },
  {
   "cell_type": "code",
   "execution_count": 39,
   "metadata": {},
   "outputs": [
    {
     "name": "stdout",
     "output_type": "stream",
     "text": [
      "[array([5535]), array([31.7])]\n",
      "[array([1491]), array([8.5])]\n",
      "[4700]\n"
     ]
    }
   ],
   "source": [
    "single_person_households = compute_stats(nta_social_df, 'NFamA')\n",
    "single_person_households_retired = compute_stats(nta_social_df, 'NFamA65pl')\n",
    "\n",
    "multiple_nonfamily_households = nonfamily_households[0] - single_person_households[0]\n",
    "\n",
    "print(single_person_households)\n",
    "print(single_person_households_retired)\n",
    "print(multiple_nonfamily_households)"
   ]
  },
  {
   "cell_type": "code",
   "execution_count": null,
   "metadata": {},
   "outputs": [],
   "source": []
  }
 ],
 "metadata": {
  "kernelspec": {
   "display_name": "test_birds_env",
   "language": "python",
   "name": "python3"
  },
  "language_info": {
   "codemirror_mode": {
    "name": "ipython",
    "version": 3
   },
   "file_extension": ".py",
   "mimetype": "text/x-python",
   "name": "python",
   "nbconvert_exporter": "python",
   "pygments_lexer": "ipython3",
   "version": "3.8.2"
  },
  "orig_nbformat": 4
 },
 "nbformat": 4,
 "nbformat_minor": 2
}
