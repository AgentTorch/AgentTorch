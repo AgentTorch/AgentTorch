{
 "cells": [
  {
   "cell_type": "code",
   "execution_count": 17,
   "id": "bccaf172-56cd-4d99-88de-952c0b33211a",
   "metadata": {
    "tags": []
   },
   "outputs": [],
   "source": [
    "import numpy as np\n",
    "import torch\n",
    "import torch.nn as nn\n",
    "# from torch.distributions.bernoulli import Bernoulli"
   ]
  },
  {
   "cell_type": "code",
   "execution_count": 53,
   "id": "11686774-cfb1-4a53-bc6b-add675c2d13b",
   "metadata": {
    "tags": []
   },
   "outputs": [],
   "source": [
    "class ST_Bernoulli(torch.autograd.Function):\n",
    "    generate_vmap_rule = True\n",
    "\n",
    "    def __init__(self):\n",
    "        super().__init__()\n",
    "\n",
    "    @staticmethod\n",
    "    def forward(ctx, p):\n",
    "        result = torch.bernoulli(p)\n",
    "        ctx.save_for_backward(result, p)\n",
    "        return result\n",
    "\n",
    "    @staticmethod\n",
    "    def backward(ctx, grad_output):\n",
    "        result, p = ctx.saved_tensors\n",
    "        ws = torch.ones(result.shape)\n",
    "        return grad_output * ws\n",
    "\n",
    "class Bernoulli(torch.autograd.Function):\n",
    "    generate_vmap_rule = True\n",
    "\n",
    "    def __init__(self):\n",
    "        super().__init__()\n",
    "\n",
    "    @staticmethod\n",
    "    def forward(ctx, p):\n",
    "        result = torch.bernoulli(p)\n",
    "        ctx.save_for_backward(result, p)\n",
    "        return result\n",
    "\n",
    "    @staticmethod\n",
    "    def backward(ctx, grad_output):\n",
    "        result, p = ctx.saved_tensors\n",
    "        w_minus = (1.0 / p) / 2 # jump down, averaged for eps > 0 and eps < 0\n",
    "        w_plus = (1.0 / (1.0 - p)) / 2 # jump up, averaged for eps > 0 and eps < 0\n",
    "        \n",
    "        ws = torch.where(result == 1, w_minus, w_plus) # stochastic triple: total grad -> + smoothing rule)\n",
    "        return grad_output * ws\n",
    "    \n",
    "class Binomial(torch.autograd.Function):\n",
    "    generate_vmap_rule = True\n",
    "\n",
    "    def __init__(self):\n",
    "        super().__init__()\n",
    "        \n",
    "    @staticmethod\n",
    "    def forward(ctx, n, p):\n",
    "        result = torch.distributions.binomial.Binomial(n, p).sample()\n",
    "        ctx.save_for_backward(result, p, n)\n",
    "        return result\n",
    "\n",
    "    @staticmethod\n",
    "    def backward(ctx, grad_output):\n",
    "        result, p, n = ctx.saved_tensors\n",
    "        w_minus = result / p # derivative contributions of unit jump down\n",
    "        w_plus = (n-result) / (1.0 - p) # derivative contributions of unit jump up\n",
    "        \n",
    "        wminus_cont = torch.where(result > 0, w_minus, 0) # smoothing rule says: for each result value: (w_minus + w_plus)/2; (w_minus is 0 for result < 0=n)\n",
    "        wplus_cont = torch.where(result < n, w_plus, 0)\n",
    "        \n",
    "        ws = (wminus_cont + wplus_cont)/2 # smoothing operation -> to account for positive and negative epsilon (depends upon where the previous gradient is coming from)\n",
    "        \n",
    "        return None, grad_output * ws\n"
   ]
  },
  {
   "cell_type": "code",
   "execution_count": 28,
   "id": "c92bb04d-97d0-4be6-8764-f5e3261ae96e",
   "metadata": {
    "tags": []
   },
   "outputs": [
    {
     "name": "stdout",
     "output_type": "stream",
     "text": [
      "tensor(0., grad_fn=<BernoulliBackward>)\n",
      "tensor(0.8333)\n"
     ]
    }
   ],
   "source": [
    "# Example bernoulli\n",
    "bernoulli = Bernoulli.apply\n",
    "p = torch.tensor(0.4, requires_grad=True)\n",
    "r = bernoulli(p)\n",
    "print(r)\n",
    "r.backward()\n",
    "print(p.grad)"
   ]
  },
  {
   "cell_type": "code",
   "execution_count": 31,
   "id": "c3970567-4abf-4dfd-a761-ce9b62380996",
   "metadata": {
    "tags": []
   },
   "outputs": [
    {
     "name": "stdout",
     "output_type": "stream",
     "text": [
      "tensor(1., grad_fn=<ST_BernoulliBackward>)\n",
      "tensor(1.)\n"
     ]
    }
   ],
   "source": [
    "# Example straight-through bernoulli\n",
    "st_bernoulli = ST_Bernoulli.apply\n",
    "p = torch.tensor(0.4, requires_grad=True)\n",
    "r = st_bernoulli(p)\n",
    "print(r)\n",
    "r.backward()\n",
    "print(p.grad)"
   ]
  },
  {
   "cell_type": "code",
   "execution_count": 49,
   "id": "764e3c37-32b6-4172-8a10-254f19c18108",
   "metadata": {
    "tags": []
   },
   "outputs": [
    {
     "name": "stdout",
     "output_type": "stream",
     "text": [
      "tensor(5., grad_fn=<BinomialBackward>)\n",
      "tensor(10.4167)\n"
     ]
    }
   ],
   "source": [
    "# Example binomial\n",
    "n, p = torch.tensor(10), torch.tensor(0.4, requires_grad=True)\n",
    "binomial = Binomial.apply\n",
    "\n",
    "r = binomial(n, p)\n",
    "print(r)\n",
    "r.backward()\n",
    "print(p.grad)"
   ]
  },
  {
   "cell_type": "code",
   "execution_count": 52,
   "id": "5c91427a-b679-4ed2-a565-a0c9a8dcf9a8",
   "metadata": {
    "tags": []
   },
   "outputs": [
    {
     "data": {
      "text/plain": [
       "tensor(1)"
      ]
     },
     "execution_count": 52,
     "metadata": {},
     "output_type": "execute_result"
    }
   ],
   "source": [
    "# Categorical distribution\n",
    "cate = torch.distributions.categorical.Categorical(torch.tensor([0.2, 0.7, 0.1]))\n",
    "\n",
    "cate.sample()"
   ]
  },
  {
   "cell_type": "code",
   "execution_count": 55,
   "id": "8e5b4346-38e5-4ae6-a277-a205a7bf18b1",
   "metadata": {
    "tags": []
   },
   "outputs": [],
   "source": [
    "class Categorical(torch.autograd.Function):\n",
    "    generate_vmap_rule = True\n",
    "    \n",
    "    def __init__(self):\n",
    "        super().__init__()\n",
    "        \n",
    "    @staticmethod\n",
    "    def forward(ctx, probs):\n",
    "        probs = probs/probs.sum()\n",
    "        result = torch.distributions.categorical.Categorical(probs)\n",
    "        ctx.save_for_backward(result, probs)\n",
    "        return result\n",
    "    \n",
    "    @staticmethod\n",
    "    def backward(ctx, grad_output):\n",
    "        result, probs = ctx.saved_tensors\n",
    "        \n",
    "        ws = []\n",
    "        for j in range(probs.shape[0]):\n",
    "            # dx/dp_j\n",
    "            # smoothing to consider eps > 0 and eps < 0 for wplus and wminus\n",
    "            wplus = torch.where(result + 1 <= j, 1 / 2*probs[result], 0)\n",
    "            wminus = torch.where(result - 1 >= j, -1 / 2*probs[result], 0) # -1 used for jump down direction\n",
    "            \n",
    "            ws.append(wplus + wminus)\n",
    "        \n",
    "        ws = torch.tensor(ws)\n",
    "            \n",
    "        return grad_output*ws"
   ]
  },
  {
   "cell_type": "code",
   "execution_count": null,
   "id": "7456f001-e2f4-49ba-bfc0-aa92828f4ec4",
   "metadata": {},
   "outputs": [],
   "source": []
  }
 ],
 "metadata": {
  "kernelspec": {
   "display_name": "Python 3",
   "language": "python",
   "name": "python3"
  },
  "language_info": {
   "codemirror_mode": {
    "name": "ipython",
    "version": 3
   },
   "file_extension": ".py",
   "mimetype": "text/x-python",
   "name": "python",
   "nbconvert_exporter": "python",
   "pygments_lexer": "ipython3",
   "version": "3.10.12"
  }
 },
 "nbformat": 4,
 "nbformat_minor": 5
}
