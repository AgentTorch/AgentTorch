{
 "cells": [
  {
   "attachments": {},
   "cell_type": "markdown",
   "metadata": {},
   "source": [
    "## Example Config Generator "
   ]
  },
  {
   "attachments": {},
   "cell_type": "markdown",
   "metadata": {},
   "source": [
    "This notebook will generate the config file for example [models/nca/](models/nca/) which implemented [Neural Cellular Automata](https://distill.pub/2020/growing-ca/). The API is decribe in [config.py](AgentTorch/config.py)"
   ]
  },
  {
   "cell_type": "code",
   "execution_count": 2,
   "metadata": {},
   "outputs": [],
   "source": [
    "import numpy as np\n",
    "from omegaconf import OmegaConf\n",
    "\n",
    "import sys\n",
    "sys.path.insert(0, '../../AgentTorch/')\n",
    "from AgentTorch import Configurator\n",
    "\n",
    "import types"
   ]
  },
  {
   "attachments": {},
   "cell_type": "markdown",
   "metadata": {},
   "source": [
    "# Create a `Configurator`"
   ]
  },
  {
   "cell_type": "code",
   "execution_count": 7,
   "metadata": {},
   "outputs": [],
   "source": [
    "conf = Configurator()"
   ]
  },
  {
   "attachments": {},
   "cell_type": "markdown",
   "metadata": {},
   "source": [
    "# Step 1: Insert Metadata with `conf.add_metadata`\n",
    "\n",
    "The metadata dictionary has keys as `str` and values can be `str`, `dict`, `list`, `int` or `float`"
   ]
  },
  {
   "attachments": {},
   "cell_type": "markdown",
   "metadata": {},
   "source": [
    "Please note that there are some **required** metdata terms that **must** always be specified. These are specified below:\n",
    "1. num_episodes: Number of episodes (or epochs) for the simulation. For example: this can be the number of training epochs when optimizing simulation parameters. This is used to execute create `runner = Runner` and execute `runner.forward()`.\n",
    "2. num_steps_per_episode: Number of simulation steps in each episode. For example: this can be number of days in an epidemiological simulation. Note that increasing the number of steps increases the depth of the computation graph. This is used in `runner.step(num_steps_per_episode)`\n",
    "3. num_substeps_per_step: Number of distinct substeps that are being defined in each episode. This is used as a `assert` to ensure the correct number of substeps are defined with `conf.add_substeps`"
   ]
  },
  {
   "attachments": {},
   "cell_type": "markdown",
   "metadata": {},
   "source": [
    "Here, we are inserting other information for the size of the grid (`h`, `w`), device (`device`), optimization parameters (`learning_params`)"
   ]
  },
  {
   "cell_type": "code",
   "execution_count": 8,
   "metadata": {},
   "outputs": [],
   "source": [
    "conf.add_metadata('num_episodes', 3)\n",
    "conf.add_metadata('num_steps_per_episode', 20)\n",
    "conf.add_metadata('num_substeps_per_step', 1)\n",
    "conf.add_metadata('h', 72)\n",
    "conf.add_metadata('w', 72)\n",
    "conf.add_metadata('n_channels', 16)\n",
    "conf.add_metadata('batch_size', 8)\n",
    "conf.add_metadata('device', 'cpu')\n",
    "conf.add_metadata('hidden_size', 128)\n",
    "conf.add_metadata('fire_rate', 0.5)\n",
    "conf.add_metadata('angle', 0.0)\n",
    "conf.add_metadata('learning_params', {'lr': 2e-3, 'betas': [0.5, 0.5], 'lr_gamma': 0.9999, 'model_path': 'saved_model.pth'})\n"
   ]
  },
  {
   "attachments": {},
   "cell_type": "markdown",
   "metadata": {},
   "source": [
    "# Step 2: Create Agents and Objects using `conf.add_agents`, `conf.add_objects`\n",
    "\n",
    "Note that you can read properties set in metadata using the `conf.get` wrapper to get variables to create agents and objects"
   ]
  },
  {
   "attachments": {},
   "cell_type": "markdown",
   "metadata": {},
   "source": [
    "Here, the number of automata agents is `h`*`w`"
   ]
  },
  {
   "cell_type": "code",
   "execution_count": 9,
   "metadata": {},
   "outputs": [
    {
     "name": "stdout",
     "output_type": "stream",
     "text": [
      "Automata number:  5184\n"
     ]
    }
   ],
   "source": [
    "w, h = conf.get('simulation_metadata.w'), conf.get('simulation_metadata.h')    \n",
    "automata_number = h*w\n",
    "print(\"Automata number: \", automata_number)\n",
    "\n",
    "automata = conf.add_agents(key=\"automata\", number=automata_number)"
   ]
  },
  {
   "attachments": {},
   "cell_type": "markdown",
   "metadata": {},
   "source": [
    "# Step 3: Create Agent Properties using conf.add_property"
   ]
  },
  {
   "attachments": {},
   "cell_type": "markdown",
   "metadata": {},
   "source": [
    "Each agent property has an initialization function with custom arguments. This is created using `conf.create_initializer` and `conf.create_variable`\n",
    "\n",
    "The initialization can be done using pre-defined helper initializers in [AgentTorch_initializers.py](AgentTorch/helpers/initializer.py) or implementing custom helpers in [nca_utils.py](models/nca/substeps/utils)"
   ]
  },
  {
   "cell_type": "code",
   "execution_count": 11,
   "metadata": {},
   "outputs": [],
   "source": [
    "## add properties to this agent\n",
    "n_channels = conf.get('simulation_metadata.n_channels')\n",
    "batch_size = conf.get('simulation_metadata.batch_size')\n",
    "device = conf.get('simulation_metadata.device')\n",
    "\n",
    "from models.nca.substeps.utils import nca_initialize_state\n",
    "\n",
    "arguments_list = [conf.create_variable(key='n_channels', name=\"n_channels\", learnable=False, shape=(1,), initialization_function=None, value=n_channels, dtype=\"int\"),\n",
    "                conf.create_variable(key='batch_size', name=\"batch_size\", learnable=False, shape=(1,), initialization_function=None, value=batch_size, dtype=\"int\"),\n",
    "                conf.create_variable(key='device', name=\"device\", learnable=False, shape=(1,), initialization_function=None, value=device, dtype=\"str\")]\n",
    "\n",
    "cell_state_initializer = conf.create_initializer(generator = nca_initialize_state, arguments=arguments_list)"
   ]
  },
  {
   "cell_type": "code",
   "execution_count": 12,
   "metadata": {},
   "outputs": [],
   "source": [
    "automata_cell_state = conf.add_property(root='state.agents.automata', key='cell_state', name=\"cell_state\", learnable=True, shape=(n_channels,), initialization_function=cell_state_initializer, dtype=\"float\")"
   ]
  },
  {
   "attachments": {},
   "cell_type": "markdown",
   "metadata": {},
   "source": [
    "# Step 4: Create Environment Network using `conf.add_network`"
   ]
  },
  {
   "attachments": {},
   "cell_type": "markdown",
   "metadata": {},
   "source": [
    "Since, NCA uses a grid lattice, we can use AgentTorch helper `grid_network` from [AgentTorch/helpers/environment.py](AgentTorch/helpers/environment.py)"
   ]
  },
  {
   "cell_type": "code",
   "execution_count": 7,
   "metadata": {},
   "outputs": [],
   "source": [
    "from AgentTorch.helpers.environment import grid_network\n",
    "conf.add_network('evolution_network', grid_network, arguments={'shape': [w, h]})"
   ]
  },
  {
   "attachments": {},
   "cell_type": "markdown",
   "metadata": {},
   "source": [
    "# Step 5: Register simulation substep using `conf.add_substeps`\n",
    "\n",
    "Please note the following:\n",
    "1. The number of substeps inserted should be same as the `num_substeps_per_step` property defined in `conf.metadata`\n",
    "2. Substeps are implemented in `models/nca/substeps` and registered with the `conf.add_substeps`\n",
    "3. Each substep can have distinct `transition`, `observation` and `action` which are extend `SubsteTransition`, `SubstepAction` and `SubstepObservation` classes in [substep.py](AgentTorch/substep.py)"
   ]
  },
  {
   "attachments": {},
   "cell_type": "markdown",
   "metadata": {},
   "source": [
    "Here, NCA has a single substep to evolve the cell state `EvolveCell`. Each substep function is first define usig `create_function` and then passed to `conf.add_substep`"
   ]
  },
  {
   "cell_type": "code",
   "execution_count": 13,
   "metadata": {},
   "outputs": [
    {
     "name": "stderr",
     "output_type": "stream",
     "text": [
      "/Users/ayushchopra/Desktop/PROJECTS/test_birds_env/lib/python3.8/site-packages/torch_geometric/typing.py:18: UserWarning: An issue occurred while importing 'pyg-lib'. Disabling its usage. Stacktrace: dlopen(/Users/ayushchopra/Desktop/PROJECTS/test_birds_env/lib/python3.8/site-packages/libpyg.so, 6): Library not loaded: /usr/local/opt/python@3.10/Frameworks/Python.framework/Versions/3.10/Python\n",
      "  Referenced from: /Users/ayushchopra/Desktop/PROJECTS/test_birds_env/lib/python3.8/site-packages/libpyg.so\n",
      "  Reason: image not found\n",
      "  warnings.warn(f\"An issue occurred while importing 'pyg-lib'. \"\n",
      "/Users/ayushchopra/Desktop/PROJECTS/test_birds_env/lib/python3.8/site-packages/torch_geometric/typing.py:42: UserWarning: An issue occurred while importing 'torch-sparse'. Disabling its usage. Stacktrace: dlopen(/Users/ayushchopra/Desktop/PROJECTS/test_birds_env/lib/python3.8/site-packages/libpyg.so, 6): Library not loaded: /usr/local/opt/python@3.10/Frameworks/Python.framework/Versions/3.10/Python\n",
      "  Referenced from: /Users/ayushchopra/Desktop/PROJECTS/test_birds_env/lib/python3.8/site-packages/libpyg.so\n",
      "  Reason: image not found\n",
      "  warnings.warn(f\"An issue occurred while importing 'torch-sparse'. \"\n"
     ]
    }
   ],
   "source": [
    "from models.nca.substeps.evolve_cell.transition import NCAEvolve\n",
    "evolve_transition = conf.create_function(NCAEvolve, input_variables={'cell_state':'agents/automata/cell_state'}, output_variables=['cell_state'], fn_type=\"transition\")\n",
    "\n",
    "automata = conf.get('state.agents.automata')\n",
    "conf.add_substep(name=\"Evolution\", active_agents=[\"automata\"], transition_fn=evolve_transition)"
   ]
  },
  {
   "attachments": {},
   "cell_type": "markdown",
   "metadata": {},
   "source": [
    "# Step 6: Export the Config using `conf.render`\n",
    "\n",
    "The config file can be exported as `.yaml` file. Internally, this is an instance of [omegaconf](https://github.com/omry/omegaconf) and used by the `runner`"
   ]
  },
  {
   "cell_type": "code",
   "execution_count": 14,
   "metadata": {},
   "outputs": [],
   "source": [
    "conf.render('nca_config.yaml')"
   ]
  }
 ],
 "metadata": {
  "kernelspec": {
   "display_name": "test_birds_env",
   "language": "python",
   "name": "python3"
  },
  "language_info": {
   "codemirror_mode": {
    "name": "ipython",
    "version": 3
   },
   "file_extension": ".py",
   "mimetype": "text/x-python",
   "name": "python",
   "nbconvert_exporter": "python",
   "pygments_lexer": "ipython3",
   "version": "3.8.2"
  },
  "orig_nbformat": 4
 },
 "nbformat": 4,
 "nbformat_minor": 2
}
