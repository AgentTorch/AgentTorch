{
 "cells": [
  {
   "cell_type": "code",
   "execution_count": 1,
   "metadata": {},
   "outputs": [],
   "source": [
    "import numpy as np\n",
    "import torch\n",
    "import torch.nn as nn\n",
    "import torch.nn.functional as F\n",
    "\n",
    "from soft import discrete_sample, logical_and"
   ]
  },
  {
   "attachments": {},
   "cell_type": "markdown",
   "metadata": {},
   "source": [
    "Need to write differentiable approximations for the following operations: logical_and, indicate, max"
   ]
  },
  {
   "attachments": {},
   "cell_type": "markdown",
   "metadata": {},
   "source": [
    "# Indicator"
   ]
  },
  {
   "cell_type": "code",
   "execution_count": 21,
   "metadata": {},
   "outputs": [
    {
     "name": "stdout",
     "output_type": "stream",
     "text": [
      "tensor(0.1110) tensor(-0.1110)\n"
     ]
    }
   ],
   "source": [
    "def compare(a, b):\n",
    "    '''returns 1 if a > b and 2 if b > a'''\n",
    "    def compare_soft(epsilon_t, nu_t, hardness=0.85):\n",
    "        return torch.sigmoid(hardness * (epsilon_t - nu_t))\n",
    "\n",
    "    def compare_hard(a, b):\n",
    "        return (a > b).float()\n",
    "    \n",
    "    soft = compare_soft(a, b)\n",
    "    return compare_hard(a, b) + soft - soft.detach()\n",
    "\n",
    "def compare_hard(epsilon_t, nu_t):\n",
    "    return (epsilon_t > nu_t).float()\n",
    "\n",
    "a = torch.tensor(3.0, requires_grad=True)\n",
    "b = torch.tensor(5.0, requires_grad=True)\n",
    "\n",
    "x = compare(a, b)\n",
    "x.backward()\n",
    "print(a.grad, b.grad)"
   ]
  },
  {
   "attachments": {},
   "cell_type": "markdown",
   "metadata": {},
   "source": [
    "## Maximum"
   ]
  },
  {
   "cell_type": "code",
   "execution_count": 37,
   "metadata": {},
   "outputs": [
    {
     "name": "stdout",
     "output_type": "stream",
     "text": [
      "tensor([10.], grad_fn=<MaximumBackward0>) tensor([10.], grad_fn=<AddBackward0>)\n",
      "tensor([1.0589]) tensor([-0.0589])\n"
     ]
    }
   ],
   "source": [
    "def soft_maximum(a, b):\n",
    "    return a*compare(a, b) + b*compare(b, a)\n",
    "\n",
    "value1 = torch.tensor([10.0], requires_grad=True)\n",
    "value2 = torch.tensor([5.0], requires_grad=True)\n",
    "\n",
    "hard_max = torch.max(value1, value2)\n",
    "soft_max = soft_maximum(value1, value2)\n",
    "\n",
    "print(hard_max, soft_max)\n",
    "soft_max.backward()\n",
    "print(value1.grad, value2.grad)"
   ]
  },
  {
   "attachments": {},
   "cell_type": "markdown",
   "metadata": {},
   "source": [
    "## logical_and, logical_or, logical_not"
   ]
  },
  {
   "cell_type": "code",
   "execution_count": 100,
   "metadata": {},
   "outputs": [],
   "source": [
    "def logical_not(a, grad=True):\n",
    "    def hard_not(a):\n",
    "        assert a.dtype == torch.long\n",
    "        return torch.logical_not(a)\n",
    "    \n",
    "    def soft_not(a):\n",
    "        return 1 - a\n",
    "    \n",
    "    if not grad:\n",
    "        return hard_not(a.long())\n",
    "\n",
    "    soft = soft_not(a)\n",
    "    return hard_not(a.long()) + soft - soft.detach()\n",
    "\n",
    "\n",
    "def logical_or(a, b, grad=True):\n",
    "    def hard_or(a, b):\n",
    "        assert a.dtype == torch.long and b.dtype == torch.long\n",
    "        return torch.logical_or(a, b)\n",
    "    \n",
    "    def soft_or(a, b):\n",
    "        return a + b\n",
    "    \n",
    "    if not grad:\n",
    "        return hard_or(a.long(), b.long())\n",
    "\n",
    "    soft = soft_or(a, b)\n",
    "    return hard_or(a.long(), b.long()) + (soft - soft.detach())\n",
    "\n",
    "def logical_and(a, b, grad=True):\n",
    "    def hard_and(a, b):\n",
    "        assert a.dtype == torch.long and b.dtype == torch.long\n",
    "        return torch.logical_and(a, b)\n",
    "    \n",
    "    def soft_and(a, b):\n",
    "        return a * b\n",
    "    \n",
    "    if not grad:\n",
    "        return hard_and(a.long(), b.long())\n",
    "\n",
    "    soft = soft_and(a, b)\n",
    "    return hard_and(a.long(), b.long()) + (soft - soft.detach())"
   ]
  },
  {
   "attachments": {},
   "cell_type": "markdown",
   "metadata": {},
   "source": [
    "## logical_or"
   ]
  },
  {
   "cell_type": "code",
   "execution_count": 101,
   "metadata": {},
   "outputs": [
    {
     "name": "stdout",
     "output_type": "stream",
     "text": [
      "Output:  tensor([1., 0., 1., 1., 0.], grad_fn=<AddBackward0>) tensor([1, 0, 1, 1, 0])\n",
      "Gradient:  tensor([1., 1., 1., 1., 1.]) tensor([1., 1., 1., 1., 1.])\n"
     ]
    }
   ],
   "source": [
    "x_a = torch.tensor([1.0, 0.0, 0.0, 1.0, 0.0], requires_grad=True)\n",
    "x_b = torch.tensor([1.0, 0.0, 1.0, 0.0, 0.0], requires_grad=True)\n",
    "\n",
    "z = x_a + x_b\n",
    "z = logical_or(x_a, x_b)\n",
    "z.sum().backward()\n",
    "\n",
    "z2 = torch.logical_or(x_a, x_b).long()\n",
    "\n",
    "print(\"Output: \", z, z2)\n",
    "print(\"Gradient: \", x_a.grad, x_b.grad)"
   ]
  },
  {
   "attachments": {},
   "cell_type": "markdown",
   "metadata": {},
   "source": [
    "## logical_and"
   ]
  },
  {
   "cell_type": "code",
   "execution_count": 102,
   "metadata": {},
   "outputs": [
    {
     "name": "stdout",
     "output_type": "stream",
     "text": [
      "Output:  tensor([1., 0., 0., 0., 0.], grad_fn=<AddBackward0>) tensor([1, 0, 0, 0, 0])\n",
      "Gradient:  tensor([1., 0., 1., 0., 0.]) tensor([1., 0., 0., 1., 0.])\n"
     ]
    }
   ],
   "source": [
    "x_a = torch.tensor([1.0, 0.0, 0.0, 1.0, 0.0], requires_grad=True)\n",
    "x_b = torch.tensor([1.0, 0.0, 1.0, 0.0, 0.0], requires_grad=True)\n",
    "\n",
    "z_basic = x_a * x_b\n",
    "z_at = logical_and(x_a, x_b)\n",
    "z_torch = torch.logical_and(x_a, x_b).long()\n",
    "print(\"Output: \", z_at, z_torch)\n",
    "\n",
    "z_at.sum().backward()\n",
    "print(\"Gradient: \", x_a.grad, x_b.grad)"
   ]
  },
  {
   "attachments": {},
   "cell_type": "markdown",
   "metadata": {},
   "source": [
    "## logical_not"
   ]
  },
  {
   "cell_type": "code",
   "execution_count": 105,
   "metadata": {},
   "outputs": [
    {
     "name": "stdout",
     "output_type": "stream",
     "text": [
      "Output:  tensor([0., 1., 1., 0., 1.], grad_fn=<SubBackward0>) tensor([0, 1, 1, 0, 1])\n",
      "Gradient:  tensor([-1., -1., -1., -1., -1.])\n"
     ]
    }
   ],
   "source": [
    "x_a = torch.tensor([1.0, 0.0, 0.0, 1.0, 0.0], requires_grad=True)\n",
    "\n",
    "z_at = logical_not(x_a)\n",
    "z_torch = torch.logical_not(x_a).long()\n",
    "\n",
    "print(\"Output: \", z_at, z_torch)\n",
    "z_at.sum().backward()\n",
    "print(\"Gradient: \", x_a.grad)"
   ]
  },
  {
   "attachments": {},
   "cell_type": "markdown",
   "metadata": {},
   "source": [
    "## discrete_sampling"
   ]
  },
  {
   "cell_type": "code",
   "execution_count": 12,
   "metadata": {},
   "outputs": [
    {
     "name": "stdout",
     "output_type": "stream",
     "text": [
      "tensor([1., 1., 0., 1., 1., 1., 0., 0., 1., 0.], grad_fn=<SelectBackward0>)\n",
      "tensor(4.7663)\n"
     ]
    }
   ],
   "source": [
    "initial_infections_percentage = torch.tensor(0.6, requires_grad=True)\n",
    "\n",
    "agents_stages = discrete_sample(initial_infections_percentage, size=(10, 1))\n",
    "print(agents_stages)\n",
    "agents_stages.sum().backward()\n",
    "print(initial_infections_percentage.grad)"
   ]
  },
  {
   "cell_type": "code",
   "execution_count": 2,
   "metadata": {},
   "outputs": [
    {
     "name": "stdout",
     "output_type": "stream",
     "text": [
      "tensor([1., 0., 0., 0., 0., 1., 0., 1., 0., 0.], grad_fn=<AddBackward0>)\n",
      "tensor(6.8792)\n"
     ]
    }
   ],
   "source": [
    "# composite operations\n",
    "initial_infections_percentage = torch.tensor(0.6, requires_grad=True)\n",
    "agents_stages = discrete_sample(initial_infections_percentage, size=(10, 1))\n",
    "\n",
    "mask = torch.tensor([1.0, 0.0, 0.0, 0.0, 0.0, 1.0, 0.0, 1.0, 0.0, 1.0])\n",
    "\n",
    "out = logical_and(agents_stages, mask)\n",
    "print(out)\n",
    "out.sum().backward()\n",
    "print(initial_infections_percentage.grad)"
   ]
  },
  {
   "cell_type": "code",
   "execution_count": null,
   "metadata": {},
   "outputs": [],
   "source": []
  }
 ],
 "metadata": {
  "kernelspec": {
   "display_name": "test_birds_env",
   "language": "python",
   "name": "python3"
  },
  "language_info": {
   "codemirror_mode": {
    "name": "ipython",
    "version": 3
   },
   "file_extension": ".py",
   "mimetype": "text/x-python",
   "name": "python",
   "nbconvert_exporter": "python",
   "pygments_lexer": "ipython3",
   "version": "3.8.2"
  },
  "orig_nbformat": 4
 },
 "nbformat": 4,
 "nbformat_minor": 2
}
