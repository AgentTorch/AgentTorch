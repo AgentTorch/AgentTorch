{
 "cells": [
  {
   "cell_type": "code",
   "execution_count": 4,
   "metadata": {},
   "outputs": [],
   "source": [
    "import numpy as np\n",
    "import torch\n",
    "import torch.nn as nn"
   ]
  },
  {
   "cell_type": "code",
   "execution_count": 5,
   "metadata": {},
   "outputs": [
    {
     "data": {
      "text/plain": [
       "tensor(20.)"
      ]
     },
     "execution_count": 5,
     "metadata": {},
     "output_type": "execute_result"
    }
   ],
   "source": [
    "x = torch.tensor(10.0)\n",
    "x*2"
   ]
  },
  {
   "attachments": {},
   "cell_type": "markdown",
   "metadata": {},
   "source": [
    "Need to write differentiable approximations for the following operations: logical_and, indicate, max"
   ]
  },
  {
   "attachments": {},
   "cell_type": "markdown",
   "metadata": {},
   "source": [
    "# Soft Indicator Function"
   ]
  },
  {
   "cell_type": "code",
   "execution_count": 21,
   "metadata": {},
   "outputs": [
    {
     "name": "stdout",
     "output_type": "stream",
     "text": [
      "tensor(0.1110) tensor(-0.1110)\n"
     ]
    }
   ],
   "source": [
    "def compare(a, b):\n",
    "    '''returns 1 if a > b and 2 if b > a'''\n",
    "    def compare_soft(epsilon_t, nu_t, hardness=0.85):\n",
    "        return torch.sigmoid(hardness * (epsilon_t - nu_t))\n",
    "\n",
    "    def compare_hard(a, b):\n",
    "        return (a > b).float()\n",
    "    \n",
    "    soft = compare_soft(a, b)\n",
    "    return compare_hard(a, b) + soft - soft.detach()\n",
    "\n",
    "def compare_hard(epsilon_t, nu_t):\n",
    "    return (epsilon_t > nu_t).float()\n",
    "\n",
    "a = torch.tensor(3.0, requires_grad=True)\n",
    "b = torch.tensor(5.0, requires_grad=True)\n",
    "\n",
    "x = compare(a, b)\n",
    "x.backward()\n",
    "print(a.grad, b.grad)"
   ]
  },
  {
   "cell_type": "code",
   "execution_count": 24,
   "metadata": {},
   "outputs": [
    {
     "name": "stdout",
     "output_type": "stream",
     "text": [
      "tensor([5.], grad_fn=<MaximumBackward0>) tensor([5.], grad_fn=<AddBackward0>)\n",
      "tensor([-0.2220]) tensor([1.2220])\n"
     ]
    }
   ],
   "source": [
    "# def soft_maximum(value1, value2, hardness=0.85):\n",
    "#     return torch.log(torch.exp(hardness * value1) + torch.exp(hardness * value2)) / hardness\n",
    "\n",
    "def soft_maximum(a, b):\n",
    "    return a*compare(a, b) + b*compare(b, a)\n",
    "\n",
    "value1 = torch.tensor([3.0], requires_grad=True)\n",
    "value2 = torch.tensor([5.0], requires_grad=True)\n",
    "\n",
    "hard_max = torch.max(value1, value2)\n",
    "soft_max = soft_maximum(value1, value2)\n",
    "\n",
    "print(hard_max, soft_max)\n",
    "\n",
    "soft_max.backward()\n",
    "print(value1.grad, value2.grad)"
   ]
  },
  {
   "cell_type": "code",
   "execution_count": null,
   "metadata": {},
   "outputs": [],
   "source": []
  }
 ],
 "metadata": {
  "kernelspec": {
   "display_name": "test_birds_env",
   "language": "python",
   "name": "python3"
  },
  "language_info": {
   "codemirror_mode": {
    "name": "ipython",
    "version": 3
   },
   "file_extension": ".py",
   "mimetype": "text/x-python",
   "name": "python",
   "nbconvert_exporter": "python",
   "pygments_lexer": "ipython3",
   "version": "3.8.2"
  },
  "orig_nbformat": 4
 },
 "nbformat": 4,
 "nbformat_minor": 2
}
