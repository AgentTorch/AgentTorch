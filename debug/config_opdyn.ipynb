{
 "cells": [
  {
   "cell_type": "code",
   "execution_count": 1,
   "metadata": {},
   "outputs": [],
   "source": [
    "import numpy as np\n",
    "\n",
    "import sys\n",
    "sys.path.insert(0, '../../AgentTorch/')\n",
    "from AgentTorch import Configurator"
   ]
  },
  {
   "attachments": {},
   "cell_type": "markdown",
   "metadata": {},
   "source": [
    "## Create Configurator"
   ]
  },
  {
   "cell_type": "code",
   "execution_count": 2,
   "metadata": {},
   "outputs": [],
   "source": [
    "conf = Configurator()"
   ]
  },
  {
   "attachments": {},
   "cell_type": "markdown",
   "metadata": {},
   "source": [
    "## Add Metadata"
   ]
  },
  {
   "cell_type": "code",
   "execution_count": 3,
   "metadata": {},
   "outputs": [],
   "source": [
    "conf.add_metadata('num_episodes', 10)\n",
    "conf.add_metadata('num_steps_per_episode', 25)\n",
    "conf.add_metadata('num_substeps_per_step', 1)\n",
    "conf.add_metadata('device', 'cpu')\n",
    "conf.add_metadata('num_agents', 6400)\n",
    "conf.add_metadata('num_products', 2)"
   ]
  },
  {
   "attachments": {},
   "cell_type": "markdown",
   "metadata": {},
   "source": [
    "## Create Agents"
   ]
  },
  {
   "cell_type": "code",
   "execution_count": 4,
   "metadata": {},
   "outputs": [],
   "source": [
    "num_agents = conf.get('simulation_metadata.num_agents')\n",
    "conf.add_agents(key=\"consumers\", number=6400)\n",
    "conf.add_agents(key=\"marketers\", number=2)"
   ]
  },
  {
   "attachments": {},
   "cell_type": "markdown",
   "metadata": {},
   "source": [
    "## Add Agent Properties"
   ]
  },
  {
   "cell_type": "code",
   "execution_count": 5,
   "metadata": {},
   "outputs": [],
   "source": [
    "# ft property\n",
    "from AgentTorch.helpers import random_normal\n",
    "\n",
    "ft_args_list = [conf.create_variable(key='mu', name='ft_mean', shape=(1,), value=0.5, dtype=\"float\"),\n",
    "                conf.create_variable(key='sigma', name='ft_sigma', shape=(1,), value=0.67, dtype=\"float\"),]\n",
    "\n",
    "ft_initializer = conf.create_initializer(generator=random_normal, arguments=ft_args_list)\n",
    "\n",
    "conf.add_property(root='state.agents.consumers', key='F_t', name='Follower Tendency', shape=(num_agents, 1), learnable=True, initialization_function=ft_initializer, dtype=\"float\")\n"
   ]
  },
  {
   "cell_type": "code",
   "execution_count": 6,
   "metadata": {},
   "outputs": [],
   "source": [
    "# purchased_before property\n",
    "num_products = conf.get('num_products')\n",
    "conf.add_property(root='state.agents.consumers', key='Purchased_before', name='Purhcased before', shape=(num_agents, num_products), value=0.5, initialization_function=None, dtype=\"float\")"
   ]
  },
  {
   "cell_type": "code",
   "execution_count": 7,
   "metadata": {},
   "outputs": [],
   "source": [
    "# q_exp\n",
    "from models.opinion.substeps.utils import random_normal_col_by_col\n",
    "\n",
    "qexp_args_list = [conf.create_variable(key='mu_0', name='Q_exp_mu_0', shape=(1,), value=0.5, initialization_function=None, dtype=\"float\"),\n",
    "                  conf.create_variable(key='mu_1', name='Q_exp_mu_1', shape=(1,), value=0.5, initialization_function=None, dtype=\"float\"),\n",
    "                  conf.create_variable(key='sigma_0', name='Q_exp_sigma_0', shape=(1,), value=0.2, initialization_function=None, dtype=\"float\"),\n",
    "                  conf.create_variable(key='sigma_1', name='Q_exp_sigma_1', shape=(1,), value=0.2, initialization_function=None, dtype=\"float\")]\n",
    "\n",
    "qexp_initializer = conf.create_initializer(generator=random_normal_col_by_col, arguments=qexp_args_list)\n",
    "conf.add_property(root='state.agents.consumers', key='Q_exp', name='Quality Experienced', shape=(num_agents, num_products), initialization_function=qexp_initializer, dtype=\"float\")\n"
   ]
  },
  {
   "cell_type": "code",
   "execution_count": 8,
   "metadata": {},
   "outputs": [],
   "source": [
    "# q_des\n",
    "conf.add_property(root='state.agents.consumers', key='Q_des', name='Quality desired', shape=(num_agents, 1), value=0.5, initialization_function=None, dtype=\"float\")"
   ]
  },
  {
   "attachments": {},
   "cell_type": "markdown",
   "metadata": {},
   "source": [
    "## Add Objects"
   ]
  },
  {
   "cell_type": "code",
   "execution_count": 9,
   "metadata": {},
   "outputs": [],
   "source": [
    "# add object 1\n",
    "\n",
    "conf.add_objects(key='ProductA', number=1)\n",
    "\n",
    "conf.add_property(root='state.objects.ProductA', key=\"cost\", name=\"ProductA cost\", shape=(1,1), initialization_function=False, value=1.0, dtype=\"float\")\n",
    "conf.add_property(root='state.objects.ProductA', key=\"quality\", name=\"ProductA quality\", shape=(1,1), initialization_function=False, value=1.0, dtype=\"float\")"
   ]
  },
  {
   "cell_type": "code",
   "execution_count": 10,
   "metadata": {},
   "outputs": [],
   "source": [
    "# add object 2\n",
    "\n",
    "conf.add_objects(key='ProductB', number=1)\n",
    "\n",
    "conf.add_property(root='state.objects.ProductB', key=\"cost\", name=\"ProductB cost\", shape=(1,1), initialization_function=False, value=1.0, dtype=\"float\")\n",
    "conf.add_property(root='state.objects.ProductB', key=\"quality\", name=\"ProductB quality\", shape=(1,1), initialization_function=False, value=1.0, dtype=\"float\")"
   ]
  },
  {
   "attachments": {},
   "cell_type": "markdown",
   "metadata": {},
   "source": [
    "## Add Environment Network"
   ]
  },
  {
   "cell_type": "code",
   "execution_count": 11,
   "metadata": {},
   "outputs": [],
   "source": [
    "# network\n",
    "from AgentTorch.helpers import grid_network\n",
    "conf.add_network(network_name=\"opinion_network\", network_type=grid_network, arguments={'shape': [80, 80]})"
   ]
  },
  {
   "attachments": {},
   "cell_type": "markdown",
   "metadata": {},
   "source": [
    "## Add Substeps"
   ]
  },
  {
   "cell_type": "code",
   "execution_count": 12,
   "metadata": {},
   "outputs": [
    {
     "name": "stderr",
     "output_type": "stream",
     "text": [
      "/Users/ayushchopra/Desktop/PROJECTS/test_birds_env/lib/python3.8/site-packages/torch_geometric/typing.py:18: UserWarning: An issue occurred while importing 'pyg-lib'. Disabling its usage. Stacktrace: dlopen(/Users/ayushchopra/Desktop/PROJECTS/test_birds_env/lib/python3.8/site-packages/libpyg.so, 6): Library not loaded: /usr/local/opt/python@3.10/Frameworks/Python.framework/Versions/3.10/Python\n",
      "  Referenced from: /Users/ayushchopra/Desktop/PROJECTS/test_birds_env/lib/python3.8/site-packages/libpyg.so\n",
      "  Reason: image not found\n",
      "  warnings.warn(f\"An issue occurred while importing 'pyg-lib'. \"\n",
      "/Users/ayushchopra/Desktop/PROJECTS/test_birds_env/lib/python3.8/site-packages/torch_geometric/typing.py:42: UserWarning: An issue occurred while importing 'torch-sparse'. Disabling its usage. Stacktrace: dlopen(/Users/ayushchopra/Desktop/PROJECTS/test_birds_env/lib/python3.8/site-packages/libpyg.so, 6): Library not loaded: /usr/local/opt/python@3.10/Frameworks/Python.framework/Versions/3.10/Python\n",
      "  Referenced from: /Users/ayushchopra/Desktop/PROJECTS/test_birds_env/lib/python3.8/site-packages/libpyg.so\n",
      "  Reason: image not found\n",
      "  warnings.warn(f\"An issue occurred while importing 'torch-sparse'. \"\n"
     ]
    }
   ],
   "source": [
    "from models.opinion.substeps.purchase_product.observation import GetFromState, GetNeighborsSum, GetNeighborsSumReduced\n",
    "\n",
    "get_from_state = conf.create_function(generator=GetFromState, arguments=None, \n",
    "                                      input_variables={'F_t': 'agents/consumers/F_t', 'Q_des': 'num_agents/consumers/Q_des', 'Q_exp': 'agents/consumers/Q_exp'},\n",
    "                                      output_variables=['F_t', 'Q_des', 'Q_exp'], fn_type=\"observation\")\n",
    "\n",
    "get_neighbors_sum = conf.create_function(\n",
    "    generator=GetNeighborsSum, fn_type=\"observation\",\n",
    "    input_variables={'adjancency_matrix': \"network/agent_agent/opinion_network/adjacency_matrix\",\n",
    "                    'query_feature': \"agents/consumers/purchased_before\"},\n",
    "    output_variables=['N_i'],\n",
    "    arguments=[conf.create_variable(key=\"neighborhood\", name=\"Neighborhood Scope\", shape=(1,), value=1, dtype=\"int\", initialization_function=None)]\n",
    ")\n",
    "\n",
    "get_neighbors_sum_reduced = conf.create_function(\n",
    "    generator=GetNeighborsSumReduced, fn_type=\"observation\",\n",
    "    input_variables={'adjancency_matrix': \"network/agent_agent/opinion_network/adjacency_matrix\",\n",
    "                    'query_feature': \"agents/consumers/purchased_before\"},\n",
    "    output_variables=['N_p'],\n",
    "    arguments=[conf.create_variable(key=\"neighborhood\", name=\"Neighborhood Scope\", shape=(1,), value=1, dtype=\"int\", initialization_function=None)]\n",
    ")"
   ]
  },
  {
   "cell_type": "code",
   "execution_count": 13,
   "metadata": {},
   "outputs": [],
   "source": [
    "from models.opinion.substeps.purchase_product.action import PurchaseProduct\n",
    "purchase_product_policy = conf.create_function(generator=PurchaseProduct, arguments=None, fn_type=\"policy\",\n",
    "                                               input_variables={'N_i': 'N_i', 'N_p': 'N_p', 'F_t': 'F_t', 'Q_des': 'Q_des', 'Q_exp': 'Q_exp'},\n",
    "                                                output_variables=[\"purchase_action\"])"
   ]
  },
  {
   "cell_type": "code",
   "execution_count": 14,
   "metadata": {},
   "outputs": [],
   "source": [
    "from models.opinion.substeps.purchase_product.transition import NewQExp, NewPurchasedBefore\n",
    "\n",
    "transition_new_q_exp = conf.create_function(generator=NewQExp, input_variables={'Q_exp': \"agents/consumers/Q_exp\"},\n",
    "                                            output_variables=['Q_exp'], fn_type=\"transition\",\n",
    "                                            arguments=[\n",
    "                                                conf.create_variable(key='distribution_params_0_mu', name=\"Resample dist mu 0\", shape=[1,], value=0.5, initialization_function=None, dtype=\"float\"),\n",
    "                                                conf.create_variable(key='distribution_params_0_sigma', name=\"Resample dist sigma 0\", shape=[1,], value=0.2, initialization_function=None, dtype=\"float\"),\n",
    "                                                conf.create_variable(key='distribution_params_1_mu', name=\"Resample dist mu 1\", shape=[1,], value=0.5, initialization_function=None, dtype=\"float\"),\n",
    "                                                conf.create_variable(key='distribution_params_1_sigma', name=\"Resample dist sigma 1\", shape=[1,], value=0.2, initialization_function=None, dtype=\"float\")\n",
    "                                            ])\n",
    "\n",
    "transition_new_purchased_before = conf.create_function(generator=NewPurchasedBefore, arguments=None,\n",
    "                                                        fn_type=\"transition\",\n",
    "                                                       input_variables={\"Purchase_before\": \"agents/consumers/Purchased_before\"},\n",
    "                                                       output_variables=[\"Purchase_before\"])"
   ]
  },
  {
   "cell_type": "code",
   "execution_count": 15,
   "metadata": {},
   "outputs": [],
   "source": [
    "conf.add_substep(name=\"New Purchase\", active_agents=['consumers'], \n",
    "                observation_fn=[get_from_state, get_neighbors_sum, get_neighbors_sum_reduced],\n",
    "                policy_fn = [purchase_product_policy],\n",
    "                transition_fn = [transition_new_q_exp, transition_new_purchased_before])"
   ]
  },
  {
   "attachments": {},
   "cell_type": "markdown",
   "metadata": {},
   "source": [
    "## Render simulator"
   ]
  },
  {
   "cell_type": "code",
   "execution_count": 16,
   "metadata": {},
   "outputs": [],
   "source": [
    "conf.render('opdyn_config.yaml')"
   ]
  },
  {
   "cell_type": "code",
   "execution_count": null,
   "metadata": {},
   "outputs": [],
   "source": []
  }
 ],
 "metadata": {
  "kernelspec": {
   "display_name": "test_birds_env",
   "language": "python",
   "name": "python3"
  },
  "language_info": {
   "codemirror_mode": {
    "name": "ipython",
    "version": 3
   },
   "file_extension": ".py",
   "mimetype": "text/x-python",
   "name": "python",
   "nbconvert_exporter": "python",
   "pygments_lexer": "ipython3",
   "version": "3.8.2"
  },
  "orig_nbformat": 4
 },
 "nbformat": 4,
 "nbformat_minor": 2
}
