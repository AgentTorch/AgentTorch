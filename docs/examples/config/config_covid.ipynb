{
 "cells": [
  {
   "cell_type": "code",
   "execution_count": 1,
   "metadata": {},
   "outputs": [],
   "source": [
    "import numpy as np\n",
    "\n",
    "import sys\n",
    "sys.path.insert(0, '../../AgentTorch/')\n",
    "from AgentTorch import Configurator"
   ]
  },
  {
   "attachments": {},
   "cell_type": "markdown",
   "metadata": {},
   "source": [
    "## Create Configurator"
   ]
  },
  {
   "cell_type": "code",
   "execution_count": 2,
   "metadata": {},
   "outputs": [],
   "source": [
    "conf = Configurator()"
   ]
  },
  {
   "attachments": {},
   "cell_type": "markdown",
   "metadata": {},
   "source": [
    "## Add metadata"
   ]
  },
  {
   "cell_type": "code",
   "execution_count": 3,
   "metadata": {},
   "outputs": [],
   "source": [
    "conf.add_metadata('num_episodes', 10)\n",
    "conf.add_metadata('num_steps_per_episode', 30)\n",
    "conf.add_metadata('num_substeps_per_step', 2)\n",
    "conf.add_metadata('device', 'cpu')\n",
    "conf.add_metadata('num_citizens', 70916)\n",
    "conf.add_metadata('agent_id_file', \"data/25011_id.csv\")\n",
    "conf.add_metadata('age_group_file', \"data/25011_age.csv\")\n",
    "conf.add_metadata('disease_stage_file', \"data/25011_stage.csv\")\n",
    "conf.add_metadata('infection_network_file', \"data/25011_network.csv\")\n",
    "conf.add_metadata('SUSCEPTIBLE_VAR', 0)\n",
    "conf.add_metadata('EXPOSED_VAR', 1)\n",
    "conf.add_metadata('INFECTED_VAR', 2)\n",
    "conf.add_metadata('RECOVERED_VAR', 3)\n",
    "conf.add_metadata('MORTALITY_VAR', 4)\n"
   ]
  },
  {
   "attachments": {},
   "cell_type": "markdown",
   "metadata": {},
   "source": [
    "## Add agents"
   ]
  },
  {
   "cell_type": "code",
   "execution_count": 5,
   "metadata": {},
   "outputs": [],
   "source": [
    "num_agents = conf.get('num_citizens')\n",
    "\n",
    "conf.add_agents(key=\"citizens\", number=num_agents)"
   ]
  },
  {
   "cell_type": "code",
   "execution_count": null,
   "metadata": {},
   "outputs": [],
   "source": [
    "# agent id\n",
    "from AgentTorch.helpers import read_from_file\n",
    "id_initializer = conf.create_initializer(generator=read_from_file, \n",
    "                                         arguments=[])"
   ]
  },
  {
   "attachments": {},
   "cell_type": "markdown",
   "metadata": {},
   "source": [
    "## Render config"
   ]
  },
  {
   "cell_type": "code",
   "execution_count": 4,
   "metadata": {},
   "outputs": [],
   "source": [
    "conf.render('covid_config.yaml')"
   ]
  },
  {
   "cell_type": "code",
   "execution_count": null,
   "metadata": {},
   "outputs": [],
   "source": []
  }
 ],
 "metadata": {
  "kernelspec": {
   "display_name": "test_birds_env",
   "language": "python",
   "name": "python3"
  },
  "language_info": {
   "codemirror_mode": {
    "name": "ipython",
    "version": 3
   },
   "file_extension": ".py",
   "mimetype": "text/x-python",
   "name": "python",
   "nbconvert_exporter": "python",
   "pygments_lexer": "ipython3",
   "version": "3.8.2"
  },
  "orig_nbformat": 4
 },
 "nbformat": 4,
 "nbformat_minor": 2
}
