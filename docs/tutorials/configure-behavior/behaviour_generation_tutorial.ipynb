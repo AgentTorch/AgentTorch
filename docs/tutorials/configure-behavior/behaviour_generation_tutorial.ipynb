{
 "cells": [
  {
   "cell_type": "markdown",
   "metadata": {},
   "source": [
    "# Guide to AI Agent Behavior Generation\n",
    "\n",
    "Welcome to this comprehensive tutorial on AI agent behavior generation! This guide is designed for newcomers who want to learn how to create AI agents and simulate population behaviors using a custom framework. We'll walk you through each step, explaining concepts as we go.\n",
    "\n",
    "## Table of Contents\n",
    "\n",
    "1. [Introduction to the Framework](#introduction)\n",
    "2. [Setting Up Your Environment](#setup)\n",
    "3. [Understanding the Core Components](#components)\n",
    "4. [Creating Your First AI Agent](#first-agent)\n",
    "5. [Generating Population Behaviors](#behaviors)\n",
    "6. [Putting It All Together](#all-together)\n",
    "7. [Next Steps and Advanced Topics](#next-steps)"
   ]
  },
  {
   "cell_type": "markdown",
   "metadata": {},
   "source": [
    "<a name=\"introduction\"></a>\n",
    "## 1. Introduction to the Framework\n",
    "\n",
    "Our framework is designed to simulate population behaviors using AI agents. It combines several key components:\n",
    "\n",
    "- **LLM Agents**: We use Large Language Models (LLMs) to create intelligent agents that can make decisions based on given scenarios.\n",
    "- **Archetypes**: These represent different types of individuals in a population.\n",
    "- **Behaviors**: These simulate how individuals might act in various situations.\n",
    "\n",
    "This framework is particularly useful for modeling complex social or economic scenarios, such as population responses during a pandemic."
   ]
  },
  {
   "cell_type": "markdown",
   "metadata": {},
   "source": [
    "<a name=\"setup\"></a>\n",
    "## 2. Setting Up Your Environment"
   ]
  },
  {
   "cell_type": "markdown",
   "metadata": {},
   "source": [
    "Now, let's set up your OpenAI API key (you'll need an OpenAI account):"
   ]
  },
  {
   "cell_type": "code",
   "execution_count": null,
   "metadata": {},
   "outputs": [],
   "source": [
    "OPENAI_API_KEY = None # Replace with your actual API key"
   ]
  },
  {
   "cell_type": "markdown",
   "metadata": {},
   "source": [
    "<a name=\"components\"></a>\n",
    "## 3. Understanding the Core Components\n",
    "\n",
    "Let's break down the main components of our framework:\n",
    "\n",
    "### DspyLLM and LangchainLLM\n",
    "\n",
    "These are wrappers around language models that allow us to create AI agents. They can process prompts and generate responses based on given scenarios.\n",
    "\n",
    "### Archetype\n",
    "\n",
    "This component helps create different \"types\" of individuals in our simulated population. Like Male under 19, Female from 20 to 29 years of age.\n",
    "\n",
    "### Behavior\n",
    "\n",
    "The Behavior component simulates how individuals (or groups) might act in various situations. It uses the AI agents to generate these behaviors."
   ]
  },
  {
   "cell_type": "markdown",
   "metadata": {},
   "source": [
    "Now you have two AI agents ready to process prompts!"
   ]
  },
  {
   "cell_type": "markdown",
   "metadata": {},
   "source": [
    "## 4. Creating LLM Agents\n",
    "\n",
    "### Using DSPy"
   ]
  },
  {
   "cell_type": "code",
   "execution_count": null,
   "metadata": {},
   "outputs": [],
   "source": [
    "from dspy_modules import COT, BasicQAWillToWork\n",
    "from agent_torch.core.llm.llm import DspyLLM\n",
    "\n",
    "llm_dspy = DspyLLM(qa=BasicQAWillToWork, cot=COT, openai_api_key=OPENAI_API_KEY)\n",
    "llm_dspy.initialize_llm()\n",
    "\n",
    "output_dspy = llm_dspy.prompt([\"You are an individual living during the COVID-19 pandemic. You need to decide your willingness to work each month and portion of your assets you are willing to spend to meet your consumption demands, based on the current situation of NYC.\"])\n",
    "print(\"DSPy Output:\", output_dspy)"
   ]
  },
  {
   "cell_type": "markdown",
   "metadata": {},
   "source": [
    "### Using Langchain"
   ]
  },
  {
   "cell_type": "code",
   "execution_count": null,
   "metadata": {},
   "outputs": [],
   "source": [
    "from agent_torch.core.llm.llm import LangchainLLM\n",
    "\n",
    "agent_profile = \"You are an helpful agent who is trying to help the user make a decision. Give answer as a single number between 0 and 1, only.\"\n",
    "\n",
    "llm_langchian = LangchainLLM(openai_api_key=OPENAI_API_KEY, agent_profile=agent_profile, model=\"gpt-3.5-turbo\")\n",
    "llm_langchian.initialize_llm()\n",
    "\n",
    "output_langchain = llm_langchian.prompt([\"You are an helpful agent who is trying to help the user make a decision. Give answer as a single number between 0.0 and 1.0, only.\"])\n",
    "print(\"Langchain Output:\", output_langchain)"
   ]
  },
  {
   "cell_type": "markdown",
   "metadata": {},
   "source": [
    "<a name=\"behaviors\"></a>\n",
    "## 5. Generating Population Behaviors\n",
    "\n",
    "To simulate population behaviors, we'll use the Archetype and Behavior classes:"
   ]
  },
  {
   "cell_type": "code",
   "execution_count": null,
   "metadata": {},
   "outputs": [],
   "source": [
    "from agent_torch.core.llm.archetype import Archetype\n",
    "from agent_torch.core.llm.behavior import Behavior\n",
    "from agent_torch.populations import NYC\n",
    "\n",
    "# Create an object of the Archetype class\n",
    "# n_arch is the number of archetypes to be created. This is used to calculate a distribution from which the outputs are then sampled.\n",
    "archetype = Archetype(n_arch=7) \n",
    "\n",
    "# Define a prompt template\n",
    "# Age,Gender and other attributes which are part of the population data, will be replaced by the actual values of specified region, during the simulation.\n",
    "# Other variables like Unemployment Rate and COVID cases should be passed as kwargs to the behavior model.\n",
    "user_prompt_template = \"Your age is {age} {gender}, unemployment rate is {unemployment_rate}, and the number of COVID cases is {covid_cases}.Current month is {month} and year is {year}.\"\n",
    "\n",
    "# Create a behavior model\n",
    "# You have options to pass any of the above created llm objects to the behavior class\n",
    "# Specify the region for which the behavior is to be sampled. This should be the name of any of the regions available in the populations folder.\n",
    "earning_behavior = Behavior(\n",
    "    archetype=archetype.llm(llm=llm_dspy, user_prompt=user_prompt_template, num_agents=12),\n",
    "    region=NYC\n",
    ")\n",
    "\n",
    "print(\"Behavior model created successfully!\")"
   ]
  },
  {
   "cell_type": "markdown",
   "metadata": {},
   "source": [
    "This sets up a behavior model that can simulate how 12 different agents might behave in NYC during the COVID-19 pandemic."
   ]
  },
  {
   "cell_type": "markdown",
   "metadata": {},
   "source": [
    "<a name=\"all-together\"></a>\n",
    "## 6. Putting It All Together\n",
    "\n",
    "Now, let's use our behavior model to generate some population behaviors:"
   ]
  },
  {
   "cell_type": "code",
   "execution_count": null,
   "metadata": {},
   "outputs": [],
   "source": [
    "# Define scenario parameters\n",
    "# Names of the parameters should match the placeholders in the user_prompt template\n",
    "scenario_params = {\n",
    "    'month': 'January',\n",
    "    'year': '2020',\n",
    "    'covid_cases': 1200,\n",
    "    'device': 'cpu',\n",
    "    'current_memory_dir': '/path-to-save-memory',\n",
    "    'unemployment_rate': 0.05,\n",
    "}\n",
    "\n",
    "# Generate behaviors\n",
    "population_behaviors = earning_behavior.sample(scenario_params)\n",
    "print(\"Population Behaviors:\")\n",
    "print(population_behaviors)"
   ]
  },
  {
   "cell_type": "code",
   "execution_count": null,
   "metadata": {},
   "outputs": [],
   "source": [
    "# Define another scenario parameters\n",
    "scenario_params = {\n",
    "    'month': 'February',\n",
    "    'year': '2020',\n",
    "    'covid_cases': 900,\n",
    "    'device': 'cpu',\n",
    "    'current_memory_dir': '/path-to-save-memory',\n",
    "    'unemployment_rate': 0.1,\n",
    "}\n",
    "\n",
    "# Generate behaviors\n",
    "population_behaviors = earning_behavior.sample(scenario_params)\n",
    "print(\"Population Behaviors:\")\n",
    "print(population_behaviors)"
   ]
  },
  {
   "cell_type": "code",
   "execution_count": null,
   "metadata": {},
   "outputs": [],
   "source": [
    "# Define yet another scenario parameters\n",
    "scenario_params = {\n",
    "    'month': 'March',\n",
    "    'year': '2020',\n",
    "    'covid_cases': 200,\n",
    "    'device': 'cpu',\n",
    "    'current_memory_dir': '/path-to-save-memory',\n",
    "    'unemployment_rate': 0.11,\n",
    "}\n",
    "\n",
    "# Generate behaviors\n",
    "population_behaviors = earning_behavior.sample(scenario_params)\n",
    "print(\"Population Behaviors:\")\n",
    "print(population_behaviors)"
   ]
  },
  {
   "cell_type": "markdown",
   "metadata": {},
   "source": [
    "And so on..."
   ]
  },
  {
   "cell_type": "markdown",
   "metadata": {},
   "source": [
    "This will output a set of behaviors for our simulated population based on the given scenario."
   ]
  },
  {
   "cell_type": "markdown",
   "metadata": {},
   "source": [
    "<a name=\"next-steps\"></a>\n",
    "## 7. Next Steps and Advanced Topics\n",
    "\n",
    "You've just created your first AI agents and simulated population behaviors. Here are some advanced topics you might want to explore next:\n",
    "\n",
    "- Customizing archetypes for specific populations\n",
    "- Creating more complex behavior models\n",
    "\n"
   ]
  }
 ],
 "metadata": {
  "kernelspec": {
   "display_name": "Python 3",
   "language": "python",
   "name": "python3"
  },
  "language_info": {
   "codemirror_mode": {
    "name": "ipython",
    "version": 3
   },
   "file_extension": ".py",
   "mimetype": "text/x-python",
   "name": "python",
   "nbconvert_exporter": "python",
   "pygments_lexer": "ipython3",
   "version": "3.10.13"
  }
 },
 "nbformat": 4,
 "nbformat_minor": 4
}
