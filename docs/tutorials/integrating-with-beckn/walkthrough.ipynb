{
 "cells": [
  {
   "cell_type": "markdown",
   "id": "97cb0965-41dc-4917-bdb9-c10ddcbe4e3c",
   "metadata": {},
   "source": [
    "# AgentTorch-Beckn Solar Model"
   ]
  },
  {
   "cell_type": "markdown",
   "id": "d96c4752-47bf-47d2-b784-41ddff8c6716",
   "metadata": {},
   "source": [
    "## Overview"
   ]
  },
  {
   "cell_type": "markdown",
   "id": "8f4a57fe-999d-4191-9163-18290183386f",
   "metadata": {},
   "source": [
    "AgentTorch is a differentiable learning framework that enables you to run simulations with over millions of autonomous agents. Beckn is a protocol that enables the creation of open, peer-to-peer decentralized networks for pan-sector economic transactions.\n",
    "\n",
    "This model integrates Beckn with AgentTorch, to simulate a solar energy network in which households in a locality can decide to either buy solar panels and act as providers of solar energy, or decide to use the energy provided by other households instead of installing solar panels themselves.\n",
    "\n",
    "![Visualization](./visualization.gif)"
   ]
  },
  {
   "cell_type": "markdown",
   "id": "dbfc697c-edf8-4cc3-822e-288d3749bd1e",
   "metadata": {},
   "source": [
    "## Mapping Beckn Protocol to AgentTorch"
   ]
  },
  {
   "cell_type": "markdown",
   "id": "af00b79e-f68d-4a1e-8bfe-fb5a5abe9a7c",
   "metadata": {},
   "source": [
    "### 1. Network\n",
    "\n",
    "The participants in the Beckn network (providers, customers and gateways) are considered agents that interact with each other."
   ]
  },
  {
   "cell_type": "markdown",
   "id": "7263423b-69cf-49ae-802a-4689aa49821c",
   "metadata": {},
   "source": [
    "### 2. Operations\n",
    "\n",
    "The following operations are simulated as substeps:\n",
    "\n",
    "1. a customer will `search` and `select` a provider\n",
    "2. the customer will `order` from the provider\n",
    "3. the provider will `fulfill` the order\n",
    "4. the customer will `pay` for the work done\n",
    "5. the provider will `restock` their solar energy\n",
    "\n",
    "Each of the substeps' code (apart from #5) is taken as-is from the [AgentTorch Beckn integration](https://github.com/AgentTorch/agent-torch-beckn).\n",
    "\n",
    "> Note that while Beckn's API calls are asynchronous, the simulation assumes they are synchronous for simplicity."
   ]
  },
  {
   "cell_type": "markdown",
   "id": "3d5b8331-67a0-4623-ac67-a4b81fc3ae49",
   "metadata": {},
   "source": [
    "### 3. Data\n",
    "\n",
    "The data for this example model is currently sourced from various websites, mostly from [data.boston.gov](http://data.boston.gov/). However, the data should actually come from the Beckn Protocol's implementation of a solar network."
   ]
  },
  {
   "cell_type": "markdown",
   "id": "21088761-6bff-4598-8932-f9423037f13a",
   "metadata": {},
   "source": [
    "## Running the Model"
   ]
  },
  {
   "cell_type": "markdown",
   "id": "af27d75f-c866-45fd-a6e6-fd1f0cae2fc5",
   "metadata": {},
   "source": [
    "To run the model, clone the github repository first:"
   ]
  },
  {
   "cell_type": "code",
   "execution_count": 6,
   "id": "7525e1ff-24ee-470b-b285-14c35932bb0f",
   "metadata": {},
   "outputs": [],
   "source": [
    "# git clone --depth 1 --branch solar https://github.com/AgentTorch/agent-torch-beckn solar-netowkr"
   ]
  },
  {
   "cell_type": "markdown",
   "id": "30d2328e-cd5e-4005-9929-ac8f2422f6a3",
   "metadata": {},
   "source": [
    "Then, setup a virtual environment and install all dependencies:"
   ]
  },
  {
   "cell_type": "code",
   "execution_count": 7,
   "id": "8bbd8358-857f-476f-ab04-ddfc654a30c6",
   "metadata": {},
   "outputs": [],
   "source": [
    "# cd solar-network/\n",
    "# python -m venv .venv/bin/activate\n",
    "# . .venv/bin/activate\n",
    "# pip install -r requirements.txt"
   ]
  },
  {
   "cell_type": "markdown",
   "id": "b0260659-a10e-4f19-b417-cdc5c8069264",
   "metadata": {},
   "source": [
    "Once that is done, you can edit the configuration ([`config.yaml`](../config.yaml)), and change the data used in the simulation by editing the simulation's data files ([`data/simulator/{agent}/{property}.csv`](../data/simulator/))."
   ]
  },
  {
   "cell_type": "markdown",
   "id": "43b2ad12-d743-494d-9b97-05544bca3788",
   "metadata": {},
   "source": [
    "Then, open Jupyter Lab and open the `main.ipynb` notebook, and run all the cells."
   ]
  },
  {
   "cell_type": "code",
   "execution_count": 8,
   "id": "ccf9e134-bf60-4657-a815-52c00254fcf4",
   "metadata": {},
   "outputs": [],
   "source": [
    "# pip install jupyterlab\n",
    "# jupyter lab"
   ]
  },
  {
   "cell_type": "markdown",
   "id": "8fef2ce5-d847-43b3-aae3-3292913b6e4e",
   "metadata": {},
   "source": [
    "## Todos"
   ]
  },
  {
   "cell_type": "markdown",
   "id": "10a06bd8-066c-453b-8569-9bda133f685c",
   "metadata": {},
   "source": [
    "- Add more visualizations (plots/graphs/heatmaps/etc.)\n",
    "- Improve the data used for the simulation, reduce the number of random values.\n",
    "- Include and run a sample beckn instance to pull fake data from."
   ]
  },
  {
   "cell_type": "code",
   "execution_count": null,
   "id": "e998c4c7-039e-4e27-806a-2948995523ad",
   "metadata": {},
   "outputs": [],
   "source": []
  }
 ],
 "metadata": {
  "kernelspec": {
   "display_name": "Python 3 (ipykernel)",
   "language": "python",
   "name": "python3"
  },
  "language_info": {
   "codemirror_mode": {
    "name": "ipython",
    "version": 3
   },
   "file_extension": ".py",
   "mimetype": "text/x-python",
   "name": "python",
   "nbconvert_exporter": "python",
   "pygments_lexer": "ipython3",
   "version": "3.9.18"
  }
 },
 "nbformat": 4,
 "nbformat_minor": 5
}
