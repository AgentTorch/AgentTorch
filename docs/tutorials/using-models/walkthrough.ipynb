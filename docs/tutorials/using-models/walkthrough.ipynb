{
 "cells": [
  {
   "attachments": {},
   "cell_type": "markdown",
   "metadata": {},
   "source": [
    "## AgentTorch API\n",
    "\n",
    "- Execute simulations\n",
    "- Customize agents\n",
    "- Customize populations\n",
    "- Engage with results"
   ]
  },
  {
   "cell_type": "code",
   "execution_count": 1,
   "metadata": {},
   "outputs": [],
   "source": [
    "import pandas as pd\n",
    "import os"
   ]
  },
  {
   "attachments": {},
   "cell_type": "markdown",
   "metadata": {},
   "source": [
    "#### Simulation Input"
   ]
  },
  {
   "attachments": {},
   "cell_type": "markdown",
   "metadata": {},
   "source": [
    "`Simulation Input` : Input to our simulation is a dataset consisting of population generated based on the census data of a specific region. We have currently generated population for New York City and New Zealand.\n"
   ]
  },
  {
   "attachments": {},
   "cell_type": "markdown",
   "metadata": {},
   "source": [
    "Lets see how the population data looks like for New Zealand"
   ]
  },
  {
   "cell_type": "code",
   "execution_count": 3,
   "metadata": {},
   "outputs": [
    {
     "data": {
      "text/html": [
       "<div>\n",
       "<style scoped>\n",
       "    .dataframe tbody tr th:only-of-type {\n",
       "        vertical-align: middle;\n",
       "    }\n",
       "\n",
       "    .dataframe tbody tr th {\n",
       "        vertical-align: top;\n",
       "    }\n",
       "\n",
       "    .dataframe thead th {\n",
       "        text-align: right;\n",
       "    }\n",
       "</style>\n",
       "<table border=\"1\" class=\"dataframe\">\n",
       "  <thead>\n",
       "    <tr style=\"text-align: right;\">\n",
       "      <th></th>\n",
       "      <th>area</th>\n",
       "      <th>age</th>\n",
       "      <th>gender</th>\n",
       "      <th>ethnicity</th>\n",
       "      <th>region</th>\n",
       "    </tr>\n",
       "  </thead>\n",
       "  <tbody>\n",
       "    <tr>\n",
       "      <th>0</th>\n",
       "      <td>204200</td>\n",
       "      <td>U19</td>\n",
       "      <td>female</td>\n",
       "      <td>Maori</td>\n",
       "      <td>Bay of Plenty</td>\n",
       "    </tr>\n",
       "    <tr>\n",
       "      <th>1</th>\n",
       "      <td>204200</td>\n",
       "      <td>U19</td>\n",
       "      <td>female</td>\n",
       "      <td>Maori</td>\n",
       "      <td>Bay of Plenty</td>\n",
       "    </tr>\n",
       "    <tr>\n",
       "      <th>2</th>\n",
       "      <td>204200</td>\n",
       "      <td>U19</td>\n",
       "      <td>male</td>\n",
       "      <td>European</td>\n",
       "      <td>Bay of Plenty</td>\n",
       "    </tr>\n",
       "    <tr>\n",
       "      <th>3</th>\n",
       "      <td>204200</td>\n",
       "      <td>U19</td>\n",
       "      <td>female</td>\n",
       "      <td>Maori</td>\n",
       "      <td>Bay of Plenty</td>\n",
       "    </tr>\n",
       "    <tr>\n",
       "      <th>4</th>\n",
       "      <td>204200</td>\n",
       "      <td>U19</td>\n",
       "      <td>female</td>\n",
       "      <td>Maori</td>\n",
       "      <td>Bay of Plenty</td>\n",
       "    </tr>\n",
       "  </tbody>\n",
       "</table>\n",
       "</div>"
      ],
      "text/plain": [
       "     area  age  gender ethnicity         region\n",
       "0  204200  U19  female     Maori  Bay of Plenty\n",
       "1  204200  U19  female     Maori  Bay of Plenty\n",
       "2  204200  U19    male  European  Bay of Plenty\n",
       "3  204200  U19  female     Maori  Bay of Plenty\n",
       "4  204200  U19  female     Maori  Bay of Plenty"
      ]
     },
     "execution_count": 3,
     "metadata": {},
     "output_type": "execute_result"
    }
   ],
   "source": [
    "NZ_SYNTHETIC_POPULATION_PATH = os.path.join(os.getcwd(), 'simulator_data/census_populations/NZ/synthetic_populations/population_data.pkl')\n",
    "\n",
    "nz_population = pd.read_pickle(NZ_SYNTHETIC_POPULATION_PATH)\n",
    "nz_population.head(5)"
   ]
  },
  {
   "attachments": {},
   "cell_type": "markdown",
   "metadata": {},
   "source": [
    "The above data shows the population attributes of 5 agents, like 'age', 'gender', 'region where the agent resides', 'ethnicity' and 'area code of residence'. We assign these attributes to each of our simulated agents, to mimic real world population dynamic."
   ]
  },
  {
   "attachments": {},
   "cell_type": "markdown",
   "metadata": {},
   "source": [
    "We also provide APIs to generate your own synthetic population, though we will not get into the details here."
   ]
  },
  {
   "attachments": {},
   "cell_type": "markdown",
   "metadata": {},
   "source": [
    "## Run Simulation"
   ]
  },
  {
   "attachments": {},
   "cell_type": "markdown",
   "metadata": {},
   "source": [
    "`Dataloader` is the common interface to load, setup or modify the simulation parameters such as Number of Runs, Population Size, Region for which Population data is to be used. It also does the necessary pipelining to setup the flow of simulation.\n",
    "\n",
    "It compiles a config file which is used by the Executor to run the simulation."
   ]
  },
  {
   "cell_type": "code",
   "execution_count": 22,
   "metadata": {},
   "outputs": [
    {
     "name": "stdout",
     "output_type": "stream",
     "text": [
      "Config saved at:  /Users/shashankkumar/Documents/GitHub/MacroEcon/models/macro_economics/yamls/config.yaml\n",
      "Config saved at:  /Users/shashankkumar/Documents/GitHub/MacroEcon/models/macro_economics/yamls/config.yaml\n",
      "Config saved at:  /Users/shashankkumar/Documents/GitHub/MacroEcon/models/macro_economics/yamls/config.yaml\n"
     ]
    }
   ],
   "source": [
    "from AgentTorch.dataloader import DataLoader\n",
    "\n",
    "# 'populations' is the package where generated population for each region is saved.\n",
    "# We are picking New Zealand's (NZ) population for this run.\n",
    "from populations import NZ\n",
    "\n",
    "# 'models' is the package where the simulation logic for different use cases are defined.\n",
    "# We are picking the macro_economics model for this simulation. It models the population's economic behavior during covid, by simulating a financial market.\n",
    "from models import macro_economics\n",
    "from macro_economics.config import NUM_AGENTS\n",
    "\n",
    "# Initialize the data loader with the preferred model and the region's population.\n",
    "data_loader = DataLoader(model = macro_economics, region = NZ, population_size = NUM_AGENTS)\n"
   ]
  },
  {
   "attachments": {},
   "cell_type": "markdown",
   "metadata": {},
   "source": [
    "Example 1: Use `Executor` API to run a simulation"
   ]
  },
  {
   "cell_type": "code",
   "execution_count": 5,
   "metadata": {},
   "outputs": [
    {
     "name": "stdout",
     "output_type": "stream",
     "text": [
      "\n",
      "running episode 0...\n",
      "Substep Action: Earning decision\n",
      "LLM benchmark expts\n",
      "Some Example Prompts:  ['You are female of age U19, living in the Bay of Plenty region. It is September 2020, number of covid cases is 874.0. The price of Essential Goods is 12.0. With all these factors in play, and considering aspects like your living costs, any future aspirations, and the broader economic trends, how is your willingness to work this month? Furthermore, how would you plan your expenditures? ', 'You are female of age U19, living in the Otago region. It is September 2020, number of covid cases is 874.0. The price of Essential Goods is 12.0. With all these factors in play, and considering aspects like your living costs, any future aspirations, and the broader economic trends, how is your willingness to work this month? Furthermore, how would you plan your expenditures? ', 'You are female of age U19, living in the Tasman region. It is September 2020, number of covid cases is 874.0. The price of Essential Goods is 12.0. With all these factors in play, and considering aspects like your living costs, any future aspirations, and the broader economic trends, how is your willingness to work this month? Furthermore, how would you plan your expenditures? ']\n",
      "Substep: Agent Earning!\n",
      "Substep: Agent Consumption\n",
      "Executing Substep: Labor Market\n",
      "Executing Substep: Financial Market\n",
      "Substep Action: Earning decision\n",
      "LLM benchmark expts\n",
      "Some Example Prompts:  ['You are female of age U19, living in the Bay of Plenty region. It is October 2020, number of covid cases is 701.0. The price of Essential Goods is 12.012574195861816. With all these factors in play, and considering aspects like your living costs, any future aspirations, and the broader economic trends, how is your willingness to work this month? Furthermore, how would you plan your expenditures? ', 'You are female of age U19, living in the Otago region. It is October 2020, number of covid cases is 701.0. The price of Essential Goods is 12.012574195861816. With all these factors in play, and considering aspects like your living costs, any future aspirations, and the broader economic trends, how is your willingness to work this month? Furthermore, how would you plan your expenditures? ', 'You are female of age U19, living in the Tasman region. It is October 2020, number of covid cases is 701.0. The price of Essential Goods is 12.012574195861816. With all these factors in play, and considering aspects like your living costs, any future aspirations, and the broader economic trends, how is your willingness to work this month? Furthermore, how would you plan your expenditures? ']\n",
      "Substep: Agent Earning!\n",
      "Substep: Agent Consumption\n",
      "Executing Substep: Labor Market\n",
      "Executing Substep: Financial Market\n",
      "Simulation Ended.\n"
     ]
    }
   ],
   "source": [
    "# Executor is the common interface to run simulation\n",
    "# It takes the model and data loader as input and executes the simulation.\n",
    "from AgentTorch.execute import Executor\n",
    "\n",
    "agents_sim = Executor(model = macro_economics,data_loader = data_loader)\n",
    "agents_sim.execute()\n"
   ]
  },
  {
   "attachments": {},
   "cell_type": "markdown",
   "metadata": {},
   "source": [
    "Example 2: Use `DataLoader` API to customize the agent - Make LLM an Agent"
   ]
  },
  {
   "attachments": {},
   "cell_type": "markdown",
   "metadata": {},
   "source": [
    "Let's modify the prompt used by our LLM Agent, and re-run the simulation\n",
    "\n",
    "Original Prompt is : \"You are {gender} of age {age}, living in the {region} region. It is {month} {year}, number of covid cases is {covid_cases}. The price of Essential Goods is {price_of_goods}. With all these factors in play, and considering aspects like your living costs, any future aspirations, and the broader economic trends, how is your willingness to work this month? Furthermore, how would you plan your expenditures? \"\n",
    "\n",
    "We will modify this to remove the information about `price of essential goods`. This might, help us understand the population/market behaviour when info on inflation is not present."
   ]
  },
  {
   "cell_type": "code",
   "execution_count": 23,
   "metadata": {},
   "outputs": [
    {
     "name": "stdout",
     "output_type": "stream",
     "text": [
      "Config saved at:  /Users/shashankkumar/Documents/GitHub/MacroEcon/models/macro_economics/yamls/config.yaml\n",
      "resolvers already registered..\n",
      "\n",
      "running episode 0...\n",
      "Substep Action: Earning decision\n",
      "LLM benchmark expts\n",
      "Some Example Prompts:  ['You are female of age U19, living in the Bay of Plenty region. It is September 2020, number of covid cases is 874.0. With all these factors in play, and considering aspects like your living costs, any future aspirations, and the broader economic trends, how is your willingness to work this month? Furthermore, how would you plan your expenditures? ', 'You are female of age U19, living in the Otago region. It is September 2020, number of covid cases is 874.0. With all these factors in play, and considering aspects like your living costs, any future aspirations, and the broader economic trends, how is your willingness to work this month? Furthermore, how would you plan your expenditures? ', 'You are female of age U19, living in the Tasman region. It is September 2020, number of covid cases is 874.0. With all these factors in play, and considering aspects like your living costs, any future aspirations, and the broader economic trends, how is your willingness to work this month? Furthermore, how would you plan your expenditures? ']\n",
      "Substep: Agent Earning!\n",
      "Substep: Agent Consumption\n",
      "Executing Substep: Labor Market\n",
      "Executing Substep: Financial Market\n",
      "Substep Action: Earning decision\n",
      "LLM benchmark expts\n",
      "Some Example Prompts:  ['You are female of age U19, living in the Bay of Plenty region. It is October 2020, number of covid cases is 701.0. With all these factors in play, and considering aspects like your living costs, any future aspirations, and the broader economic trends, how is your willingness to work this month? Furthermore, how would you plan your expenditures? ', 'You are female of age U19, living in the Otago region. It is October 2020, number of covid cases is 701.0. With all these factors in play, and considering aspects like your living costs, any future aspirations, and the broader economic trends, how is your willingness to work this month? Furthermore, how would you plan your expenditures? ', 'You are female of age U19, living in the Tasman region. It is October 2020, number of covid cases is 701.0. With all these factors in play, and considering aspects like your living costs, any future aspirations, and the broader economic trends, how is your willingness to work this month? Furthermore, how would you plan your expenditures? ']\n",
      "Substep: Agent Earning!\n",
      "Substep: Agent Consumption\n",
      "Executing Substep: Labor Market\n",
      "Executing Substep: Financial Market\n",
      "Simulation Ended.\n"
     ]
    }
   ],
   "source": [
    "MODIFIED_EARNING_ACTION_PROMPT = \"You are {gender} of age {age}, living in the {region} region. It is {month} {year}, number of covid cases is {covid_cases}. With all these factors in play, and considering aspects like your living costs, any future aspirations, and the broader economic trends, how is your willingness to work this month? Furthermore, how would you plan your expenditures? \"\n",
    "data_loader.set_config_attribute('EARNING_ACTION_PROMPT', MODIFIED_EARNING_ACTION_PROMPT)\n",
    "\n",
    "agent_sim_modified = Executor(model = macro_economics,data_loader = data_loader)\n",
    "# With this set, we can now run the simulation again using the executor.\n",
    "agent_sim_modified.execute()"
   ]
  },
  {
   "attachments": {},
   "cell_type": "markdown",
   "metadata": {},
   "source": [
    "## Visualize Results"
   ]
  },
  {
   "attachments": {},
   "cell_type": "markdown",
   "metadata": {},
   "source": [
    "Simulations produce a state trace\n",
    " \n",
    " More info on state trace ...."
   ]
  },
  {
   "cell_type": "code",
   "execution_count": 9,
   "metadata": {},
   "outputs": [
    {
     "data": {
      "text/plain": [
       "Index(['ID', 'age', 'area', 'assets', 'consumption_propensity', 'ethnicity',\n",
       "       'gender', 'household', 'monthly_income', 'post_tax_income', 'region',\n",
       "       'will_work', 'month', 'year'],\n",
       "      dtype='object')"
      ]
     },
     "execution_count": 9,
     "metadata": {},
     "output_type": "execute_result"
    }
   ],
   "source": [
    "from macro_economics.config import STATE_TRACE_PATH\n",
    "from AgentTorch.LLM.llm_qa import load_state_trace\n",
    "\n",
    "state_trace = load_state_trace(STATE_TRACE_PATH,NZ_NUM_AGENTS)\n",
    "state_trace[0].columns"
   ]
  },
  {
   "attachments": {},
   "cell_type": "markdown",
   "metadata": {},
   "source": [
    "Example 3: Use `Visualizer` API to engage the simulation trace for retrospective and prospective analysis "
   ]
  },
  {
   "cell_type": "code",
   "execution_count": 10,
   "metadata": {},
   "outputs": [],
   "source": [
    "# Visualizer is the helper class to visualize the output variables of the simulation\n",
    "# As we would expect, it takes simulation trace as input\n",
    "from AgentTorch.visualize import Visualizer\n",
    "visualizer = Visualizer(state_trace)"
   ]
  },
  {
   "cell_type": "code",
   "execution_count": 11,
   "metadata": {},
   "outputs": [
    {
     "data": {
      "text/html": [
       "<div style=\"width:100%;\"><div style=\"position:relative;width:100%;height:0;padding-bottom:60%;\"><span style=\"color:#565656\">Make this Notebook Trusted to load map: File -> Trust Notebook</span><iframe srcdoc=\"&lt;!DOCTYPE html&gt;\n",
       "&lt;html&gt;\n",
       "&lt;head&gt;\n",
       "    \n",
       "    &lt;meta http-equiv=&quot;content-type&quot; content=&quot;text/html; charset=UTF-8&quot; /&gt;\n",
       "    \n",
       "        &lt;script&gt;\n",
       "            L_NO_TOUCH = false;\n",
       "            L_DISABLE_3D = false;\n",
       "        &lt;/script&gt;\n",
       "    \n",
       "    &lt;style&gt;html, body {width: 100%;height: 100%;margin: 0;padding: 0;}&lt;/style&gt;\n",
       "    &lt;style&gt;#map {position:absolute;top:0;bottom:0;right:0;left:0;}&lt;/style&gt;\n",
       "    &lt;script src=&quot;https://cdn.jsdelivr.net/npm/leaflet@1.9.3/dist/leaflet.js&quot;&gt;&lt;/script&gt;\n",
       "    &lt;script src=&quot;https://code.jquery.com/jquery-3.7.1.min.js&quot;&gt;&lt;/script&gt;\n",
       "    &lt;script src=&quot;https://cdn.jsdelivr.net/npm/bootstrap@5.2.2/dist/js/bootstrap.bundle.min.js&quot;&gt;&lt;/script&gt;\n",
       "    &lt;script src=&quot;https://cdnjs.cloudflare.com/ajax/libs/Leaflet.awesome-markers/2.0.2/leaflet.awesome-markers.js&quot;&gt;&lt;/script&gt;\n",
       "    &lt;link rel=&quot;stylesheet&quot; href=&quot;https://cdn.jsdelivr.net/npm/leaflet@1.9.3/dist/leaflet.css&quot;/&gt;\n",
       "    &lt;link rel=&quot;stylesheet&quot; href=&quot;https://cdn.jsdelivr.net/npm/bootstrap@5.2.2/dist/css/bootstrap.min.css&quot;/&gt;\n",
       "    &lt;link rel=&quot;stylesheet&quot; href=&quot;https://netdna.bootstrapcdn.com/bootstrap/3.0.0/css/bootstrap.min.css&quot;/&gt;\n",
       "    &lt;link rel=&quot;stylesheet&quot; href=&quot;https://cdn.jsdelivr.net/npm/@fortawesome/fontawesome-free@6.2.0/css/all.min.css&quot;/&gt;\n",
       "    &lt;link rel=&quot;stylesheet&quot; href=&quot;https://cdnjs.cloudflare.com/ajax/libs/Leaflet.awesome-markers/2.0.2/leaflet.awesome-markers.css&quot;/&gt;\n",
       "    &lt;link rel=&quot;stylesheet&quot; href=&quot;https://cdn.jsdelivr.net/gh/python-visualization/folium/folium/templates/leaflet.awesome.rotate.min.css&quot;/&gt;\n",
       "    \n",
       "            &lt;meta name=&quot;viewport&quot; content=&quot;width=device-width,\n",
       "                initial-scale=1.0, maximum-scale=1.0, user-scalable=no&quot; /&gt;\n",
       "            &lt;style&gt;\n",
       "                #map_6f7442dad93dd4d369ae52e936a40710 {\n",
       "                    position: relative;\n",
       "                    width: 100.0%;\n",
       "                    height: 100.0%;\n",
       "                    left: 0.0%;\n",
       "                    top: 0.0%;\n",
       "                }\n",
       "                .leaflet-container { font-size: 1rem; }\n",
       "            &lt;/style&gt;\n",
       "        \n",
       "&lt;/head&gt;\n",
       "&lt;body&gt;\n",
       "    \n",
       "    \n",
       "            &lt;div class=&quot;folium-map&quot; id=&quot;map_6f7442dad93dd4d369ae52e936a40710&quot; &gt;&lt;/div&gt;\n",
       "        \n",
       "&lt;/body&gt;\n",
       "&lt;script&gt;\n",
       "    \n",
       "    \n",
       "            var map_6f7442dad93dd4d369ae52e936a40710 = L.map(\n",
       "                &quot;map_6f7442dad93dd4d369ae52e936a40710&quot;,\n",
       "                {\n",
       "                    center: [-40.0, 172.0],\n",
       "                    crs: L.CRS.EPSG3857,\n",
       "                    zoom: 5,\n",
       "                    zoomControl: true,\n",
       "                    preferCanvas: false,\n",
       "                }\n",
       "            );\n",
       "\n",
       "            \n",
       "\n",
       "        \n",
       "    \n",
       "            var tile_layer_1d1fddaaa061236be84ce3d51a358ae6 = L.tileLayer(\n",
       "                &quot;https://tile.openstreetmap.org/{z}/{x}/{y}.png&quot;,\n",
       "                {&quot;attribution&quot;: &quot;\\u0026copy; \\u003ca href=\\&quot;https://www.openstreetmap.org/copyright\\&quot;\\u003eOpenStreetMap\\u003c/a\\u003e contributors&quot;, &quot;detectRetina&quot;: false, &quot;maxNativeZoom&quot;: 19, &quot;maxZoom&quot;: 19, &quot;minZoom&quot;: 0, &quot;noWrap&quot;: false, &quot;opacity&quot;: 1, &quot;subdomains&quot;: &quot;abc&quot;, &quot;tms&quot;: false}\n",
       "            );\n",
       "        \n",
       "    \n",
       "            tile_layer_1d1fddaaa061236be84ce3d51a358ae6.addTo(map_6f7442dad93dd4d369ae52e936a40710);\n",
       "        \n",
       "    \n",
       "            var circle_marker_6bd3e7f2a8c03895f7cb50c3591b6bd7 = L.circleMarker(\n",
       "                [-34.505453, 172.77555],\n",
       "                {&quot;bubblingMouseEvents&quot;: true, &quot;color&quot;: &quot;orange&quot;, &quot;dashArray&quot;: null, &quot;dashOffset&quot;: null, &quot;fill&quot;: true, &quot;fillColor&quot;: &quot;orange&quot;, &quot;fillOpacity&quot;: 0.2, &quot;fillRule&quot;: &quot;evenodd&quot;, &quot;lineCap&quot;: &quot;round&quot;, &quot;lineJoin&quot;: &quot;round&quot;, &quot;opacity&quot;: 1.0, &quot;radius&quot;: 20, &quot;stroke&quot;: true, &quot;weight&quot;: 3}\n",
       "            ).addTo(map_6f7442dad93dd4d369ae52e936a40710);\n",
       "        \n",
       "    \n",
       "            var circle_marker_c2c11d8503d7c0471c7b5b1b5ff9ea36 = L.circleMarker(\n",
       "                [-34.916277, 173.137443],\n",
       "                {&quot;bubblingMouseEvents&quot;: true, &quot;color&quot;: &quot;red&quot;, &quot;dashArray&quot;: null, &quot;dashOffset&quot;: null, &quot;fill&quot;: true, &quot;fillColor&quot;: &quot;red&quot;, &quot;fillOpacity&quot;: 0.2, &quot;fillRule&quot;: &quot;evenodd&quot;, &quot;lineCap&quot;: &quot;round&quot;, &quot;lineJoin&quot;: &quot;round&quot;, &quot;opacity&quot;: 1.0, &quot;radius&quot;: 20, &quot;stroke&quot;: true, &quot;weight&quot;: 3}\n",
       "            ).addTo(map_6f7442dad93dd4d369ae52e936a40710);\n",
       "        \n",
       "    \n",
       "            var circle_marker_1e5f3b6283285e0dd2bc1dd947ce2cd9 = L.circleMarker(\n",
       "                [-35.218501, 174.158249],\n",
       "                {&quot;bubblingMouseEvents&quot;: true, &quot;color&quot;: &quot;yellow&quot;, &quot;dashArray&quot;: null, &quot;dashOffset&quot;: null, &quot;fill&quot;: true, &quot;fillColor&quot;: &quot;yellow&quot;, &quot;fillOpacity&quot;: 0.2, &quot;fillRule&quot;: &quot;evenodd&quot;, &quot;lineCap&quot;: &quot;round&quot;, &quot;lineJoin&quot;: &quot;round&quot;, &quot;opacity&quot;: 1.0, &quot;radius&quot;: 20, &quot;stroke&quot;: true, &quot;weight&quot;: 3}\n",
       "            ).addTo(map_6f7442dad93dd4d369ae52e936a40710);\n",
       "        \n",
       "    \n",
       "            var circle_marker_5bfd1fd87a0040f91c72474798e6c960 = L.circleMarker(\n",
       "                [-34.995278, 173.378738],\n",
       "                {&quot;bubblingMouseEvents&quot;: true, &quot;color&quot;: &quot;darkred&quot;, &quot;dashArray&quot;: null, &quot;dashOffset&quot;: null, &quot;fill&quot;: true, &quot;fillColor&quot;: &quot;darkred&quot;, &quot;fillOpacity&quot;: 0.2, &quot;fillRule&quot;: &quot;evenodd&quot;, &quot;lineCap&quot;: &quot;round&quot;, &quot;lineJoin&quot;: &quot;round&quot;, &quot;opacity&quot;: 1.0, &quot;radius&quot;: 20, &quot;stroke&quot;: true, &quot;weight&quot;: 3}\n",
       "            ).addTo(map_6f7442dad93dd4d369ae52e936a40710);\n",
       "        \n",
       "    \n",
       "            var circle_marker_48eae7c7d4a0b8801799060b2212c546 = L.circleMarker(\n",
       "                [-35.123147, 173.218604],\n",
       "                {&quot;bubblingMouseEvents&quot;: true, &quot;color&quot;: &quot;green&quot;, &quot;dashArray&quot;: null, &quot;dashOffset&quot;: null, &quot;fill&quot;: true, &quot;fillColor&quot;: &quot;green&quot;, &quot;fillOpacity&quot;: 0.2, &quot;fillRule&quot;: &quot;evenodd&quot;, &quot;lineCap&quot;: &quot;round&quot;, &quot;lineJoin&quot;: &quot;round&quot;, &quot;opacity&quot;: 1.0, &quot;radius&quot;: 20, &quot;stroke&quot;: true, &quot;weight&quot;: 3}\n",
       "            ).addTo(map_6f7442dad93dd4d369ae52e936a40710);\n",
       "        \n",
       "&lt;/script&gt;\n",
       "&lt;/html&gt;\" style=\"position:absolute;width:100%;height:100%;left:0;top:0;border:none !important;\" allowfullscreen webkitallowfullscreen mozallowfullscreen></iframe></div></div>"
      ],
      "text/plain": [
       "<folium.folium.Map at 0x343080610>"
      ]
     },
     "execution_count": 11,
     "metadata": {},
     "output_type": "execute_result"
    }
   ],
   "source": [
    "# We can plot a few variables of interest like Consumption Propensity and Will to Work.\n",
    "visualizer.plot('consumption_propensity')"
   ]
  },
  {
   "cell_type": "code",
   "execution_count": 12,
   "metadata": {},
   "outputs": [
    {
     "data": {
      "text/html": [
       "<div style=\"width:100%;\"><div style=\"position:relative;width:100%;height:0;padding-bottom:60%;\"><span style=\"color:#565656\">Make this Notebook Trusted to load map: File -> Trust Notebook</span><iframe srcdoc=\"&lt;!DOCTYPE html&gt;\n",
       "&lt;html&gt;\n",
       "&lt;head&gt;\n",
       "    \n",
       "    &lt;meta http-equiv=&quot;content-type&quot; content=&quot;text/html; charset=UTF-8&quot; /&gt;\n",
       "    \n",
       "        &lt;script&gt;\n",
       "            L_NO_TOUCH = false;\n",
       "            L_DISABLE_3D = false;\n",
       "        &lt;/script&gt;\n",
       "    \n",
       "    &lt;style&gt;html, body {width: 100%;height: 100%;margin: 0;padding: 0;}&lt;/style&gt;\n",
       "    &lt;style&gt;#map {position:absolute;top:0;bottom:0;right:0;left:0;}&lt;/style&gt;\n",
       "    &lt;script src=&quot;https://cdn.jsdelivr.net/npm/leaflet@1.9.3/dist/leaflet.js&quot;&gt;&lt;/script&gt;\n",
       "    &lt;script src=&quot;https://code.jquery.com/jquery-3.7.1.min.js&quot;&gt;&lt;/script&gt;\n",
       "    &lt;script src=&quot;https://cdn.jsdelivr.net/npm/bootstrap@5.2.2/dist/js/bootstrap.bundle.min.js&quot;&gt;&lt;/script&gt;\n",
       "    &lt;script src=&quot;https://cdnjs.cloudflare.com/ajax/libs/Leaflet.awesome-markers/2.0.2/leaflet.awesome-markers.js&quot;&gt;&lt;/script&gt;\n",
       "    &lt;link rel=&quot;stylesheet&quot; href=&quot;https://cdn.jsdelivr.net/npm/leaflet@1.9.3/dist/leaflet.css&quot;/&gt;\n",
       "    &lt;link rel=&quot;stylesheet&quot; href=&quot;https://cdn.jsdelivr.net/npm/bootstrap@5.2.2/dist/css/bootstrap.min.css&quot;/&gt;\n",
       "    &lt;link rel=&quot;stylesheet&quot; href=&quot;https://netdna.bootstrapcdn.com/bootstrap/3.0.0/css/bootstrap.min.css&quot;/&gt;\n",
       "    &lt;link rel=&quot;stylesheet&quot; href=&quot;https://cdn.jsdelivr.net/npm/@fortawesome/fontawesome-free@6.2.0/css/all.min.css&quot;/&gt;\n",
       "    &lt;link rel=&quot;stylesheet&quot; href=&quot;https://cdnjs.cloudflare.com/ajax/libs/Leaflet.awesome-markers/2.0.2/leaflet.awesome-markers.css&quot;/&gt;\n",
       "    &lt;link rel=&quot;stylesheet&quot; href=&quot;https://cdn.jsdelivr.net/gh/python-visualization/folium/folium/templates/leaflet.awesome.rotate.min.css&quot;/&gt;\n",
       "    \n",
       "            &lt;meta name=&quot;viewport&quot; content=&quot;width=device-width,\n",
       "                initial-scale=1.0, maximum-scale=1.0, user-scalable=no&quot; /&gt;\n",
       "            &lt;style&gt;\n",
       "                #map_56b0f3742038f3d699b1c7ba425bb756 {\n",
       "                    position: relative;\n",
       "                    width: 100.0%;\n",
       "                    height: 100.0%;\n",
       "                    left: 0.0%;\n",
       "                    top: 0.0%;\n",
       "                }\n",
       "                .leaflet-container { font-size: 1rem; }\n",
       "            &lt;/style&gt;\n",
       "        \n",
       "&lt;/head&gt;\n",
       "&lt;body&gt;\n",
       "    \n",
       "    \n",
       "            &lt;div class=&quot;folium-map&quot; id=&quot;map_56b0f3742038f3d699b1c7ba425bb756&quot; &gt;&lt;/div&gt;\n",
       "        \n",
       "&lt;/body&gt;\n",
       "&lt;script&gt;\n",
       "    \n",
       "    \n",
       "            var map_56b0f3742038f3d699b1c7ba425bb756 = L.map(\n",
       "                &quot;map_56b0f3742038f3d699b1c7ba425bb756&quot;,\n",
       "                {\n",
       "                    center: [-40.0, 172.0],\n",
       "                    crs: L.CRS.EPSG3857,\n",
       "                    zoom: 5,\n",
       "                    zoomControl: true,\n",
       "                    preferCanvas: false,\n",
       "                }\n",
       "            );\n",
       "\n",
       "            \n",
       "\n",
       "        \n",
       "    \n",
       "            var tile_layer_01457a4ab25c0427185b19426e8cbc06 = L.tileLayer(\n",
       "                &quot;https://tile.openstreetmap.org/{z}/{x}/{y}.png&quot;,\n",
       "                {&quot;attribution&quot;: &quot;\\u0026copy; \\u003ca href=\\&quot;https://www.openstreetmap.org/copyright\\&quot;\\u003eOpenStreetMap\\u003c/a\\u003e contributors&quot;, &quot;detectRetina&quot;: false, &quot;maxNativeZoom&quot;: 19, &quot;maxZoom&quot;: 19, &quot;minZoom&quot;: 0, &quot;noWrap&quot;: false, &quot;opacity&quot;: 1, &quot;subdomains&quot;: &quot;abc&quot;, &quot;tms&quot;: false}\n",
       "            );\n",
       "        \n",
       "    \n",
       "            tile_layer_01457a4ab25c0427185b19426e8cbc06.addTo(map_56b0f3742038f3d699b1c7ba425bb756);\n",
       "        \n",
       "    \n",
       "            var circle_marker_7b101f362620c1cbc169e27cf361564d = L.circleMarker(\n",
       "                [-34.505453, 172.77555],\n",
       "                {&quot;bubblingMouseEvents&quot;: true, &quot;color&quot;: &quot;yellow&quot;, &quot;dashArray&quot;: null, &quot;dashOffset&quot;: null, &quot;fill&quot;: true, &quot;fillColor&quot;: &quot;yellow&quot;, &quot;fillOpacity&quot;: 0.2, &quot;fillRule&quot;: &quot;evenodd&quot;, &quot;lineCap&quot;: &quot;round&quot;, &quot;lineJoin&quot;: &quot;round&quot;, &quot;opacity&quot;: 1.0, &quot;radius&quot;: 20, &quot;stroke&quot;: true, &quot;weight&quot;: 3}\n",
       "            ).addTo(map_56b0f3742038f3d699b1c7ba425bb756);\n",
       "        \n",
       "    \n",
       "            var circle_marker_97f7861d0d4123f39a7e14f08b4772b1 = L.circleMarker(\n",
       "                [-34.916277, 173.137443],\n",
       "                {&quot;bubblingMouseEvents&quot;: true, &quot;color&quot;: &quot;red&quot;, &quot;dashArray&quot;: null, &quot;dashOffset&quot;: null, &quot;fill&quot;: true, &quot;fillColor&quot;: &quot;red&quot;, &quot;fillOpacity&quot;: 0.2, &quot;fillRule&quot;: &quot;evenodd&quot;, &quot;lineCap&quot;: &quot;round&quot;, &quot;lineJoin&quot;: &quot;round&quot;, &quot;opacity&quot;: 1.0, &quot;radius&quot;: 20, &quot;stroke&quot;: true, &quot;weight&quot;: 3}\n",
       "            ).addTo(map_56b0f3742038f3d699b1c7ba425bb756);\n",
       "        \n",
       "    \n",
       "            var circle_marker_172ace1ef8100ec6c2d761f444bfbfd5 = L.circleMarker(\n",
       "                [-35.218501, 174.158249],\n",
       "                {&quot;bubblingMouseEvents&quot;: true, &quot;color&quot;: &quot;green&quot;, &quot;dashArray&quot;: null, &quot;dashOffset&quot;: null, &quot;fill&quot;: true, &quot;fillColor&quot;: &quot;green&quot;, &quot;fillOpacity&quot;: 0.2, &quot;fillRule&quot;: &quot;evenodd&quot;, &quot;lineCap&quot;: &quot;round&quot;, &quot;lineJoin&quot;: &quot;round&quot;, &quot;opacity&quot;: 1.0, &quot;radius&quot;: 20, &quot;stroke&quot;: true, &quot;weight&quot;: 3}\n",
       "            ).addTo(map_56b0f3742038f3d699b1c7ba425bb756);\n",
       "        \n",
       "    \n",
       "            var circle_marker_279a095d05a66024861bd8483efb50b0 = L.circleMarker(\n",
       "                [-34.995278, 173.378738],\n",
       "                {&quot;bubblingMouseEvents&quot;: true, &quot;color&quot;: &quot;red&quot;, &quot;dashArray&quot;: null, &quot;dashOffset&quot;: null, &quot;fill&quot;: true, &quot;fillColor&quot;: &quot;red&quot;, &quot;fillOpacity&quot;: 0.2, &quot;fillRule&quot;: &quot;evenodd&quot;, &quot;lineCap&quot;: &quot;round&quot;, &quot;lineJoin&quot;: &quot;round&quot;, &quot;opacity&quot;: 1.0, &quot;radius&quot;: 20, &quot;stroke&quot;: true, &quot;weight&quot;: 3}\n",
       "            ).addTo(map_56b0f3742038f3d699b1c7ba425bb756);\n",
       "        \n",
       "    \n",
       "            var circle_marker_ef047d26f4aad78ec3e8187218a3f1b4 = L.circleMarker(\n",
       "                [-35.123147, 173.218604],\n",
       "                {&quot;bubblingMouseEvents&quot;: true, &quot;color&quot;: &quot;yellow&quot;, &quot;dashArray&quot;: null, &quot;dashOffset&quot;: null, &quot;fill&quot;: true, &quot;fillColor&quot;: &quot;yellow&quot;, &quot;fillOpacity&quot;: 0.2, &quot;fillRule&quot;: &quot;evenodd&quot;, &quot;lineCap&quot;: &quot;round&quot;, &quot;lineJoin&quot;: &quot;round&quot;, &quot;opacity&quot;: 1.0, &quot;radius&quot;: 20, &quot;stroke&quot;: true, &quot;weight&quot;: 3}\n",
       "            ).addTo(map_56b0f3742038f3d699b1c7ba425bb756);\n",
       "        \n",
       "&lt;/script&gt;\n",
       "&lt;/html&gt;\" style=\"position:absolute;width:100%;height:100%;left:0;top:0;border:none !important;\" allowfullscreen webkitallowfullscreen mozallowfullscreen></iframe></div></div>"
      ],
      "text/plain": [
       "<folium.folium.Map at 0x343081a20>"
      ]
     },
     "execution_count": 12,
     "metadata": {},
     "output_type": "execute_result"
    }
   ],
   "source": [
    "# Next lets visualize the Aggregate Willingness to work in each region\n",
    "visualizer.plot('will_to_work')"
   ]
  },
  {
   "attachments": {},
   "cell_type": "markdown",
   "metadata": {},
   "source": [
    "## Talk with Simulation"
   ]
  },
  {
   "attachments": {},
   "cell_type": "markdown",
   "metadata": {},
   "source": [
    "`Q/A` : AgentTorch gives you the ability to perform Q/A with the simulation, through its integration of simulation trace and conversation history with th Analysis Agent (LLM Agent)."
   ]
  },
  {
   "attachments": {},
   "cell_type": "markdown",
   "metadata": {},
   "source": [
    "##### Configuration"
   ]
  },
  {
   "cell_type": "code",
   "execution_count": 13,
   "metadata": {},
   "outputs": [],
   "source": [
    "from macro_economics.config import OPENAI_API_KEY\n",
    "conversations_memory_directory = ROOT_DIR + 'populations/NZ/simulation_memory_output/2020/9'\n",
    "state_trace_path = ROOT_DIR + 'populations/NZ/state_data_dict.pkl'"
   ]
  },
  {
   "attachments": {},
   "cell_type": "markdown",
   "metadata": {},
   "source": [
    "##### Analyze"
   ]
  },
  {
   "attachments": {},
   "cell_type": "markdown",
   "metadata": {},
   "source": [
    "`DocumentRetriever` : It sets up a vector db containing all the converations intiated with the LLM Agent, during the runtime of the simulation."
   ]
  },
  {
   "cell_type": "code",
   "execution_count": 15,
   "metadata": {},
   "outputs": [
    {
     "data": {
      "application/vnd.jupyter.widget-view+json": {
       "model_id": "c61457df30ce4923a578e38d10928b4b",
       "version_major": 2,
       "version_minor": 0
      },
      "text/plain": [
       "Batches:   0%|          | 0/16 [00:00<?, ?it/s]"
      ]
     },
     "metadata": {},
     "output_type": "display_data"
    }
   ],
   "source": [
    "from AgentTorch.LLM.llm_qa import DocumentRetriever\n",
    "conversation_memory_retriever = DocumentRetriever(directory=conversation_memory_directory)"
   ]
  },
  {
   "attachments": {},
   "cell_type": "markdown",
   "metadata": {},
   "source": [
    "`SimulationAnalysisAgent` abstracts away the logic for analysis module, so you can do what's more fun, that is analyzing the simulation behaviour. "
   ]
  },
  {
   "cell_type": "code",
   "execution_count": 16,
   "metadata": {},
   "outputs": [],
   "source": [
    "from AgentTorch.LLM.llm_qa import SimulationAnalysisAgent\n",
    "analyser = SimulationAnalysisAgent(openai_api_key=OPENAI_API_KEY, document_retriever=memory_retriever, temperature=0, state_trace_path=state_trace_path)"
   ]
  },
  {
   "cell_type": "code",
   "execution_count": 17,
   "metadata": {},
   "outputs": [
    {
     "name": "stdout",
     "output_type": "stream",
     "text": [
      "\n",
      "\n",
      "\u001b[1m> Entering new AgentExecutor chain...\u001b[0m\n",
      "\u001b[32;1m\u001b[1;3m\n",
      "Invoking: `run_analysis_on_simulation_state` with `{'query': 'Which age group has the lowest median income and how much is it?'}`\n",
      "\n",
      "\n",
      "\u001b[0m\u001b[36;1m\u001b[1;3mThe age group with the lowest median income is 20t29 with a median income of $168.00.\u001b[0m\u001b[32;1m\u001b[1;3mThe age group with the lowest median income is 20-29 years old, with a median income of $168.00.\u001b[0m\n",
      "\n",
      "\u001b[1m> Finished chain.\u001b[0m\n"
     ]
    },
    {
     "data": {
      "text/plain": [
       "{'input': 'Which age group has lowest median income, how much is it?',\n",
       " 'output': 'The age group with the lowest median income is 20-29 years old, with a median income of $168.00.'}"
      ]
     },
     "execution_count": 17,
     "metadata": {},
     "output_type": "execute_result"
    }
   ],
   "source": [
    "analyser.query(\"Which age group has lowest median income, how much is it?\")"
   ]
  },
  {
   "cell_type": "code",
   "execution_count": 18,
   "metadata": {},
   "outputs": [
    {
     "name": "stdout",
     "output_type": "stream",
     "text": [
      "\n",
      "\n",
      "\u001b[1m> Entering new AgentExecutor chain...\u001b[0m\n",
      "\u001b[32;1m\u001b[1;3m\n",
      "Invoking: `run_analysis_on_simulation_state` with `{'query': 'Which age group has the highest consumption?'}`\n",
      "\n",
      "\n",
      "\u001b[0m\u001b[36;1m\u001b[1;3mThe age group with the highest consumption is 65A.\u001b[0m\u001b[32;1m\u001b[1;3mThe age group with the highest consumption is 65 and above.\u001b[0m\n",
      "\n",
      "\u001b[1m> Finished chain.\u001b[0m\n"
     ]
    },
    {
     "data": {
      "text/plain": [
       "{'input': 'Which age group has highest consumption',\n",
       " 'output': 'The age group with the highest consumption is 65 and above.'}"
      ]
     },
     "execution_count": 18,
     "metadata": {},
     "output_type": "execute_result"
    }
   ],
   "source": [
    "analyser.query(\"Which age group has highest consumption\")"
   ]
  },
  {
   "cell_type": "code",
   "execution_count": 20,
   "metadata": {},
   "outputs": [
    {
     "name": "stdout",
     "output_type": "stream",
     "text": [
      "\n",
      "\n",
      "\u001b[1m> Entering new AgentExecutor chain...\u001b[0m\n",
      "\u001b[32;1m\u001b[1;3m\n",
      "Invoking: `simulation_memory_retriever` with `{'query': 'inflation and consumption behaviour'}`\n",
      "\n",
      "\n",
      "\u001b[0m"
     ]
    },
    {
     "data": {
      "application/vnd.jupyter.widget-view+json": {
       "model_id": "43d861c367cc4e34bad9123c5823e966",
       "version_major": 2,
       "version_minor": 0
      },
      "text/plain": [
       "Batches:   0%|          | 0/1 [00:00<?, ?it/s]"
      ]
     },
     "metadata": {},
     "output_type": "display_data"
    },
    {
     "name": "stdout",
     "output_type": "stream",
     "text": [
      "\u001b[33;1m\u001b[1;3mReasoning: Let's think step by step in order to\u001b[32m produce the answer. We observe a decrease in the number of COVID cases from 874.0 to 701.0, indicating a potential improvement in the pandemic situation in the Wellington region. This improvement might lead to a higher willingness to work due to perceived lower health risks and possibly more job opportunities as the economy might start to recover. The slight increase in the price of Essential Goods from 12.0 to 12.012574195861816 suggests a minimal inflation in the cost of living, which might not significantly impact the overall expenditure strategy but indicates economic activity. Given the age group (30t39), there's likely a strong incentive to maintain or increase income levels to support any current or future financial goals, such as savings, investments,\u001b[0m\n",
      "\n",
      "Reasoning: Let's think step by step in order to\u001b[32m produce the answer. Given the decrease in the number of COVID cases from 874.0 to 701.0, there is a slight improvement in the pandemic situation in the Waikato region. This improvement might lead to a more stable economic environment and potentially more job security. As a male in the age group of 40 to 49, you are likely to have significant financial responsibilities, possibly including a family to support, a mortgage, and future savings to consider. The slight increase in the price of Essential Goods from 12.0 to 12.012574195861816 indicates a marginal inflation but doesn't significantly impact the overall cost of living. Considering these factors:\n",
      "\n",
      "1. **Willingness to Work**: With the decrease in\u001b[0m\n",
      "\n",
      "Reasoning: Let's think step by step in order to produce the answer. We observe a decrease in the number of COVID cases from 874.0 to 701.0, indicating a potential improvement in the pandemic situation in the Wellington region. This improvement might lead to a higher willingness to work due to perceived lower health risks and possibly more job opportunities as the economy might start to recover. The slight increase in the price of Essential Goods from 12.0 to 12.012574195861816 suggests a minimal inflation in the cost of living, which might not significantly impact the overall expenditure strategy but indicates economic activity. Given the age group (30t39), there's likely a strong incentive to maintain or increase income levels to support any current or future financial goals, such as savings, investments,\n",
      "\n",
      "Answer:\u001b[32m [0.75, 0.6]\u001b[0m\n",
      "\n",
      "Reasoning: Let's think step by step in order to produce the answer. Given the decrease in the number of COVID cases from 874.0 to 701.0, there is a slight improvement in the pandemic situation in the Waikato region. This improvement might lead to a more stable economic environment and potentially more job security. As a male in the age group of 40 to 49, you are likely to have significant financial responsibilities, possibly including a family to support, a mortgage, and future savings to consider. The slight increase in the price of Essential Goods from 12.0 to 12.012574195861816 indicates a marginal inflation but doesn't significantly impact the overall cost of living. Considering these factors: 1. **Willingness to Work**: With the decrease in\n",
      "\n",
      "Answer:\u001b[32m [0.7, 0.7]\u001b[0m\n",
      "\n",
      "Reasoning: Let's think step by step in order to produce the answer. We need to consider several factors: 1. **Age and Health Risk**: At age 65, you are in a higher risk category for COVID-19. This increases the risk associated with working, especially if your job cannot be done remotely. 2. **COVID-19 Cases**: The number of cases in the Otago region has decreased from 874.0 to 701.0. This indicates a positive trend, but the risk of infection is still present. 3. **Price of Essential Goods**: The price has slightly increased from 12.0 to 12.012574195861816. This indicates inflation but not at a significant rate that would drastically change consumption habits. 4. **Economic Trends and\n",
      "\n",
      "Answer:\u001b[32m [0.25, 0.65]\u001b[0m\n",
      "\n",
      "\n",
      "\n",
      "\n",
      "\n",
      "\n",
      "\n",
      "You are an individual living during the COVID-19 pandemic. You need to decide your willingness to work each month and portion of your assests you are willing to spend to meet your consumption demands, based on the current situation of NYC.\n",
      "\n",
      "---\u001b[0m\u001b[32;1m\u001b[1;3m\n",
      "Invoking: `run_analysis_on_simulation_state` with `{'query': 'impact of inflation on consumption behaviour'}`\n",
      "\n",
      "\n",
      "\u001b[0m\u001b[36;1m\u001b[1;3m          ID    age  area      assets  consumption_propensity ethnicity  \\\n",
      "0          0  20t29   0.0    0.000000                    0.00  hispanic   \n",
      "1          1  20t29   0.0    0.000000                    0.00  hispanic   \n",
      "2          2  20t29   0.0    0.000000                    0.00     asian   \n",
      "3          3  20t29   0.0    0.000000                    0.00  hispanic   \n",
      "4          4  20t29   0.0    0.000000                    0.00  hispanic   \n",
      "...      ...    ...   ...         ...                     ...       ...   \n",
      "56775  56775    U19  22.0  333.087189                    1.05     asian   \n",
      "56776  56776    U19  22.0  221.979263                    1.05     asian   \n",
      "56777  56777    U19  22.0  221.979263                    1.05  hispanic   \n",
      "56778  56778    U19  22.0  333.087189                    1.05  hispanic   \n",
      "56779  56779    U19  22.0  333.087189                    1.05  hispanic   \n",
      "\n",
      "       gender  household  monthly_income  post_tax_income         region  \\\n",
      "0        male        0.0        0.000000              0.0  Bay of Plenty   \n",
      "1        male        1.0        0.000000              0.0  Bay of Plenty   \n",
      "2      female        2.0        0.000000              0.0  Bay of Plenty   \n",
      "3        male        3.0        0.000000              0.0  Bay of Plenty   \n",
      "4        male        4.0        0.000000              0.0  Bay of Plenty   \n",
      "...       ...        ...             ...              ...            ...   \n",
      "56775  female      450.0      196.094788              0.0     Wellington   \n",
      "56776  female      264.0      196.094788              0.0     Wellington   \n",
      "56777  female      234.0      196.094788              0.0     Wellington   \n",
      "56778    male      292.0      196.094788              0.0     Wellington   \n",
      "56779  female      309.0      196.094788              0.0     Wellington   \n",
      "\n",
      "       will_work  month  year  adjusted_consumption  inflation_impact  \n",
      "0            0.0      0     0                   0.0          0.000000  \n",
      "1            0.0      0     0                   0.0          0.000000  \n",
      "2            0.0      0     0                   0.0          0.000000  \n",
      "3            0.0      0     0                   0.0          0.000000  \n",
      "4            0.0      0     0                   0.0          0.000000  \n",
      "...          ...    ...   ...                   ...               ...  \n",
      "56775        0.0      4     0                   0.0        196.094788  \n",
      "56776        0.0      4     0                   0.0        196.094788  \n",
      "56777        0.0      4     0                   0.0        196.094788  \n",
      "56778        0.0      4     0                   0.0        196.094788  \n",
      "56779        0.0      4     0                   0.0        196.094788  \n",
      "\n",
      "[283900 rows x 16 columns]\u001b[0m\u001b[32;1m\u001b[1;3mThe analysis of the simulation data shows that inflation has a varying impact on consumption behavior across different demographics. Here are some key observations:\n",
      "\n",
      "1. For younger age groups (20-29), the impact of inflation on consumption propensity is minimal. This could be due to their relatively lower assets and income levels.\n",
      "\n",
      "2. For the age group under 19, the impact of inflation is more pronounced. This could be due to their reliance on fixed income sources like allowances or part-time jobs, which do not adjust for inflation.\n",
      "\n",
      "3. Across different regions, the impact of inflation on consumption behavior also varies. For instance, in the Wellington region, the impact of inflation is more noticeable compared to the Bay of Plenty region.\n",
      "\n",
      "4. The impact of inflation on consumption behavior also varies by ethnicity and gender. For instance, the Asian and Hispanic communities show a higher impact of inflation on their consumption behavior compared to other ethnicities. Similarly, females show a higher impact of inflation on their consumption behavior compared to males.\n",
      "\n",
      "These observations suggest that inflation can affect consumption behavior in complex ways, depending on various demographic and economic factors.\u001b[0m\n",
      "\n",
      "\u001b[1m> Finished chain.\u001b[0m\n"
     ]
    },
    {
     "data": {
      "text/plain": [
       "{'input': 'How is inflation affecting consumption behaviour?',\n",
       " 'output': 'The analysis of the simulation data shows that inflation has a varying impact on consumption behavior across different demographics. Here are some key observations:\\n\\n1. For younger age groups (20-29), the impact of inflation on consumption propensity is minimal. This could be due to their relatively lower assets and income levels.\\n\\n2. For the age group under 19, the impact of inflation is more pronounced. This could be due to their reliance on fixed income sources like allowances or part-time jobs, which do not adjust for inflation.\\n\\n3. Across different regions, the impact of inflation on consumption behavior also varies. For instance, in the Wellington region, the impact of inflation is more noticeable compared to the Bay of Plenty region.\\n\\n4. The impact of inflation on consumption behavior also varies by ethnicity and gender. For instance, the Asian and Hispanic communities show a higher impact of inflation on their consumption behavior compared to other ethnicities. Similarly, females show a higher impact of inflation on their consumption behavior compared to males.\\n\\nThese observations suggest that inflation can affect consumption behavior in complex ways, depending on various demographic and economic factors.'}"
      ]
     },
     "execution_count": 20,
     "metadata": {},
     "output_type": "execute_result"
    }
   ],
   "source": [
    "analyser.query(\"How is inflation affecting consumption behaviour?\")"
   ]
  },
  {
   "attachments": {},
   "cell_type": "markdown",
   "metadata": {},
   "source": [
    "#### Bring your own Population"
   ]
  },
  {
   "cell_type": "code",
   "execution_count": 21,
   "metadata": {},
   "outputs": [
    {
     "name": "stdout",
     "output_type": "stream",
     "text": [
      "Config saved at:  /Users/shashankkumar/Documents/GitHub/MacroEcon/models/macro_economics/yamls/config.yaml\n",
      "Config saved at:  /Users/shashankkumar/Documents/GitHub/MacroEcon/models/macro_economics/yamls/config.yaml\n",
      "Config saved at:  /Users/shashankkumar/Documents/GitHub/MacroEcon/models/macro_economics/yamls/config.yaml\n",
      "resolvers already registered..\n",
      "\n",
      "running episode 0...\n",
      "Substep Action: Earning decision\n",
      "LLM benchmark expts\n",
      "Some Example Prompts:  ['You are male of age 20t29, living in the BK region. It is September 2020, number of covid cases is 874.0. With all these factors in play, and considering aspects like your living costs, any future aspirations, and the broader economic trends, how is your willingness to work this month? Furthermore, how would you plan your expenditures? ', 'You are male of age 20t29, living in the BX region. It is September 2020, number of covid cases is 874.0. With all these factors in play, and considering aspects like your living costs, any future aspirations, and the broader economic trends, how is your willingness to work this month? Furthermore, how would you plan your expenditures? ', 'You are male of age 20t29, living in the MN region. It is September 2020, number of covid cases is 874.0. With all these factors in play, and considering aspects like your living costs, any future aspirations, and the broader economic trends, how is your willingness to work this month? Furthermore, how would you plan your expenditures? ']\n",
      "Substep: Agent Earning!\n",
      "Substep: Agent Consumption\n",
      "Executing Substep: Labor Market\n",
      "Executing Substep: Financial Market\n",
      "Substep Action: Earning decision\n",
      "LLM benchmark expts\n",
      "Some Example Prompts:  ['You are male of age 20t29, living in the BK region. It is October 2020, number of covid cases is 701.0. With all these factors in play, and considering aspects like your living costs, any future aspirations, and the broader economic trends, how is your willingness to work this month? Furthermore, how would you plan your expenditures? ', 'You are male of age 20t29, living in the BX region. It is October 2020, number of covid cases is 701.0. With all these factors in play, and considering aspects like your living costs, any future aspirations, and the broader economic trends, how is your willingness to work this month? Furthermore, how would you plan your expenditures? ', 'You are male of age 20t29, living in the MN region. It is October 2020, number of covid cases is 701.0. With all these factors in play, and considering aspects like your living costs, any future aspirations, and the broader economic trends, how is your willingness to work this month? Furthermore, how would you plan your expenditures? ']\n",
      "Substep: Agent Earning!\n",
      "Substep: Agent Consumption\n",
      "Executing Substep: Labor Market\n",
      "Executing Substep: Financial Market\n",
      "Simulation Ended.\n"
     ]
    }
   ],
   "source": [
    "from models import macro_economics\n",
    "from populations import NYC\n",
    "from macro_economics.config import NYC_NUM_AGENTS\n",
    "\n",
    "data_loader_nyc = DataLoader(model = macro_economics, region = NYC, population_size = NYC_NUM_AGENTS)\n",
    "agents_sim = Executor(macro_economics,data_loader_nyc)\n",
    "agents_sim.execute()"
   ]
  }
 ],
 "metadata": {
  "kernelspec": {
   "display_name": "LIDA",
   "language": "python",
   "name": "python3"
  },
  "language_info": {
   "codemirror_mode": {
    "name": "ipython",
    "version": 3
   },
   "file_extension": ".py",
   "mimetype": "text/x-python",
   "name": "python",
   "nbconvert_exporter": "python",
   "pygments_lexer": "ipython3",
   "version": "3.8.10"
  }
 },
 "nbformat": 4,
 "nbformat_minor": 2
}
