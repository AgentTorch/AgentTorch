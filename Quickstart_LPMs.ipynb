{
 "cells": [
  {
   "cell_type": "code",
   "execution_count": 1,
   "id": "9a1e5c8a",
   "metadata": {},
   "outputs": [],
   "source": [
    "import numpy as np\n",
    "import os\n",
    "import sys\n",
    "sys.path.insert(0, os.path.join(os.getcwd(), 'AgentTorch'))\n",
    "sys.path.append(os.path.join(os.getcwd(), 'AgentTorch/AgentTorch'))"
   ]
  },
  {
   "cell_type": "code",
   "execution_count": 2,
   "id": "adb333fc",
   "metadata": {},
   "outputs": [],
   "source": [
    "from AgentTorch.dataloader import DataLoader\n",
    "from AgentTorch.simulate import Executor"
   ]
  },
  {
   "cell_type": "code",
   "execution_count": 3,
   "id": "c2177771",
   "metadata": {},
   "outputs": [],
   "source": [
    "from models import macro_economics\n",
    "from populations import NZ"
   ]
  },
  {
   "cell_type": "code",
   "execution_count": null,
   "id": "fd830900",
   "metadata": {},
   "outputs": [],
   "source": [
    "USER_INP_NUM_AGENTS = 16460\n",
    "agents_sim = Executor(macro_economics, NZ, USER_INP_NUM_AGENTS)"
   ]
  },
  {
   "cell_type": "code",
   "execution_count": null,
   "id": "8dd10ce4",
   "metadata": {},
   "outputs": [],
   "source": []
  },
  {
   "cell_type": "code",
   "execution_count": null,
   "id": "cabedec7",
   "metadata": {},
   "outputs": [],
   "source": []
  }
 ],
 "metadata": {
  "kernelspec": {
   "display_name": "Python 3",
   "language": "python",
   "name": "python3"
  },
  "language_info": {
   "codemirror_mode": {
    "name": "ipython",
    "version": 3
   },
   "file_extension": ".py",
   "mimetype": "text/x-python",
   "name": "python",
   "nbconvert_exporter": "python",
   "pygments_lexer": "ipython3",
   "version": "3.10.12"
  }
 },
 "nbformat": 4,
 "nbformat_minor": 5
}
