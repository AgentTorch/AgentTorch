{
 "cells": [
  {
   "cell_type": "markdown",
   "metadata": {},
   "source": [
    "# Simulating with Census Data"
   ]
  },
  {
   "cell_type": "markdown",
   "metadata": {},
   "source": [
    "# Step 1 - process your census data\n",
    "On Your Own - here is an example"
   ]
  },
  {
   "cell_type": "code",
   "execution_count": 3,
   "metadata": {},
   "outputs": [],
   "source": [
    "## All data files for step 2\n",
    "\n",
    "# base_population\n",
    "base_pop_data_path = ''\n",
    "base_pop_mapping = ''\n",
    "base_pop_out_file = 'base_population.pkl'\n",
    "\n",
    "# household\n",
    "household_data_path = ''\n",
    "household_mapping = ''\n",
    "household_out_file = 'household.pkl'"
   ]
  },
  {
   "cell_type": "code",
   "execution_count": 4,
   "metadata": {},
   "outputs": [],
   "source": [
    "## Executing step 2\n",
    "\n",
    "from AgentTorch.loaders import CensusDataGenerator\n",
    "census_loader = CensusDataGenerator()\n",
    "\n",
    "census_loader.generate_basepop(base_pop_data_path, base_pop_mapping, base_pop_out_file)\n",
    "census_loader.generate_households(household_data_path, household_mapping, household_out_file)\n",
    "\n",
    "population_df = census_loader.population_df # this can be used directly for simulation"
   ]
  },
  {
   "cell_type": "code",
   "execution_count": null,
   "metadata": {},
   "outputs": [],
   "source": [
    "## Step 3 - Run an existing simulation\n",
    "from AgentTorch.simulation import load_sim, run_sim\n",
    "from AgentTorch.models import covid\n",
    "\n",
    "covid_config = load_sim(covid)\n",
    "run_sim(covid_config, population_df)"
   ]
  },
  {
   "cell_type": "code",
   "execution_count": null,
   "metadata": {},
   "outputs": [],
   "source": [
    "'''Existing simulation exists - rerun in few lines of code'''\n",
    "def run_sim(config, population_df):\n",
    "    assert column_set\n",
    "    \n",
    "    config_data_path = preprocess(population_df)\n",
    "    config.set_data(config_data_path)\n",
    "    \n",
    "    runner = Runner(config)\n",
    "    runner.execute()"
   ]
  },
  {
   "cell_type": "code",
   "execution_count": null,
   "metadata": {},
   "outputs": [],
   "source": []
  },
  {
   "cell_type": "code",
   "execution_count": null,
   "metadata": {},
   "outputs": [],
   "source": []
  },
  {
   "cell_type": "code",
   "execution_count": null,
   "metadata": {},
   "outputs": [],
   "source": []
  },
  {
   "cell_type": "code",
   "execution_count": null,
   "metadata": {},
   "outputs": [],
   "source": []
  },
  {
   "cell_type": "code",
   "execution_count": 7,
   "metadata": {},
   "outputs": [],
   "source": [
    "import pandas as pd\n",
    "import torch\n",
    "\n",
    "\n",
    "def load_population(df_path,attribute):\n",
    "    \"\"\"\n",
    "    Load population data from a pandas dataframe\n",
    "    \"\"\"\n",
    "    # Load population data\n",
    "    df = pd.read_pickle(df_path)\n",
    "    df = df['synpop'][attribute]\n",
    "    df,mapping = pd.factorize(df)\n",
    "    att_tensor = torch.from_numpy(df).float()\n",
    "    return att_tensor,mapping"
   ]
  },
  {
   "cell_type": "code",
   "execution_count": 5,
   "metadata": {},
   "outputs": [],
   "source": [
    "df_path = '/tmp/syspop_test/NYC/1/tmp/synpop.pickle'"
   ]
  },
  {
   "cell_type": "code",
   "execution_count": null,
   "metadata": {},
   "outputs": [],
   "source": [
    "pop = load_population(df_path,'area')\n"
   ]
  },
  {
   "cell_type": "code",
   "execution_count": null,
   "metadata": {},
   "outputs": [],
   "source": [
    "pop"
   ]
  },
  {
   "cell_type": "code",
   "execution_count": null,
   "metadata": {},
   "outputs": [],
   "source": [
    "# pop = pop.values\n",
    "pop = torch.from_numpy(pop).float()\n",
    "pop"
   ]
  },
  {
   "cell_type": "code",
   "execution_count": null,
   "metadata": {},
   "outputs": [],
   "source": [
    "df = pop['synpop']['area']\n",
    "df = pd.get_dummies(df, columns=['area']).astype(int)\n",
    "df"
   ]
  },
  {
   "cell_type": "code",
   "execution_count": 13,
   "metadata": {},
   "outputs": [],
   "source": [
    "df = pd.read_pickle(df_path)\n",
    "gender = df['synpop']['gender']\n",
    "gender,map = pd.factorize(gender)\n"
   ]
  },
  {
   "cell_type": "code",
   "execution_count": 15,
   "metadata": {},
   "outputs": [
    {
     "data": {
      "text/plain": [
       "dict_values([Index(['female', 'male'], dtype='object')])"
      ]
     },
     "execution_count": 15,
     "metadata": {},
     "output_type": "execute_result"
    }
   ],
   "source": [
    "mapping_collection = {}\n",
    "mapping_collection['gender'] = map\n",
    "mapping_collection"
   ]
  },
  {
   "cell_type": "code",
   "execution_count": 16,
   "metadata": {},
   "outputs": [],
   "source": [
    "df = pd.read_pickle(df_path)\n",
    "age = df['synpop']['age']\n",
    "age,map = pd.factorize(age)"
   ]
  },
  {
   "cell_type": "code",
   "execution_count": 17,
   "metadata": {},
   "outputs": [],
   "source": [
    "mapping_collection['age'] = map"
   ]
  },
  {
   "cell_type": "code",
   "execution_count": 18,
   "metadata": {},
   "outputs": [
    {
     "data": {
      "text/plain": [
       "{'gender': Index(['female', 'male'], dtype='object'),\n",
       " 'age': Index(['U19', '20t29', '30t39', '40t49', '50t64', '65A'], dtype='object')}"
      ]
     },
     "execution_count": 18,
     "metadata": {},
     "output_type": "execute_result"
    }
   ],
   "source": [
    "mapping_collection"
   ]
  },
  {
   "cell_type": "code",
   "execution_count": 10,
   "metadata": {},
   "outputs": [
    {
     "data": {
      "text/plain": [
       "dict_keys(['synpop', 'synadd'])"
      ]
     },
     "execution_count": 10,
     "metadata": {},
     "output_type": "execute_result"
    }
   ],
   "source": [
    "df.keys()"
   ]
  },
  {
   "cell_type": "code",
   "execution_count": 9,
   "metadata": {},
   "outputs": [
    {
     "data": {
      "text/plain": [
       "Index(['area', 'age', 'gender', 'ethnicity'], dtype='object')"
      ]
     },
     "execution_count": 9,
     "metadata": {},
     "output_type": "execute_result"
    }
   ],
   "source": [
    "df['synpop'].keys()"
   ]
  },
  {
   "cell_type": "code",
   "execution_count": null,
   "metadata": {},
   "outputs": [],
   "source": [
    "f"
   ]
  },
  {
   "cell_type": "code",
   "execution_count": null,
   "metadata": {},
   "outputs": [],
   "source": [
    "df['synpop']['area']"
   ]
  },
  {
   "cell_type": "code",
   "execution_count": 19,
   "metadata": {},
   "outputs": [],
   "source": [
    "df = pd.read_pickle(\"/tmp/syspop_test/NYC/1/tmp/area.pickle\")"
   ]
  },
  {
   "cell_type": "code",
   "execution_count": 22,
   "metadata": {},
   "outputs": [
    {
     "data": {
      "text/plain": [
       "tensor([ 0.,  0.,  0.,  ..., 32., 32., 32.])"
      ]
     },
     "execution_count": 22,
     "metadata": {},
     "output_type": "execute_result"
    }
   ],
   "source": [
    "att_tensor = torch.from_numpy(df.values).float()\n",
    "att_tensor"
   ]
  },
  {
   "cell_type": "markdown",
   "metadata": {},
   "source": []
  },
  {
   "cell_type": "markdown",
   "metadata": {},
   "source": [
    "# Prompt"
   ]
  },
  {
   "cell_type": "code",
   "execution_count": null,
   "metadata": {},
   "outputs": [],
   "source": [
    "####\n",
    "import os\n",
    "####\n",
    "import torch\n",
    "import random\n",
    "import numpy as np\n",
    "\n",
    "def set_seeds(seed):    \n",
    "    random.seed(seed)\n",
    "    np.random.seed(seed)\n",
    "    \n",
    "    torch.manual_seed(seed)\n",
    "    torch.cuda.manual_seed(seed)\n",
    "    torch.cuda.manual_seed_all(seed)\n",
    "    \n",
    "    torch.backends.cudnn.deterministic = True\n",
    "    torch.backends.cudnn.benchmark = False\n",
    "    \n",
    "set_seeds(42)\n",
    "####\n",
    "from accelerate import Accelerator\n",
    "\n",
    "from accelerate.utils import gather_object\n",
    "from transformers import AutoModelForCausalLM, AutoTokenizer\n",
    "from statistics import mean\n",
    "import torch, time, json\n",
    "\n",
    "accelerator = Accelerator()\n",
    "####\n",
    "import json\n",
    "from PIL import Image\n",
    "\n",
    "import torch\n",
    "from transformers import AutoProcessor, LlavaForConditionalGeneration\n",
    "from transformers import CLIPProcessor, CLIPModel\n"
   ]
  },
  {
   "cell_type": "code",
   "execution_count": null,
   "metadata": {},
   "outputs": [],
   "source": [
    "prompt_template = \"You are {male} of age {age} and are {ethnicity}. You live in {area}. Give your willingness to work in {industry}, denote the willingness by giving a value between 0 and 1, with 0 being not willing at all and 1 being completely willing.\""
   ]
  },
  {
   "cell_type": "code",
   "execution_count": null,
   "metadata": {},
   "outputs": [],
   "source": [
    "get_agent_age = \"U19\"\n",
    "get_agent_gender = \"Male\"\n",
    "get_agent_ethnicity = \"White\"\n",
    "area = \"Manhattan\"\n",
    "industry = \"Finance\"\n",
    "prompt = prompt_template.format(male = get_agent_gender,age = get_agent_age,ethnicity=get_agent_ethnicity,industry=industry,area=area)"
   ]
  },
  {
   "cell_type": "code",
   "execution_count": null,
   "metadata": {},
   "outputs": [],
   "source": [
    "prompt"
   ]
  },
  {
   "cell_type": "code",
   "execution_count": null,
   "metadata": {},
   "outputs": [],
   "source": [
    "torch_dtype = torch.bfloat16\n",
    "model_id = \"llava-hf/llava-1.5-7b-hf\"\n",
    "processor = AutoProcessor.from_pretrained(model_id)\n",
    "\n",
    "model = LlavaForConditionalGeneration.from_pretrained(\n",
    "    model_id, \n",
    "    device_map={\"\": accelerator.device},\n",
    "    torch_dtype=torch_dtype, \n",
    "    low_cpu_mem_usage=True,\n",
    ")\n",
    "    \n",
    "model.eval()"
   ]
  },
  {
   "cell_type": "code",
   "execution_count": 41,
   "metadata": {},
   "outputs": [
    {
     "data": {
      "text/html": [
       "<div>\n",
       "<style scoped>\n",
       "    .dataframe tbody tr th:only-of-type {\n",
       "        vertical-align: middle;\n",
       "    }\n",
       "\n",
       "    .dataframe tbody tr th {\n",
       "        vertical-align: top;\n",
       "    }\n",
       "\n",
       "    .dataframe thead th {\n",
       "        text-align: right;\n",
       "    }\n",
       "</style>\n",
       "<table border=\"1\" class=\"dataframe\">\n",
       "  <thead>\n",
       "    <tr style=\"text-align: right;\">\n",
       "      <th></th>\n",
       "      <th>area</th>\n",
       "      <th>year</th>\n",
       "      <th>month</th>\n",
       "      <th>unemployment_rate</th>\n",
       "    </tr>\n",
       "  </thead>\n",
       "  <tbody>\n",
       "    <tr>\n",
       "      <th>52</th>\n",
       "      <td>1</td>\n",
       "      <td>0</td>\n",
       "      <td>0</td>\n",
       "      <td>4.9</td>\n",
       "    </tr>\n",
       "    <tr>\n",
       "      <th>53</th>\n",
       "      <td>1</td>\n",
       "      <td>0</td>\n",
       "      <td>1</td>\n",
       "      <td>4.5</td>\n",
       "    </tr>\n",
       "    <tr>\n",
       "      <th>54</th>\n",
       "      <td>1</td>\n",
       "      <td>0</td>\n",
       "      <td>2</td>\n",
       "      <td>4.2</td>\n",
       "    </tr>\n",
       "    <tr>\n",
       "      <th>55</th>\n",
       "      <td>1</td>\n",
       "      <td>0</td>\n",
       "      <td>3</td>\n",
       "      <td>3.7</td>\n",
       "    </tr>\n",
       "    <tr>\n",
       "      <th>56</th>\n",
       "      <td>1</td>\n",
       "      <td>0</td>\n",
       "      <td>4</td>\n",
       "      <td>4.0</td>\n",
       "    </tr>\n",
       "    <tr>\n",
       "      <th>...</th>\n",
       "      <td>...</td>\n",
       "      <td>...</td>\n",
       "      <td>...</td>\n",
       "      <td>...</td>\n",
       "    </tr>\n",
       "    <tr>\n",
       "      <th>8</th>\n",
       "      <td>1</td>\n",
       "      <td>4</td>\n",
       "      <td>8</td>\n",
       "      <td>5.5</td>\n",
       "    </tr>\n",
       "    <tr>\n",
       "      <th>9</th>\n",
       "      <td>1</td>\n",
       "      <td>4</td>\n",
       "      <td>9</td>\n",
       "      <td>5.8</td>\n",
       "    </tr>\n",
       "    <tr>\n",
       "      <th>10</th>\n",
       "      <td>1</td>\n",
       "      <td>4</td>\n",
       "      <td>10</td>\n",
       "      <td>5.3</td>\n",
       "    </tr>\n",
       "    <tr>\n",
       "      <th>11</th>\n",
       "      <td>1</td>\n",
       "      <td>4</td>\n",
       "      <td>11</td>\n",
       "      <td>5.4</td>\n",
       "    </tr>\n",
       "    <tr>\n",
       "      <th>12</th>\n",
       "      <td>1</td>\n",
       "      <td>4</td>\n",
       "      <td>12</td>\n",
       "      <td>5.5</td>\n",
       "    </tr>\n",
       "  </tbody>\n",
       "</table>\n",
       "<p>65 rows × 4 columns</p>\n",
       "</div>"
      ],
      "text/plain": [
       "    area  year  month  unemployment_rate\n",
       "52     1     0      0                4.9\n",
       "53     1     0      1                4.5\n",
       "54     1     0      2                4.2\n",
       "55     1     0      3                3.7\n",
       "56     1     0      4                4.0\n",
       "..   ...   ...    ...                ...\n",
       "8      1     4      8                5.5\n",
       "9      1     4      9                5.8\n",
       "10     1     4     10                5.3\n",
       "11     1     4     11                5.4\n",
       "12     1     4     12                5.5\n",
       "\n",
       "[65 rows x 4 columns]"
      ]
     },
     "execution_count": 41,
     "metadata": {},
     "output_type": "execute_result"
    }
   ],
   "source": [
    "import pandas as pd \n",
    "df = pd.read_csv(\"/Users/shashankkumar/Documents/GitHub/MacroEcon/simulator_data/NYC/brooklyn_unemp.csv\")\n",
    "df.sort_values(by=['year','month'],ascending=True,inplace=True)\n",
    "arr = df['unemployment_rate'].values\n",
    "tensor = torch.from_numpy(arr)\n",
    "tensor = tensor.view(5,-1)\n",
    "tensor[0]"
   ]
  },
  {
   "cell_type": "code",
   "execution_count": 45,
   "metadata": {},
   "outputs": [
    {
     "data": {
      "text/plain": [
       "tensor([4.9000, 4.5000, 4.2000], dtype=torch.float64)"
      ]
     },
     "execution_count": 45,
     "metadata": {},
     "output_type": "execute_result"
    }
   ],
   "source": [
    "arr = df['unemployment_rate'].values\n",
    "tensor = torch.from_numpy(arr)\n",
    "tensor = tensor.view(5,-1)\n",
    "tensor[0][:3]"
   ]
  },
  {
   "cell_type": "code",
   "execution_count": 44,
   "metadata": {},
   "outputs": [
    {
     "data": {
      "text/plain": [
       "tensor([[ 4.9000,  4.5000,  4.2000,  3.7000,  4.0000,  4.0000,  4.4000,  4.3000,\n",
       "          3.7000,  4.0000,  3.7000,  3.4000,  4.1000],\n",
       "        [ 4.2000,  4.3000,  5.4000, 12.4000, 21.7000, 17.3000, 17.7000, 15.2000,\n",
       "         14.5000, 13.2000, 12.6000, 12.2000, 12.6000],\n",
       "        [13.1000, 12.7000, 11.7000, 11.2000, 10.5000, 11.0000, 10.7000, 10.3000,\n",
       "          8.9000,  8.4000,  7.8000,  7.6000, 10.3000],\n",
       "        [ 8.0000,  7.3000,  6.5000,  5.9000,  5.6000,  5.6000,  5.7000,  5.4000,\n",
       "          4.7000,  5.2000,  5.3000,  5.2000,  5.9000],\n",
       "        [ 5.7000,  5.8000,  5.4000,  5.0000,  5.2000,  5.6000,  5.7000,  5.9000,\n",
       "          5.5000,  5.8000,  5.3000,  5.4000,  5.5000]], dtype=torch.float64)"
      ]
     },
     "execution_count": 44,
     "metadata": {},
     "output_type": "execute_result"
    }
   ],
   "source": [
    "tensor"
   ]
  },
  {
   "cell_type": "code",
   "execution_count": 39,
   "metadata": {},
   "outputs": [
    {
     "data": {
      "text/plain": [
       "tensor(3.4000, dtype=torch.float64)"
      ]
     },
     "execution_count": 39,
     "metadata": {},
     "output_type": "execute_result"
    }
   ],
   "source": [
    "max_area = df['area'].max()\n",
    "max_year = df['year'].max()\n",
    "max_month = df['month'].max()\n",
    "import numpy as np\n",
    "\n",
    "data = np.zeros((max_area+1, max_year+1, max_month+1))\n",
    "for _, row in df.iterrows():\n",
    "    data[int(row['area'])][int(row['year'])][int(row['month'])] = row['unemployment_rate']\n",
    "tensor = torch.from_numpy(data)\n",
    "tensor[1][0][11]"
   ]
  },
  {
   "cell_type": "code",
   "execution_count": 7,
   "metadata": {},
   "outputs": [
    {
     "data": {
      "text/plain": [
       "array([[ 1. ,  0. ,  0. ,  4.9],\n",
       "       [ 1. ,  0. ,  1. ,  4.5],\n",
       "       [ 1. ,  0. ,  2. ,  4.2],\n",
       "       [ 1. ,  0. ,  3. ,  3.7],\n",
       "       [ 1. ,  0. ,  4. ,  4. ],\n",
       "       [ 1. ,  0. ,  5. ,  4. ],\n",
       "       [ 1. ,  0. ,  6. ,  4.4],\n",
       "       [ 1. ,  0. ,  7. ,  4.3],\n",
       "       [ 1. ,  0. ,  8. ,  3.7],\n",
       "       [ 1. ,  0. ,  9. ,  4. ],\n",
       "       [ 1. ,  0. , 10. ,  3.7],\n",
       "       [ 1. ,  0. , 11. ,  3.4],\n",
       "       [ 1. ,  0. , 12. ,  4.1],\n",
       "       [ 1. ,  1. ,  0. ,  4.2],\n",
       "       [ 1. ,  1. ,  1. ,  4.3],\n",
       "       [ 1. ,  1. ,  2. ,  5.4],\n",
       "       [ 1. ,  1. ,  3. , 12.4],\n",
       "       [ 1. ,  1. ,  4. , 21.7],\n",
       "       [ 1. ,  1. ,  5. , 17.3],\n",
       "       [ 1. ,  1. ,  6. , 17.7],\n",
       "       [ 1. ,  1. ,  7. , 15.2],\n",
       "       [ 1. ,  1. ,  8. , 14.5],\n",
       "       [ 1. ,  1. ,  9. , 13.2],\n",
       "       [ 1. ,  1. , 10. , 12.6],\n",
       "       [ 1. ,  1. , 11. , 12.2],\n",
       "       [ 1. ,  1. , 12. , 12.6],\n",
       "       [ 1. ,  2. ,  0. , 13.1],\n",
       "       [ 1. ,  2. ,  1. , 12.7],\n",
       "       [ 1. ,  2. ,  2. , 11.7],\n",
       "       [ 1. ,  2. ,  3. , 11.2],\n",
       "       [ 1. ,  2. ,  4. , 10.5],\n",
       "       [ 1. ,  2. ,  5. , 11. ],\n",
       "       [ 1. ,  2. ,  6. , 10.7],\n",
       "       [ 1. ,  2. ,  7. , 10.3],\n",
       "       [ 1. ,  2. ,  8. ,  8.9],\n",
       "       [ 1. ,  2. ,  9. ,  8.4],\n",
       "       [ 1. ,  2. , 10. ,  7.8],\n",
       "       [ 1. ,  2. , 11. ,  7.6],\n",
       "       [ 1. ,  2. , 12. , 10.3],\n",
       "       [ 1. ,  3. ,  0. ,  8. ],\n",
       "       [ 1. ,  3. ,  1. ,  7.3],\n",
       "       [ 1. ,  3. ,  2. ,  6.5],\n",
       "       [ 1. ,  3. ,  3. ,  5.9],\n",
       "       [ 1. ,  3. ,  4. ,  5.6],\n",
       "       [ 1. ,  3. ,  5. ,  5.6],\n",
       "       [ 1. ,  3. ,  6. ,  5.7],\n",
       "       [ 1. ,  3. ,  7. ,  5.4],\n",
       "       [ 1. ,  3. ,  8. ,  4.7],\n",
       "       [ 1. ,  3. ,  9. ,  5.2],\n",
       "       [ 1. ,  3. , 10. ,  5.3],\n",
       "       [ 1. ,  3. , 11. ,  5.2],\n",
       "       [ 1. ,  3. , 12. ,  5.9],\n",
       "       [ 1. ,  4. ,  0. ,  5.7],\n",
       "       [ 1. ,  4. ,  1. ,  5.8],\n",
       "       [ 1. ,  4. ,  2. ,  5.4],\n",
       "       [ 1. ,  4. ,  3. ,  5. ],\n",
       "       [ 1. ,  4. ,  4. ,  5.2],\n",
       "       [ 1. ,  4. ,  5. ,  5.6],\n",
       "       [ 1. ,  4. ,  6. ,  5.7],\n",
       "       [ 1. ,  4. ,  7. ,  5.9],\n",
       "       [ 1. ,  4. ,  8. ,  5.5],\n",
       "       [ 1. ,  4. ,  9. ,  5.8],\n",
       "       [ 1. ,  4. , 10. ,  5.3],\n",
       "       [ 1. ,  4. , 11. ,  5.4],\n",
       "       [ 1. ,  4. , 12. ,  5.5]])"
      ]
     },
     "execution_count": 7,
     "metadata": {},
     "output_type": "execute_result"
    }
   ],
   "source": [
    "df.values"
   ]
  },
  {
   "cell_type": "code",
   "execution_count": 9,
   "metadata": {},
   "outputs": [],
   "source": [
    "import torch"
   ]
  },
  {
   "cell_type": "code",
   "execution_count": 27,
   "metadata": {},
   "outputs": [
    {
     "ename": "RuntimeError",
     "evalue": "shape '[65, 4, 3, 2, -1]' is invalid for input of size 260",
     "output_type": "error",
     "traceback": [
      "\u001b[0;31m---------------------------------------------------------------------------\u001b[0m",
      "\u001b[0;31mRuntimeError\u001b[0m                              Traceback (most recent call last)",
      "Cell \u001b[0;32mIn[27], line 2\u001b[0m\n\u001b[1;32m      1\u001b[0m un \u001b[38;5;241m=\u001b[39m torch\u001b[38;5;241m.\u001b[39mfrom_numpy(df\u001b[38;5;241m.\u001b[39mvalues)\n\u001b[0;32m----> 2\u001b[0m un \u001b[38;5;241m=\u001b[39m \u001b[43mun\u001b[49m\u001b[38;5;241;43m.\u001b[39;49m\u001b[43mview\u001b[49m\u001b[43m(\u001b[49m\u001b[43mun\u001b[49m\u001b[38;5;241;43m.\u001b[39;49m\u001b[43mshape\u001b[49m\u001b[43m[\u001b[49m\u001b[38;5;241;43m0\u001b[39;49m\u001b[43m]\u001b[49m\u001b[43m,\u001b[49m\u001b[38;5;241;43m4\u001b[39;49m\u001b[43m,\u001b[49m\u001b[38;5;241;43m3\u001b[39;49m\u001b[43m,\u001b[49m\u001b[38;5;241;43m2\u001b[39;49m\u001b[43m,\u001b[49m\u001b[38;5;241;43m-\u001b[39;49m\u001b[38;5;241;43m1\u001b[39;49m\u001b[43m)\u001b[49m\n\u001b[1;32m      3\u001b[0m un[\u001b[38;5;241m0\u001b[39m][\u001b[38;5;241m1\u001b[39m]\n",
      "\u001b[0;31mRuntimeError\u001b[0m: shape '[65, 4, 3, 2, -1]' is invalid for input of size 260"
     ]
    }
   ],
   "source": [
    "un = torch.from_numpy(df.values)\n",
    "un = un.view(un.shape[0],1,3,2)\n",
    "un[0][1]\n",
    "# un = un[0].view(4,-1)\n",
    "# un[3]"
   ]
  },
  {
   "cell_type": "code",
   "execution_count": null,
   "metadata": {},
   "outputs": [],
   "source": [
    "un.shaoe"
   ]
  },
  {
   "cell_type": "code",
   "execution_count": null,
   "metadata": {},
   "outputs": [],
   "source": [
    "print(\"episode: \", episode)\n",
    "num_steps_per_episode = self.config[\"simulation_metadata\"][\"num_steps_per_episode\"]\n",
    "self.reset()\n",
    "for steps in range(num_steps_per_episode):\n",
    "    self.step(1)\n",
    "    unemployment_rate_list = [state['environment']['U'] for state in self.state_trajectory[-1] if state['current_substep'] == str(self.config['simulation_metadata']['num_substeps_per_step'] - 1)]\n",
    "    unemployment_rate_tensor = torch.tensor(unemployment_rate_list,requires_grad=True).float()\n",
    "    test_set_for_episode = self.unemployment_test_dataset[episode][:num_steps_per_episode-1].float()\n",
    "    loss =  self.mse_loss(unemployment_rate_tensor, test_set_for_episode)\n",
    "    loss.backward()\n",
    "    self.optimizer.step()\n",
    "    self.optimizer.zero_grad()"
   ]
  }
 ],
 "metadata": {
  "kernelspec": {
   "display_name": "Python 3 (ipykernel)",
   "language": "python",
   "name": "python3"
  },
  "language_info": {
   "codemirror_mode": {
    "name": "ipython",
    "version": 3
   },
   "file_extension": ".py",
   "mimetype": "text/x-python",
   "name": "python",
   "nbconvert_exporter": "python",
   "pygments_lexer": "ipython3",
   "version": "3.10.13"
  }
 },
 "nbformat": 4,
 "nbformat_minor": 2
}
