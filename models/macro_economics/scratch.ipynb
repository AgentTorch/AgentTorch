{
 "cells": [
  {
   "cell_type": "markdown",
   "metadata": {},
   "source": [
    "# Simulating with Census Data"
   ]
  },
  {
   "cell_type": "markdown",
   "metadata": {},
   "source": [
    "# Step 1 - process your census data\n",
    "On Your Own - here is an example"
   ]
  },
  {
   "cell_type": "code",
   "execution_count": 3,
   "metadata": {},
   "outputs": [],
   "source": [
    "## All data files for step 2\n",
    "\n",
    "# base_population\n",
    "base_pop_data_path = ''\n",
    "base_pop_mapping = ''\n",
    "base_pop_out_file = 'base_population.pkl'\n",
    "\n",
    "# household\n",
    "household_data_path = ''\n",
    "household_mapping = ''\n",
    "household_out_file = 'household.pkl'"
   ]
  },
  {
   "cell_type": "code",
   "execution_count": 4,
   "metadata": {},
   "outputs": [],
   "source": [
    "## Executing step 2\n",
    "\n",
    "from AgentTorch.loaders import CensusDataGenerator\n",
    "census_loader = CensusDataGenerator()\n",
    "\n",
    "census_loader.generate_basepop(base_pop_data_path, base_pop_mapping, base_pop_out_file)\n",
    "census_loader.generate_households(household_data_path, household_mapping, household_out_file)\n",
    "\n",
    "population_df = census_loader.population_df # this can be used directly for simulation"
   ]
  },
  {
   "cell_type": "code",
   "execution_count": null,
   "metadata": {},
   "outputs": [],
   "source": [
    "## Step 3 - Run an existing simulation\n",
    "from AgentTorch.simulation import load_sim, run_sim\n",
    "from AgentTorch.models import covid\n",
    "\n",
    "covid_config = load_sim(covid)\n",
    "run_sim(covid_config, population_df)"
   ]
  },
  {
   "cell_type": "code",
   "execution_count": null,
   "metadata": {},
   "outputs": [],
   "source": [
    "'''Existing simulation exists - rerun in few lines of code'''\n",
    "def run_sim(config, population_df):\n",
    "    assert column_set\n",
    "    \n",
    "    config_data_path = preprocess(population_df)\n",
    "    config.set_data(config_data_path)\n",
    "    \n",
    "    runner = Runner(config)\n",
    "    runner.execute()"
   ]
  },
  {
   "cell_type": "code",
   "execution_count": null,
   "metadata": {},
   "outputs": [],
   "source": []
  },
  {
   "cell_type": "code",
   "execution_count": null,
   "metadata": {},
   "outputs": [],
   "source": []
  },
  {
   "cell_type": "code",
   "execution_count": null,
   "metadata": {},
   "outputs": [],
   "source": []
  },
  {
   "cell_type": "code",
   "execution_count": null,
   "metadata": {},
   "outputs": [],
   "source": []
  },
  {
   "cell_type": "code",
   "execution_count": 7,
   "metadata": {},
   "outputs": [],
   "source": [
    "import pandas as pd\n",
    "import torch\n",
    "\n",
    "\n",
    "def load_population(df_path,attribute):\n",
    "    \"\"\"\n",
    "    Load population data from a pandas dataframe\n",
    "    \"\"\"\n",
    "    # Load population data\n",
    "    df = pd.read_pickle(df_path)\n",
    "    df = df['synpop'][attribute]\n",
    "    df,mapping = pd.factorize(df)\n",
    "    att_tensor = torch.from_numpy(df).float()\n",
    "    return att_tensor,mapping"
   ]
  },
  {
   "cell_type": "code",
   "execution_count": 5,
   "metadata": {},
   "outputs": [],
   "source": [
    "df_path = '/tmp/syspop_test/NYC/1/tmp/synpop.pickle'"
   ]
  },
  {
   "cell_type": "code",
   "execution_count": null,
   "metadata": {},
   "outputs": [],
   "source": [
    "pop = load_population(df_path,'area')\n"
   ]
  },
  {
   "cell_type": "code",
   "execution_count": null,
   "metadata": {},
   "outputs": [],
   "source": [
    "pop"
   ]
  },
  {
   "cell_type": "code",
   "execution_count": null,
   "metadata": {},
   "outputs": [],
   "source": [
    "# pop = pop.values\n",
    "pop = torch.from_numpy(pop).float()\n",
    "pop"
   ]
  },
  {
   "cell_type": "code",
   "execution_count": null,
   "metadata": {},
   "outputs": [],
   "source": [
    "df = pop['synpop']['area']\n",
    "df = pd.get_dummies(df, columns=['area']).astype(int)\n",
    "df"
   ]
  },
  {
   "cell_type": "code",
   "execution_count": 13,
   "metadata": {},
   "outputs": [],
   "source": [
    "df = pd.read_pickle(df_path)\n",
    "gender = df['synpop']['gender']\n",
    "gender,map = pd.factorize(gender)\n"
   ]
  },
  {
   "cell_type": "code",
   "execution_count": 15,
   "metadata": {},
   "outputs": [
    {
     "data": {
      "text/plain": [
       "dict_values([Index(['female', 'male'], dtype='object')])"
      ]
     },
     "execution_count": 15,
     "metadata": {},
     "output_type": "execute_result"
    }
   ],
   "source": [
    "mapping_collection = {}\n",
    "mapping_collection['gender'] = map\n",
    "mapping_collection"
   ]
  },
  {
   "cell_type": "code",
   "execution_count": 16,
   "metadata": {},
   "outputs": [],
   "source": [
    "df = pd.read_pickle(df_path)\n",
    "age = df['synpop']['age']\n",
    "age,map = pd.factorize(age)"
   ]
  },
  {
   "cell_type": "code",
   "execution_count": 17,
   "metadata": {},
   "outputs": [],
   "source": [
    "mapping_collection['age'] = map"
   ]
  },
  {
   "cell_type": "code",
   "execution_count": 18,
   "metadata": {},
   "outputs": [
    {
     "data": {
      "text/plain": [
       "{'gender': Index(['female', 'male'], dtype='object'),\n",
       " 'age': Index(['U19', '20t29', '30t39', '40t49', '50t64', '65A'], dtype='object')}"
      ]
     },
     "execution_count": 18,
     "metadata": {},
     "output_type": "execute_result"
    }
   ],
   "source": [
    "mapping_collection"
   ]
  },
  {
   "cell_type": "code",
   "execution_count": 10,
   "metadata": {},
   "outputs": [
    {
     "data": {
      "text/plain": [
       "dict_keys(['synpop', 'synadd'])"
      ]
     },
     "execution_count": 10,
     "metadata": {},
     "output_type": "execute_result"
    }
   ],
   "source": [
    "df.keys()"
   ]
  },
  {
   "cell_type": "code",
   "execution_count": 9,
   "metadata": {},
   "outputs": [
    {
     "data": {
      "text/plain": [
       "Index(['area', 'age', 'gender', 'ethnicity'], dtype='object')"
      ]
     },
     "execution_count": 9,
     "metadata": {},
     "output_type": "execute_result"
    }
   ],
   "source": [
    "df['synpop'].keys()"
   ]
  },
  {
   "cell_type": "code",
   "execution_count": null,
   "metadata": {},
   "outputs": [],
   "source": [
    "f"
   ]
  },
  {
   "cell_type": "code",
   "execution_count": null,
   "metadata": {},
   "outputs": [],
   "source": [
    "df['synpop']['area']"
   ]
  },
  {
   "cell_type": "code",
   "execution_count": 19,
   "metadata": {},
   "outputs": [],
   "source": [
    "df = pd.read_pickle(\"/tmp/syspop_test/NYC/1/tmp/area.pickle\")"
   ]
  },
  {
   "cell_type": "code",
   "execution_count": 22,
   "metadata": {},
   "outputs": [
    {
     "data": {
      "text/plain": [
       "tensor([ 0.,  0.,  0.,  ..., 32., 32., 32.])"
      ]
     },
     "execution_count": 22,
     "metadata": {},
     "output_type": "execute_result"
    }
   ],
   "source": [
    "att_tensor = torch.from_numpy(df.values).float()\n",
    "att_tensor"
   ]
  },
  {
   "cell_type": "markdown",
   "metadata": {},
   "source": []
  },
  {
   "cell_type": "markdown",
   "metadata": {},
   "source": [
    "# Prompt"
   ]
  },
  {
   "cell_type": "code",
   "execution_count": null,
   "metadata": {},
   "outputs": [],
   "source": [
    "####\n",
    "import os\n",
    "####\n",
    "import torch\n",
    "import random\n",
    "import numpy as np\n",
    "\n",
    "def set_seeds(seed):    \n",
    "    random.seed(seed)\n",
    "    np.random.seed(seed)\n",
    "    \n",
    "    torch.manual_seed(seed)\n",
    "    torch.cuda.manual_seed(seed)\n",
    "    torch.cuda.manual_seed_all(seed)\n",
    "    \n",
    "    torch.backends.cudnn.deterministic = True\n",
    "    torch.backends.cudnn.benchmark = False\n",
    "    \n",
    "set_seeds(42)\n",
    "####\n",
    "from accelerate import Accelerator\n",
    "\n",
    "from accelerate.utils import gather_object\n",
    "from transformers import AutoModelForCausalLM, AutoTokenizer\n",
    "from statistics import mean\n",
    "import torch, time, json\n",
    "\n",
    "accelerator = Accelerator()\n",
    "####\n",
    "import json\n",
    "from PIL import Image\n",
    "\n",
    "import torch\n",
    "from transformers import AutoProcessor, LlavaForConditionalGeneration\n",
    "from transformers import CLIPProcessor, CLIPModel\n"
   ]
  },
  {
   "cell_type": "code",
   "execution_count": null,
   "metadata": {},
   "outputs": [],
   "source": [
    "prompt_template = \"You are {male} of age {age} and are {ethnicity}. You live in {area}. Give your willingness to work in {industry}, denote the willingness by giving a value between 0 and 1, with 0 being not willing at all and 1 being completely willing.\""
   ]
  },
  {
   "cell_type": "code",
   "execution_count": null,
   "metadata": {},
   "outputs": [],
   "source": [
    "get_agent_age = \"U19\"\n",
    "get_agent_gender = \"Male\"\n",
    "get_agent_ethnicity = \"White\"\n",
    "area = \"Manhattan\"\n",
    "industry = \"Finance\"\n",
    "prompt = prompt_template.format(male = get_agent_gender,age = get_agent_age,ethnicity=get_agent_ethnicity,industry=industry,area=area)"
   ]
  },
  {
   "cell_type": "code",
   "execution_count": null,
   "metadata": {},
   "outputs": [],
   "source": [
    "prompt"
   ]
  },
  {
   "cell_type": "code",
   "execution_count": null,
   "metadata": {},
   "outputs": [],
   "source": [
    "torch_dtype = torch.bfloat16\n",
    "model_id = \"llava-hf/llava-1.5-7b-hf\"\n",
    "processor = AutoProcessor.from_pretrained(model_id)\n",
    "\n",
    "model = LlavaForConditionalGeneration.from_pretrained(\n",
    "    model_id, \n",
    "    device_map={\"\": accelerator.device},\n",
    "    torch_dtype=torch_dtype, \n",
    "    low_cpu_mem_usage=True,\n",
    ")\n",
    "    \n",
    "model.eval()"
   ]
  }
 ],
 "metadata": {
  "kernelspec": {
   "display_name": "Python 3 (ipykernel)",
   "language": "python",
   "name": "python3"
  },
  "language_info": {
   "codemirror_mode": {
    "name": "ipython",
    "version": 3
   },
   "file_extension": ".py",
   "mimetype": "text/x-python",
   "name": "python",
   "nbconvert_exporter": "python",
   "pygments_lexer": "ipython3",
   "version": "3.8.10"
  }
 },
 "nbformat": 4,
 "nbformat_minor": 2
}
