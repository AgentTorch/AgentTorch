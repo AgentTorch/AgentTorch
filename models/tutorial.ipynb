{
 "cells": [
  {
   "cell_type": "code",
   "execution_count": null,
   "metadata": {},
   "outputs": [],
   "source": [
    "import sys\n",
    "sys.path.append('/Users/shashankkumar/Documents/GitHub/MacroEcon/AgentTorch')\n",
    "sys.path.append('/Users/shashankkumar/Documents/GitHub/MacroEcon/AgentTorch/AgentTorch')\n",
    "sys.path.append('/Users/shashankkumar/Documents/GitHub/MacroEcon/data/step2/process')\n",
    "sys.path.append('/Users/shashankkumar/Documents/GitHub/MacroEcon/models/macro_economics')\n",
    "from AgentTorch.helpers import read_config\n",
    "from AgentTorch.dataloader import DataLoaderBase\n",
    "import importlib\n",
    "from AgentTorch.helpers import read_config\n",
    "from preprocess_data import preprocess_data\n",
    "from simulator import OpDynRunner, opdyn_registry"
   ]
  },
  {
   "cell_type": "code",
   "execution_count": null,
   "metadata": {},
   "outputs": [],
   "source": [
    "class DataLoader(DataLoaderBase):\n",
    "    def __init__(self, model, region):\n",
    "        super().__init__('simulator_data',model)\n",
    "        self.config_path = self._get_config_path(model)\n",
    "        self.config_path = self._set_input_data_dir(self.config_path,region)\n",
    "        print(self.config_path)\n",
    "        self.config = self._read_config(self.config_path)\n",
    "    \n",
    "    def _read_config(self,config_path):\n",
    "        config = read_config(str(config_path))\n",
    "        return config\n",
    "    \n",
    "    def _set_input_data_dir(self, config_path,region):\n",
    "        return self._set_config_attribute(config_path,'population_dir', region)\n",
    "    \n",
    "    def get_config(self):\n",
    "        return self.config\n"
   ]
  },
  {
   "cell_type": "code",
   "execution_count": null,
   "metadata": {},
   "outputs": [],
   "source": [
    "USER_INP_MODEL = 'macro_economics'\n",
    "USER_INP_DATA = 'NYC'\n",
    "data_loader = DataLoader(USER_INP_MODEL, USER_INP_DATA)\n",
    "config = data_loader.get_config()"
   ]
  },
  {
   "cell_type": "code",
   "execution_count": null,
   "metadata": {},
   "outputs": [],
   "source": [
    "config"
   ]
  },
  {
   "cell_type": "code",
   "execution_count": null,
   "metadata": {},
   "outputs": [],
   "source": [
    "#Class to encapsulate all ops\n",
    "class AgentSim():\n",
    "    def __init__(self,model,region) -> None:    \n",
    "        data_loader = DataLoader(model, region)\n",
    "        self.config = data_loader.get_config()\n",
    "        self.runner = self._get_runner(model)\n",
    "        self.runner.init()\n",
    "        \n",
    "    def execute(self):\n",
    "        self.runner.execute()\n",
    "    \n",
    "    def _get_runner(self, model):\n",
    "        module_name = f'{model}.simulator'\n",
    "        module = importlib.import_module(module_name)\n",
    "        opdyn_runner = module.OpDynRunner\n",
    "        registry = self._get_registry(model)\n",
    "        runner = opdyn_runner(self.config, registry)\n",
    "        print(runner.config)\n",
    "        return runner\n",
    "    \n",
    "    def _get_registry(self, model):\n",
    "        module_name = f'{model}.simulator'\n",
    "        module = importlib.import_module(module_name)\n",
    "        opdyn_registry = module.opdyn_registry\n",
    "        registry = opdyn_registry()\n",
    "        return registry\n",
    "        \n",
    "    "
   ]
  },
  {
   "cell_type": "code",
   "execution_count": null,
   "metadata": {},
   "outputs": [],
   "source": [
    "USER_INP_MODEL = 'macro_economics'\n",
    "USER_INP_DATA = 'NYC'\n",
    "agent_sim = AgentSim(USER_INP_MODEL, USER_INP_DATA)\n",
    "agent_sim.execute()"
   ]
  },
  {
   "cell_type": "code",
   "execution_count": null,
   "metadata": {},
   "outputs": [],
   "source": []
  }
 ],
 "metadata": {
  "kernelspec": {
   "display_name": "LIDA",
   "language": "python",
   "name": "python3"
  },
  "language_info": {
   "codemirror_mode": {
    "name": "ipython",
    "version": 3
   },
   "file_extension": ".py",
   "mimetype": "text/x-python",
   "name": "python",
   "nbconvert_exporter": "python",
   "pygments_lexer": "ipython3",
   "version": "3.10.13"
  }
 },
 "nbformat": 4,
 "nbformat_minor": 2
}
