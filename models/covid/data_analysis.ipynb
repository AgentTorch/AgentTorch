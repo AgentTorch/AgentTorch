{
 "cells": [
  {
   "cell_type": "code",
   "execution_count": 2,
   "metadata": {},
   "outputs": [],
   "source": [
    "import numpy as np\n",
    "import pandas as pd"
   ]
  },
  {
   "cell_type": "markdown",
   "metadata": {},
   "source": [
    "## Calibration Data"
   ]
  },
  {
   "cell_type": "code",
   "execution_count": 3,
   "metadata": {},
   "outputs": [],
   "source": [
    "file_path = './county_data.csv'"
   ]
  },
  {
   "cell_type": "code",
   "execution_count": 4,
   "metadata": {},
   "outputs": [],
   "source": [
    "df = pd.read_csv(file_path)"
   ]
  },
  {
   "cell_type": "code",
   "execution_count": 5,
   "metadata": {},
   "outputs": [
    {
     "data": {
      "text/html": [
       "<div>\n",
       "<style scoped>\n",
       "    .dataframe tbody tr th:only-of-type {\n",
       "        vertical-align: middle;\n",
       "    }\n",
       "\n",
       "    .dataframe tbody tr th {\n",
       "        vertical-align: top;\n",
       "    }\n",
       "\n",
       "    .dataframe thead th {\n",
       "        text-align: right;\n",
       "    }\n",
       "</style>\n",
       "<table border=\"1\" class=\"dataframe\">\n",
       "  <thead>\n",
       "    <tr style=\"text-align: right;\">\n",
       "      <th></th>\n",
       "      <th>geo_value</th>\n",
       "      <th>time_value</th>\n",
       "      <th>cases</th>\n",
       "      <th>cases_monthly_avg</th>\n",
       "      <th>deaths</th>\n",
       "      <th>deaths_monthly_avg</th>\n",
       "      <th>cases_per_100K</th>\n",
       "      <th>deaths_per_100K</th>\n",
       "    </tr>\n",
       "  </thead>\n",
       "  <tbody>\n",
       "    <tr>\n",
       "      <th>0</th>\n",
       "      <td>11101</td>\n",
       "      <td>2020-08-08</td>\n",
       "      <td>3.0</td>\n",
       "      <td>NaN</td>\n",
       "      <td>NaN</td>\n",
       "      <td>NaN</td>\n",
       "      <td>8.1</td>\n",
       "      <td>NaN</td>\n",
       "    </tr>\n",
       "    <tr>\n",
       "      <th>1</th>\n",
       "      <td>11101</td>\n",
       "      <td>2020-08-15</td>\n",
       "      <td>10.0</td>\n",
       "      <td>NaN</td>\n",
       "      <td>NaN</td>\n",
       "      <td>NaN</td>\n",
       "      <td>27.1</td>\n",
       "      <td>NaN</td>\n",
       "    </tr>\n",
       "    <tr>\n",
       "      <th>2</th>\n",
       "      <td>11101</td>\n",
       "      <td>2020-08-22</td>\n",
       "      <td>10.0</td>\n",
       "      <td>NaN</td>\n",
       "      <td>NaN</td>\n",
       "      <td>NaN</td>\n",
       "      <td>27.1</td>\n",
       "      <td>NaN</td>\n",
       "    </tr>\n",
       "    <tr>\n",
       "      <th>3</th>\n",
       "      <td>11101</td>\n",
       "      <td>2020-08-29</td>\n",
       "      <td>15.0</td>\n",
       "      <td>10.0</td>\n",
       "      <td>NaN</td>\n",
       "      <td>NaN</td>\n",
       "      <td>40.7</td>\n",
       "      <td>NaN</td>\n",
       "    </tr>\n",
       "    <tr>\n",
       "      <th>4</th>\n",
       "      <td>11101</td>\n",
       "      <td>2020-09-05</td>\n",
       "      <td>9.0</td>\n",
       "      <td>11.0</td>\n",
       "      <td>NaN</td>\n",
       "      <td>NaN</td>\n",
       "      <td>24.4</td>\n",
       "      <td>NaN</td>\n",
       "    </tr>\n",
       "  </tbody>\n",
       "</table>\n",
       "</div>"
      ],
      "text/plain": [
       "   geo_value  time_value  cases  cases_monthly_avg  deaths  \\\n",
       "0      11101  2020-08-08    3.0                NaN     NaN   \n",
       "1      11101  2020-08-15   10.0                NaN     NaN   \n",
       "2      11101  2020-08-22   10.0                NaN     NaN   \n",
       "3      11101  2020-08-29   15.0               10.0     NaN   \n",
       "4      11101  2020-09-05    9.0               11.0     NaN   \n",
       "\n",
       "   deaths_monthly_avg  cases_per_100K  deaths_per_100K  \n",
       "0                 NaN             8.1              NaN  \n",
       "1                 NaN            27.1              NaN  \n",
       "2                 NaN            27.1              NaN  \n",
       "3                 NaN            40.7              NaN  \n",
       "4                 NaN            24.4              NaN  "
      ]
     },
     "execution_count": 5,
     "metadata": {},
     "output_type": "execute_result"
    }
   ],
   "source": [
    "df.head()"
   ]
  },
  {
   "cell_type": "markdown",
   "metadata": {},
   "source": [
    "## Income and Employment Data"
   ]
  },
  {
   "cell_type": "code",
   "execution_count": 6,
   "metadata": {},
   "outputs": [],
   "source": [
    "data_path = './llm_data/all_nta_agents.npy'"
   ]
  },
  {
   "cell_type": "code",
   "execution_count": 8,
   "metadata": {},
   "outputs": [],
   "source": [
    "data = np.load(data_path, allow_pickle=True).item()"
   ]
  },
  {
   "cell_type": "code",
   "execution_count": 9,
   "metadata": {},
   "outputs": [
    {
     "data": {
      "text/plain": [
       "dict_keys(['BK0101', 'BK0102', 'BK0103', 'BK0104', 'BK0201', 'BK0202', 'BK0203', 'BK0204', 'BK0301', 'BK0302', 'BK0401', 'BK0402', 'BK0501', 'BK0502', 'BK0503', 'BK0504', 'BK0505', 'BK0601', 'BK0602', 'BK0701', 'BK0702', 'BK0703', 'BK0801', 'BK0802', 'BK0901', 'BK0902', 'BK1001', 'BK1002', 'BK1101', 'BK1102', 'BK1103', 'BK1201', 'BK1202', 'BK1203', 'BK1204', 'BK1301', 'BK1302', 'BK1303', 'BK1401', 'BK1402', 'BK1403', 'BK1501', 'BK1502', 'BK1503', 'BK1601', 'BK1602', 'BK1701', 'BK1702', 'BK1703', 'BK1704', 'BK1801', 'BK1802', 'BK1803', 'BX0101', 'BX0102', 'BX0201', 'BX0202', 'BX0301', 'BX0302', 'BX0303', 'BX0401', 'BX0402', 'BX0403', 'BX0501', 'BX0502', 'BX0503', 'BX0601', 'BX0602', 'BX0603', 'BX0701', 'BX0702', 'BX0703', 'BX0801', 'BX0802', 'BX0803', 'BX0901', 'BX0902', 'BX0903', 'BX0904', 'BX1001', 'BX1002', 'BX1003', 'BX1004', 'BX1101', 'BX1102', 'BX1103', 'BX1104', 'BX1201', 'BX1202', 'BX1203', 'MN0101', 'MN0102', 'MN0201', 'MN0202', 'MN0203', 'MN0301', 'MN0302', 'MN0303', 'MN0401', 'MN0402', 'MN0501', 'MN0502', 'MN0601', 'MN0602', 'MN0603', 'MN0604', 'MN0701', 'MN0702', 'MN0703', 'MN0801', 'MN0802', 'MN0803', 'MN0901', 'MN0902', 'MN0903', 'MN1001', 'MN1002', 'MN1101', 'MN1102', 'MN1201', 'MN1202', 'MN1203', 'QN0101', 'QN0102', 'QN0103', 'QN0104', 'QN0105', 'QN0201', 'QN0202', 'QN0203', 'QN0301', 'QN0302', 'QN0303', 'QN0401', 'QN0402', 'QN0501', 'QN0502', 'QN0503', 'QN0504', 'QN0601', 'QN0602', 'QN0701', 'QN0702', 'QN0703', 'QN0704', 'QN0705', 'QN0706', 'QN0707', 'QN0801', 'QN0802', 'QN0803', 'QN0804', 'QN0805', 'QN0901', 'QN0902', 'QN0903', 'QN0904', 'QN0905', 'QN1001', 'QN1002', 'QN1003', 'QN1101', 'QN1102', 'QN1103', 'QN1104', 'QN1201', 'QN1202', 'QN1203', 'QN1204', 'QN1205', 'QN1206', 'QN1301', 'QN1302', 'QN1303', 'QN1304', 'QN1305', 'QN1306', 'QN1307', 'QN1401', 'QN1402', 'QN1403', 'SI0101', 'SI0102', 'SI0103', 'SI0104', 'SI0105', 'SI0106', 'SI0107', 'SI0201', 'SI0202', 'SI0203', 'SI0204', 'SI0301', 'SI0302', 'SI0303', 'SI0304', 'SI0305', 'QN0151', 'BK1061', 'BX1161', 'QN0161', 'SI9561', 'BK1771', 'QN0571', 'QN0574', 'BK5691', 'BX2791', 'BX2891', 'MN1191', 'MN1292', 'QN1191', 'QN8492', 'SI0391', 'SI9592', 'nonagent'])"
      ]
     },
     "execution_count": 9,
     "metadata": {},
     "output_type": "execute_result"
    }
   ],
   "source": [
    "data.keys()"
   ]
  },
  {
   "cell_type": "code",
   "execution_count": 10,
   "metadata": {},
   "outputs": [
    {
     "data": {
      "text/plain": [
       "{'nta_id': 'BK0101',\n",
       " 'num_agents': 37518,\n",
       " 'race_prob': [0.147, 0.727, 0.025, 0.0, 0.06199999999999999, 0.039],\n",
       " 'age_gender_prob': [0.06,\n",
       "  array([0.072]),\n",
       "  0.08,\n",
       "  array([0.1]),\n",
       "  0.15,\n",
       "  array([0.159]),\n",
       "  0.07,\n",
       "  array([0.082]),\n",
       "  0.06,\n",
       "  array([0.064]),\n",
       "  0.04,\n",
       "  array([0.064])],\n",
       " 'education_prob': [0.18614058906652628,\n",
       "  0.48399878085949405,\n",
       "  0.18192901277326756,\n",
       "  0.14793161730071208],\n",
       " 'insurance_employ_prob': [0.749547983310153,\n",
       "  0.06442976356050069,\n",
       "  0.05027816411682893,\n",
       "  0.016307371349095965,\n",
       "  0.11001390820584145,\n",
       "  0.009422809457579973]}"
      ]
     },
     "execution_count": 10,
     "metadata": {},
     "output_type": "execute_result"
    }
   ],
   "source": [
    "data['BK0101']"
   ]
  },
  {
   "cell_type": "code",
   "execution_count": null,
   "metadata": {},
   "outputs": [],
   "source": []
  }
 ],
 "metadata": {
  "kernelspec": {
   "display_name": "Python 3 (ipykernel)",
   "language": "python",
   "name": "python3"
  },
  "language_info": {
   "codemirror_mode": {
    "name": "ipython",
    "version": 3
   },
   "file_extension": ".py",
   "mimetype": "text/x-python",
   "name": "python",
   "nbconvert_exporter": "python",
   "pygments_lexer": "ipython3",
   "version": "3.8.10"
  }
 },
 "nbformat": 4,
 "nbformat_minor": 2
}
