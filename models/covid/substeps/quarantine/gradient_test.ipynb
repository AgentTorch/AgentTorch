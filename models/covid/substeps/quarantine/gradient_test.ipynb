{
 "cells": [
  {
   "cell_type": "code",
   "execution_count": 1,
   "metadata": {},
   "outputs": [
    {
     "name": "stderr",
     "output_type": "stream",
     "text": [
      "/Users/ayushchopra/Desktop/PROJECTS/test_birds_env/lib/python3.8/site-packages/torch_geometric/typing.py:18: UserWarning: An issue occurred while importing 'pyg-lib'. Disabling its usage. Stacktrace: dlopen(/Users/ayushchopra/Desktop/PROJECTS/test_birds_env/lib/python3.8/site-packages/libpyg.so, 6): Library not loaded: /usr/local/opt/python@3.10/Frameworks/Python.framework/Versions/3.10/Python\n",
      "  Referenced from: /Users/ayushchopra/Desktop/PROJECTS/test_birds_env/lib/python3.8/site-packages/libpyg.so\n",
      "  Reason: image not found\n",
      "  warnings.warn(f\"An issue occurred while importing 'pyg-lib'. \"\n",
      "/Users/ayushchopra/Desktop/PROJECTS/test_birds_env/lib/python3.8/site-packages/torch_geometric/typing.py:42: UserWarning: An issue occurred while importing 'torch-sparse'. Disabling its usage. Stacktrace: dlopen(/Users/ayushchopra/Desktop/PROJECTS/test_birds_env/lib/python3.8/site-packages/libpyg.so, 6): Library not loaded: /usr/local/opt/python@3.10/Frameworks/Python.framework/Versions/3.10/Python\n",
      "  Referenced from: /Users/ayushchopra/Desktop/PROJECTS/test_birds_env/lib/python3.8/site-packages/libpyg.so\n",
      "  Reason: image not found\n",
      "  warnings.warn(f\"An issue occurred while importing 'torch-sparse'. \"\n"
     ]
    }
   ],
   "source": [
    "import torch\n",
    "import torch.nn as nn\n",
    "import torch.nn.functional as F\n",
    "\n",
    "import os\n",
    "import sys\n",
    "module_path = os.path.abspath(os.path.join('../../../../../../AgentTorch/'))\n",
    "if module_path not in sys.path:\n",
    "    sys.path.append(module_path)\n",
    "\n",
    "from AgentTorch.helpers import discrete_sample, logical_and, logical_not\n",
    "from AgentTorch.substep import SubstepTransition"
   ]
  },
  {
   "cell_type": "code",
   "execution_count": 2,
   "metadata": {},
   "outputs": [],
   "source": [
    "# global variables\n",
    "\n",
    "num_agents = 5\n",
    "num_steps = 10\n",
    "s_var = 0\n",
    "r_var = 4\n",
    "quarantine_days = 2\n",
    "device = 'cpu'"
   ]
  },
  {
   "cell_type": "code",
   "execution_count": 3,
   "metadata": {},
   "outputs": [],
   "source": [
    "def diff_sample(sample_prob, size, device, hard=True):\n",
    "    probs = sample_prob * torch.ones(size).to(device)\n",
    "    probs = torch.vstack((probs, 1.0 - probs)).transpose(0, 1)\n",
    "    sampled_output = torch.nn.functional.gumbel_softmax(probs.log(),\n",
    "                                                        tau=0.1,\n",
    "                                                        hard=hard)[:, 0]\n",
    "    return sampled_output"
   ]
  },
  {
   "cell_type": "code",
   "execution_count": 28,
   "metadata": {},
   "outputs": [],
   "source": [
    "def _end_quarantine(t, is_quarantined, quarantine_start_date):\n",
    "    agents_quarantine_end_date = quarantine_start_date + quarantine_days\n",
    "    agent_quarantine_ends =  (t>= agents_quarantine_end_date).long()\n",
    "\n",
    "    END_QUARANTINE_VAR = -1\n",
    "\n",
    "    is_quarantined[t] += agent_quarantine_ends*END_QUARANTINE_VAR\n",
    "    new_quarantine_start_date = torch.clone(quarantine_start_date)\n",
    "    new_quarantine_start_date = new_quarantine_start_date + agent_quarantine_ends*()\n",
    "\n",
    "    is_quarantined[t] = is_quarantined[t]*(1 - agent_quarantine_ends) + agent_quarantine_ends*(1 - is_quarantined[t])\n",
    "    quarantine_start_date = quarantine_start_date*(1 - agent_quarantine_ends) + (num_steps + 1)*agent_quarantine_ends\n",
    "\n",
    "    return is_quarantined, quarantine_start_date\n",
    "\n",
    "def _start_quarantine(t, is_quarantined, exposed_infected_agents, quarantine_start_date, quarantine_start_prob):\n",
    "    agents_quarantine_start = diff_sample(quarantine_start_prob,size=num_agents, device=device)\n",
    "    agents_quarantine_start = logical_and(agents_quarantine_start, exposed_infected_agents)\n",
    "    agents_quarantine_start = logical_and(logical_not(is_quarantined[t]), agents_quarantine_start)\n",
    "    print(\"quarantine start: \", agents_quarantine_start)\n",
    "\n",
    "    is_quarantined[t] = is_quarantined[t]*(1 - agents_quarantine_start) + agents_quarantine_start*(1 - is_quarantined[t])\n",
    "    quarantine_start_date = quarantine_start_date*(1 - agents_quarantine_start) + (agents_quarantine_start)*t\n",
    "\n",
    "    return is_quarantined, quarantine_start_date\n",
    "\n",
    "def _break_quarantine(t, is_quarantined, quarantine_start_date, quarantine_break_prob):\n",
    "    agents_quarantine_break = diff_sample(quarantine_break_prob, size=num_agents, device=device)\n",
    "    agents_quarantine_break = logical_and(is_quarantined[t], agents_quarantine_break)\n",
    "\n",
    "    is_quarantined[t] = is_quarantined[t]*(1 - agents_quarantine_break) + agents_quarantine_break*(1 - is_quarantined[t])\n",
    "    quarantine_start_date = quarantine_start_date*(1 - agents_quarantine_break) + (num_steps + 1)*agents_quarantine_break\n",
    "\n",
    "    return is_quarantined, quarantine_start_date"
   ]
  },
  {
   "cell_type": "code",
   "execution_count": 29,
   "metadata": {},
   "outputs": [],
   "source": [
    "def update_quarantine_status(t, is_quarantined, infected_agents, quarantine_start_date, quarantine_start_prob, quarantine_break_prob):\n",
    "    is_quarantined, quarantine_start_date = _end_quarantine(t, is_quarantined, quarantine_start_date)\n",
    "    is_quarantined, quarantine_start_date = _start_quarantine(t, is_quarantined, infected_agents, quarantine_start_date, quarantine_start_prob)\n",
    "    is_quarantined, quarantine_start_date = _break_quarantine(t, is_quarantined, quarantine_start_date, quarantine_break_prob)\n",
    "\n",
    "    return is_quarantined, quarantine_start_date"
   ]
  },
  {
   "cell_type": "code",
   "execution_count": 30,
   "metadata": {},
   "outputs": [
    {
     "name": "stdout",
     "output_type": "stream",
     "text": [
      "tensor([1, 1, 1, 0, 1])\n",
      "tensor([[0., 0., 0., 0., 0.],\n",
      "        [0., 0., 0., 0., 0.],\n",
      "        [0., 0., 0., 0., 0.],\n",
      "        [1., 0., 1., 0., 1.],\n",
      "        [1., 0., 1., 0., 1.],\n",
      "        [1., 0., 1., 0., 1.],\n",
      "        [0., 0., 0., 0., 0.],\n",
      "        [0., 0., 0., 0., 0.],\n",
      "        [0., 0., 0., 0., 0.],\n",
      "        [0., 0., 0., 0., 0.],\n",
      "        [0., 0., 0., 0., 0.]])\n"
     ]
    },
    {
     "name": "stderr",
     "output_type": "stream",
     "text": [
      "/var/folders/77/1x1h16z52dz3jbg4ddwv01pr0000gn/T/ipykernel_87419/3626438721.py:5: UserWarning: To copy construct from a tensor, it is recommended to use sourceTensor.clone().detach() or sourceTensor.clone().detach().requires_grad_(True), rather than torch.tensor(sourceTensor).\n",
      "  is_quarantined = torch.tensor(is_quarantined)\n"
     ]
    }
   ],
   "source": [
    "t = 5\n",
    "is_quarantined = torch.zeros((num_steps + 1, num_agents), dtype=torch.float32)\n",
    "is_quarantined[3:6] = torch.tensor([1.0, 0.0, 1.0, 0.0, 1.0])\n",
    "\n",
    "is_quarantined = torch.tensor(is_quarantined)\n",
    "\n",
    "quarantine_start_date = torch.tensor([3, 11, 3, 11, 4])\n",
    "disease_stage = torch.tensor([3, 1, 2, 0, 2])\n",
    "\n",
    "quarantine_start_prob = torch.tensor(0.3, requires_grad=True)\n",
    "quarantine_break_prob = torch.tensor(0.5, requires_grad=True)\n",
    "\n",
    "not_susceptible = (disease_stage > s_var).long()\n",
    "not_recovered = (disease_stage < r_var).long()\n",
    "\n",
    "infected_agents = logical_and(not_susceptible, not_recovered)\n",
    "print(infected_agents)\n",
    "\n",
    "print(is_quarantined)"
   ]
  },
  {
   "cell_type": "code",
   "execution_count": 31,
   "metadata": {},
   "outputs": [
    {
     "name": "stdout",
     "output_type": "stream",
     "text": [
      "tensor([[0., 0., 0., 0., 0.],\n",
      "        [0., 0., 0., 0., 0.],\n",
      "        [0., 0., 0., 0., 0.],\n",
      "        [1., 0., 1., 0., 1.],\n",
      "        [1., 0., 1., 0., 1.],\n",
      "        [0., 0., 0., 0., 1.],\n",
      "        [0., 0., 0., 0., 0.],\n",
      "        [0., 0., 0., 0., 0.],\n",
      "        [0., 0., 0., 0., 0.],\n",
      "        [0., 0., 0., 0., 0.],\n",
      "        [0., 0., 0., 0., 0.]]) tensor([11, 11, 11, 11,  4])\n"
     ]
    }
   ],
   "source": [
    "is_quarantined, quarantine_start_date  = _end_quarantine(t, is_quarantined, quarantine_start_date)\n",
    "\n",
    "print(is_quarantined, quarantine_start_date)"
   ]
  },
  {
   "cell_type": "code",
   "execution_count": 32,
   "metadata": {},
   "outputs": [
    {
     "name": "stdout",
     "output_type": "stream",
     "text": [
      "tensor([1, 1, 1, 0, 1])\n",
      "quarantine start:  tensor([0., 1., 0., 0., 0.], grad_fn=<AddBackward0>)\n",
      "tensor([[0., 0., 0., 0., 0.],\n",
      "        [0., 0., 0., 0., 0.],\n",
      "        [0., 0., 0., 0., 0.],\n",
      "        [1., 0., 1., 0., 1.],\n",
      "        [1., 0., 1., 0., 1.],\n",
      "        [0., 1., 0., 0., 1.],\n",
      "        [0., 0., 0., 0., 0.],\n",
      "        [0., 0., 0., 0., 0.],\n",
      "        [0., 0., 0., 0., 0.],\n",
      "        [0., 0., 0., 0., 0.],\n",
      "        [0., 0., 0., 0., 0.]], grad_fn=<CopySlices>) tensor([11.,  5., 11., 11.,  4.], grad_fn=<AddBackward0>)\n"
     ]
    }
   ],
   "source": [
    "print(infected_agents)\n",
    "\n",
    "is_quarantined, quarantine_start_date = _start_quarantine(t, is_quarantined, infected_agents, quarantine_start_date, quarantine_start_prob)\n",
    "\n",
    "print(is_quarantined, quarantine_start_date)"
   ]
  },
  {
   "cell_type": "code",
   "execution_count": 33,
   "metadata": {},
   "outputs": [
    {
     "name": "stdout",
     "output_type": "stream",
     "text": [
      "tensor([[0., 0., 0., 0., 0.],\n",
      "        [0., 0., 0., 0., 0.],\n",
      "        [0., 0., 0., 0., 0.],\n",
      "        [1., 0., 1., 0., 1.],\n",
      "        [1., 0., 1., 0., 1.],\n",
      "        [0., 1., 0., 0., 0.],\n",
      "        [0., 0., 0., 0., 0.],\n",
      "        [0., 0., 0., 0., 0.],\n",
      "        [0., 0., 0., 0., 0.],\n",
      "        [0., 0., 0., 0., 0.],\n",
      "        [0., 0., 0., 0., 0.]], grad_fn=<CopySlices>) tensor([11.,  5., 11., 11., 11.], grad_fn=<AddBackward0>)\n"
     ]
    }
   ],
   "source": [
    "is_quarantined, quarantine_start_date = _break_quarantine(t, is_quarantined, quarantine_start_date, quarantine_break_prob)\n",
    "\n",
    "print(is_quarantined, quarantine_start_date)"
   ]
  },
  {
   "cell_type": "code",
   "execution_count": 64,
   "metadata": {},
   "outputs": [
    {
     "name": "stdout",
     "output_type": "stream",
     "text": [
      "<built-in method requires_grad_ of Tensor object at 0x157ed0a90>\n",
      "quarantine start:  tensor([0., 1., 0., 0., 0.], grad_fn=<AddBackward0>)\n",
      "tensor([0., 1., 0., 0., 1.], grad_fn=<AddBackward0>)\n",
      "tensor(3.5047)\n"
     ]
    },
    {
     "name": "stderr",
     "output_type": "stream",
     "text": [
      "/var/folders/77/1x1h16z52dz3jbg4ddwv01pr0000gn/T/ipykernel_87419/1493024088.py:9: UserWarning: To copy construct from a tensor, it is recommended to use sourceTensor.clone().detach() or sourceTensor.clone().detach().requires_grad_(True), rather than torch.tensor(sourceTensor).\n",
      "  is_quarantined = torch.tensor(is_quarantined)\n"
     ]
    }
   ],
   "source": [
    "# check for gradient flow\n",
    "t = 5\n",
    "\n",
    "is_quarantined = torch.zeros((num_agents), dtype=torch.float32)\n",
    "is_quarantined[0] = 1\n",
    "is_quarantined[2] = 1\n",
    "is_quarantined[4] = 1\n",
    "\n",
    "is_quarantined = torch.tensor(is_quarantined)\n",
    "\n",
    "quarantine_start_date = torch.tensor([3, 11, 3, 11, 4])\n",
    "disease_stage = torch.tensor([3, 1, 2, 0, 2])\n",
    "\n",
    "quarantine_start_prob = torch.tensor(0.3, requires_grad=True)\n",
    "quarantine_break_prob = torch.tensor(0.5, requires_grad=True)\n",
    "\n",
    "not_susceptible = (disease_stage > s_var).long()\n",
    "not_recovered = (disease_stage < r_var).long()\n",
    "infected_agents = logical_and(not_susceptible, not_recovered)\n",
    "\n",
    "def _new_start_quarantine(t, is_quarantined, exposed_infected_agents, quarantine_start_date, quarantine_start_prob):\n",
    "    agents_quarantine_start = diff_sample(quarantine_start_prob,size=num_agents, device=device)\n",
    "    agents_quarantine_start = logical_and(agents_quarantine_start, exposed_infected_agents)\n",
    "    agents_quarantine_start = logical_and(logical_not(is_quarantined), agents_quarantine_start)\n",
    "\n",
    "    print(agents_quarantine_start.requires_grad_)\n",
    "\n",
    "    print(\"quarantine start: \", agents_quarantine_start)\n",
    "    START_QUARANTINE_VAR = 1\n",
    "\n",
    "    is_quarantined += agents_quarantine_start*START_QUARANTINE_VAR\n",
    "    quarantine_start_date = quarantine_start_date*(1 - agents_quarantine_start) + (agents_quarantine_start)*t\n",
    "\n",
    "    return is_quarantined, quarantine_start_date\n",
    "\n",
    "def _new_end_quarantine(t, is_quarantined, quarantine_start_date):\n",
    "    agents_quarantine_end_date = quarantine_start_date + quarantine_days\n",
    "    agent_quarantine_ends =  (t>= agents_quarantine_end_date).long()\n",
    "\n",
    "    END_QUARANTINE_VAR = -1\n",
    "\n",
    "    is_quarantined += agent_quarantine_ends*END_QUARANTINE_VAR\n",
    "    quarantine_start_date = quarantine_start_date*(1 - agent_quarantine_ends) + (num_steps + 1)*agent_quarantine_ends\n",
    "\n",
    "    return is_quarantined, quarantine_start_date\n",
    "\n",
    "is_quarantined, quarantine_start_date = _new_end_quarantine(t, is_quarantined, quarantine_start_date)\n",
    "is_quarantined, quarantine_start_date = _new_start_quarantine(t, is_quarantined, infected_agents, quarantine_start_date, quarantine_start_prob)\n",
    "print(is_quarantined)\n",
    "\n",
    "is_quarantined.sum().backward()\n",
    "print(quarantine_start_prob.grad)"
   ]
  },
  {
   "cell_type": "code",
   "execution_count": 55,
   "metadata": {},
   "outputs": [
    {
     "name": "stdout",
     "output_type": "stream",
     "text": [
      "torch.Size([11, 5])\n",
      "------------------\n",
      "tensor([[0, 1, 0, 0, 0]])\n"
     ]
    }
   ],
   "source": [
    "print(is_quarantined.shape)\n",
    "print(\"------------------\")\n",
    "\n",
    "one_hot_t = F.one_hot(torch.tensor([t]), num_classes=num_steps+1).long()\n",
    "\n",
    "print(torch.matmul(one_hot_t, is_quarantined.long()))\n"
   ]
  }
 ],
 "metadata": {
  "kernelspec": {
   "display_name": "test_birds_env",
   "language": "python",
   "name": "python3"
  },
  "language_info": {
   "codemirror_mode": {
    "name": "ipython",
    "version": 3
   },
   "file_extension": ".py",
   "mimetype": "text/x-python",
   "name": "python",
   "nbconvert_exporter": "python",
   "pygments_lexer": "ipython3",
   "version": "3.8.2"
  },
  "orig_nbformat": 4
 },
 "nbformat": 4,
 "nbformat_minor": 2
}
