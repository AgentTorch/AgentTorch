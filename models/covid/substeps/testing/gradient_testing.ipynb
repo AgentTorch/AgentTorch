{
 "cells": [
  {
   "cell_type": "code",
   "execution_count": 1,
   "metadata": {},
   "outputs": [
    {
     "name": "stderr",
     "output_type": "stream",
     "text": [
      "/Users/ayushchopra/Desktop/PROJECTS/test_birds_env/lib/python3.8/site-packages/torch_geometric/typing.py:18: UserWarning: An issue occurred while importing 'pyg-lib'. Disabling its usage. Stacktrace: dlopen(/Users/ayushchopra/Desktop/PROJECTS/test_birds_env/lib/python3.8/site-packages/libpyg.so, 6): Library not loaded: /usr/local/opt/python@3.10/Frameworks/Python.framework/Versions/3.10/Python\n",
      "  Referenced from: /Users/ayushchopra/Desktop/PROJECTS/test_birds_env/lib/python3.8/site-packages/libpyg.so\n",
      "  Reason: image not found\n",
      "  warnings.warn(f\"An issue occurred while importing 'pyg-lib'. \"\n",
      "/Users/ayushchopra/Desktop/PROJECTS/test_birds_env/lib/python3.8/site-packages/torch_geometric/typing.py:42: UserWarning: An issue occurred while importing 'torch-sparse'. Disabling its usage. Stacktrace: dlopen(/Users/ayushchopra/Desktop/PROJECTS/test_birds_env/lib/python3.8/site-packages/libpyg.so, 6): Library not loaded: /usr/local/opt/python@3.10/Frameworks/Python.framework/Versions/3.10/Python\n",
      "  Referenced from: /Users/ayushchopra/Desktop/PROJECTS/test_birds_env/lib/python3.8/site-packages/libpyg.so\n",
      "  Reason: image not found\n",
      "  warnings.warn(f\"An issue occurred while importing 'torch-sparse'. \"\n"
     ]
    }
   ],
   "source": [
    "import torch\n",
    "import torch.nn as nn\n",
    "import torch.nn.functional as F\n",
    "\n",
    "import os\n",
    "import sys\n",
    "module_path = os.path.abspath(os.path.join('../../../../../../AgentTorch/'))\n",
    "if module_path not in sys.path:\n",
    "    sys.path.append(module_path)\n",
    "\n",
    "from AgentTorch.helpers import discrete_sample, logical_and, logical_not\n",
    "from AgentTorch.substep import SubstepTransition"
   ]
  },
  {
   "cell_type": "code",
   "execution_count": 2,
   "metadata": {},
   "outputs": [],
   "source": [
    "num_agents = 5\n",
    "num_steps = 10\n",
    "SUSCEPTIBLE_VAR = 0\n",
    "RECOVERED_VAR = 3\n",
    "INFINITY_TIME = 2*num_steps\n",
    "\n",
    "AWAITING_RESULT_VAR = 1\n",
    "GOT_RESULT_VAR = -1"
   ]
  },
  {
   "cell_type": "code",
   "execution_count": 3,
   "metadata": {},
   "outputs": [],
   "source": [
    "def get_tested(t, agents_result_dates, current_stages, is_quarantined, agents_awaiting_test_results, days_to_result, test_compliance_prob):\n",
    "    \n",
    "    not_susceptible = (current_stages > SUSCEPTIBLE_VAR).long()\n",
    "    not_recovered = (current_stages < RECOVERED_VAR).long()\n",
    "    exposed_infected_agents = logical_and(not_susceptible, not_recovered)\n",
    "\n",
    "    test_eligible = logical_and(exposed_infected_agents, logical_not(is_quarantined))\n",
    "    test_eligible = logical_and(test_eligible, logical_not(agents_awaiting_test_results))\n",
    "\n",
    "    # update awaiting test result\n",
    "    test_complying = discrete_sample(sample_prob=test_compliance_prob, size=(num_agents,), device='cpu')\n",
    "    test_enrolled = logical_and(test_eligible, test_complying)\n",
    "    print(\"test eligible and enrolled: \", test_eligible, test_enrolled)\n",
    "    agents_awaiting_test_results = agents_awaiting_test_results + test_enrolled*AWAITING_RESULT_VAR\n",
    "\n",
    "    # update test result date: sample test result date and assign it to individual agents\n",
    "    #agents_result_dates = agents_result_dates + test_enrolled*(t + days_to_result - INFINITY_TIME)\n",
    "    agents_result_dates[test_enrolled.bool()] = (t + days_to_result)\n",
    "\n",
    "    return agents_awaiting_test_results, agents_result_dates"
   ]
  },
  {
   "cell_type": "code",
   "execution_count": 6,
   "metadata": {},
   "outputs": [],
   "source": [
    "def get_test_result(t, agents_awaiting_results, agent_result_dates, current_stages, true_positive_prob, false_positive_prob):\n",
    "    '''Agents receive test result'''\n",
    "\n",
    "    agents_result_expected_today = (agent_result_dates == t).long()\n",
    "    agents_awaiting_results = agents_awaiting_results + agents_result_expected_today*GOT_RESULT_VAR\n",
    "    \n",
    "    #agents_awaiting_results[agents_result_expected_today] = 0 # these agents are no longer waiting for result\n",
    "\n",
    "    not_susceptible = (current_stages > SUSCEPTIBLE_VAR).long()\n",
    "    not_recovered = (current_stages < RECOVERED_VAR).long()\n",
    "    infected_exposed_agents = logical_and(not_susceptible, not_recovered)\n",
    "\n",
    "    positive_result_candidates = logical_and(infected_exposed_agents, agents_result_expected_today)\n",
    "    negative_result_candidates = logical_not(positive_result_candidates)\n",
    "\n",
    "    positive_test_result = discrete_sample(sample_prob=true_positive_prob, size=positive_result_candidates.sum(), device='cpu')\n",
    "    negative_test_result = discrete_sample(sample_prob=false_positive_prob, size=negative_result_candidates.sum(), device='cpu')\n",
    "\n",
    "    tested_positive_today = positive_test_result\n",
    "    # agents_test_results[negative_result_candidates] = negative_test_result\n",
    "    # agents_test_results[positive_result_candidates] = positive_test_result\n",
    "\n",
    "    return tested_positive_today"
   ]
  },
  {
   "cell_type": "code",
   "execution_count": 5,
   "metadata": {},
   "outputs": [
    {
     "name": "stdout",
     "output_type": "stream",
     "text": [
      "test eligible and enrolled:  tensor([0., 0., 0., 1., 1.]) tensor([0., 0., 0., 0., 1.], grad_fn=<AddBackward0>)\n",
      "tensor([0., 0., 0., 0., 1.], grad_fn=<AddBackward0>)\n",
      "tensor(2.8196)\n"
     ]
    }
   ],
   "source": [
    "t = 3\n",
    "\n",
    "current_stages = torch.tensor([3, 0, 2, 1, 2], dtype=torch.float32, requires_grad=True)\n",
    "is_quarantined = torch.tensor([0, 0, 1, 0, 0])\n",
    "agents_awaiting_test_results = torch.tensor([0, 0, 0, 0, 0], dtype=torch.float32)\n",
    "test_compliance_prob = torch.tensor(0.8, requires_grad=True)\n",
    "days_to_result = 4\n",
    "agents_result_dates = torch.ones((num_agents))*INFINITY_TIME\n",
    "\n",
    "new_agents_awaiting_test_results, new_agents_result_dates = get_tested(t, agents_result_dates, current_stages, is_quarantined, agents_awaiting_test_results, days_to_result, test_compliance_prob)\n",
    "print(new_agents_awaiting_test_results)\n",
    "new_agents_awaiting_test_results.sum().backward()\n",
    "print(test_compliance_prob.grad)"
   ]
  },
  {
   "cell_type": "code",
   "execution_count": 7,
   "metadata": {},
   "outputs": [
    {
     "name": "stdout",
     "output_type": "stream",
     "text": [
      "tensor([], grad_fn=<SelectBackward0>)\n",
      "tensor(0.)\n"
     ]
    }
   ],
   "source": [
    "true_positive_prob = torch.tensor(0.7, requires_grad=True)\n",
    "false_positive_prob = torch.tensor(0.3, requires_grad=True)\n",
    "\n",
    "tested_positive_today = get_test_result(t, new_agents_awaiting_test_results, new_agents_result_dates, current_stages, true_positive_prob, false_positive_prob)\n",
    "print(tested_positive_today)\n",
    "(tested_positive_today + 3).sum().backward()\n",
    "print(true_positive_prob.grad)"
   ]
  },
  {
   "cell_type": "code",
   "execution_count": 36,
   "metadata": {},
   "outputs": [
    {
     "data": {
      "text/plain": [
       "array([4])"
      ]
     },
     "execution_count": 36,
     "metadata": {},
     "output_type": "execute_result"
    }
   ],
   "source": [
    "# covid-19 testing delays\n",
    "result_delays = torch.tensor([2, 3, 4])\n",
    "dist = torch.distributions.Categorical(result_delays)\n",
    "dist.sample()\n",
    "\n",
    "import numpy as np\n",
    "elements = [2, 3, 4]\n",
    "probabilities = [0.2, 0.5, 0.3]\n",
    "np.random.choice(elements, 1, p=probabilities)"
   ]
  },
  {
   "cell_type": "code",
   "execution_count": null,
   "metadata": {},
   "outputs": [],
   "source": [
    "def random_choice(sample_tensor, device='cpu'):\n",
    "    torch.randperm(sample_tensor, device=device)[0]\n",
    "\n",
    "result_delays = torch.tensor([2, 3, 4])\n",
    "delay_date = result_delays"
   ]
  },
  {
   "attachments": {},
   "cell_type": "markdown",
   "metadata": {},
   "source": [
    "Tasks to do for testing experiment:\n",
    "1. sample delay time steps from a categorical distribution\n",
    "2. what variable will to track positive tests to start quarantine?"
   ]
  }
 ],
 "metadata": {
  "kernelspec": {
   "display_name": "test_birds_env",
   "language": "python",
   "name": "python3"
  },
  "language_info": {
   "codemirror_mode": {
    "name": "ipython",
    "version": 3
   },
   "file_extension": ".py",
   "mimetype": "text/x-python",
   "name": "python",
   "nbconvert_exporter": "python",
   "pygments_lexer": "ipython3",
   "version": "3.8.2"
  },
  "orig_nbformat": 4
 },
 "nbformat": 4,
 "nbformat_minor": 2
}
