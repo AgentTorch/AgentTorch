{
 "cells": [
  {
   "cell_type": "code",
   "execution_count": 26,
   "id": "b978896c",
   "metadata": {},
   "outputs": [],
   "source": [
    "import torch\n",
    "import torch.nn.functional as F\n",
    "from substeps.utils import initialize_infections\n",
    "import numpy as np"
   ]
  },
  {
   "cell_type": "code",
   "execution_count": 27,
   "id": "2f7a2b55",
   "metadata": {},
   "outputs": [],
   "source": [
    "def initialize_infections(num_agents, initial_infection_ratio):    \n",
    "    prob_infected = initial_infection_ratio * torch.ones((num_agents,1))\n",
    "    p = torch.hstack((prob_infected,1-prob_infected))\n",
    "    cat_logits = torch.log(p+1e-9)\n",
    "    agents_stages = F.gumbel_softmax(logits=cat_logits,tau=1,hard=True,dim=1)[:,0]\n",
    "\n",
    "    return agents_stages"
   ]
  },
  {
   "cell_type": "code",
   "execution_count": 28,
   "id": "a5209848",
   "metadata": {},
   "outputs": [],
   "source": [
    "num_agents = 37518\n",
    "initial_infection_ratio = 0.04\n",
    "\n",
    "agent_stages = initialize_infections(num_agents, initial_infection_ratio)"
   ]
  },
  {
   "cell_type": "code",
   "execution_count": 29,
   "id": "d3c73950",
   "metadata": {},
   "outputs": [
    {
     "data": {
      "text/plain": [
       "torch.Size([37518])"
      ]
     },
     "execution_count": 29,
     "metadata": {},
     "output_type": "execute_result"
    }
   ],
   "source": [
    "agent_stages.shape"
   ]
  },
  {
   "cell_type": "code",
   "execution_count": 33,
   "id": "9c1ae656",
   "metadata": {},
   "outputs": [
    {
     "ename": "RuntimeError",
     "evalue": "a Tensor with 37518 elements cannot be converted to Scalar",
     "output_type": "error",
     "traceback": [
      "\u001b[0;31m---------------------------------------------------------------------------\u001b[0m",
      "\u001b[0;31mRuntimeError\u001b[0m                              Traceback (most recent call last)",
      "Cell \u001b[0;32mIn[33], line 1\u001b[0m\n\u001b[0;32m----> 1\u001b[0m tensor_np \u001b[38;5;241m=\u001b[39m \u001b[43magent_stages\u001b[49m\u001b[38;5;241;43m.\u001b[39;49m\u001b[43mitem\u001b[49m\u001b[43m(\u001b[49m\u001b[43m)\u001b[49m\u001b[38;5;241m.\u001b[39mnumpy()\u001b[38;5;241m.\u001b[39mastype(\u001b[38;5;28mint\u001b[39m)\n\u001b[1;32m      3\u001b[0m \u001b[38;5;66;03m# Save the NumPy array to a CSV file\u001b[39;00m\n\u001b[1;32m      4\u001b[0m np\u001b[38;5;241m.\u001b[39msavetxt(\u001b[38;5;124m'\u001b[39m\u001b[38;5;124mdisease_stages.csv\u001b[39m\u001b[38;5;124m'\u001b[39m, tensor_np, delimiter\u001b[38;5;241m=\u001b[39m\u001b[38;5;124m'\u001b[39m\u001b[38;5;130;01m\\n\u001b[39;00m\u001b[38;5;124m'\u001b[39m)\n",
      "\u001b[0;31mRuntimeError\u001b[0m: a Tensor with 37518 elements cannot be converted to Scalar"
     ]
    }
   ],
   "source": [
    "tensor_np = agent_stages.numpy().astype(int)\n",
    "\n",
    "# Save the NumPy array to a CSV file\n",
    "np.savetxt('disease_stages.csv', tensor_np, delimiter='\\n')"
   ]
  },
  {
   "cell_type": "code",
   "execution_count": null,
   "id": "1c361efa",
   "metadata": {},
   "outputs": [],
   "source": []
  }
 ],
 "metadata": {
  "kernelspec": {
   "display_name": "Python 3 (ipykernel)",
   "language": "python",
   "name": "python3"
  },
  "language_info": {
   "codemirror_mode": {
    "name": "ipython",
    "version": 3
   },
   "file_extension": ".py",
   "mimetype": "text/x-python",
   "name": "python",
   "nbconvert_exporter": "python",
   "pygments_lexer": "ipython3",
   "version": "3.8.10"
  }
 },
 "nbformat": 4,
 "nbformat_minor": 5
}
