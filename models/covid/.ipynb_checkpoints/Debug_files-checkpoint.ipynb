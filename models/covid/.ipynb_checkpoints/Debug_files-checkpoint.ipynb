{
 "cells": [
  {
   "cell_type": "code",
   "execution_count": 15,
   "id": "5ca20579",
   "metadata": {},
   "outputs": [],
   "source": [
    "import numpy as np\n",
    "import pandas as pd\n",
    "from AgentTorch.helpers import read_from_file\n",
    "from substeps.utils import get_infected_time"
   ]
  },
  {
   "cell_type": "code",
   "execution_count": 4,
   "id": "6a1fe054",
   "metadata": {},
   "outputs": [],
   "source": [
    "stages_file_path = 'data/25011_stage.csv'"
   ]
  },
  {
   "cell_type": "code",
   "execution_count": 7,
   "id": "03aec51f",
   "metadata": {},
   "outputs": [],
   "source": [
    "shape = [70916, 1]\n",
    "params = {'file_path': stages_file_path}\n",
    "stages = read_from_file(shape, params)"
   ]
  },
  {
   "cell_type": "code",
   "execution_count": 8,
   "id": "18b56b8b",
   "metadata": {},
   "outputs": [
    {
     "data": {
      "text/plain": [
       "torch.Size([70916, 1])"
      ]
     },
     "execution_count": 8,
     "metadata": {},
     "output_type": "execute_result"
    }
   ],
   "source": [
    "stages.shape"
   ]
  },
  {
   "cell_type": "code",
   "execution_count": 9,
   "id": "769eb2e5",
   "metadata": {},
   "outputs": [
    {
     "data": {
      "text/plain": [
       "tensor(1)"
      ]
     },
     "execution_count": 9,
     "metadata": {},
     "output_type": "execute_result"
    }
   ],
   "source": [
    "stages.sum()"
   ]
  },
  {
   "cell_type": "code",
   "execution_count": 10,
   "id": "c99b06b6",
   "metadata": {},
   "outputs": [
    {
     "data": {
      "text/plain": [
       "tensor([1])"
      ]
     },
     "execution_count": 10,
     "metadata": {},
     "output_type": "execute_result"
    }
   ],
   "source": [
    "stages[stages==1]"
   ]
  },
  {
   "cell_type": "code",
   "execution_count": 12,
   "id": "b64a2cb1",
   "metadata": {},
   "outputs": [
    {
     "data": {
      "text/plain": [
       "(array([0, 1]), array([70915,     1]))"
      ]
     },
     "execution_count": 12,
     "metadata": {},
     "output_type": "execute_result"
    }
   ],
   "source": [
    "stages_df = pd.read_csv(stages_file_path)\n",
    "\n",
    "np.unique(stages_df.values, return_counts=True)"
   ]
  },
  {
   "cell_type": "code",
   "execution_count": 17,
   "id": "b5d96b56",
   "metadata": {},
   "outputs": [
    {
     "data": {
      "text/plain": [
       "torch.Size([70916, 1])"
      ]
     },
     "execution_count": 17,
     "metadata": {},
     "output_type": "execute_result"
    }
   ],
   "source": [
    "params['num_steps'] = 2\n",
    "infected_times = get_infected_time(shape, params)\n",
    "infected_times.shape"
   ]
  },
  {
   "cell_type": "code",
   "execution_count": 20,
   "id": "8ca8f3e1",
   "metadata": {},
   "outputs": [
    {
     "data": {
      "text/plain": [
       "tensor(1)"
      ]
     },
     "execution_count": 20,
     "metadata": {},
     "output_type": "execute_result"
    }
   ],
   "source": [
    "infected_times < 3.sum()"
   ]
  },
  {
   "cell_type": "code",
   "execution_count": null,
   "id": "5020bf11",
   "metadata": {},
   "outputs": [],
   "source": []
  }
 ],
 "metadata": {
  "kernelspec": {
   "display_name": "Python 3 (ipykernel)",
   "language": "python",
   "name": "python3"
  },
  "language_info": {
   "codemirror_mode": {
    "name": "ipython",
    "version": 3
   },
   "file_extension": ".py",
   "mimetype": "text/x-python",
   "name": "python",
   "nbconvert_exporter": "python",
   "pygments_lexer": "ipython3",
   "version": "3.8.10"
  }
 },
 "nbformat": 4,
 "nbformat_minor": 5
}
