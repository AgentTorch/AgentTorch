{
 "cells": [
  {
   "cell_type": "code",
   "execution_count": 26,
   "id": "b978896c",
   "metadata": {},
   "outputs": [],
   "source": [
    "import torch\n",
    "import torch.nn.functional as F\n",
    "from substeps.utils import initialize_infections\n",
    "import numpy as np"
   ]
  },
  {
   "cell_type": "code",
   "execution_count": 46,
   "id": "2f7a2b55",
   "metadata": {},
   "outputs": [],
   "source": [
    "def initialize_infections(num_agents, initial_infection_ratio):    \n",
    "    prob_infected = initial_infection_ratio * torch.ones((num_agents,1))\n",
    "    p = torch.hstack((prob_infected,1-prob_infected))\n",
    "    cat_logits = torch.log(p+1e-9)\n",
    "    agents_stages = F.gumbel_softmax(logits=cat_logits,tau=1,hard=True,dim=1)[:, 0]\n",
    "\n",
    "    return agents_stages"
   ]
  },
  {
   "cell_type": "code",
   "execution_count": 47,
   "id": "a5209848",
   "metadata": {},
   "outputs": [],
   "source": [
    "num_agents = 37518\n",
    "initial_infection_ratio = 0.04\n",
    "\n",
    "agent_stages = initialize_infections(num_agents, initial_infection_ratio)"
   ]
  },
  {
   "cell_type": "code",
   "execution_count": 48,
   "id": "d3c73950",
   "metadata": {},
   "outputs": [
    {
     "data": {
      "text/plain": [
       "torch.Size([37518])"
      ]
     },
     "execution_count": 48,
     "metadata": {},
     "output_type": "execute_result"
    }
   ],
   "source": [
    "agent_stages.shape"
   ]
  },
  {
   "cell_type": "code",
   "execution_count": 42,
   "id": "9c1ae656",
   "metadata": {},
   "outputs": [],
   "source": [
    "tensor_np = agent_stages.numpy().astype(int)\n",
    "tensor_np = np.array(tensor_np, dtype=np.uint8)\n",
    "\n",
    "# !TODO: change dataframe to have column name stages\n",
    "\n",
    "# Save the NumPy array to a CSV file\n",
    "np.savetxt('disease_stages.csv', tensor_np, delimiter='\\n')\n"
   ]
  }
 ],
 "metadata": {
  "kernelspec": {
   "display_name": "Python 3 (ipykernel)",
   "language": "python",
   "name": "python3"
  },
  "language_info": {
   "codemirror_mode": {
    "name": "ipython",
    "version": 3
   },
   "file_extension": ".py",
   "mimetype": "text/x-python",
   "name": "python",
   "nbconvert_exporter": "python",
   "pygments_lexer": "ipython3",
   "version": "3.8.10"
  }
 },
 "nbformat": 4,
 "nbformat_minor": 5
}
