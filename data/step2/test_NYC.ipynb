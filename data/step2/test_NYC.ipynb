{
 "cells": [
  {
   "cell_type": "code",
   "execution_count": 1,
   "metadata": {},
   "outputs": [],
   "source": [
    "import numpy as np\n",
    "import pandas as pd\n",
    "import sys\n",
    "from genericpath import exists\n",
    "from os import makedirs"
   ]
  },
  {
   "cell_type": "code",
   "execution_count": 2,
   "metadata": {},
   "outputs": [],
   "source": [
    "from process.base_pop import base_pop_wrapper\n",
    "from process.household import household_wrapper"
   ]
  },
  {
   "cell_type": "markdown",
   "metadata": {},
   "source": [
    "# Step 1: Generate Synthetic Agent Population"
   ]
  },
  {
   "cell_type": "code",
   "execution_count": 5,
   "metadata": {},
   "outputs": [],
   "source": [
    "OUTPUT_DIR = '/Users/shashankkumar/Documents/GitHub/MacroEcon'\n",
    "AGENTS_DF_PATH = '../step1/all_nta_agents.npy'"
   ]
  },
  {
   "cell_type": "code",
   "execution_count": null,
   "metadata": {},
   "outputs": [],
   "source": [
    "if not exists(OUTPUT_DIR):\n",
    "    makedirs(OUTPUT_DIR)\n",
    "\n",
    "agents_data = np.load(AGENTS_DF_PATH, allow_pickle=True).item()"
   ]
  },
  {
   "cell_type": "code",
   "execution_count": null,
   "metadata": {},
   "outputs": [],
   "source": [
    "base_population,base_address = base_pop_wrapper(input_data=agents_data['valid_ntas'],input_mapping=agents_data['mapping'],use_parallel=True,n_cpu=8)\n",
    "base_population.to_pickle(output_dir + \"/base_population.pkl\")"
   ]
  },
  {
   "cell_type": "markdown",
   "metadata": {},
   "source": [
    "Load Base Population"
   ]
  },
  {
   "cell_type": "code",
   "execution_count": 6,
   "metadata": {},
   "outputs": [],
   "source": [
    "base_pop = pd.read_pickle(OUTPUT_DIR + \"/base_population.pkl\")"
   ]
  },
  {
   "cell_type": "markdown",
   "metadata": {},
   "source": [
    "# Household"
   ]
  },
  {
   "cell_type": "code",
   "execution_count": 3,
   "metadata": {},
   "outputs": [],
   "source": [
    "def map_age_to_range(age):\n",
    "    if age < 20:\n",
    "        return 'U19'\n",
    "    elif 20 <= age <= 29:\n",
    "        return '20t29'\n",
    "    elif 30 <= age <= 39:\n",
    "        return '30t39'\n",
    "    elif 40 <= age <= 49:\n",
    "        return '40t49'\n",
    "    elif 50 <= age <= 64:\n",
    "        return '50t64'\n",
    "    else:\n",
    "        return '65A'"
   ]
  },
  {
   "cell_type": "code",
   "execution_count": null,
   "metadata": {},
   "outputs": [],
   "source": [
    "adult_list = ['20t29','30t39', '40t49', '50t64', '65A']\n",
    "children_list = ['U19']\n",
    "base_pop_path = \"/Users/shashankkumar/Documents/GitHub/MacroEcon/base_population.pkl\"\n",
    "base_pop = pd.read_pickle(base_pop_path)\n",
    "\n",
    "household_data_path = \"/Users/shashankkumar/Documents/GitHub/MacroEcon/housing_v2.pkl\"\n",
    "household_data = pd.read_pickle(household_data_path)\n"
   ]
  },
  {
   "cell_type": "code",
   "execution_count": null,
   "metadata": {},
   "outputs": [],
   "source": [
    "geo_address_data = None\n",
    "use_parallel = True\n",
    "n_cpu = 8\n",
    "\n",
    "base_pop, base_address = household_wrapper(\n",
    "    household_data,\n",
    "    base_pop,\n",
    "    base_address = None,\n",
    "    adult_list=adult_list,\n",
    "    children_list=children_list,\n",
    "    map_age_to_range = map_age_to_range,\n",
    "    geo_address_data=geo_address_data,\n",
    "    use_parallel=use_parallel,\n",
    "    n_cpu=n_cpu,\n",
    ")\n",
    "\n",
    "base_pop.to_pickle(\"data/step2/synpop.pkl\")"
   ]
  },
  {
   "cell_type": "code",
   "execution_count": 74,
   "metadata": {},
   "outputs": [
    {
     "data": {
      "text/plain": [
       "4"
      ]
     },
     "execution_count": 74,
     "metadata": {},
     "output_type": "execute_result"
    }
   ],
   "source": [
    "random.randint(0,5)"
   ]
  }
 ],
 "metadata": {
  "kernelspec": {
   "display_name": "Python 3 (ipykernel)",
   "language": "python",
   "name": "python3"
  },
  "language_info": {
   "codemirror_mode": {
    "name": "ipython",
    "version": 3
   },
   "file_extension": ".py",
   "mimetype": "text/x-python",
   "name": "python",
   "nbconvert_exporter": "python",
   "pygments_lexer": "ipython3",
   "version": "3.10.13"
  }
 },
 "nbformat": 4,
 "nbformat_minor": 2
}
