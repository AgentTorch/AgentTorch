{
 "cells": [
  {
   "cell_type": "code",
   "execution_count": 2,
   "metadata": {},
   "outputs": [],
   "source": [
    "import numpy as np\n",
    "import pandas as pd\n",
    "import sys\n",
    "from genericpath import exists\n",
    "from os import makedirs"
   ]
  },
  {
   "cell_type": "code",
   "execution_count": 2,
   "metadata": {},
   "outputs": [],
   "source": [
    "from process.base_pop import base_pop_wrapper\n",
    "from process.household import household_wrapper"
   ]
  },
  {
   "cell_type": "markdown",
   "metadata": {},
   "source": [
    "# Step 1: Generate Synthetic Agent Population"
   ]
  },
  {
   "cell_type": "code",
   "execution_count": 75,
   "metadata": {},
   "outputs": [],
   "source": [
    "OUTPUT_DIR = '/Users/shashankkumar/Documents/GitHub/MacroEcon'\n",
    "AGENTS_DF_PATH = '../step1/all_nta_agents.npy'"
   ]
  },
  {
   "cell_type": "code",
   "execution_count": null,
   "metadata": {},
   "outputs": [],
   "source": [
    "if not exists(OUTPUT_DIR):\n",
    "    makedirs(OUTPUT_DIR)\n",
    "\n",
    "agents_data = np.load(AGENTS_DF_PATH, allow_pickle=True).item()"
   ]
  },
  {
   "cell_type": "code",
   "execution_count": null,
   "metadata": {},
   "outputs": [],
   "source": [
    "base_population,base_address = base_pop_wrapper(input_data=agents_data['valid_ntas'],input_mapping=agents_data['mapping'],use_parallel=True,n_cpu=8)\n",
    "base_population.to_pickle(OUTPUT_DIR + \"/base_population.pkl\")"
   ]
  },
  {
   "cell_type": "markdown",
   "metadata": {},
   "source": [
    "Load Base Population"
   ]
  },
  {
   "cell_type": "code",
   "execution_count": 78,
   "metadata": {},
   "outputs": [],
   "source": [
    "base_pop = pd.read_pickle(OUTPUT_DIR + \"/base_population.pkl\")"
   ]
  },
  {
   "cell_type": "markdown",
   "metadata": {},
   "source": [
    "# Household"
   ]
  },
  {
   "cell_type": "code",
   "execution_count": 3,
   "metadata": {},
   "outputs": [],
   "source": [
    "def map_age_to_range(age):\n",
    "    if age < 20:\n",
    "        return 'U19'\n",
    "    elif 20 <= age <= 29:\n",
    "        return '20t29'\n",
    "    elif 30 <= age <= 39:\n",
    "        return '30t39'\n",
    "    elif 40 <= age <= 49:\n",
    "        return '40t49'\n",
    "    elif 50 <= age <= 64:\n",
    "        return '50t64'\n",
    "    else:\n",
    "        return '65A'"
   ]
  },
  {
   "cell_type": "code",
   "execution_count": null,
   "metadata": {},
   "outputs": [],
   "source": [
    "adult_list = ['20t29','30t39', '40t49', '50t64', '65A']\n",
    "children_list = ['U19']\n",
    "base_pop_path = \"/Users/shashankkumar/Documents/GitHub/MacroEcon/base_population.pkl\"\n",
    "base_pop = pd.read_pickle(base_pop_path)\n",
    "\n",
    "household_data_path = \"/Users/shashankkumar/Documents/GitHub/MacroEcon/housing_v2.pkl\"\n",
    "household_data = pd.read_pickle(household_data_path)\n"
   ]
  },
  {
   "cell_type": "code",
   "execution_count": null,
   "metadata": {},
   "outputs": [],
   "source": [
    "geo_address_data = None\n",
    "use_parallel = True\n",
    "n_cpu = 8\n",
    "\n",
    "base_pop, base_address = household_wrapper(\n",
    "    household_data,\n",
    "    base_pop,\n",
    "    base_address = None,\n",
    "    adult_list=adult_list,\n",
    "    children_list=children_list,\n",
    "    map_age_to_range = map_age_to_range,\n",
    "    geo_address_data=geo_address_data,\n",
    "    use_parallel=use_parallel,\n",
    "    n_cpu=n_cpu,\n",
    ")\n",
    "\n",
    "base_pop.to_pickle(\"data/step2/synpop.pkl\")"
   ]
  },
  {
   "cell_type": "code",
   "execution_count": 3,
   "metadata": {},
   "outputs": [],
   "source": [
    "# base_pop = pd.read_pickle(OUTPUT_DIR + \"/base_population.pkl\")\n",
    "base_pop = pd.read_pickle(\"/Users/shashankkumar/Documents/GitHub/MacroEcon/data/step2/process/base_population.pkl\")"
   ]
  },
  {
   "cell_type": "code",
   "execution_count": 5,
   "metadata": {},
   "outputs": [
    {
     "data": {
      "text/plain": [
       "0         2481.0\n",
       "1        17095.0\n",
       "2         5274.0\n",
       "3          794.0\n",
       "4        13001.0\n",
       "          ...   \n",
       "37513    10075.0\n",
       "37514    13569.0\n",
       "37515     7111.0\n",
       "37516     9688.0\n",
       "37517      367.0\n",
       "Name: household, Length: 37518, dtype: float64"
      ]
     },
     "execution_count": 5,
     "metadata": {},
     "output_type": "execute_result"
    }
   ],
   "source": [
    "base_pop['household']"
   ]
  },
  {
   "cell_type": "code",
   "execution_count": 7,
   "metadata": {},
   "outputs": [
    {
     "data": {
      "text/html": [
       "<div>\n",
       "<style scoped>\n",
       "    .dataframe tbody tr th:only-of-type {\n",
       "        vertical-align: middle;\n",
       "    }\n",
       "\n",
       "    .dataframe tbody tr th {\n",
       "        vertical-align: top;\n",
       "    }\n",
       "\n",
       "    .dataframe thead th {\n",
       "        text-align: right;\n",
       "    }\n",
       "</style>\n",
       "<table border=\"1\" class=\"dataframe\">\n",
       "  <thead>\n",
       "    <tr style=\"text-align: right;\">\n",
       "      <th></th>\n",
       "      <th>area</th>\n",
       "      <th>age</th>\n",
       "      <th>gender</th>\n",
       "      <th>ethnicity</th>\n",
       "      <th>education</th>\n",
       "      <th>employment_insurance</th>\n",
       "      <th>household</th>\n",
       "    </tr>\n",
       "  </thead>\n",
       "  <tbody>\n",
       "    <tr>\n",
       "      <th>1</th>\n",
       "      <td>BK0101</td>\n",
       "      <td>U19</td>\n",
       "      <td>Male</td>\n",
       "      <td>white</td>\n",
       "      <td>college_degree</td>\n",
       "      <td>employed_insured</td>\n",
       "      <td>17095.0</td>\n",
       "    </tr>\n",
       "    <tr>\n",
       "      <th>1722</th>\n",
       "      <td>BK0101</td>\n",
       "      <td>U19</td>\n",
       "      <td>Female</td>\n",
       "      <td>white</td>\n",
       "      <td>high_school</td>\n",
       "      <td>employed_insured</td>\n",
       "      <td>17095.0</td>\n",
       "    </tr>\n",
       "    <tr>\n",
       "      <th>5239</th>\n",
       "      <td>BK0101</td>\n",
       "      <td>20t29</td>\n",
       "      <td>Female</td>\n",
       "      <td>white</td>\n",
       "      <td>college_degree</td>\n",
       "      <td>employed_insured</td>\n",
       "      <td>17095.0</td>\n",
       "    </tr>\n",
       "    <tr>\n",
       "      <th>14370</th>\n",
       "      <td>BK0101</td>\n",
       "      <td>30t39</td>\n",
       "      <td>Female</td>\n",
       "      <td>hispanic</td>\n",
       "      <td>college_degree</td>\n",
       "      <td>employed_insured</td>\n",
       "      <td>17095.0</td>\n",
       "    </tr>\n",
       "    <tr>\n",
       "      <th>15470</th>\n",
       "      <td>BK0101</td>\n",
       "      <td>30t39</td>\n",
       "      <td>Male</td>\n",
       "      <td>other</td>\n",
       "      <td>studying</td>\n",
       "      <td>employed_insured</td>\n",
       "      <td>17095.0</td>\n",
       "    </tr>\n",
       "    <tr>\n",
       "      <th>21223</th>\n",
       "      <td>BK0101</td>\n",
       "      <td>30t39</td>\n",
       "      <td>Male</td>\n",
       "      <td>white</td>\n",
       "      <td>studying</td>\n",
       "      <td>employed_insured</td>\n",
       "      <td>17095.0</td>\n",
       "    </tr>\n",
       "    <tr>\n",
       "      <th>30865</th>\n",
       "      <td>BK0101</td>\n",
       "      <td>50t64</td>\n",
       "      <td>Female</td>\n",
       "      <td>white</td>\n",
       "      <td>graduate_degree</td>\n",
       "      <td>nolabor_uninsured</td>\n",
       "      <td>17095.0</td>\n",
       "    </tr>\n",
       "    <tr>\n",
       "      <th>31232</th>\n",
       "      <td>BK0101</td>\n",
       "      <td>50t64</td>\n",
       "      <td>Male</td>\n",
       "      <td>white</td>\n",
       "      <td>studying</td>\n",
       "      <td>employed_insured</td>\n",
       "      <td>17095.0</td>\n",
       "    </tr>\n",
       "  </tbody>\n",
       "</table>\n",
       "</div>"
      ],
      "text/plain": [
       "         area    age  gender ethnicity        education employment_insurance  \\\n",
       "1      BK0101    U19    Male     white   college_degree     employed_insured   \n",
       "1722   BK0101    U19  Female     white      high_school     employed_insured   \n",
       "5239   BK0101  20t29  Female     white   college_degree     employed_insured   \n",
       "14370  BK0101  30t39  Female  hispanic   college_degree     employed_insured   \n",
       "15470  BK0101  30t39    Male     other         studying     employed_insured   \n",
       "21223  BK0101  30t39    Male     white         studying     employed_insured   \n",
       "30865  BK0101  50t64  Female     white  graduate_degree    nolabor_uninsured   \n",
       "31232  BK0101  50t64    Male     white         studying     employed_insured   \n",
       "\n",
       "       household  \n",
       "1        17095.0  \n",
       "1722     17095.0  \n",
       "5239     17095.0  \n",
       "14370    17095.0  \n",
       "15470    17095.0  \n",
       "21223    17095.0  \n",
       "30865    17095.0  \n",
       "31232    17095.0  "
      ]
     },
     "execution_count": 7,
     "metadata": {},
     "output_type": "execute_result"
    }
   ],
   "source": [
    "base_pop[base_pop['household']==17095.0]"
   ]
  }
 ],
 "metadata": {
  "kernelspec": {
   "display_name": "Python 3 (ipykernel)",
   "language": "python",
   "name": "python3"
  },
  "language_info": {
   "codemirror_mode": {
    "name": "ipython",
    "version": 3
   },
   "file_extension": ".py",
   "mimetype": "text/x-python",
   "name": "python",
   "nbconvert_exporter": "python",
   "pygments_lexer": "ipython3",
   "version": "3.10.13"
  }
 },
 "nbformat": 4,
 "nbformat_minor": 2
}
