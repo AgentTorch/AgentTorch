{
 "cells": [
  {
   "cell_type": "code",
   "execution_count": 2,
   "metadata": {},
   "outputs": [],
   "source": [
    "import numpy as np\n",
    "import pandas as pd\n",
    "import sys\n",
    "from genericpath import exists\n",
    "from os import makedirs"
   ]
  },
  {
   "cell_type": "code",
   "execution_count": 2,
   "metadata": {},
   "outputs": [],
   "source": [
    "from process.base_pop import base_pop_wrapper\n",
    "from process.household import household_wrapper"
   ]
  },
  {
   "cell_type": "markdown",
   "metadata": {},
   "source": [
    "# Step 1: Generate Synthetic Agent Population"
   ]
  },
  {
   "cell_type": "code",
   "execution_count": 75,
   "metadata": {},
   "outputs": [],
   "source": [
    "OUTPUT_DIR = '/Users/shashankkumar/Documents/GitHub/MacroEcon'\n",
    "AGENTS_DF_PATH = '../step1/all_nta_agents.npy'"
   ]
  },
  {
   "cell_type": "code",
   "execution_count": null,
   "metadata": {},
   "outputs": [],
   "source": [
    "if not exists(OUTPUT_DIR):\n",
    "    makedirs(OUTPUT_DIR)\n",
    "\n",
    "agents_data = np.load(AGENTS_DF_PATH, allow_pickle=True).item()"
   ]
  },
  {
   "cell_type": "code",
   "execution_count": null,
   "metadata": {},
   "outputs": [],
   "source": [
    "base_population,base_address = base_pop_wrapper(input_data=agents_data['valid_ntas'],input_mapping=agents_data['mapping'],use_parallel=True,n_cpu=8)\n",
    "base_population.to_pickle(OUTPUT_DIR + \"/base_population.pkl\")"
   ]
  },
  {
   "cell_type": "markdown",
   "metadata": {},
   "source": [
    "Load Base Population"
   ]
  },
  {
   "cell_type": "code",
   "execution_count": 78,
   "metadata": {},
   "outputs": [],
   "source": [
    "base_pop = pd.read_pickle(OUTPUT_DIR + \"/base_population.pkl\")"
   ]
  },
  {
   "cell_type": "markdown",
   "metadata": {},
   "source": [
    "# Household"
   ]
  },
  {
   "cell_type": "code",
   "execution_count": 3,
   "metadata": {},
   "outputs": [],
   "source": [
    "def map_age_to_range(age):\n",
    "    if age < 20:\n",
    "        return 'U19'\n",
    "    elif 20 <= age <= 29:\n",
    "        return '20t29'\n",
    "    elif 30 <= age <= 39:\n",
    "        return '30t39'\n",
    "    elif 40 <= age <= 49:\n",
    "        return '40t49'\n",
    "    elif 50 <= age <= 64:\n",
    "        return '50t64'\n",
    "    else:\n",
    "        return '65A'"
   ]
  },
  {
   "cell_type": "code",
   "execution_count": null,
   "metadata": {},
   "outputs": [],
   "source": [
    "adult_list = ['20t29','30t39', '40t49', '50t64', '65A']\n",
    "children_list = ['U19']\n",
    "base_pop_path = \"/Users/shashankkumar/Documents/GitHub/MacroEcon/base_population.pkl\"\n",
    "base_pop = pd.read_pickle(base_pop_path)\n",
    "\n",
    "household_data_path = \"/Users/shashankkumar/Documents/GitHub/MacroEcon/housing_v2.pkl\"\n",
    "household_data = pd.read_pickle(household_data_path)\n"
   ]
  },
  {
   "cell_type": "code",
   "execution_count": null,
   "metadata": {},
   "outputs": [],
   "source": [
    "geo_address_data = None\n",
    "use_parallel = True\n",
    "n_cpu = 8\n",
    "\n",
    "base_pop, base_address = household_wrapper(\n",
    "    household_data,\n",
    "    base_pop,\n",
    "    base_address = None,\n",
    "    adult_list=adult_list,\n",
    "    children_list=children_list,\n",
    "    map_age_to_range = map_age_to_range,\n",
    "    geo_address_data=geo_address_data,\n",
    "    use_parallel=use_parallel,\n",
    "    n_cpu=n_cpu,\n",
    ")\n",
    "\n",
    "base_pop.to_pickle(\"data/step2/synpop.pkl\")"
   ]
  },
  {
   "cell_type": "code",
   "execution_count": 3,
   "metadata": {},
   "outputs": [],
   "source": [
    "# base_pop = pd.read_pickle(OUTPUT_DIR + \"/base_population.pkl\")\n",
    "base_pop = pd.read_pickle(\"/Users/shashankkumar/Documents/GitHub/MacroEcon/data/step2/process/base_population.pkl\")"
   ]
  },
  {
   "cell_type": "code",
   "execution_count": 5,
   "metadata": {},
   "outputs": [
    {
     "data": {
      "text/plain": [
       "0         2481.0\n",
       "1        17095.0\n",
       "2         5274.0\n",
       "3          794.0\n",
       "4        13001.0\n",
       "          ...   \n",
       "37513    10075.0\n",
       "37514    13569.0\n",
       "37515     7111.0\n",
       "37516     9688.0\n",
       "37517      367.0\n",
       "Name: household, Length: 37518, dtype: float64"
      ]
     },
     "execution_count": 5,
     "metadata": {},
     "output_type": "execute_result"
    }
   ],
   "source": [
    "base_pop['household']"
   ]
  },
  {
   "cell_type": "code",
   "execution_count": 7,
   "metadata": {},
   "outputs": [
    {
     "data": {
      "text/html": [
       "<div>\n",
       "<style scoped>\n",
       "    .dataframe tbody tr th:only-of-type {\n",
       "        vertical-align: middle;\n",
       "    }\n",
       "\n",
       "    .dataframe tbody tr th {\n",
       "        vertical-align: top;\n",
       "    }\n",
       "\n",
       "    .dataframe thead th {\n",
       "        text-align: right;\n",
       "    }\n",
       "</style>\n",
       "<table border=\"1\" class=\"dataframe\">\n",
       "  <thead>\n",
       "    <tr style=\"text-align: right;\">\n",
       "      <th></th>\n",
       "      <th>area</th>\n",
       "      <th>age</th>\n",
       "      <th>gender</th>\n",
       "      <th>ethnicity</th>\n",
       "      <th>education</th>\n",
       "      <th>employment_insurance</th>\n",
       "      <th>household</th>\n",
       "    </tr>\n",
       "  </thead>\n",
       "  <tbody>\n",
       "    <tr>\n",
       "      <th>1</th>\n",
       "      <td>BK0101</td>\n",
       "      <td>U19</td>\n",
       "      <td>Male</td>\n",
       "      <td>white</td>\n",
       "      <td>college_degree</td>\n",
       "      <td>employed_insured</td>\n",
       "      <td>17095.0</td>\n",
       "    </tr>\n",
       "    <tr>\n",
       "      <th>1722</th>\n",
       "      <td>BK0101</td>\n",
       "      <td>U19</td>\n",
       "      <td>Female</td>\n",
       "      <td>white</td>\n",
       "      <td>high_school</td>\n",
       "      <td>employed_insured</td>\n",
       "      <td>17095.0</td>\n",
       "    </tr>\n",
       "    <tr>\n",
       "      <th>5239</th>\n",
       "      <td>BK0101</td>\n",
       "      <td>20t29</td>\n",
       "      <td>Female</td>\n",
       "      <td>white</td>\n",
       "      <td>college_degree</td>\n",
       "      <td>employed_insured</td>\n",
       "      <td>17095.0</td>\n",
       "    </tr>\n",
       "    <tr>\n",
       "      <th>14370</th>\n",
       "      <td>BK0101</td>\n",
       "      <td>30t39</td>\n",
       "      <td>Female</td>\n",
       "      <td>hispanic</td>\n",
       "      <td>college_degree</td>\n",
       "      <td>employed_insured</td>\n",
       "      <td>17095.0</td>\n",
       "    </tr>\n",
       "    <tr>\n",
       "      <th>15470</th>\n",
       "      <td>BK0101</td>\n",
       "      <td>30t39</td>\n",
       "      <td>Male</td>\n",
       "      <td>other</td>\n",
       "      <td>studying</td>\n",
       "      <td>employed_insured</td>\n",
       "      <td>17095.0</td>\n",
       "    </tr>\n",
       "    <tr>\n",
       "      <th>21223</th>\n",
       "      <td>BK0101</td>\n",
       "      <td>30t39</td>\n",
       "      <td>Male</td>\n",
       "      <td>white</td>\n",
       "      <td>studying</td>\n",
       "      <td>employed_insured</td>\n",
       "      <td>17095.0</td>\n",
       "    </tr>\n",
       "    <tr>\n",
       "      <th>30865</th>\n",
       "      <td>BK0101</td>\n",
       "      <td>50t64</td>\n",
       "      <td>Female</td>\n",
       "      <td>white</td>\n",
       "      <td>graduate_degree</td>\n",
       "      <td>nolabor_uninsured</td>\n",
       "      <td>17095.0</td>\n",
       "    </tr>\n",
       "    <tr>\n",
       "      <th>31232</th>\n",
       "      <td>BK0101</td>\n",
       "      <td>50t64</td>\n",
       "      <td>Male</td>\n",
       "      <td>white</td>\n",
       "      <td>studying</td>\n",
       "      <td>employed_insured</td>\n",
       "      <td>17095.0</td>\n",
       "    </tr>\n",
       "  </tbody>\n",
       "</table>\n",
       "</div>"
      ],
      "text/plain": [
       "         area    age  gender ethnicity        education employment_insurance  \\\n",
       "1      BK0101    U19    Male     white   college_degree     employed_insured   \n",
       "1722   BK0101    U19  Female     white      high_school     employed_insured   \n",
       "5239   BK0101  20t29  Female     white   college_degree     employed_insured   \n",
       "14370  BK0101  30t39  Female  hispanic   college_degree     employed_insured   \n",
       "15470  BK0101  30t39    Male     other         studying     employed_insured   \n",
       "21223  BK0101  30t39    Male     white         studying     employed_insured   \n",
       "30865  BK0101  50t64  Female     white  graduate_degree    nolabor_uninsured   \n",
       "31232  BK0101  50t64    Male     white         studying     employed_insured   \n",
       "\n",
       "       household  \n",
       "1        17095.0  \n",
       "1722     17095.0  \n",
       "5239     17095.0  \n",
       "14370    17095.0  \n",
       "15470    17095.0  \n",
       "21223    17095.0  \n",
       "30865    17095.0  \n",
       "31232    17095.0  "
      ]
     },
     "execution_count": 7,
     "metadata": {},
     "output_type": "execute_result"
    }
   ],
   "source": [
    "base_pop[base_pop['household']==17095.0]"
   ]
  },
  {
   "cell_type": "code",
   "execution_count": 24,
   "metadata": {},
   "outputs": [
    {
     "name": "stdout",
     "output_type": "stream",
     "text": [
      "{'gender': ['Male', 'Female'], 'age': ['U19', '20t29', '30t39', '40t49', '50t64', '65A']}\n"
     ]
    }
   ],
   "source": [
    "import itertools\n",
    "import json\n",
    "\n",
    "variables = ['male', 'age']\n",
    "import json\n",
    "\n",
    "with open('/Users/shashankkumar/Documents/GitHub/MacroEcon/mapping.json', 'r') as f:\n",
    "    data = json.load(f)\n",
    "\n",
    "variables = ['gender', 'age']\n",
    "# Filter the dictionary\n",
    "data = {k: data[k] for k in variables}\n",
    "print(data)\n",
    "# Get all permutations\n",
    "\n",
    "# for permutation in itertools.permutations(variables, len(variables)):\n",
    "#         print(permutation)"
   ]
  },
  {
   "cell_type": "code",
   "execution_count": 35,
   "metadata": {},
   "outputs": [
    {
     "name": "stdout",
     "output_type": "stream",
     "text": [
      "{'area': {'BK0101': 0}, 'age': {'U19': 0, '20t29': 1, '30t39': 2, '40t49': 3, '50t64': 4, '65A': 5}, 'gender': {'Male': 0, 'Female': 1}, 'ethnicity': {'white': 0, 'other': 1, 'hispanic': 2, 'black': 3, 'asian': 4, 'native': 5}, 'education': {'college_degree': 0, 'high_school': 1, 'graduate_degree': 2, 'studying': 3}, 'employment_insurance': {'employed_insured': 0, 'unemployed_insured': 1, 'nolabor_insured': 2, 'employed_uninsured': 3, 'nolabor_uninsured': 4, 'unemployed_uninsured': 5}}\n"
     ]
    }
   ],
   "source": [
    "data = {\n",
    "    'area': ['BK0101'], \n",
    "    'age': ['U19', '20t29', '30t39', '40t49', '50t64', '65A'], \n",
    "    'gender': ['Male', 'Female'], \n",
    "    'ethnicity': ['white', 'other', 'hispanic', 'black', 'asian', 'native'], \n",
    "    'education': ['college_degree', 'high_school', 'graduate_degree', 'studying'], \n",
    "    'employment_insurance': ['employed_insured', 'unemployed_insured', 'nolabor_insured', 'employed_uninsured', 'nolabor_uninsured', 'unemployed_uninsured']\n",
    "}\n",
    "\n",
    "# Convert the values in the list to a dictionary\n",
    "mapping = {k: {v: i for i, v in enumerate(values)} for k, values in data.items()}\n",
    "\n",
    "print(mapping)"
   ]
  },
  {
   "cell_type": "code",
   "execution_count": 25,
   "metadata": {},
   "outputs": [
    {
     "name": "stdout",
     "output_type": "stream",
     "text": [
      "[{'gender': 'Male', 'age': 'U19'}, {'gender': 'Male', 'age': '20t29'}, {'gender': 'Male', 'age': '30t39'}, {'gender': 'Male', 'age': '40t49'}, {'gender': 'Male', 'age': '50t64'}, {'gender': 'Male', 'age': '65A'}, {'gender': 'Female', 'age': 'U19'}, {'gender': 'Female', 'age': '20t29'}, {'gender': 'Female', 'age': '30t39'}, {'gender': 'Female', 'age': '40t49'}, {'gender': 'Female', 'age': '50t64'}, {'gender': 'Female', 'age': '65A'}]\n"
     ]
    }
   ],
   "source": [
    "import itertools\n",
    "\n",
    "# data = {\n",
    "#     'area': ['BK0101'], \n",
    "#     'age': ['U19', '20t29', '30t39', '40t49', '50t64', '65A'], \n",
    "#     'gender': ['Male', 'Female'], \n",
    "#     'ethnicity': ['white', 'other', 'hispanic', 'black', 'asian', 'native'], \n",
    "#     'education': ['college_degree', 'high_school', 'graduate_degree', 'studying'], \n",
    "#     'employment_insurance': ['employed_insured', 'unemployed_insured', 'nolabor_insured', 'employed_uninsured', 'nolabor_uninsured', 'unemployed_uninsured']\n",
    "# }\n",
    "\n",
    "# Get all combinations of values\n",
    "combinations = list(itertools.product(*data.values()))\n",
    "\n",
    "dict_combinations = [dict(zip(data.keys(), combination)) for combination in combinations]\n",
    "\n",
    "print(dict_combinations)"
   ]
  },
  {
   "cell_type": "code",
   "execution_count": 36,
   "metadata": {},
   "outputs": [
    {
     "name": "stdout",
     "output_type": "stream",
     "text": [
      "[{'gender': 0, 'age': 0}, {'gender': 0, 'age': 1}, {'gender': 0, 'age': 2}, {'gender': 0, 'age': 3}, {'gender': 0, 'age': 4}, {'gender': 0, 'age': 5}, {'gender': 1, 'age': 0}, {'gender': 1, 'age': 1}, {'gender': 1, 'age': 2}, {'gender': 1, 'age': 3}, {'gender': 1, 'age': 4}, {'gender': 1, 'age': 5}]\n"
     ]
    }
   ],
   "source": [
    "dict_combinations = [{'gender': 'Male', 'age': 'U19'}, {'gender': 'Male', 'age': '20t29'}, {'gender': 'Male', 'age': '30t39'}, {'gender': 'Male', 'age': '40t49'}, {'gender': 'Male', 'age': '50t64'}, {'gender': 'Male', 'age': '65A'}, {'gender': 'Female', 'age': 'U19'}, {'gender': 'Female', 'age': '20t29'}, {'gender': 'Female', 'age': '30t39'}, {'gender': 'Female', 'age': '40t49'}, {'gender': 'Female', 'age': '50t64'}, {'gender': 'Female', 'age': '65A'}]\n",
    "\n",
    "# Replace values with their indices\n",
    "index_combinations = [{k: data[k].index(v) for k, v in combination.items()} for combination in dict_combinations]\n",
    "\n",
    "print(index_combinations)"
   ]
  },
  {
   "cell_type": "code",
   "execution_count": null,
   "metadata": {},
   "outputs": [],
   "source": []
  },
  {
   "cell_type": "code",
   "execution_count": 33,
   "metadata": {},
   "outputs": [
    {
     "name": "stdout",
     "output_type": "stream",
     "text": [
      "tensor([5, 0, 5, 0, 4, 1, 3, 4, 4, 3, 0, 2, 2, 0, 3, 1, 2, 2, 2, 4])\n"
     ]
    }
   ],
   "source": [
    "import torch\n",
    "gender = torch.randint(0, 2, (20,))\n",
    "age = torch.randint(0,6,(20,))\n",
    "print(age)"
   ]
  },
  {
   "cell_type": "code",
   "execution_count": 40,
   "metadata": {},
   "outputs": [
    {
     "name": "stdout",
     "output_type": "stream",
     "text": [
      "tensor([1, 1, 1, 1, 0, 0, 0, 0, 1, 0, 1, 1, 1, 0, 0, 1, 1, 1, 1, 1]) tensor([2, 1, 0, 5, 0, 3, 1, 5, 3, 1, 5, 0, 3, 3, 4, 1, 0, 5, 2, 2])\n",
      "Mask: tensor([0., 0., 0., 0., 0., 0., 1., 0., 0., 1., 0., 0., 0., 0., 0., 0., 0., 0.,\n",
      "        0., 0.])\n"
     ]
    }
   ],
   "source": [
    "target_values = {'gender': 0, 'age': 1}\n",
    "\n",
    "# Generate random tensors for 'gender' and 'age'\n",
    "gender = torch.randint(0, 2, (20,))\n",
    "age = torch.randint(0, 6, (20,))\n",
    "\n",
    "# Create masks for 'gender' and 'age'\n",
    "gender_mask = gender == target_values['gender']\n",
    "age_mask = age == target_values['age']\n",
    "\n",
    "# Combine the masks using logical AND\n",
    "mask = torch.logical_and(gender_mask, age_mask).to(dtype=torch.float32)\n",
    "print(gender,age)\n",
    "print('Mask:', mask)"
   ]
  },
  {
   "cell_type": "code",
   "execution_count": 41,
   "metadata": {},
   "outputs": [
    {
     "name": "stdout",
     "output_type": "stream",
     "text": [
      "Masks: [tensor([0., 0., 0., 0., 0., 0., 0., 0., 0., 0., 0., 0., 1., 0., 0., 0., 0., 0.,\n",
      "        0., 1.]), tensor([0., 0., 0., 0., 0., 0., 0., 1., 0., 0., 0., 0., 0., 0., 0., 1., 0., 0.,\n",
      "        0., 0.]), tensor([0., 0., 0., 0., 0., 0., 1., 0., 0., 0., 0., 0., 0., 0., 0., 0., 0., 0.,\n",
      "        1., 0.]), tensor([0., 0., 0., 0., 0., 1., 0., 0., 0., 0., 0., 1., 0., 0., 1., 0., 0., 0.,\n",
      "        0., 0.]), tensor([1., 0., 0., 0., 0., 0., 0., 0., 0., 1., 0., 0., 0., 0., 0., 0., 1., 0.,\n",
      "        0., 0.]), tensor([0., 0., 0., 0., 0., 0., 0., 0., 0., 0., 0., 0., 0., 1., 0., 0., 0., 0.,\n",
      "        0., 0.]), tensor([0., 0., 1., 0., 0., 0., 0., 0., 0., 0., 0., 0., 0., 0., 0., 0., 0., 1.,\n",
      "        0., 0.]), tensor([0., 0., 0., 0., 0., 0., 0., 0., 0., 0., 0., 0., 0., 0., 0., 0., 0., 0., 0., 0.]), tensor([0., 0., 0., 0., 0., 0., 0., 0., 1., 0., 0., 0., 0., 0., 0., 0., 0., 0.,\n",
      "        0., 0.]), tensor([0., 1., 0., 1., 1., 0., 0., 0., 0., 0., 1., 0., 0., 0., 0., 0., 0., 0.,\n",
      "        0., 0.]), tensor([0., 0., 0., 0., 0., 0., 0., 0., 0., 0., 0., 0., 0., 0., 0., 0., 0., 0., 0., 0.]), tensor([0., 0., 0., 0., 0., 0., 0., 0., 0., 0., 0., 0., 0., 0., 0., 0., 0., 0., 0., 0.])]\n"
     ]
    }
   ],
   "source": [
    "dict_list = [{'gender': 0, 'age': 0}, {'gender': 0, 'age': 1}, {'gender': 0, 'age': 2}, {'gender': 0, 'age': 3}, {'gender': 0, 'age': 4}, {'gender': 0, 'age': 5}, {'gender': 1, 'age': 0}, {'gender': 1, 'age': 1}, {'gender': 1, 'age': 2}, {'gender': 1, 'age': 3}, {'gender': 1, 'age': 4}, {'gender': 1, 'age': 5}]\n",
    "\n",
    "# Generate random tensors for 'gender' and 'age'\n",
    "gender = torch.randint(0, 2, (20,))\n",
    "age = torch.randint(0, 6, (20,))\n",
    "\n",
    "masks = []\n",
    "for target_values in dict_list:\n",
    "    # Create masks for 'gender' and 'age'\n",
    "    gender_mask = gender == target_values['gender']\n",
    "    age_mask = age == target_values['age']\n",
    "\n",
    "    # Combine the masks using logical AND\n",
    "    mask = torch.logical_and(gender_mask, age_mask)\n",
    "\n",
    "    # Convert to float\n",
    "    float_mask = mask.float()\n",
    "\n",
    "    masks.append(float_mask)\n",
    "\n",
    "print('Masks:', masks)"
   ]
  },
  {
   "cell_type": "code",
   "execution_count": 55,
   "metadata": {},
   "outputs": [
    {
     "name": "stdout",
     "output_type": "stream",
     "text": [
      "Masks: [tensor([0., 0., 1., 0., 0., 0., 0., 0., 0., 0., 0., 0., 0., 0., 0., 0., 0., 0.,\n",
      "        0., 0.]), tensor([0., 0., 0., 0., 0., 0., 0., 0., 0., 0., 0., 1., 0., 0., 0., 0., 0., 0.,\n",
      "        0., 0.]), tensor([0., 0., 0., 0., 0., 0., 0., 0., 0., 0., 0., 0., 0., 0., 0., 0., 0., 0., 0., 0.])]\n"
     ]
    }
   ],
   "source": [
    "dict_list = [{'gender': 0, 'age': 0, 'education': 1}, {'gender': 0, 'age': 1, 'education': 2}, {'gender': 0, 'age': 2, 'education': 3}]\n",
    "\n",
    "# Generate random tensors for 'gender', 'age', and 'education'\n",
    "gender = torch.randint(0, 2, (20,))\n",
    "age = torch.randint(0, 6, (20,))\n",
    "education = torch.randint(0, 4, (20,))\n",
    "\n",
    "masks = []\n",
    "for target_values in dict_list:\n",
    "    # Create masks for each key\n",
    "    masks_for_dict = [globals()[key] == value for key, value in target_values.items()]\n",
    "\n",
    "    # Combine the masks using logical AND\n",
    "    mask = torch.all(torch.stack(masks_for_dict), dim=0)\n",
    "\n",
    "    # Convert to float\n",
    "    float_mask = mask.float()\n",
    "\n",
    "    masks.append(float_mask)\n",
    "\n",
    "print('Masks:', masks)"
   ]
  },
  {
   "cell_type": "code",
   "execution_count": 47,
   "metadata": {},
   "outputs": [
    {
     "name": "stdout",
     "output_type": "stream",
     "text": [
      "Size of mask 0: torch.Size([20])\n",
      "Size of mask 1: torch.Size([20])\n",
      "Size of mask 2: torch.Size([20])\n"
     ]
    }
   ],
   "source": [
    "for i, mask in enumerate(masks):\n",
    "    print(f'Size of mask {i}:', mask.size())"
   ]
  },
  {
   "cell_type": "code",
   "execution_count": null,
   "metadata": {},
   "outputs": [],
   "source": []
  }
 ],
 "metadata": {
  "kernelspec": {
   "display_name": "Python 3 (ipykernel)",
   "language": "python",
   "name": "python3"
  },
  "language_info": {
   "codemirror_mode": {
    "name": "ipython",
    "version": 3
   },
   "file_extension": ".py",
   "mimetype": "text/x-python",
   "name": "python",
   "nbconvert_exporter": "python",
   "pygments_lexer": "ipython3",
   "version": "3.10.13"
  }
 },
 "nbformat": 4,
 "nbformat_minor": 2
}
