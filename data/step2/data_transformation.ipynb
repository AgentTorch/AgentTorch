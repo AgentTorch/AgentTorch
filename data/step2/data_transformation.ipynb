{
 "cells": [
  {
   "cell_type": "code",
   "execution_count": null,
   "metadata": {},
   "outputs": [],
   "source": [
    "import numpy as np\n",
    "import pandas as pd"
   ]
  },
  {
   "cell_type": "code",
   "execution_count": null,
   "metadata": {},
   "outputs": [],
   "source": [
    "soc_data_path = '/Users/shashankkumar/Documents/AgentTorch_Official/AgentTorch/AgentTorch/helpers/census_data/nyc/nta/soc_2021acs5yr_nta.xlsx'\n",
    "dfh = pd.read_excel(soc_data_path)"
   ]
  },
  {
   "cell_type": "code",
   "execution_count": null,
   "metadata": {},
   "outputs": [],
   "source": [
    "attributes = ['GeoID','HHPopE','Rshp_ChE','HH1E','RshpHHldrE','Rshp_SpE',\"Rshp_ChE\",'Rshp_OthRE','Rshp_NRE','Rshp_NRUPE','Rshp_SSUPE','AvgHHSzE']"
   ]
  },
  {
   "cell_type": "code",
   "execution_count": null,
   "metadata": {},
   "outputs": [],
   "source": [
    "df = dfh[attributes]\n",
    "df.rename(columns={'GeoID':'area', 'HHPopE':'people_num', 'Rshp_ChE':'children_num', 'HH1E':'household_num'}, inplace=True)"
   ]
  },
  {
   "cell_type": "code",
   "execution_count": null,
   "metadata": {},
   "outputs": [],
   "source": [
    "mapping = {\"HHPopE\": \"Population_in_households\",\n",
    "\"RshpHHldrE\": \"Householder\",\n",
    "\"Rshp_SpE\": \"Spouse\",\n",
    "\"Rshp_ChE\": \"children_num\",\n",
    "\"Rshp_OthRE\": \"Other_relatives\",\n",
    "\"Rshp_NRE\": \"Nonrelatives\",\n",
    "\"Rshp_NRUPE\": \"Unmarried_partner\",\n",
    "\"Rshp_SSUPE\": \"Same_sex_unmarried_partner\",\n",
    "\"Fam1E\": \"Family_households\",\n",
    "\"FamChU18E\": \"With_own_children_under_18_years\",\n",
    "\"MrdFamE\": \"Married_couple_family\",\n",
    "\"MrdChU18E\": \"With_own_children_under_18_years\",\n",
    "\"MHnSE\": \"Male_householder_no spouse_present_family\",\n",
    "\"MHnSChU18E\": \"With_own_children_under_18_years\",\n",
    "\"FHnSE\": \"Female_householder_no_spouse_present_family\",\n",
    "\"FHnSChU18E\": \"With_own_children_under_18_years\",\n",
    "\"NFam1E\": \"Nonfamily_households\",\n",
    "\"NFamAE\": \"Householder_living alone\",\n",
    "\"NFamA65plE\": \"65_years_and_over\",\n",
    "'GeoID':'area', \n",
    "'HHPopE':'people_num', \n",
    "'HH1E':'household_num',\n",
    "\"AvgHHSzE\" : 'Average_household_size',\n",
    "\"AvgFmSzE\" : 'Average_family_size'\n",
    "}"
   ]
  },
  {
   "cell_type": "code",
   "execution_count": null,
   "metadata": {},
   "outputs": [],
   "source": [
    "attributes = list(mapping.keys())\n",
    "# attributes = [att[:-1] for att in attributes]\n",
    "attributes"
   ]
  },
  {
   "cell_type": "code",
   "execution_count": null,
   "metadata": {},
   "outputs": [],
   "source": [
    "df_housing = dfh[attributes]"
   ]
  },
  {
   "cell_type": "code",
   "execution_count": null,
   "metadata": {},
   "outputs": [],
   "source": [
    "df_housing.rename(columns=mapping, inplace=True)"
   ]
  },
  {
   "cell_type": "code",
   "execution_count": null,
   "metadata": {},
   "outputs": [],
   "source": [
    "df_housing"
   ]
  },
  {
   "cell_type": "code",
   "execution_count": null,
   "metadata": {},
   "outputs": [],
   "source": [
    "df_housing.head()"
   ]
  },
  {
   "cell_type": "code",
   "execution_count": null,
   "metadata": {},
   "outputs": [],
   "source": [
    "df_housing.to_pickle('housing_v2.pkl')"
   ]
  },
  {
   "cell_type": "markdown",
   "metadata": {},
   "source": [
    "### Geo Data"
   ]
  },
  {
   "cell_type": "code",
   "execution_count": null,
   "metadata": {},
   "outputs": [],
   "source": [
    "df_g = dfh[['GeoID','Borough']]\n",
    "df_g['region'] = 'NYC'\n",
    "df_g['super_area_code'] = df_g['Borough']\n",
    "df_g['super_area_code'] = df_g['super_area_code'].map({'Manhattan':1, 'Bronx':2, 'Brooklyn':3, 'Queens':4, 'Staten Island':5})\n",
    "df_g.rename(columns={'GeoID':'area', 'Borough':'super_area_name'}, inplace=True)\n",
    "df_g.to_pickle(\"geo.pkl\")"
   ]
  }
 ],
 "metadata": {
  "kernelspec": {
   "display_name": "test_birds_env",
   "language": "python",
   "name": "python3"
  },
  "language_info": {
   "codemirror_mode": {
    "name": "ipython",
    "version": 3
   },
   "file_extension": ".py",
   "mimetype": "text/x-python",
   "name": "python",
   "nbconvert_exporter": "python",
   "pygments_lexer": "ipython3",
   "version": "3.10.13"
  },
  "orig_nbformat": 4
 },
 "nbformat": 4,
 "nbformat_minor": 2
}
