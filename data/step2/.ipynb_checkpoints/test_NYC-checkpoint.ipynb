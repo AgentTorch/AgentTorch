{
 "cells": [
  {
   "cell_type": "code",
   "execution_count": 2,
   "metadata": {},
   "outputs": [],
   "source": [
    "import numpy as np\n",
    "import pandas as pd\n",
    "import sys\n",
    "from genericpath import exists\n",
    "from os import makedirs"
   ]
  },
  {
   "cell_type": "code",
   "execution_count": 3,
   "metadata": {},
   "outputs": [
    {
     "ename": "ImportError",
     "evalue": "cannot import name 'basepop' from 'process' (/u/ayushc/projects/GradABM/MacroEcon/data/step2/process/__init__.py)",
     "output_type": "error",
     "traceback": [
      "\u001b[0;31m---------------------------------------------------------------------------\u001b[0m",
      "\u001b[0;31mImportError\u001b[0m                               Traceback (most recent call last)",
      "Cell \u001b[0;32mIn[3], line 2\u001b[0m\n\u001b[1;32m      1\u001b[0m \u001b[38;5;28;01mimport\u001b[39;00m \u001b[38;5;21;01mprocess\u001b[39;00m\n\u001b[0;32m----> 2\u001b[0m \u001b[38;5;28;01mfrom\u001b[39;00m \u001b[38;5;21;01mprocess\u001b[39;00m \u001b[38;5;28;01mimport\u001b[39;00m basepop\n\u001b[1;32m      3\u001b[0m \u001b[38;5;28;01mfrom\u001b[39;00m \u001b[38;5;21;01mprocess\u001b[39;00m\u001b[38;5;21;01m.\u001b[39;00m\u001b[38;5;21;01mbasepop\u001b[39;00m \u001b[38;5;28;01mimport\u001b[39;00m base_pop_wrapper\n\u001b[1;32m      5\u001b[0m \u001b[38;5;66;03m# sys.path.append('/Users/shashankkumar/Documents/GitHub/Syspop/syspop/process')\u001b[39;00m\n\u001b[1;32m      6\u001b[0m \u001b[38;5;66;03m# from process.base_pop import base_pop_wrapper\u001b[39;00m\n\u001b[1;32m      7\u001b[0m \u001b[38;5;66;03m# from process.household import household_wrapper\u001b[39;00m\n",
      "\u001b[0;31mImportError\u001b[0m: cannot import name 'basepop' from 'process' (/u/ayushc/projects/GradABM/MacroEcon/data/step2/process/__init__.py)"
     ]
    }
   ],
   "source": [
    "import process\n",
    "# sys.path.append('/Users/shashankkumar/Documents/GitHub/Syspop/syspop/process')\n",
    "# from process.base_pop import base_pop_wrapper\n",
    "# from process.household import household_wrapper"
   ]
  },
  {
   "cell_type": "markdown",
   "metadata": {},
   "source": [
    "# Population"
   ]
  },
  {
   "cell_type": "code",
   "execution_count": null,
   "metadata": {},
   "outputs": [],
   "source": [
    "output_dir = \"/tmp/syspop_test/NYC/1\"\n",
    "if not exists(output_dir):\n",
    "    makedirs(output_dir)\n",
    "file = np.load(\"/Users/shashankkumar/Documents/GitHub/MacroEcon/all_nta_agents.npy\", allow_pickle=True)\n",
    "file_dict = file.item()\n",
    "\n",
    "base_population,base_address = base_pop_wrapper(input_data=file_dict['valid_ntas'],input_mapping=file_dict['mapping'],use_parallel=True,n_cpu=8)\n",
    "base_population.to_pickle(output_dir + \"/base_population.pkl\")"
   ]
  },
  {
   "cell_type": "markdown",
   "metadata": {},
   "source": [
    "Load Base Population"
   ]
  },
  {
   "cell_type": "code",
   "execution_count": null,
   "metadata": {},
   "outputs": [],
   "source": [
    "base_pop = pd.read_pickle(output_dir + \"/base_population.pkl\")"
   ]
  },
  {
   "cell_type": "markdown",
   "metadata": {},
   "source": [
    "# Household"
   ]
  },
  {
   "cell_type": "code",
   "execution_count": null,
   "metadata": {},
   "outputs": [],
   "source": [
    "def map_age_to_range(age):\n",
    "    if age < 20:\n",
    "        return 'U19'\n",
    "    elif 20 <= age <= 29:\n",
    "        return '20t29'\n",
    "    elif 30 <= age <= 39:\n",
    "        return '30t39'\n",
    "    elif 40 <= age <= 49:\n",
    "        return '40t49'\n",
    "    elif 50 <= age <= 64:\n",
    "        return '50t64'\n",
    "    else:\n",
    "        return '65A'"
   ]
  },
  {
   "cell_type": "code",
   "execution_count": null,
   "metadata": {},
   "outputs": [],
   "source": [
    "adult_list = ['20t29', '30t39', '40t49', '50t64', '65A']\n",
    "\n"
   ]
  },
  {
   "cell_type": "code",
   "execution_count": null,
   "metadata": {},
   "outputs": [],
   "source": []
  }
 ],
 "metadata": {
  "kernelspec": {
   "display_name": "Python 3 (ipykernel)",
   "language": "python",
   "name": "python3"
  },
  "language_info": {
   "codemirror_mode": {
    "name": "ipython",
    "version": 3
   },
   "file_extension": ".py",
   "mimetype": "text/x-python",
   "name": "python",
   "nbconvert_exporter": "python",
   "pygments_lexer": "ipython3",
   "version": "3.8.10"
  }
 },
 "nbformat": 4,
 "nbformat_minor": 2
}
