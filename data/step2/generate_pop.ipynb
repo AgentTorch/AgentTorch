{
 "cells": [
  {
   "cell_type": "code",
   "execution_count": 1,
   "metadata": {},
   "outputs": [],
   "source": [
    "import numpy as np\n",
    "import pandas as pd\n",
    "import sys\n",
    "sys.path.append('/Users/shashankkumar/Documents/GitHub/MacroEcon/data/step2/process') # to import from address.py in houehold.py\n",
    "from genericpath import exists\n",
    "from os import makedirs"
   ]
  },
  {
   "cell_type": "code",
   "execution_count": 2,
   "metadata": {},
   "outputs": [],
   "source": [
    "from process.base_pop import base_pop_wrapper\n",
    "from process.household import household_wrapper"
   ]
  },
  {
   "cell_type": "markdown",
   "metadata": {},
   "source": [
    "# Step 1: Generate Synthetic Agent Population"
   ]
  },
  {
   "cell_type": "code",
   "execution_count": 3,
   "metadata": {},
   "outputs": [],
   "source": [
    "OUTPUT_DIR = '/Users/shashankkumar/Documents/GitHub/MacroEcon'\n",
    "if not exists(OUTPUT_DIR):\n",
    "    makedirs(OUTPUT_DIR)\n",
    "\n",
    "AGENTS_DF_PATH = '../step1/all_nta_agents.npy' # Dictionary created from excel files\n",
    "household_data_path = \"/Users/shashankkumar/Documents/GitHub/MacroEcon/housing_v2.pkl\"  # Household data from excel file\n",
    "base_pop_out_file = '/base_population1.pkl' # Output file for base population\n",
    "\n",
    "geo_address_data = None # Geo address data from excel file if exists (long, lat). The location (for every entity) for each geographic area (NTA)\n",
    "use_parallel = True # Whether to use Ray. Household generation doesn't work with Ray\n",
    "n_cpu = 8 # Number of CPU cores to use for parallel processing\n",
    "\n",
    "# For Household generation Only\n",
    "adult_list = ['20t29','30t39', '40t49', '50t64', '65A']\n",
    "children_list = ['U19']"
   ]
  },
  {
   "cell_type": "code",
   "execution_count": 4,
   "metadata": {},
   "outputs": [],
   "source": [
    "# Input for base population\n",
    "agents_data = np.load(AGENTS_DF_PATH, allow_pickle=True).item()\n",
    "\n",
    "# For Household generation\n",
    "household_data = pd.read_pickle(household_data_path) # Household data from excel file\n",
    "\n",
    "# Area Filter\n",
    "area_selector = ['BK0101'] # List of areas to use, population for only these areas are generated. If None, all areas are used"
   ]
  },
  {
   "cell_type": "markdown",
   "metadata": {},
   "source": [
    "#### Base Population"
   ]
  },
  {
   "cell_type": "code",
   "execution_count": 5,
   "metadata": {},
   "outputs": [
    {
     "name": "stderr",
     "output_type": "stream",
     "text": [
      "2024-03-14 01:25:17,838\tINFO worker.py:1724 -- Started a local Ray instance.\n"
     ]
    }
   ],
   "source": [
    "# Base address is currently not used\n",
    "base_population,base_address = base_pop_wrapper(input_data=agents_data['valid_ntas'],input_mapping=agents_data['mapping'],use_parallel=True,n_cpu=8,area_selector=area_selector)\n",
    "base_population.to_pickle(OUTPUT_DIR + base_pop_out_file)"
   ]
  },
  {
   "cell_type": "markdown",
   "metadata": {},
   "source": [
    "#### Add Household"
   ]
  },
  {
   "cell_type": "code",
   "execution_count": 6,
   "metadata": {},
   "outputs": [
    {
     "name": "stderr",
     "output_type": "stream",
     "text": [
      "/Users/shashankkumar/Documents/GitHub/MacroEcon/data/step2/process/household.py:375: SettingWithCopyWarning: \n",
      "A value is trying to be set on a copy of a slice from a DataFrame.\n",
      "Try using .loc[row_indexer,col_indexer] = value instead\n",
      "\n",
      "See the caveats in the documentation: https://pandas.pydata.org/pandas-docs/stable/user_guide/indexing.html#returning-a-view-versus-a-copy\n",
      "  proc_household_data[\"adult_num\"] = (\n",
      "/Users/shashankkumar/Documents/GitHub/MacroEcon/data/step2/process/household.py:379: SettingWithCopyWarning: \n",
      "A value is trying to be set on a copy of a slice from a DataFrame.\n",
      "Try using .loc[row_indexer,col_indexer] = value instead\n",
      "\n",
      "See the caveats in the documentation: https://pandas.pydata.org/pandas-docs/stable/user_guide/indexing.html#returning-a-view-versus-a-copy\n",
      "  proc_household_data[\"adult_num\"] = proc_household_data[\"adult_num\"].clip(lower=0)\n",
      "/Users/shashankkumar/Documents/GitHub/MacroEcon/data/step2/process/household.py:195: SettingWithCopyWarning: \n",
      "A value is trying to be set on a copy of a slice from a DataFrame.\n",
      "Try using .loc[row_indexer,col_indexer] = value instead\n",
      "\n",
      "See the caveats in the documentation: https://pandas.pydata.org/pandas-docs/stable/user_guide/indexing.html#returning-a-view-versus-a-copy\n",
      "  household_types['Family_households_prob'] = household_types['Family_households'] / proc_houshold_dataset['household_num']\n",
      "/Users/shashankkumar/Documents/GitHub/MacroEcon/data/step2/process/household.py:196: SettingWithCopyWarning: \n",
      "A value is trying to be set on a copy of a slice from a DataFrame.\n",
      "Try using .loc[row_indexer,col_indexer] = value instead\n",
      "\n",
      "See the caveats in the documentation: https://pandas.pydata.org/pandas-docs/stable/user_guide/indexing.html#returning-a-view-versus-a-copy\n",
      "  household_types['Nonfamily_households_prob'] = household_types['Nonfamily_households'] / proc_houshold_dataset['household_num']\n",
      "/Users/shashankkumar/Documents/GitHub/MacroEcon/data/step2/process/household.py:261: FutureWarning: Setting an item of incompatible dtype is deprecated and will raise in a future error of pandas. Value '0' has dtype incompatible with float64, please explicitly cast to a compatible dtype first.\n",
      "  proc_base_pop.loc[\n",
      "/Users/shashankkumar/Documents/GitHub/MacroEcon/data/step2/process/household.py:215: FutureWarning: Calling int on a single element Series is deprecated and will raise a TypeError in the future. Use int(ser.iloc[0]) instead\n",
      "  children_num = int(random.randint(0,5) * avg_children_per_family) if proc_houshold_dataset[\"children_num\"][0]> 0 else 0\n"
     ]
    }
   ],
   "source": [
    "use_parallel = False\n",
    "\n",
    "base_population,base_address = household_wrapper(\n",
    "    household_data,\n",
    "    base_population,\n",
    "    base_address = None,\n",
    "    adult_list=adult_list,\n",
    "    children_list=children_list,\n",
    "    geo_address_data=None,\n",
    "    use_parallel=use_parallel,\n",
    "    n_cpu=n_cpu,\n",
    ")\n",
    "\n",
    "base_population.to_pickle(OUTPUT_DIR + base_pop_out_file)"
   ]
  },
  {
   "cell_type": "code",
   "execution_count": 7,
   "metadata": {},
   "outputs": [
    {
     "data": {
      "text/html": [
       "<div>\n",
       "<style scoped>\n",
       "    .dataframe tbody tr th:only-of-type {\n",
       "        vertical-align: middle;\n",
       "    }\n",
       "\n",
       "    .dataframe tbody tr th {\n",
       "        vertical-align: top;\n",
       "    }\n",
       "\n",
       "    .dataframe thead th {\n",
       "        text-align: right;\n",
       "    }\n",
       "</style>\n",
       "<table border=\"1\" class=\"dataframe\">\n",
       "  <thead>\n",
       "    <tr style=\"text-align: right;\">\n",
       "      <th></th>\n",
       "      <th>area</th>\n",
       "      <th>age</th>\n",
       "      <th>gender</th>\n",
       "      <th>ethnicity</th>\n",
       "      <th>education</th>\n",
       "      <th>employment_insurance</th>\n",
       "      <th>household</th>\n",
       "    </tr>\n",
       "  </thead>\n",
       "  <tbody>\n",
       "    <tr>\n",
       "      <th>0</th>\n",
       "      <td>BK0101</td>\n",
       "      <td>U19</td>\n",
       "      <td>Male</td>\n",
       "      <td>white</td>\n",
       "      <td>college_degree</td>\n",
       "      <td>employed_insured</td>\n",
       "      <td>4941.0</td>\n",
       "    </tr>\n",
       "    <tr>\n",
       "      <th>1</th>\n",
       "      <td>BK0101</td>\n",
       "      <td>U19</td>\n",
       "      <td>Male</td>\n",
       "      <td>white</td>\n",
       "      <td>graduate_degree</td>\n",
       "      <td>employed_insured</td>\n",
       "      <td>8957.0</td>\n",
       "    </tr>\n",
       "    <tr>\n",
       "      <th>2</th>\n",
       "      <td>BK0101</td>\n",
       "      <td>U19</td>\n",
       "      <td>Male</td>\n",
       "      <td>white</td>\n",
       "      <td>graduate_degree</td>\n",
       "      <td>employed_insured</td>\n",
       "      <td>5058.0</td>\n",
       "    </tr>\n",
       "    <tr>\n",
       "      <th>3</th>\n",
       "      <td>BK0101</td>\n",
       "      <td>U19</td>\n",
       "      <td>Female</td>\n",
       "      <td>hispanic</td>\n",
       "      <td>graduate_degree</td>\n",
       "      <td>unemployed_uninsured</td>\n",
       "      <td>6824.0</td>\n",
       "    </tr>\n",
       "    <tr>\n",
       "      <th>4</th>\n",
       "      <td>BK0101</td>\n",
       "      <td>U19</td>\n",
       "      <td>Female</td>\n",
       "      <td>other</td>\n",
       "      <td>high_school</td>\n",
       "      <td>employed_insured</td>\n",
       "      <td>971.0</td>\n",
       "    </tr>\n",
       "  </tbody>\n",
       "</table>\n",
       "</div>"
      ],
      "text/plain": [
       "     area  age  gender ethnicity        education  employment_insurance  \\\n",
       "0  BK0101  U19    Male     white   college_degree      employed_insured   \n",
       "1  BK0101  U19    Male     white  graduate_degree      employed_insured   \n",
       "2  BK0101  U19    Male     white  graduate_degree      employed_insured   \n",
       "3  BK0101  U19  Female  hispanic  graduate_degree  unemployed_uninsured   \n",
       "4  BK0101  U19  Female     other      high_school      employed_insured   \n",
       "\n",
       "   household  \n",
       "0     4941.0  \n",
       "1     8957.0  \n",
       "2     5058.0  \n",
       "3     6824.0  \n",
       "4      971.0  "
      ]
     },
     "execution_count": 7,
     "metadata": {},
     "output_type": "execute_result"
    }
   ],
   "source": [
    "base_population.head()"
   ]
  }
 ],
 "metadata": {
  "kernelspec": {
   "display_name": "Python 3 (ipykernel)",
   "language": "python",
   "name": "python3"
  },
  "language_info": {
   "codemirror_mode": {
    "name": "ipython",
    "version": 3
   },
   "file_extension": ".py",
   "mimetype": "text/x-python",
   "name": "python",
   "nbconvert_exporter": "python",
   "pygments_lexer": "ipython3",
   "version": "3.10.13"
  }
 },
 "nbformat": 4,
 "nbformat_minor": 2
}
